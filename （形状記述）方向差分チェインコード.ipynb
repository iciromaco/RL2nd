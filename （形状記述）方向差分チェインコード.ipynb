{
 "cells": [
  {
   "cell_type": "markdown",
   "metadata": {},
   "source": [
    "# 方向差分チェインコード"
   ]
  },
  {
   "cell_type": "code",
   "execution_count": 3,
   "metadata": {},
   "outputs": [],
   "source": [
    "import numpy as np\n",
    "import matplotlib\n",
    "# matplotlib.use('Agg') # 表示しないモード。バッチ処理する場合、画像表示が多くなりすぎて　notebooke の制限で途中で止まってしまう。\n",
    "import matplotlib.pyplot as plt\n",
    "%matplotlib inline\n",
    "import cv2\n",
    "from PIL import Image\n",
    "import math\n",
    "import pandas as pd\n",
    "\n",
    "from sympy import *\n",
    "from sympy.abc import a,b,c\n",
    "# init_session()\n",
    "px,py =var('px:4'),var('py:4')\n",
    "t = symbols('t')\n",
    "from sympy import var\n",
    "from rdlib2 import *\n",
    "\n",
    "import datetime\n",
    "import time\n",
    "\n",
    "import os\n",
    "\n",
    "# 輪郭データからのひげ除去\n",
    "def shaver(cnt):  # 輪郭点列のうち、ヒゲ要素を取り除く\n",
    "    # まず輪郭列のスタート部分がヒゲ要素を取り除く\n",
    "    while True:\n",
    "        if len(cnt) > 2 and list(cnt[1][0])==list(cnt[-1][0]): # 最初の点がヒゲの先端\n",
    "            cnt = cnt[1:-1]\n",
    "        else:\n",
    "            break\n",
    "    # 途中のヒゲ要素を取り除く\n",
    "    while True:\n",
    "            l = len(cnt)\n",
    "            for  i in range(1,len(cnt)-1):\n",
    "                    if list(cnt[i-1][0]) == list(cnt[i+1][0]):\n",
    "                            cnt = np.r_[cnt[:i],cnt[i+2:]]\n",
    "            if l == len(cnt):\n",
    "                break\n",
    "    return cnt\n",
    "\n",
    "# 輪郭に沿った長さ\n",
    "\n",
    "        \n",
    "# (x1,y1)から（x2,y2) に向かう直線のX軸に対する角度(0-359)\n",
    "def getDegree(x1,y1,x2,y2):\n",
    "        dx = x2-x1\n",
    "        dy = y2-y1\n",
    "        if dx == 0 :\n",
    "            if dy == 0: # 例外\n",
    "                deg = 0\n",
    "            elif dy > 0:\n",
    "                deg = 90\n",
    "            else:\n",
    "                deg = 270\n",
    "        elif dx >0 and dy >= 0:\n",
    "            deg = 180.0*np.arctan(dy/dx)/np.pi\n",
    "        elif dx > 0 and dy < 0: \n",
    "            deg = 360+180*np.arctan(dy/dx)/np.pi\n",
    "        else:\n",
    "            deg =180*(1+ np.arctan(dy/dx)/np.pi)\n",
    "            # deg = 270.0(1+np.arctan(dy/dx)/np.pi)\n",
    "        return deg"
   ]
  },
  {
   "cell_type": "code",
   "execution_count": 4,
   "metadata": {
    "scrolled": false
   },
   "outputs": [],
   "source": [
    "kohaku='シルエット/17Cylindric/17kohaku1o09_l.jpg'\n",
    "yakumi ='シルエット/17Spheric/17yakumi2o06_l.jpg'\n",
    "daruma='シルエット/17Apically/17daruma6o06_l.jpg'\n",
    "aomida='シルエット/17Horn/17aomida1o02_l.jpg'\n",
    "nezumi='シルエット/17Inv_tri/17nezumi1o06_l.jpg'\n",
    "\n",
    "kohakuimg = getstandardShape(cv2.imread(kohaku,cv2.IMREAD_GRAYSCALE), unitSize=UNIT, thres=0.25)  \n",
    "akumiimg = getstandardShape(cv2.imread(yakumi,cv2.IMREAD_GRAYSCALE), unitSize=UNIT, thres=0.25)  \n",
    "darumaimg = getstandardShape(cv2.imread(daruma,cv2.IMREAD_GRAYSCALE), unitSize=UNIT, thres=0.25)  \n",
    "aomidaimg = getstandardShape(cv2.imread(aomida,cv2.IMREAD_GRAYSCALE), unitSize=UNIT, thres=0.25)  \n",
    "nezumiimg = getstandardShape(cv2.imread(nezumi,cv2.IMREAD_GRAYSCALE), unitSize=UNIT, thres=0.25)  "
   ]
  },
  {
   "cell_type": "code",
   "execution_count": 5,
   "metadata": {},
   "outputs": [
    {
     "data": {
      "text/plain": [
       "<matplotlib.image.AxesImage at 0x1c1db46ef0>"
      ]
     },
     "execution_count": 5,
     "metadata": {},
     "output_type": "execute_result"
    },
    {
     "data": {
      "image/png": "[encoded data removed]",
      "text/plain": [
       "<Figure size 432x288 with 1 Axes>"
      ]
     },
     "metadata": {},
     "output_type": "display_data"
    }
   ],
   "source": [
    "img = nezumiimg\n",
    "plt.imshow(img)"
   ]
  },
  {
   "cell_type": "code",
   "execution_count": 6,
   "metadata": {},
   "outputs": [
    {
     "data": {
      "text/plain": [
       "(202.0, 198.0, (123, 65, 138, 253, 25059))"
      ]
     },
     "execution_count": 6,
     "metadata": {},
     "output_type": "execute_result"
    },
    {
     "data": {
      "image/png": "[encoded data removed]",
      "text/plain": [
       "<Figure size 432x288 with 1 Axes>"
      ]
     },
     "metadata": {},
     "output_type": "display_data"
    }
   ],
   "source": [
    "# 輪郭情報\n",
    "c_x,c_y,(x0,y0,w0,h0,areas) = getCoG(img) # 重心とバウンディングボックスと面積\n",
    "_image, contours, _hierarchy = cv2.findContours(img, cv2.RETR_EXTERNAL, cv2.CHAIN_APPROX_NONE) # 輪郭線追跡\n",
    "cnt00 = contours[np.argmax([len(c) for c in contours])] # 最も長い輪郭\n",
    "cnt00 = shaver(cnt00)\n",
    "canvas = np.zeros_like(img)\n",
    "canvas = cv2.drawContours(canvas,[cnt00],-1,255,2)\n",
    "plt.scatter([cnt00[-10][0][0]],[cnt00[-10][0][1]],color=\"red\")\n",
    "plt.imshow(canvas)\n",
    "c_x,c_y,(x0,y0,w0,h0,areas)"
   ]
  },
  {
   "cell_type": "code",
   "execution_count": 7,
   "metadata": {},
   "outputs": [
    {
     "name": "stdout",
     "output_type": "stream",
     "text": [
      "チェインコード [213, 65] [5, 4, 4, 4, 4, 5, 4, 4, 5, 4, 4, 5, 4, 5, 5, 4, 5, 5, 5, 5, 5, 5, 5, 5, 5, 6, 5, 5, 6, 5, 5, 6, 5, 6, 5, 6, 5, 6, 6, 5, 6, 5, 6, 6, 5, 6, 6, 5, 6, 6, 6, 5, 6, 6, 6, 6, 5, 6, 6, 6, 5, 6, 6, 6, 6, 6, 5, 6, 6, 6, 5, 6, 6, 6, 5, 6, 6, 5, 6, 5, 6, 6, 5, 6, 6, 5, 6, 6, 5, 6, 5, 6, 5, 6, 5, 6, 6, 5, 6, 5, 6, 6, 5, 6, 5, 6, 6, 5, 6, 5, 6, 5, 6, 6, 5, 6, 6, 6, 5, 6, 5, 6, 5, 5, 6, 5, 6, 5, 5, 6, 6, 5, 6, 6, 5, 6, 6, 5, 6, 6, 5, 6, 5, 5, 6, 5, 6, 6, 5, 6, 5, 6, 6, 5, 6, 6, 5, 6, 5, 6, 5, 6, 5, 6, 5, 6, 5, 6, 6, 5, 6, 5, 6, 6, 5, 6, 5, 6, 6, 5, 6, 6, 5, 6, 6, 6, 5, 6, 6, 6, 6, 6, 6, 6, 6, 6, 6, 6, 6, 6, 6, 6, 6, 6, 6, 6, 6, 6, 6, 6, 6, 6, 6, 6, 7, 6, 6, 6, 7, 7, 6, 7, 7, 7, 7, 7, 7, 7, 7, 7, 0, 7, 7, 0, 7, 0, 7, 0, 7, 0, 7, 0, 0, 7, 0, 0, 7, 0, 0, 7, 0, 0, 0, 7, 0, 0, 0, 7, 0, 0, 0, 7, 0, 0, 7, 0, 7, 7, 7, 7, 6, 7, 6, 6, 7, 6, 6, 6, 6, 6, 7, 6, 7, 7, 0, 7, 0, 0, 1, 0, 1, 0, 1, 2, 1, 1, 2, 1, 1, 1, 1, 1, 1, 0, 1, 0, 0, 0, 1, 0, 0, 0, 0, 0, 0, 0, 0, 0, 0, 0, 0, 0, 0, 0, 0, 0, 0, 0, 0, 0, 0, 0, 0, 0, 0, 0, 0, 0, 0, 0, 1, 0, 0, 1, 0, 0, 1, 0, 1, 0, 1, 1, 0, 1, 1, 1, 1, 1, 1, 2, 1, 2, 1, 2, 1, 2, 1, 2, 2, 1, 2, 1, 2, 2, 1, 2, 2, 2, 2, 2, 2, 2, 2, 2, 2, 2, 2, 2, 2, 2, 2, 2, 2, 2, 2, 2, 2, 2, 2, 2, 2, 2, 2, 2, 2, 2, 2, 2, 2, 2, 2, 2, 2, 2, 2, 2, 2, 2, 2, 2, 2, 2, 3, 2, 2, 2, 2, 2, 3, 2, 2, 2, 2, 2, 2, 2, 2, 2, 2, 2, 2, 2, 2, 2, 2, 2, 2, 2, 2, 2, 2, 2, 2, 2, 2, 2, 2, 2, 3, 2, 2, 2, 2, 2, 2, 2, 2, 2, 2, 2, 2, 2, 2, 2, 2, 2, 2, 2, 2, 2, 2, 3, 2, 2, 2, 2, 2, 3, 2, 2, 2, 2, 2, 2, 2, 2, 1, 2, 2, 2, 2, 2, 1, 2, 2, 2, 2, 2, 2, 2, 2, 2, 2, 2, 2, 2, 2, 2, 2, 2, 1, 2, 2, 2, 2, 2, 2, 2, 2, 2, 2, 2, 2, 2, 2, 2, 2, 2, 2, 2, 2, 2, 2, 2, 2, 2, 2, 2, 2, 3, 2, 2, 2, 3, 2, 2, 3, 2, 3, 2, 2, 3, 2, 3, 2, 3, 3, 2, 3, 2, 3, 3, 3, 3, 3, 3, 3, 4, 3, 4, 3, 4, 3, 4, 3, 4, 4, 3, 4, 4, 3, 4, 4, 4, 4, 3, 4, 4, 4, 4, 4, 4, 4, 4, 4, 4, 4, 4]\n",
      "方向差分チェインコード [213, 65] [-1, 0, 0, 0, 1, -1, 0, 1, -1, 0, 1, -1, 1, 0, -1, 1, 0, 0, 0, 0, 0, 0, 0, 0, 1, -1, 0, 1, -1, 0, 1, -1, 1, -1, 1, -1, 1, 0, -1, 1, -1, 1, 0, -1, 1, 0, -1, 1, 0, 0, -1, 1, 0, 0, 0, -1, 1, 0, 0, -1, 1, 0, 0, 0, 0, -1, 1, 0, 0, -1, 1, 0, 0, -1, 1, 0, -1, 1, -1, 1, 0, -1, 1, 0, -1, 1, 0, -1, 1, -1, 1, -1, 1, -1, 1, 0, -1, 1, -1, 1, 0, -1, 1, -1, 1, 0, -1, 1, -1, 1, -1, 1, 0, -1, 1, 0, 0, -1, 1, -1, 1, -1, 0, 1, -1, 1, -1, 0, 1, 0, -1, 1, 0, -1, 1, 0, -1, 1, 0, -1, 1, -1, 0, 1, -1, 1, 0, -1, 1, -1, 1, 0, -1, 1, 0, -1, 1, -1, 1, -1, 1, -1, 1, -1, 1, -1, 1, 0, -1, 1, -1, 1, 0, -1, 1, -1, 1, 0, -1, 1, 0, -1, 1, 0, 0, -1, 1, 0, 0, 0, 0, 0, 0, 0, 0, 0, 0, 0, 0, 0, 0, 0, 0, 0, 0, 0, 0, 0, 0, 0, 0, 0, 0, 1, -1, 0, 0, 1, 0, -1, 1, 0, 0, 0, 0, 0, 0, 0, 0, 1, -1, 0, 1, -1, 1, -1, 1, -1, 1, -1, 1, 0, -1, 1, 0, -1, 1, 0, -1, 1, 0, 0, -1, 1, 0, 0, -1, 1, 0, 0, -1, 1, 0, -1, 1, -1, 0, 0, 0, -1, 1, -1, 0, 1, -1, 0, 0, 0, 0, 1, -1, 1, 0, 1, -1, 1, 0, 1, -1, 1, -1, 1, 1, -1, 0, 1, -1, 0, 0, 0, 0, 0, -1, 1, -1, 0, 0, 1, -1, 0, 0, 0, 0, 0, 0, 0, 0, 0, 0, 0, 0, 0, 0, 0, 0, 0, 0, 0, 0, 0, 0, 0, 0, 0, 0, 0, 0, 0, 0, 1, -1, 0, 1, -1, 0, 1, -1, 1, -1, 1, 0, -1, 1, 0, 0, 0, 0, 0, 1, -1, 1, -1, 1, -1, 1, -1, 1, 0, -1, 1, -1, 1, 0, -1, 1, 0, 0, 0, 0, 0, 0, 0, 0, 0, 0, 0, 0, 0, 0, 0, 0, 0, 0, 0, 0, 0, 0, 0, 0, 0, 0, 0, 0, 0, 0, 0, 0, 0, 0, 0, 0, 0, 0, 0, 0, 0, 0, 0, 0, 0, 0, 1, -1, 0, 0, 0, 0, 1, -1, 0, 0, 0, 0, 0, 0, 0, 0, 0, 0, 0, 0, 0, 0, 0, 0, 0, 0, 0, 0, 0, 0, 0, 0, 0, 0, 0, 0, 1, -1, 0, 0, 0, 0, 0, 0, 0, 0, 0, 0, 0, 0, 0, 0, 0, 0, 0, 0, 0, 0, 0, 1, -1, 0, 0, 0, 0, 1, -1, 0, 0, 0, 0, 0, 0, 0, -1, 1, 0, 0, 0, 0, -1, 1, 0, 0, 0, 0, 0, 0, 0, 0, 0, 0, 0, 0, 0, 0, 0, 0, -1, 1, 0, 0, 0, 0, 0, 0, 0, 0, 0, 0, 0, 0, 0, 0, 0, 0, 0, 0, 0, 0, 0, 0, 0, 0, 0, 0, 0, 1, -1, 0, 0, 1, -1, 0, 1, -1, 1, -1, 0, 1, -1, 1, -1, 1, 0, -1, 1, -1, 1, 0, 0, 0, 0, 0, 0, 1, -1, 1, -1, 1, -1, 1, -1, 1, 0, -1, 1, 0, -1, 1, 0, 0, 0, -1, 1, 0, 0, 0, 0, 0, 0, 0, 0, 0, 0, 0, 1]\n"
     ]
    }
   ],
   "source": [
    "cnt01 = [[x,y] for [[x,y]] in cnt00]  # ２重カッコを１重に変換\n",
    "#  3  2  1\n",
    "#  4       0\n",
    "#  5  6  7\n",
    "\n",
    "def  directcode(x0,y0,x1,y1):\n",
    "    if y1 == y0-1:\n",
    "        if x1 == x0-1:\n",
    "            code = 3\n",
    "        elif x1 == x0:\n",
    "            code = 2\n",
    "        else:\n",
    "            code = 1\n",
    "    elif y1 == y0:\n",
    "        if x1 == x0-1:\n",
    "            code = 4\n",
    "        else:\n",
    "            code = 0\n",
    "    else:\n",
    "        if x1 == x0-1:\n",
    "            code = 5\n",
    "        elif x1 == x0:\n",
    "            code = 6\n",
    "        else:\n",
    "            code = 7\n",
    "    return code\n",
    "\n",
    "result = []\n",
    "for i in range(len(cnt01)-1):\n",
    "    x0 = cnt01[i][0]\n",
    "    y0 = cnt01[i][1]\n",
    "    x1 = cnt01[i+1][0]\n",
    "    y1 = cnt01[i+1][1]\n",
    "    result.append( directcode(x0,y0,x1,y1))\n",
    "x0,y0 = x1,y1\n",
    "x1,y1 = cnt01[0][0],cnt01[0][1]\n",
    "result.append(directcode(x0,y0,x1,y1))\n",
    "\n",
    "print('チェインコード',cnt01[i],result)\n",
    "\n",
    "result1 = [(n1 - n0) % 8  if (n1 - n0) % 8 <  4 else ((n1 - n0) % 8 - 8) for (n0,n1) in zip(result[:-1],result[1:])]\n",
    "d = (result[0]-result[-1]) % 8 if  (result[0]-result[-1]) % 8 < 4 else  ((result[0]-result[-1]) % 8) -8\n",
    "result1.append(d)\n",
    "result = result1 \n",
    "print('方向差分チェインコード',cnt01[i],result)\n"
   ]
  },
  {
   "cell_type": "code",
   "execution_count": null,
   "metadata": {},
   "outputs": [],
   "source": []
  },
  {
   "cell_type": "code",
   "execution_count": null,
   "metadata": {},
   "outputs": [],
   "source": []
  }
 ],
 "metadata": {
  "kernelspec": {
   "display_name": "Python 3",
   "language": "python",
   "name": "python3"
  },
  "language_info": {
   "codemirror_mode": {
    "name": "ipython",
    "version": 3
   },
   "file_extension": ".py",
   "mimetype": "text/x-python",
   "name": "python",
   "nbconvert_exporter": "python",
   "pygments_lexer": "ipython3",
   "version": "3.6.6"
  }
 },
 "nbformat": 4,
 "nbformat_minor": 2
}
