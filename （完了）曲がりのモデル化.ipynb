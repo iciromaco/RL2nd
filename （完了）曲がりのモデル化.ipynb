{
 "cells": [
  {
   "cell_type": "code",
   "execution_count": 12,
   "metadata": {},
   "outputs": [
    {
     "name": "stdout",
     "output_type": "stream",
     "text": [
      "IPython console for SymPy 1.2 (Python 3.6.6-64-bit) (ground types: gmpy)\n",
      "\n",
      "These commands were executed:\n",
      ">>> from __future__ import division\n",
      ">>> from sympy import *\n",
      ">>> x, y, z, t = symbols('x y z t')\n",
      ">>> k, m, n = symbols('k m n', integer=True)\n",
      ">>> f, g, h = symbols('f g h', cls=Function)\n",
      ">>> init_printing()\n",
      "\n",
      "Documentation can be found at http://docs.sympy.org/1.2/\n",
      "\n"
     ]
    }
   ],
   "source": [
    "from sympy import *\n",
    "from sympy.abc import a,b,c\n",
    "init_session()\n",
    "import numpy as np\n",
    "%matplotlib inline\n",
    "from sympy import var"
   ]
  },
  {
   "cell_type": "markdown",
   "metadata": {},
   "source": [
    "中心軸はP0を原点、軸がY軸に一致するように置かれていると仮定"
   ]
  },
  {
   "cell_type": "code",
   "execution_count": 13,
   "metadata": {},
   "outputs": [],
   "source": [
    "bez,P0,P1,P2,P3 =symbols('bez,P0,P1,P2,P3')\n",
    "# ベジエ曲線の一般式\n",
    "bez =  (1-t)**3*P0 + 3*(1-t)**2*t*P1 + 3*(1-t)*t**2*P2 + t**3*P3\n",
    "# ベジエ曲線の式に個別の制御点記号を代入して返す関数\n",
    "def defbezf(CPs = [P0,P1,P2,P3]): \n",
    "    [p0,p1,p2,p3] = CPs\n",
    "    return bez.subs([(P0,p0),(P1,p1),(P2,p2),(P3,p3)])\n",
    "# 点レベル表現のベジエ定義式の点の記号に座標レベル表現にする関数　４点をまとめて指定\n",
    "# def defbezM4(CPs=[[0,0],[0,0],[0,1],[0,1]]): \n",
    "#    [p0,p1,p2,p3] = CPs\n",
    "#    return bez.subs([(P0,Matrix(p0)),(P1,Matrix(p1)),(P2,Matrix(p2)),(P3,Matrix(p3))])\n",
    "#   （注意）Matrixを使う方が綺麗なのだが、simpifyがバグってるのでやむをえず \n",
    "def defbezM4(CPs=[[0,0],[0,0],[0,1],[0,1]]): \n",
    "    [[p0x,p0y],[p1x,p1y],[p2x,p2y],[p3x,p3y]] = CPs\n",
    "    f1 = simplify(bez.subs([(P0,p0x),(P1,p1x),(P2,p2x),(P3,p3x)]))\n",
    "    f2 = simplify(bez.subs([(P0,p0y),(P1,p1y),(P2,p2y),(P3,p3y)]))\n",
    "    return Matrix([f1,f2])"
   ]
  },
  {
   "cell_type": "code",
   "execution_count": null,
   "metadata": {},
   "outputs": [],
   "source": []
  },
  {
   "cell_type": "code",
   "execution_count": 14,
   "metadata": {},
   "outputs": [],
   "source": [
    "# 点Pを(cx,cy)周りに r ラジアン回転\n",
    "def rotation(P,r,cx,cy): \n",
    "    A1=Matrix(([1,0,-cx], [0,1,-cy],[0,0,1]))  #  center が原点になるように平行移動\n",
    "    A2=Matrix(([cos(r),-sin(r),0], [sin(r),cos(r),0],[0,0,1])) # 原点周りに r ラジアン回転\n",
    "    A3=Matrix(([1,0,cx], [0,1,cy],[0,0,1])) # 平行移動させた分だけ戻す\n",
    "    A4=A3*A2*A1\n",
    "    return (A4*Matrix([P[0],P[1],1]))[:2]\n",
    "\n",
    "# 点列Plist 内の点をすべて (cx,cy)周りに r ラジアン回転\n",
    "def rotationAll(Plist,r,cx,cy):\n",
    "    return [rotation(P,r,cx,cy) for P in Plist]\n",
    "\n",
    "# 平行移動\n",
    "def move(P,dx,dy):\n",
    "    return [P[0]+dx,P[1]+dy]    \n",
    "\n",
    "# 点列全体の平行移動\n",
    "def moveAll(Plist,dx,dy):\n",
    "    return [move(P,dx,dy) for P in Plist]"
   ]
  },
  {
   "cell_type": "code",
   "execution_count": 17,
   "metadata": {},
   "outputs": [
    {
     "name": "stdout",
     "output_type": "stream",
     "text": [
      "\n",
      " [[0, 0], [0, py1], [0, py2], [0, py3]] \n",
      " [[0, 0], [-px1, py1], [-px2, py2], [-px3, py3]] \n",
      " [[0, 0], [px1, py1], [px2, py2], [px3, py3]]\n"
     ]
    }
   ],
   "source": [
    "# 制御点\n",
    "pcx,pcy = symbols('pcx:4'),symbols('pcy:4')\n",
    "plx,ply = symbols('plx:4'),symbols('ply:4')\n",
    "prx,pry = symbols('prx:4'),symbols('pry:4')\n",
    "px1,px2,px3 = symbols('px1,px2,px3')\n",
    "py1,py2,py3 = symbols('py1,py2,py3')\n",
    "CPC = [[0,0],[0,py1],[0,py2],[0,py3]]\n",
    "CPL = [[0,0],[-px1,py1],[-px2,py2],[-px3,py3]]\n",
    "CPR = [[0,0],[px1,py1],[px2,py2],[px3,py3]]\n",
    "print('\\n',CPC,'\\n',CPL,'\\n',CPR)"
   ]
  },
  {
   "cell_type": "code",
   "execution_count": 5,
   "metadata": {},
   "outputs": [],
   "source": [
    "#  CPC0,CPC1,CPL0,CPL1,CPR0,CPR1が CPC0 周りに a1 ラジアン回転、\n",
    "# CPC3,CPC2,CPL3,CPL2,CPR3,CPR2 が CPC3 周りに a2 ラジアン回転　（　曲がりのモデル）\n",
    "a0,a1,a2 = symbols('a0,a1,a2') \n",
    "x0,y0 = symbols('x0,y0') \n",
    "#QPC0,QPC1,QPL0,QPL1,QPR0,QPR1 ,QPC3,QPC2,QPL3,QPL2,QPR3,QPR2  は一時的な作業用変数\n",
    "[QPC0,QPC1,QPL0,QPL1,QPR0,QPR1] = rotationAll([CPC[0],CPC[1],CPL[0],CPL[1],CPR[0],CPR[1]],a1,CPC[0][0],CPC[0][1])\n",
    "[QPC3,QPC2,QPL3,QPL2,QPR3,QPR2] = rotationAll([CPC[3],CPC[2],CPL[3],CPL[2],CPR[3],CPR[2]],a2,CPC[3][0],CPC[3][1])\n",
    "CPC,CPL,CPR = [QPC0,QPC1,QPC2,QPC3],[QPL0,QPL1,QPL2,QPL3],[QPR0,QPR1,QPR2,QPR3]\n",
    "#  # 制御点全体が (x0,y0)だけ平行移動し、 (x0,y0)を中心として a0 ラジアン回転した結果が観測されている\n",
    "CPC = rotationAll(moveAll(CPC,x0,y0),a0,x0,y0)\n",
    "CPL = rotationAll(moveAll(CPL,x0,y0),a0,x0,y0)\n",
    "CPR = rotationAll(moveAll(CPR,x0,y0),a0,x0,y0)"
   ]
  },
  {
   "cell_type": "code",
   "execution_count": 6,
   "metadata": {},
   "outputs": [],
   "source": [
    "def drawModel(x,y,CCtl,LCtl,RCtl,angle0=0,angle1=0,angle2=0,dx=0,dy=0):\n",
    "    bezASC = defbezM4(CPs=CCtl)\n",
    "    bezASC = bezASC.subs([(px1,x[0]),(px2,x[1]),(px3,x[2])])\n",
    "    bezASC = bezASC.subs([(py1,y[0]),(py2,y[1]),(py3,y[2])])\n",
    "    bezASC = bezASC.subs([(a0,angle0),(a1,angle1),(a2,angle2),(x0,dx),(y0,dy)])\n",
    "    \n",
    "    bezASL = defbezM4(CPs=LCtl)\n",
    "    bezASL = bezASL.subs([(px1,x[0]),(px2,x[1]),(px3,x[2])])\n",
    "    bezASL = bezASL.subs([(py1,y[0]),(py2,y[1]),(py3,y[2])]) \n",
    "    bezASL = bezASL.subs([(a0,angle0),(a1,angle1),(a2,angle2),(x0,dx),(y0,dy)])\n",
    "\n",
    "    bezASR = defbezM4(CPs=RCtl)\n",
    "    bezASR = bezASR.subs([(px1,x[0]),(px2,x[1]),(px3,x[2])])\n",
    "    bezASR = bezASR.subs([(py1,y[0]),(py2,y[1]),(py3,y[2])])\n",
    "    bezASR = bezASR.subs([(a0,angle0),(a1,angle1),(a2,angle2),(x0,dx),(y0,dy)])\n",
    "\n",
    "    tplins = np.linspace(0, 1,50)\n",
    "    tslins11 = np.linspace(0, 1,11)\n",
    "    plt.gca().set_aspect('equal', adjustable='box')\n",
    "    for bezline in [bezASL,bezASC,bezASR]:\n",
    "        f=simplify(bezline)\n",
    "        plotx = np.array([bezline[0].subs(t,tp) for tp in tplins ])\n",
    "        ploty = np.array([bezline[1].subs(t,tp) for tp in tplins ])\n",
    "        plot11x = np.array([bezline[0].subs(t,tp) for tp in tslins11 ])\n",
    "        plot11y = np.array([bezline[1].subs(t,tp) for tp in tslins11 ])\n",
    "        plt.scatter(plot11x,plot11y)\n",
    "        plt.plot(plotx,ploty)\n",
    "    \n",
    "    return bezASL,bezASC,bezASR"
   ]
  },
  {
   "cell_type": "code",
   "execution_count": 7,
   "metadata": {},
   "outputs": [
    {
     "data": {
      "text/latex": [
       "$$\\left ( \\left[\\begin{matrix}9.45 t^{3} + 3 t^{2} \\left(-9.4 - 0.3 \\sqrt{3}\\right) \\left(t - 1\\right) - 3 t \\left(-9.9 + 0.15 \\sqrt{3}\\right) \\left(t - 1\\right)^{2} - 10 \\left(t - 1\\right)^{3}\\\\t^{3} \\left(0.45 \\sqrt{3} + 5\\right) + 3 t^{2} \\left(-4.7 - 0.4 \\sqrt{3}\\right) \\left(t - 1\\right) - 3 t \\left(-5.15 + 0.1 \\sqrt{3}\\right) \\left(t - 1\\right)^{2} - 5 \\left(t - 1\\right)^{3}\\end{matrix}\\right], \\quad \\left[\\begin{matrix}9.5 t^{3} + 3 t^{2} \\left(-9.5 - 0.3 \\sqrt{3}\\right) \\left(t - 1\\right) - 3 t \\left(-10 + 0.15 \\sqrt{3}\\right) \\left(t - 1\\right)^{2} - 10 \\left(t - 1\\right)^{3}\\\\t^{3} \\left(0.5 \\sqrt{3} + 5\\right) - 3 t^{2} \\left(0.5 \\sqrt{3} + 4.7\\right) \\left(t - 1\\right) + 15.45 t \\left(t - 1\\right)^{2} - 5 \\left(t - 1\\right)^{3}\\end{matrix}\\right], \\quad \\left[\\begin{matrix}9.55 t^{3} - 3 t^{2} \\left(0.3 \\sqrt{3} + 9.6\\right) \\left(t - 1\\right) + 3 t \\left(- 0.15 \\sqrt{3} + 10.1\\right) \\left(t - 1\\right)^{2} - 10 \\left(t - 1\\right)^{3}\\\\t^{3} \\left(0.55 \\sqrt{3} + 5\\right) - 3 t^{2} \\left(0.6 \\sqrt{3} + 4.7\\right) \\left(t - 1\\right) + 3 t \\left(0.1 \\sqrt{3} + 5.15\\right) \\left(t - 1\\right)^{2} - 5 \\left(t - 1\\right)^{3}\\end{matrix}\\right]\\right )$$"
      ],
      "text/plain": [
       "⎛⎡          3      2                                                       2  \n",
       "⎜⎢    9.45⋅t  + 3⋅t ⋅(-9.4 - 0.3⋅√3)⋅(t - 1) - 3⋅t⋅(-9.9 + 0.15⋅√3)⋅(t - 1)  -\n",
       "⎜⎢                                                                            \n",
       "⎜⎢ 3                    2                                                     \n",
       "⎝⎣t ⋅(0.45⋅√3 + 5) + 3⋅t ⋅(-4.7 - 0.4⋅√3)⋅(t - 1) - 3⋅t⋅(-5.15 + 0.1⋅√3)⋅(t - \n",
       "\n",
       "           3    ⎤  ⎡     3      2                                             \n",
       " 10⋅(t - 1)     ⎥  ⎢9.5⋅t  + 3⋅t ⋅(-9.5 - 0.3⋅√3)⋅(t - 1) - 3⋅t⋅(-10 + 0.15⋅√3\n",
       "                ⎥, ⎢                                                          \n",
       "  2            3⎥  ⎢   3                   2                                  \n",
       "1)  - 5⋅(t - 1) ⎦  ⎣  t ⋅(0.5⋅√3 + 5) - 3⋅t ⋅(0.5⋅√3 + 4.7)⋅(t - 1) + 15.45⋅t⋅\n",
       "\n",
       "         2             3⎤  ⎡         3      2                                 \n",
       ")⋅(t - 1)  - 10⋅(t - 1) ⎥  ⎢   9.55⋅t  - 3⋅t ⋅(0.3⋅√3 + 9.6)⋅(t - 1) + 3⋅t⋅(-0\n",
       "                        ⎥, ⎢                                                  \n",
       "       2            3   ⎥  ⎢ 3                    2                           \n",
       "(t - 1)  - 5⋅(t - 1)    ⎦  ⎣t ⋅(0.55⋅√3 + 5) - 3⋅t ⋅(0.6⋅√3 + 4.7)⋅(t - 1) + 3\n",
       "\n",
       "                      2             3   ⎤⎞\n",
       ".15⋅√3 + 10.1)⋅(t - 1)  - 10⋅(t - 1)    ⎥⎟\n",
       "                                        ⎥⎟\n",
       "                          2            3⎥⎟\n",
       "⋅t⋅(0.1⋅√3 + 5.15)⋅(t - 1)  - 5⋅(t - 1) ⎦⎠"
      ]
     },
     "execution_count": 7,
     "metadata": {},
     "output_type": "execute_result"
    },
    {
     "data": {
      "image/png": "[encoded data removed]",
      "text/plain": [
       "<Figure size 432x288 with 1 Axes>"
      ]
     },
     "metadata": {
      "needs_background": "light"
     },
     "output_type": "display_data"
    }
   ],
   "source": [
    "rx = [0.2,0.2,0.1]\n",
    "ry = [0.3,0.4,1.0]\n",
    "a_0,a_1,a_2 = pi/6,pi/6,pi/6\n",
    "x_0,y_0 = 10,5\n",
    "drawModel(x=rx,y=ry,CCtl=CPC,LCtl=CPL,RCtl=CPR,angle0=a_0,angle1=a_1,angle2=a_2,dx=x_0,dy=y_0)"
   ]
  },
  {
   "cell_type": "code",
   "execution_count": 8,
   "metadata": {},
   "outputs": [
    {
     "data": {
      "text/latex": [
       "$$\\left ( \\left[\\begin{matrix}- 0.3 t^{3} + 1.2 t^{2} \\left(t - 1\\right) - 3.97036631956645 t \\left(t - 1\\right)^{2}\\\\1.0 t^{3} - 2.7 t^{2} \\left(t - 1\\right) + 0.506153423827593 t \\left(t - 1\\right)^{2}\\end{matrix}\\right], \\quad \\left[\\begin{matrix}- 0.0898500749821453 t \\left(t - 1\\right)^{2}\\\\1.0 t^{3} - 2.7 t^{2} \\left(t - 1\\right) + 0.895503748750223 t \\left(t - 1\\right)^{2}\\end{matrix}\\right], \\quad \\left[\\begin{matrix}0.3 t^{3} - 1.2 t^{2} \\left(t - 1\\right) + 3.79066616960216 t \\left(t - 1\\right)^{2}\\\\1.0 t^{3} - 2.7 t^{2} \\left(t - 1\\right) + 1.28485407367285 t \\left(t - 1\\right)^{2}\\end{matrix}\\right]\\right )$$"
      ],
      "text/plain": [
       "⎛⎡       3        2                                     2⎤  ⎡                 \n",
       "⎜⎢- 0.3⋅t  + 1.2⋅t ⋅(t - 1) - 3.97036631956645⋅t⋅(t - 1) ⎥  ⎢            -0.08\n",
       "⎜⎢                                                       ⎥, ⎢                 \n",
       "⎜⎢     3        2                                      2 ⎥  ⎢     3        2  \n",
       "⎝⎣1.0⋅t  - 2.7⋅t ⋅(t - 1) + 0.506153423827593⋅t⋅(t - 1)  ⎦  ⎣1.0⋅t  - 2.7⋅t ⋅(\n",
       "\n",
       "                        2            ⎤  ⎡     3        2                      \n",
       "98500749821453⋅t⋅(t - 1)             ⎥  ⎢0.3⋅t  - 1.2⋅t ⋅(t - 1) + 3.790666169\n",
       "                                     ⎥, ⎢                                     \n",
       "                                    2⎥  ⎢     3        2                      \n",
       "t - 1) + 0.895503748750223⋅t⋅(t - 1) ⎦  ⎣1.0⋅t  - 2.7⋅t ⋅(t - 1) + 1.284854073\n",
       "\n",
       "               2⎤⎞\n",
       "60216⋅t⋅(t - 1) ⎥⎟\n",
       "                ⎥⎟\n",
       "               2⎥⎟\n",
       "67285⋅t⋅(t - 1) ⎦⎠"
      ]
     },
     "execution_count": 8,
     "metadata": {},
     "output_type": "execute_result"
    },
    {
     "data": {
      "image/png": "[encoded data removed]",
      "text/plain": [
       "<Figure size 432x288 with 1 Axes>"
      ]
     },
     "metadata": {
      "needs_background": "light"
     },
     "output_type": "display_data"
    }
   ],
   "source": [
    "rx = [1.3,0.4,0.3]\n",
    "ry = [0.3,0.9,1.0]\n",
    "a_0,a_1,a_2 = 0,0.1,0\n",
    "x_0,y_0 = 0,0\n",
    "drawModel(x=rx,y=ry,CCtl=CPC,LCtl=CPL,RCtl=CPR,angle0=a_0,angle1=a_1,angle2=a_2,dx=x_0,dy=y_0)"
   ]
  },
  {
   "cell_type": "code",
   "execution_count": 20,
   "metadata": {},
   "outputs": [
    {
     "name": "stdout",
     "output_type": "stream",
     "text": [
      "\n",
      " [[0, 0], [0, py1], [0, py2], [0, py3]] \n",
      " [[-px0, 0], [-px1, py1], [-px2, py2], [-px3, py3]] \n",
      " [[px0, 0], [px1, py1], [px2, py2], [px3, py3]]\n"
     ]
    }
   ],
   "source": [
    "# 制御点  \n",
    "pcx,pcy = symbols('pcx:4'),symbols('pcy:4')\n",
    "plx,ply = symbols('plx:4'),symbols('ply:4')\n",
    "prx,pry = symbols('prx:4'),symbols('pry:4')\n",
    "px0,px1,px2,px3 = symbols('px0,px1,px2,px3')\n",
    "py1,py2,py3 = symbols('py1,py2,py3')\n",
    "CPC = [[0,0],[0,py1],[0,py2],[0,py3]]\n",
    "CPL = [[-px0,0],[-px1,py1],[-px2,py2],[-px3,py3]]\n",
    "CPR = [[px0,0],[px1,py1],[px2,py2],[px3,py3]]\n",
    "print('\\n',CPC,'\\n',CPL,'\\n',CPR)"
   ]
  },
  {
   "cell_type": "code",
   "execution_count": 21,
   "metadata": {},
   "outputs": [],
   "source": [
    "#  CPC0,CPC1,CPL0,CPL1,CPR0,CPR1が CPC0 周りに a1 ラジアン回転、\n",
    "# CPC3,CPC2,CPL3,CPL2,CPR3,CPR2 が CPC3 周りに a2 ラジアン回転　（　曲がりのモデル）\n",
    "a0,a1,a2 = symbols('a0,a1,a2') \n",
    "x0,y0 = symbols('x0,y0') \n",
    "#QPC0,QPC1,QPL0,QPL1,QPR0,QPR1 ,QPC3,QPC2,QPL3,QPL2,QPR3,QPR2  は一時的な作業用変数\n",
    "[QPC0,QPC1,QPL0,QPL1,QPR0,QPR1] = rotationAll([CPC[0],CPC[1],CPL[0],CPL[1],CPR[0],CPR[1]],a1,CPC[0][0],CPC[0][1])\n",
    "[QPC3,QPC2,QPL3,QPL2,QPR3,QPR2] = rotationAll([CPC[3],CPC[2],CPL[3],CPL[2],CPR[3],CPR[2]],a2,CPC[3][0],CPC[3][1])\n",
    "CPC,CPL,CPR = [QPC0,QPC1,QPC2,QPC3],[QPL0,QPL1,QPL2,QPL3],[QPR0,QPR1,QPR2,QPR3]\n",
    "#  # 制御点全体が (x0,y0)だけ平行移動し、 (x0,y0)を中心として a0 ラジアン回転した結果が観測されている\n",
    "CPC = rotationAll(moveAll(CPC,x0,y0),a0,x0,y0)\n",
    "CPL = rotationAll(moveAll(CPL,x0,y0),a0,x0,y0)\n",
    "CPR = rotationAll(moveAll(CPR,x0,y0),a0,x0,y0)"
   ]
  },
  {
   "cell_type": "code",
   "execution_count": 23,
   "metadata": {},
   "outputs": [
    {
     "data": {
      "image/png": "[encoded data removed]",
      "text/latex": [
       "$$\\left [ \\left [ - x_{0} \\cos{\\left (a_{0} \\right )} + x_{0} + y_{0} \\sin{\\left (a_{0} \\right )} - \\left(- px_{0} \\sin{\\left (a_{1} \\right )} + y_{0}\\right) \\sin{\\left (a_{0} \\right )} + \\left(- px_{0} \\cos{\\left (a_{1} \\right )} + x_{0}\\right) \\cos{\\left (a_{0} \\right )}, \\quad - x_{0} \\sin{\\left (a_{0} \\right )} - y_{0} \\cos{\\left (a_{0} \\right )} + y_{0} + \\left(- px_{0} \\sin{\\left (a_{1} \\right )} + y_{0}\\right) \\cos{\\left (a_{0} \\right )} + \\left(- px_{0} \\cos{\\left (a_{1} \\right )} + x_{0}\\right) \\sin{\\left (a_{0} \\right )}\\right ], \\quad \\left [ - x_{0} \\cos{\\left (a_{0} \\right )} + x_{0} + y_{0} \\sin{\\left (a_{0} \\right )} - \\left(- px_{1} \\sin{\\left (a_{1} \\right )} + py_{1} \\cos{\\left (a_{1} \\right )} + y_{0}\\right) \\sin{\\left (a_{0} \\right )} + \\left(- px_{1} \\cos{\\left (a_{1} \\right )} - py_{1} \\sin{\\left (a_{1} \\right )} + x_{0}\\right) \\cos{\\left (a_{0} \\right )}, \\quad - x_{0} \\sin{\\left (a_{0} \\right )} - y_{0} \\cos{\\left (a_{0} \\right )} + y_{0} + \\left(- px_{1} \\sin{\\left (a_{1} \\right )} + py_{1} \\cos{\\left (a_{1} \\right )} + y_{0}\\right) \\cos{\\left (a_{0} \\right )} + \\left(- px_{1} \\cos{\\left (a_{1} \\right )} - py_{1} \\sin{\\left (a_{1} \\right )} + x_{0}\\right) \\sin{\\left (a_{0} \\right )}\\right ], \\quad \\left [ - x_{0} \\cos{\\left (a_{0} \\right )} + x_{0} + y_{0} \\sin{\\left (a_{0} \\right )} + \\left(- px_{2} \\cos{\\left (a_{2} \\right )} - py_{2} \\sin{\\left (a_{2} \\right )} + py_{3} \\sin{\\left (a_{2} \\right )} + x_{0}\\right) \\cos{\\left (a_{0} \\right )} - \\left(- px_{2} \\sin{\\left (a_{2} \\right )} + py_{2} \\cos{\\left (a_{2} \\right )} - py_{3} \\cos{\\left (a_{2} \\right )} + py_{3} + y_{0}\\right) \\sin{\\left (a_{0} \\right )}, \\quad - x_{0} \\sin{\\left (a_{0} \\right )} - y_{0} \\cos{\\left (a_{0} \\right )} + y_{0} + \\left(- px_{2} \\cos{\\left (a_{2} \\right )} - py_{2} \\sin{\\left (a_{2} \\right )} + py_{3} \\sin{\\left (a_{2} \\right )} + x_{0}\\right) \\sin{\\left (a_{0} \\right )} + \\left(- px_{2} \\sin{\\left (a_{2} \\right )} + py_{2} \\cos{\\left (a_{2} \\right )} - py_{3} \\cos{\\left (a_{2} \\right )} + py_{3} + y_{0}\\right) \\cos{\\left (a_{0} \\right )}\\right ], \\quad \\left [ - x_{0} \\cos{\\left (a_{0} \\right )} + x_{0} + y_{0} \\sin{\\left (a_{0} \\right )} + \\left(- px_{3} \\cos{\\left (a_{2} \\right )} + x_{0}\\right) \\cos{\\left (a_{0} \\right )} - \\left(- px_{3} \\sin{\\left (a_{2} \\right )} + py_{3} + y_{0}\\right) \\sin{\\left (a_{0} \\right )}, \\quad - x_{0} \\sin{\\left (a_{0} \\right )} - y_{0} \\cos{\\left (a_{0} \\right )} + y_{0} + \\left(- px_{3} \\cos{\\left (a_{2} \\right )} + x_{0}\\right) \\sin{\\left (a_{0} \\right )} + \\left(- px_{3} \\sin{\\left (a_{2} \\right )} + py_{3} + y_{0}\\right) \\cos{\\left (a_{0} \\right )}\\right ]\\right ]$$"
      ],
      "text/plain": [
       "[[-x₀⋅cos(a₀) + x₀ + y₀⋅sin(a₀) - (-px₀⋅sin(a₁) + y₀)⋅sin(a₀) + (-px₀⋅cos(a₁) \n",
       "+ x₀)⋅cos(a₀), -x₀⋅sin(a₀) - y₀⋅cos(a₀) + y₀ + (-px₀⋅sin(a₁) + y₀)⋅cos(a₀) + (\n",
       "-px₀⋅cos(a₁) + x₀)⋅sin(a₀)], [-x₀⋅cos(a₀) + x₀ + y₀⋅sin(a₀) - (-px₁⋅sin(a₁) + \n",
       "py₁⋅cos(a₁) + y₀)⋅sin(a₀) + (-px₁⋅cos(a₁) - py₁⋅sin(a₁) + x₀)⋅cos(a₀), -x₀⋅sin\n",
       "(a₀) - y₀⋅cos(a₀) + y₀ + (-px₁⋅sin(a₁) + py₁⋅cos(a₁) + y₀)⋅cos(a₀) + (-px₁⋅cos\n",
       "(a₁) - py₁⋅sin(a₁) + x₀)⋅sin(a₀)], [-x₀⋅cos(a₀) + x₀ + y₀⋅sin(a₀) + (-px₂⋅cos(\n",
       "a₂) - py₂⋅sin(a₂) + py₃⋅sin(a₂) + x₀)⋅cos(a₀) - (-px₂⋅sin(a₂) + py₂⋅cos(a₂) - \n",
       "py₃⋅cos(a₂) + py₃ + y₀)⋅sin(a₀), -x₀⋅sin(a₀) - y₀⋅cos(a₀) + y₀ + (-px₂⋅cos(a₂)\n",
       " - py₂⋅sin(a₂) + py₃⋅sin(a₂) + x₀)⋅sin(a₀) + (-px₂⋅sin(a₂) + py₂⋅cos(a₂) - py₃\n",
       "⋅cos(a₂) + py₃ + y₀)⋅cos(a₀)], [-x₀⋅cos(a₀) + x₀ + y₀⋅sin(a₀) + (-px₃⋅cos(a₂) \n",
       "+ x₀)⋅cos(a₀) - (-px₃⋅sin(a₂) + py₃ + y₀)⋅sin(a₀), -x₀⋅sin(a₀) - y₀⋅cos(a₀) + \n",
       "y₀ + (-px₃⋅cos(a₂) + x₀)⋅sin(a₀) + (-px₃⋅sin(a₂) + py₃ + y₀)⋅cos(a₀)]]"
      ]
     },
     "execution_count": 23,
     "metadata": {},
     "output_type": "execute_result"
    }
   ],
   "source": [
    "CPL"
   ]
  },
  {
   "cell_type": "markdown",
   "metadata": {},
   "source": [
    "# sympy のバグ注意\n",
    "\n",
    "Matrix を使った時の simplify, expand はバグがあるみたいなので注意が必要。"
   ]
  },
  {
   "cell_type": "code",
   "execution_count": 9,
   "metadata": {},
   "outputs": [
    {
     "data": {
      "text/latex": [
       "$$\\left[\\begin{matrix}3\\\\3\\end{matrix}\\right] t^{2} \\left(- t + 1\\right)$$"
      ],
      "text/plain": [
       "⎡3⎤  2         \n",
       "⎢ ⎥⋅t ⋅(-t + 1)\n",
       "⎣3⎦            "
      ]
     },
     "execution_count": 9,
     "metadata": {},
     "output_type": "execute_result"
    }
   ],
   "source": [
    "f = 3*P0*t**2*(1-t)\n",
    "y = f.subs(P0,Matrix([1,1]))\n",
    "y"
   ]
  },
  {
   "cell_type": "code",
   "execution_count": 10,
   "metadata": {},
   "outputs": [
    {
     "data": {
      "text/latex": [
       "$$\\left[\\begin{matrix}3\\\\3\\end{matrix}\\right] t^{2} \\left(t - 1\\right)$$"
      ],
      "text/plain": [
       "⎡3⎤  2        \n",
       "⎢ ⎥⋅t ⋅(t - 1)\n",
       "⎣3⎦           "
      ]
     },
     "execution_count": 10,
     "metadata": {},
     "output_type": "execute_result"
    }
   ],
   "source": [
    "simplify(y)"
   ]
  },
  {
   "cell_type": "code",
   "execution_count": 11,
   "metadata": {},
   "outputs": [
    {
     "data": {
      "text/latex": [
       "$$\\left[\\begin{matrix}3\\\\3\\end{matrix}\\right] t^{3} + \\left[\\begin{matrix}3\\\\3\\end{matrix}\\right] t^{2}$$"
      ],
      "text/plain": [
       "⎡3⎤  3   ⎡3⎤  2\n",
       "⎢ ⎥⋅t  + ⎢ ⎥⋅t \n",
       "⎣3⎦      ⎣3⎦   "
      ]
     },
     "execution_count": 11,
     "metadata": {},
     "output_type": "execute_result"
    }
   ],
   "source": [
    "expand(y)"
   ]
  },
  {
   "cell_type": "code",
   "execution_count": null,
   "metadata": {},
   "outputs": [],
   "source": []
  }
 ],
 "metadata": {
  "kernelspec": {
   "display_name": "Python 3",
   "language": "python",
   "name": "python3"
  },
  "language_info": {
   "codemirror_mode": {
    "name": "ipython",
    "version": 3
   },
   "file_extension": ".py",
   "mimetype": "text/x-python",
   "name": "python",
   "nbconvert_exporter": "python",
   "pygments_lexer": "ipython3",
   "version": "3.6.6"
  }
 },
 "nbformat": 4,
 "nbformat_minor": 2
}
