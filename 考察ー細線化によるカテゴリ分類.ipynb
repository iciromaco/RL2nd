{
 "cells": [
  {
   "cell_type": "markdown",
   "metadata": {},
   "source": [
    "# 細線化によるカテゴリ分類"
   ]
  },
  {
   "cell_type": "code",
   "execution_count": null,
   "metadata": {},
   "outputs": [],
   "source": []
  },
  {
   "cell_type": "code",
   "execution_count": 100,
   "metadata": {},
   "outputs": [
    {
     "data": {
      "image/png": "[encoded data removed]",
      "text/plain": [
       "<Figure size 432x288 with 2 Axes>"
      ]
     },
     "metadata": {
      "needs_background": "light"
     },
     "output_type": "display_data"
    }
   ],
   "source": [
    "from skimage.morphology import skeletonize, skeletonize_3d\n",
    "import matplotlib.pyplot as plt\n",
    "from skimage.util import invert\n",
    "from skimage import io\n",
    "import skimage.data\n",
    "import skimage.color\n",
    "import os\n",
    "\n",
    "img = cv2.imread('概形シルエット/17Apically/17daruma6o06_l.jpg',0)\n",
    "img = cv2.resize(img,(int(img.shape[1]/5),int(img.shape[0]/5)))\n",
    "ret,th2 = cv2.threshold(img,127,1,cv2.THRESH_BINARY)\n",
    "\n",
    "skeleton = skeletonize(th2)\n",
    "# 結果を出力します\n",
    "plt.subplot(121), plt.imshow(img, cmap='gray')\n",
    "plt.title(\"input image\")\n",
    "plt.subplot(122), plt.imshow(skeleton, cmap='gray')\n",
    "plt.title(\"thinned image\")\n",
    "plt.show()"
   ]
  },
  {
   "cell_type": "code",
   "execution_count": 92,
   "metadata": {},
   "outputs": [
    {
     "data": {
      "image/png": "[encoded data removed]",
      "text/plain": [
       "<Figure size 432x288 with 2 Axes>"
      ]
     },
     "metadata": {
      "needs_background": "light"
     },
     "output_type": "display_data"
    }
   ],
   "source": [
    "img = cv2.imread('概形シルエット/17Cylindric/17makoto1o06_l.jpg',0)\n",
    "img = cv2.resize(img,(int(img.shape[1]/5),int(img.shape[0]/5)))\n",
    "ret,th2 = cv2.threshold(img,127,1,cv2.THRESH_BINARY)\n",
    "\n",
    "skeleton = skeletonize(th2)\n",
    "# 結果を出力します\n",
    "plt.subplot(121), plt.imshow(img, cmap='gray')\n",
    "plt.title(\"input image\")\n",
    "plt.subplot(122), plt.imshow(skeleton, cmap='gray')\n",
    "plt.title(\"thinned image\")\n",
    "plt.show()"
   ]
  },
  {
   "cell_type": "code",
   "execution_count": 93,
   "metadata": {},
   "outputs": [
    {
     "data": {
      "image/png": "[encoded data removed]",
      "text/plain": [
       "<Figure size 432x288 with 2 Axes>"
      ]
     },
     "metadata": {
      "needs_background": "light"
     },
     "output_type": "display_data"
    }
   ],
   "source": [
    "img = cv2.imread('概形シルエット/17Triagular/17horyou1o05_l.jpg',0)\n",
    "img = cv2.resize(img,(int(img.shape[1]/5),int(img.shape[0]/5)))\n",
    "ret,th2 = cv2.threshold(img,127,1,cv2.THRESH_BINARY)\n",
    "\n",
    "skeleton = skeletonize(th2)\n",
    "# 結果を出力します\n",
    "plt.subplot(121), plt.imshow(img, cmap='gray')\n",
    "plt.title(\"input image\")\n",
    "plt.subplot(122), plt.imshow(skeleton, cmap='gray')\n",
    "plt.title(\"thinned image\")\n",
    "plt.show()"
   ]
  },
  {
   "cell_type": "code",
   "execution_count": 95,
   "metadata": {},
   "outputs": [
    {
     "data": {
      "image/png": "[encoded data removed]",
      "text/plain": [
       "<Figure size 432x288 with 2 Axes>"
      ]
     },
     "metadata": {
      "needs_background": "light"
     },
     "output_type": "display_data"
    }
   ],
   "source": [
    "img  = cv2.imread('概形シルエット/17Tran_ellip/17karami2o03_l.jpg',0)\n",
    "img = cv2.resize(img,(int(img.shape[1]/5),int(img.shape[0]/5)))\n",
    "ret,th2 = cv2.threshold(img,127,1,cv2.THRESH_BINARY)\n",
    "\n",
    "skeleton = skeletonize(th2)\n",
    "# 結果を出力します\n",
    "plt.subplot(121), plt.imshow(img, cmap='gray')\n",
    "plt.title(\"input image\")\n",
    "plt.subplot(122), plt.imshow(skeleton, cmap='gray')\n",
    "plt.title(\"thinned image\")\n",
    "plt.show()"
   ]
  },
  {
   "cell_type": "code",
   "execution_count": 4,
   "metadata": {},
   "outputs": [],
   "source": [
    "# メインプログラム\n",
    "from skimage.morphology import skeletonize, skeletonize_3d\n",
    "import matplotlib.pyplot as plt\n",
    "from skimage.util import invert\n",
    "from skimage import io\n",
    "import skimage.data\n",
    "import skimage.color\n",
    "import os\n",
    "\n",
    "def batch(images, savedir='スケルトン',normalize=False,interactive = True):\n",
    "    # savedir 保存先\n",
    "    # interactive 結果を１枚ずつ確認するかどうか\n",
    "    \n",
    "    for path in images:\n",
    "        print(path)\n",
    "        \n",
    "        src = cv2.imread(path,0) # 対象画像の読み込み\n",
    "        \n",
    "        if normalize:\n",
    "            # 処理対象画像を　短辺１２８に正規化する\n",
    "            height, width = src.shape[:2]\n",
    "            nlen = width if width < height else height # 縦横の短い方\n",
    "            shrink = 64/nlen # 縮小率\n",
    "            src = cv2.resize(src,(int(shrink*width),int(shrink*height)))\n",
    "        \n",
    "        # ２値化するとともに、白を１にする\n",
    "        _ret,img = cv2.threshold(src,127,1,cv2.THRESH_BINARY)\n",
    "        \n",
    "        # scikit-learn の高速細線化処理を適用\n",
    "        skeleton = 255*skeletonize(img)\n",
    "\n",
    "        # 結果を確認       \n",
    "        if interactive:\n",
    "            cv2.imshow(path,mkparaimage(cv2.bitwise_xor(src,img),skeleton))\n",
    "            key = cv2.waitKey(0)\n",
    "            cv2.destroyAllWindows()\n",
    "            cv2.waitKey(1) \n",
    "            if key == 113: #  \"Q\" で終了する\n",
    "                break"
   ]
  },
  {
   "cell_type": "code",
   "execution_count": 5,
   "metadata": {},
   "outputs": [
    {
     "name": "stdout",
     "output_type": "stream",
     "text": [
      "概形シルエット/17Cylindric/17daruma2o05_l.jpg\n",
      "概形シルエット/17Cylindric/17daruma3o01_l.jpg\n",
      "概形シルエット/17Cylindric/17daruma3o02_l.jpg\n",
      "概形シルエット/17Cylindric/17daruma3o03_l.jpg\n",
      "概形シルエット/17Cylindric/17daruma3o05_l.jpg\n",
      "概形シルエット/17Cylindric/17daruma3o09_l.jpg\n",
      "概形シルエット/17Cylindric/17daruma6o09_l.jpg\n",
      "概形シルエット/17Cylindric/17kohaku1o02_l.jpg\n",
      "概形シルエット/17Cylindric/17kohaku1o09_l.jpg\n",
      "概形シルエット/17Cylindric/17kohaku2o10_l.jpg\n",
      "概形シルエット/17Cylindric/17makoto1o01_l.jpg\n",
      "概形シルエット/17Cylindric/17makoto1o05_l.jpg\n",
      "概形シルエット/17Cylindric/17makoto1o06_l.jpg\n",
      "概形シルエット/17Cylindric/17makoto1o10_l.jpg\n",
      "概形シルエット/17Cylindric/17makoto2o03_l.jpg\n",
      "概形シルエット/17Cylindric/17makoto2o06_l.jpg\n",
      "概形シルエット/17Cylindric/17santar2o09_l.jpg\n",
      "概形シルエット/17Cylindric/17santar2o10_l.jpg\n",
      "概形シルエット/17Cylindric/17sinsyt1o08_l.jpg\n",
      "概形シルエット/17Cylindric/17tanabe1o01_l.jpg\n",
      "概形シルエット/17Cylindric/17tanabe1o02_l.jpg\n",
      "概形シルエット/17Cylindric/17tanabe1o05_l.jpg\n",
      "概形シルエット/17Cylindric/17tanabe1o06_l.jpg\n",
      "概形シルエット/17Cylindric/17tanabe1o07_l.jpg\n",
      "概形シルエット/17Cylindric/17tanabe1o09_l.jpg\n",
      "概形シルエット/17Cylindric/17tanabe1o10_l.jpg\n",
      "概形シルエット/17Cylindric/17tanabe2o01_l.jpg\n",
      "概形シルエット/17Cylindric/17tanabe2o03_l.jpg\n",
      "概形シルエット/17Cylindric/17tanabe2o04_l.jpg\n",
      "概形シルエット/17Cylindric/17tanabe2o05_l.jpg\n",
      "概形シルエット/17Cylindric/17tanabe2o06_l.jpg\n",
      "概形シルエット/17Cylindric/17tanabe2o07_l.jpg\n",
      "概形シルエット/17Cylindric/17tanabe2o09_l.jpg\n",
      "概形シルエット/17Cylindric/17yukibi1o01_l.jpg\n",
      "概形シルエット/17Cylindric/17yukibi1o02_l.jpg\n",
      "概形シルエット/17Cylindric/17yukibi1o03_l.jpg\n",
      "概形シルエット/17Cylindric/17yukibi1o07_l.jpg\n",
      "概形シルエット/17Cylindric/17yukibi1o08_l.jpg\n",
      "概形シルエット/17Cylindric/17yukibi2o02_l.jpg\n",
      "概形シルエット/17Cylindric/17yukibi2o04_l.jpg\n",
      "概形シルエット/17Cylindric/17yukibi2o05_l.jpg\n",
      "概形シルエット/17Cylindric/17yukibi2o07_l.jpg\n",
      "概形シルエット/17Cylindric/17yukibi2o09_l.jpg\n",
      "概形シルエット/17Conv_tri/17fuyuji1o05_l.jpg\n",
      "概形シルエット/17Conv_tri/17fuyuji1o08_l.jpg\n",
      "概形シルエット/17Conv_tri/17fuyuji1o09_l.jpg\n",
      "概形シルエット/17Conv_tri/17fuyuji1o10_l.jpg\n",
      "概形シルエット/17Conv_tri/17fuyuji2o08_l.jpg\n",
      "概形シルエット/17Conv_tri/17fuyuji2o09_l.jpg\n",
      "概形シルエット/17Conv_tri/17santar1o02_l.jpg\n",
      "概形シルエット/17Conv_tri/17syunky2o08_l.jpg\n",
      "概形シルエット/17Conv_tri/17tukasa1o01_l.jpg\n",
      "概形シルエット/17Conv_tri/17tukasa1o02_l.jpg\n",
      "概形シルエット/17Conv_tri/17tukasa1o03_l.jpg\n",
      "概形シルエット/17Conv_tri/17tukasa1o04_l.jpg\n",
      "概形シルエット/17Conv_tri/17tukasa1o05_l.jpg\n",
      "概形シルエット/17Conv_tri/17tukasa2o01_l.jpg\n",
      "概形シルエット/17Conv_tri/17tukasa2o05_l.jpg\n",
      "概形シルエット/17Conv_tri/17tukasa2o08_l.jpg\n",
      "概形シルエット/17Conv_tri/17tukasa2o09_l.jpg\n",
      "概形シルエット/17Conv_tri/17whitec1o03_l.jpg\n",
      "概形シルエット/17Elliptic/17kometo1o02_l.jpg\n",
      "概形シルエット/17Elliptic/17kometo1o04_l.jpg\n",
      "概形シルエット/17Elliptic/17kometo1o06_l.jpg\n",
      "概形シルエット/17Elliptic/17kometo1o07_l.jpg\n",
      "概形シルエット/17Elliptic/17ofukur1o01_l.jpg\n",
      "概形シルエット/17Elliptic/17ofukur1o02_l.jpg\n",
      "概形シルエット/17Elliptic/17ofukur1o03_l.jpg\n",
      "概形シルエット/17Elliptic/17ofukur1o04_l.jpg\n",
      "概形シルエット/17Elliptic/17ofukur1o06_l.jpg\n",
      "概形シルエット/17Elliptic/17ofukur1o07_l.jpg\n",
      "概形シルエット/17Elliptic/17ofukur1o08_l.jpg\n",
      "概形シルエット/17Elliptic/17ofukur1o09_l.jpg\n",
      "概形シルエット/17Elliptic/17ofukur1o10_l.jpg\n",
      "概形シルエット/17Elliptic/17ofukur2o01_l.jpg\n",
      "概形シルエット/17Elliptic/17ofukur2o03_l.jpg\n",
      "概形シルエット/17Elliptic/17ofukur2o07_l.jpg\n",
      "概形シルエット/17Elliptic/17ofukur2o09_l.jpg\n",
      "概形シルエット/17Elliptic/17ofukur3o01_l.jpg\n",
      "概形シルエット/17Elliptic/17ofukur3o02_l.jpg\n",
      "概形シルエット/17Elliptic/17ofukur3o08_l.jpg\n",
      "概形シルエット/17Elliptic/17okinaw1o01_l.jpg\n",
      "概形シルエット/17Elliptic/17okinaw1o02_l.jpg\n",
      "概形シルエット/17Elliptic/17okinaw1o04_l.jpg\n",
      "概形シルエット/17Elliptic/17okinaw1o05_l.jpg\n",
      "概形シルエット/17Elliptic/17okinaw1o06_l.jpg\n",
      "概形シルエット/17Elliptic/17okinaw1o08_l.jpg\n",
      "概形シルエット/17Elliptic/17okinaw2o04_l.jpg\n",
      "概形シルエット/17Elliptic/17okinaw2o08_l.jpg\n",
      "概形シルエット/17Elliptic/17okinaw2o10_l.jpg\n",
      "概形シルエット/17Elliptic/17okinaw3o05_l.jpg\n",
      "概形シルエット/17Elliptic/17okinaw3o06_l.jpg\n",
      "概形シルエット/17Elliptic/17okinaw3o08_l.jpg\n",
      "概形シルエット/17Elliptic/17okinaw3o09_l.jpg\n",
      "概形シルエット/17Elliptic/17okinaw3o10_l.jpg\n",
      "概形シルエット/17Elliptic/17tyokei1o06_l.jpg\n",
      "概形シルエット/17Elliptic/17tyokei1o10_l.jpg\n",
      "概形シルエット/17Elliptic/17tyokei2o02_l.jpg\n",
      "概形シルエット/17Elliptic/17tyokei2o03_l.jpg\n",
      "概形シルエット/17Elliptic/17tyokei2o07_l.jpg\n",
      "概形シルエット/17Elliptic/17tyokei2o08_l.jpg\n",
      "概形シルエット/17Elliptic/17tyokei2o09_l.jpg\n",
      "概形シルエット/17Elliptic/17tyokei2o10_l.jpg\n",
      "概形シルエット/17Elliptic/17yukiko1o07_l.jpg\n",
      "概形シルエット/17Elliptic/17yukiko2o05_l.jpg\n",
      "概形シルエット/17Horn/17aomida1o02_l.jpg\n",
      "概形シルエット/17Horn/17aomida1o05_l.jpg\n",
      "概形シルエット/17Horn/17aomida1o09_l.jpg\n",
      "概形シルエット/17Horn/17aomida2o01_l.jpg\n",
      "概形シルエット/17Horn/17aomida2o02_l.jpg\n"
     ]
    },
    {
     "ename": "AttributeError",
     "evalue": "'NoneType' object has no attribute 'shape'",
     "output_type": "error",
     "traceback": [
      "\u001b[0;31m---------------------------------------------------------------------------\u001b[0m",
      "\u001b[0;31mAttributeError\u001b[0m                            Traceback (most recent call last)",
      "\u001b[0;32m<ipython-input-5-da8af3ddded8>\u001b[0m in \u001b[0;36m<module>\u001b[0;34m()\u001b[0m\n\u001b[1;32m      1\u001b[0m \u001b[0m_dir\u001b[0m\u001b[0;34m,\u001b[0m\u001b[0mffiles\u001b[0m \u001b[0;34m=\u001b[0m \u001b[0mlistimage\u001b[0m\u001b[0;34m(\u001b[0m\u001b[0mpath\u001b[0m\u001b[0;34m=\u001b[0m\u001b[0;34m'概形シルエット'\u001b[0m\u001b[0;34m,\u001b[0m \u001b[0mneedThum\u001b[0m\u001b[0;34m=\u001b[0m\u001b[0;32mFalse\u001b[0m\u001b[0;34m)\u001b[0m\u001b[0;34m\u001b[0m\u001b[0m\n\u001b[0;32m----> 2\u001b[0;31m \u001b[0mbatch\u001b[0m\u001b[0;34m(\u001b[0m\u001b[0msum\u001b[0m\u001b[0;34m(\u001b[0m\u001b[0mffiles\u001b[0m\u001b[0;34m,\u001b[0m\u001b[0;34m[\u001b[0m\u001b[0;34m]\u001b[0m\u001b[0;34m)\u001b[0m\u001b[0;34m,\u001b[0m \u001b[0msavedir\u001b[0m\u001b[0;34m=\u001b[0m\u001b[0;34m'スケルトン'\u001b[0m\u001b[0;34m,\u001b[0m\u001b[0minteractive\u001b[0m \u001b[0;34m=\u001b[0m \u001b[0;32mTrue\u001b[0m\u001b[0;34m,\u001b[0m \u001b[0mnormalize\u001b[0m\u001b[0;34m=\u001b[0m\u001b[0;32mTrue\u001b[0m\u001b[0;34m)\u001b[0m\u001b[0;34m\u001b[0m\u001b[0m\n\u001b[0m",
      "\u001b[0;32m<ipython-input-4-ccbc481f6ada>\u001b[0m in \u001b[0;36mbatch\u001b[0;34m(images, savedir, normalize, interactive)\u001b[0m\n\u001b[1;32m     19\u001b[0m         \u001b[0;32mif\u001b[0m \u001b[0mnormalize\u001b[0m\u001b[0;34m:\u001b[0m\u001b[0;34m\u001b[0m\u001b[0m\n\u001b[1;32m     20\u001b[0m             \u001b[0;31m# 処理対象画像を　短辺１２８に正規化する\u001b[0m\u001b[0;34m\u001b[0m\u001b[0;34m\u001b[0m\u001b[0m\n\u001b[0;32m---> 21\u001b[0;31m             \u001b[0mheight\u001b[0m\u001b[0;34m,\u001b[0m \u001b[0mwidth\u001b[0m \u001b[0;34m=\u001b[0m \u001b[0msrc\u001b[0m\u001b[0;34m.\u001b[0m\u001b[0mshape\u001b[0m\u001b[0;34m[\u001b[0m\u001b[0;34m:\u001b[0m\u001b[0;36m2\u001b[0m\u001b[0;34m]\u001b[0m\u001b[0;34m\u001b[0m\u001b[0m\n\u001b[0m\u001b[1;32m     22\u001b[0m             \u001b[0mnlen\u001b[0m \u001b[0;34m=\u001b[0m \u001b[0mwidth\u001b[0m \u001b[0;32mif\u001b[0m \u001b[0mwidth\u001b[0m \u001b[0;34m<\u001b[0m \u001b[0mheight\u001b[0m \u001b[0;32melse\u001b[0m \u001b[0mheight\u001b[0m \u001b[0;31m# 縦横の短い方\u001b[0m\u001b[0;34m\u001b[0m\u001b[0m\n\u001b[1;32m     23\u001b[0m             \u001b[0mshrink\u001b[0m \u001b[0;34m=\u001b[0m \u001b[0;36m64\u001b[0m\u001b[0;34m/\u001b[0m\u001b[0mnlen\u001b[0m \u001b[0;31m# 縮小率\u001b[0m\u001b[0;34m\u001b[0m\u001b[0m\n",
      "\u001b[0;31mAttributeError\u001b[0m: 'NoneType' object has no attribute 'shape'"
     ]
    }
   ],
   "source": [
    "_dir,ffiles = listimage(path='概形シルエット', needThum=False)\n",
    "batch(sum(ffiles,[]), savedir='スケルトン',interactive = True, normalize=True)"
   ]
  },
  {
   "cell_type": "code",
   "execution_count": null,
   "metadata": {},
   "outputs": [],
   "source": []
  },
  {
   "cell_type": "code",
   "execution_count": 2,
   "metadata": {},
   "outputs": [],
   "source": [
    "import numpy as np\n",
    "import matplotlib.pyplot as plt\n",
    "import cv2\n",
    "from PIL import Image\n",
    "import math\n",
    "import pandas as pd\n",
    "\n",
    "# この関数は画像の入った複数のフォルダが１つのフォルダに入っていることを前提としている。\n",
    "#  指定フォルダ直下の画像ファイルは無視する。直下のフォルダの中しか見ず、さらにサブフォルダがあっても再帰的に探すようなことはしない。\n",
    "\n",
    "def listimage(path='概形シルエット', needThum=False):\n",
    "\n",
    "    directory = os.listdir(path)\n",
    "    \n",
    "    # まずフォルダを全部リストアップ　→ folders\n",
    "    folders = []\n",
    "    for x in os.listdir(path):  \n",
    "        if os.path.isdir(path + '/'+x) and x[0] != '.' and x[0] !='_':  #パスに取り出したオブジェクトを足してフルパスに\n",
    "            folders.append(path + '/'+x)\n",
    "\n",
    "    # folders の各フォルダの中にある jpg ファイルをリストアップ → ffiles\n",
    "    # ffiles はフォルダごとのリストのリスト\n",
    "    ffiles = []\n",
    "    for x in folders:\n",
    "        files = []\n",
    "        for f in os.listdir(x):\n",
    "            entry = x + '/'+f\n",
    "            if os.path.isfile(entry) and f[-4:]=='.jpg' and f[0] != '.':\n",
    "                files.append(entry)\n",
    "        ffiles.append(files)\n",
    "        \n",
    "    if needThum: # サムネイルの作成\n",
    "        i = 0\n",
    "        for cat in ffiles:\n",
    "            # print(folders[i])\n",
    "            sam = Image.new('RGB', (800,600),(0,0,0))\n",
    "            row = col = 0\n",
    "            for rad in cat:\n",
    "                img = Image.open(rad, 'r')\n",
    "                thumbnail_size = (100, 100)\n",
    "                img.thumbnail(thumbnail_size)\n",
    "                sam.paste(img,(col,row))\n",
    "                col += 100\n",
    "                if col == 800:\n",
    "                    col = 0\n",
    "                    row += 100\n",
    "                # plt.imshow(sam)\n",
    "            sam.save('{}THUM.png'.format(folders[i]), 'PNG')\n",
    "            print(\"saved {}\".format(folders[i]))\n",
    "            i +=1\n",
    "\n",
    "    return folders,ffiles\n",
    "\n",
    "# マージンをつける\n",
    "def makemargin(img):\n",
    "    h,w = img.shape[:2]\n",
    "    w2 = 2*w\n",
    "    h2 = 2*h\n",
    "    img2 = np.zeros((h2,w2),np.uint8)\n",
    "    img2[int(h/2):int(h/2)+h,int(w/2):int(w/2)+w] = img\n",
    "    return img2\n",
    "\n",
    "# ２枚の画像をサイズを並べた画像を作成する\n",
    "def mkparaimage(img1,img2):\n",
    "    h1,w1 = img1.shape[:2]\n",
    "    h2,w2 = img2.shape[:2]\n",
    "    if img1.ndim == 2:\n",
    "        img11 = np.zeros((h1,w1,3))\n",
    "        img11[:,:,0]=img11[:,:,1]=img11[:,:,2]=img1\n",
    "    else:\n",
    "        img11=img1\n",
    "    if img2.ndim == 2:\n",
    "        img22 = np.zeros((h2,w2,3))\n",
    "        img22[:,:,0]=img22[:,:,1]=img22[:,:,2]=img2\n",
    "    else:\n",
    "        img22=img2\n",
    "    paraimg = 255*np.ones((max(h1,h2),w1+w2+10,3),dtype=np.uint8)\n",
    "    \n",
    "    paraimg[0:h1,0:w1,:] = img11\n",
    "    paraimg[0:h2,w1+10:,:]=img22\n",
    "    \n",
    "    return paraimg\n",
    "\n",
    "# mkparaimage で２枚並べた画像を表示\n",
    "def imshowpara(img1,img2):\n",
    "    plotimg(mkparaimage(img1,img2))"
   ]
  },
  {
   "cell_type": "code",
   "execution_count": null,
   "metadata": {},
   "outputs": [],
   "source": []
  }
 ],
 "metadata": {
  "kernelspec": {
   "display_name": "Python 3",
   "language": "python",
   "name": "python3"
  },
  "language_info": {
   "codemirror_mode": {
    "name": "ipython",
    "version": 3
   },
   "file_extension": ".py",
   "mimetype": "text/x-python",
   "name": "python",
   "nbconvert_exporter": "python",
   "pygments_lexer": "ipython3",
   "version": "3.6.6"
  }
 },
 "nbformat": 4,
 "nbformat_minor": 2
}
