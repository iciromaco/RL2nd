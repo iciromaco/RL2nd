{
 "cells": [
  {
   "cell_type": "markdown",
   "metadata": {},
   "source": [
    "# ハフ変換によるスケルトンの方向判定\n",
    "\n",
    "- 微妙な凹凸は識別に関係ないので滑らかにする。\n",
    "- サイズを正規化する\n",
    "- スケルトン抽出してスケルトンの距離情報を作る。通常の距離は最短の黒画素までの距離として定義されるが、カバー率という概念を導入し、一定量（例えば９５％）の白画素が含まれる最大の距離を改めて距離と定義する。\n",
    "- その距離範囲を白で塗りつぶした図形をあらためてシルエットとし、再度スケルトン抽出を行う。\n",
    "- ハフ変換によりスケルトンの直線検出を行い、中心軸を定める。\n",
    "\n",
    "これは１次近似。ベジエ曲線当てはめも試してみたい。"
   ]
  },
  {
   "cell_type": "markdown",
   "metadata": {},
   "source": [
    "# 予備実験１"
   ]
  },
  {
   "cell_type": "code",
   "execution_count": 648,
   "metadata": {},
   "outputs": [],
   "source": [
    "from skimage.morphology import skeletonize, skeletonize_3d\n",
    "import matplotlib.pyplot as plt\n",
    "from skimage.util import invert\n",
    "from skimage import io\n",
    "import skimage.data\n",
    "import skimage.color\n",
    "import os\n",
    "import numpy as np\n",
    "import cv2\n",
    "\n",
    "def listimage(path='シルエット', needThum=False):\n",
    "\n",
    "    directory = os.listdir(path)\n",
    "    \n",
    "    # まずフォルダを全部リストアップ　→ folders\n",
    "    folders = []\n",
    "    for x in os.listdir(path):  \n",
    "        if os.path.isdir(path + '/'+x) and x[0] != '.' and x[0] !='_':  #パスに取り出したオブジェクトを足してフルパスに\n",
    "            folders.append(path + '/'+x)\n",
    "    # print(folders)\n",
    "\n",
    "    # folders の各フォルダの中にある jpg ファイルをリストアップ → ffiles\n",
    "    # ffiles はフォルダごとのリストのリスト\n",
    "    ffiles = []\n",
    "    for x in folders:\n",
    "        files = []\n",
    "        for f in os.listdir(x):\n",
    "            entry = x + '/'+f\n",
    "            if os.path.isfile(entry) and f[-4:]=='.jpg' and f[0] != '.':\n",
    "                files.append(entry)\n",
    "        ffiles.append(files)\n",
    "    \n",
    "    if needThum: # サムネイルの作成\n",
    "        i = 0\n",
    "        for cat in ffiles:\n",
    "            # print(folders[i])\n",
    "            sam = Image.new('RGB', (800,600),(0,0,0))\n",
    "            row = col = 0\n",
    "            for rad in cat:\n",
    "                img = Image.open(rad, 'r')\n",
    "                thumbnail_size = (100, 100)\n",
    "                img.thumbnail(thumbnail_size)\n",
    "                sam.paste(img,(col,row))\n",
    "                col += 100\n",
    "                if col == 800:\n",
    "                    col = 0\n",
    "                    row += 100\n",
    "                # plt.imshow(sam)\n",
    "            sam.save('{}THUM.png'.format(folders[i]), 'PNG')\n",
    "            print(\"saved {}\".format(folders[i]))\n",
    "            i +=1\n",
    "\n",
    "    return folders,ffiles\n",
    "\n",
    "# マージンをつける\n",
    "def makemargin(img,mr=2):\n",
    "    h,w = img.shape[:2]\n",
    "    w2 = mr*w\n",
    "    h2 = mr*h\n",
    "    x1 = int((w2-w)/2)\n",
    "    y1 = int((h2-h)/2)\n",
    "    img2 = np.zeros((h2,w2),np.uint8)\n",
    "    img2[y1:y1+h,x1:x1+w] = img\n",
    "    return img2\n",
    "\n",
    "# ２枚の画像をサイズを並べた画像を作成する\n",
    "def mkparaimage(img1,img2):\n",
    "    h1,w1 = img1.shape[:2]\n",
    "    h2,w2 = img2.shape[:2]\n",
    "    if img1.ndim == 2:\n",
    "        img11 = np.zeros((h1,w1,3))\n",
    "        img11[:,:,0]=img11[:,:,1]=img11[:,:,2]=img1\n",
    "    else:\n",
    "        img11=img1\n",
    "    if img2.ndim == 2:\n",
    "        img22 = np.zeros((h2,w2,3))\n",
    "        img22[:,:,0]=img22[:,:,1]=img22[:,:,2]=img2\n",
    "    else:\n",
    "        img22=img2\n",
    "    paraimg = 255*np.ones((max(h1,h2),w1+w2+10,3),dtype=np.uint8)\n",
    "    \n",
    "    paraimg[0:h1,0:w1,:] = img11\n",
    "    paraimg[0:h2,w1+10:,:]=img22\n",
    "    \n",
    "    return paraimg\n",
    "\n",
    "# mkparaimage で２枚並べた画像を表示\n",
    "def imshowpara(img1,img2):\n",
    "    plotimg(mkparaimage(img1,img2))\n",
    "\n",
    "# 近傍画素の取り出し\n",
    "def get8n(img,x,y):\n",
    "    ret =  [img[y][x+1],img[y-1][x+1],img[y-1][x],img[y-1][x-1], \\\n",
    "            img[y][x-1],img[y+1][x-1],img[y+1][x],img[y+1][x+1], \\\n",
    "            img[y][x+1],img[y-1][x+1],img[y][x]]\n",
    "    return ret\n",
    "\n",
    "# 連結数の計算（８連結）\n",
    "def getCN(img,x,y):\n",
    "    nb = get8n(img,x,y \n",
    "    for i in range(0,8,2):\n",
    "        ret += (1-nb[i]) - (1-nb[i])*(1-nb[i+1])*(1-nb[i+2])\n",
    "    return ret\n",
    "\n",
    "# 処理結果画像（fimg)に処理前画像（bimg)の輪郭を描く\n",
    "def draw2(bimg,fimg):\n",
    "    if len(bimg.shape)==3:\n",
    "        bimg2 = cv2.cvtColor(bimg,cv2.COLOR_BGR2GRAY)\n",
    "    else:\n",
    "        bimg2 = bimg.copy()\n",
    "    if len(fimg.shape)==3:\n",
    "        fimg2 = fimg.copy()\n",
    "    else:\n",
    "        fimg2 = cv2.cvtColor(fimg,cv2.COLOR_GRAY2BGR)\n",
    "    # 処理前画像の輪郭\n",
    "    canvas = np.zeros_like(fimg2)\n",
    "    _ret,bwimg = cv2.threshold(bimg2,128,255,cv2.THRESH_BINARY) # 白画素は255にする\n",
    "    _img,cnt,hierarchy = cv2.findContours(bwimg, cv2.RETR_EXTERNAL, cv2.CHAIN_APPROX_SIMPLE)\n",
    "    canvas = cv2.drawContours(canvas, cnt, -1, (255,230,230), thickness=-1)\n",
    "    \n",
    "    return cv2.addWeighted(fimg2, 0.5, canvas, 0.5,0)\n",
    "                  \n",
    "    # return retimg[:,:,::-1] # opencv -> PIL\n"
   ]
  },
  {
   "cell_type": "code",
   "execution_count": 925,
   "metadata": {},
   "outputs": [],
   "source": [
    "###### UNIT = 256\n",
    "# https://www.piskelapp.com/p/agxzfnBpc2tlbC1hcHByEwsSBlBpc2tlbBiAgKDQzJChCQw/edit\n",
    "\n",
    "CONTOURS_APPROX = 0.005 # 輪郭近似精度\n",
    "SHRINK = 0.67 # 収縮膨張で形状を整える時のパラメータ\n",
    "GAUSSIAN_RATE = 0.3 # ガウスぼかしをかける程度\n",
    "\n",
    "# 形の整形ステップ１\n",
    "def getskeleton(path):\n",
    "    print(path)\n",
    "    src = cv2.imread(path,cv2.IMREAD_GRAYSCALE)\n",
    "    img2 = makemargin(src) # 作業用のマージンを確保\n",
    "    refimg = img2.copy() # 参照画像\n",
    "    \n",
    "    # ガウスぼかしを適用してシルエットを滑らかにする\n",
    "    ksize = int(GAUSSIAN_RATE*src.shape[1]/2)*2+1 # ぼかし量  元の図形の幅に応じて決める\n",
    "    img2 = cv2.GaussianBlur(img2,(ksize,ksize),0) # ガウスぼかしを適用\n",
    "    _ret,img2 = cv2.threshold(img2, 127, 255, cv2.THRESH_BINARY) # ２値化\n",
    "    \n",
    "    # 収縮・膨張によりヒゲ根を除去する\n",
    "    area0 = np.sum(img2) # img2 の画素数*255 になるはず\n",
    "    kernel = np.ones((3,3),np.uint8) \n",
    "    tmpimg = cv2.erode(img2,kernel,iterations = 1) # 収縮１回目\n",
    "    area1 = np.sum(tmpimg) # 収縮したので area0 より少なくなる\n",
    "    n = 1\n",
    "    while area1  > SHRINK*area0: # 面積が 3/4 以下になるまで繰り返す\n",
    "        tmpimg = cv2.erode(tmpimg,kernel,iterations = 1)\n",
    "        area1 = np.sum(tmpimg) \n",
    "        n += 1\n",
    "    # print(\"収縮・膨張回数\",n)\n",
    "    img3 = cv2.dilate(tmpimg,kernel,iterations = n) # 同じ回数膨張させる\n",
    "\n",
    "    # 楕円近似で軸方向を求める\n",
    "    # あらためて輪郭を求め直す\n",
    "    _img,cnt,hierarchy = cv2.findContours(img3, cv2.RETR_EXTERNAL, cv2.CHAIN_APPROX_NONE) #  あらためて輪郭を抽出\n",
    "    \n",
    "    # 輪郭の近似を使って形状を整える。同時に円形度を計算しておく。\n",
    "    \n",
    "    area = cv2.contourArea(cnt[0]) # 面積\n",
    "    perimeter = cv2.arcLength(cnt[0],True) # 周囲長\n",
    "    epsilon = CONTOURS_APPROX*perimeter\n",
    "    '''\n",
    "    approx = cv2.approxPolyDP(cnt[0],epsilon,True)\n",
    "    \n",
    "    workimg = np.zeros_like(img3,np.uint8)\n",
    "    workimg = cv2.drawContours(workimg, [approx], 0, 255, thickness=-1) \n",
    "    img3 = workimg.copy()\n",
    "    #　再び輪郭を求め直す\n",
    "    # _img,cnt,hierarchy = cv2.findContours(img3, cv2.RETR_EXTERNAL, cv2.CHAIN_APPROX_NONE) #  あらためて輪郭を抽出\n",
    "    \n",
    "    rect1 = cv2.fitEllipse(approx) # 楕円近似する\n",
    "    '''\n",
    "    rect1 = cv2.fitEllipse(cnt[0]) # 楕円近似する\n",
    "\n",
    "    box = np.int0(cv2.boxPoints(rect1))  # (対角点1,幅と高さ,回転角) から４点座標に変換\n",
    "    # 回転角と中心\n",
    "    deg = rect1[2]\n",
    "    while deg > 45:\n",
    "        deg -= 90 \n",
    "    x0,y0 = rect1[0]     \n",
    "    \n",
    "    # 非常に稀であるが、回転すると全体が描画領域外に出ることがあるので作業領域を広く確保\n",
    "    # mat = cv2.getRotationMatrix2D((x0,y0), deg, 1.0) # アフィン変換マトリクス\n",
    "    img4 = makemargin(img3,mr=2) # 作業用のマージンを確保\n",
    "    refimg = makemargin(refimg,mr=2) # 参照画像\n",
    "    h3,w3 = img3.shape[:2]\n",
    "    h4,w4 = img4.shape[:2]\n",
    "    mat = cv2.getRotationMatrix2D((x0+(w4-w3)/2,y0+(h4-h3)/2), deg, 1.0) # アフィン変換マトリクス\n",
    "\n",
    "    # アフィン変換の適用\n",
    "    img4 = cv2.warpAffine(img4, mat, (0,0))\n",
    "    refimg = cv2.warpAffine(refimg, mat, (0,0))\n",
    "\n",
    "    # 再び最小矩形を求めて切り出す。\n",
    "    _nLabels, _labelImages, data, _center = cv2.connectedComponentsWithStats(img4) \n",
    "    img4 = img4[data[1][1]:data[1][1]+data[1][3],data[1][0]:data[1][0]+data[1][2]]\n",
    "    refimg = refimg[data[1][1]:data[1][1]+data[1][3],data[1][0]:data[1][0]+data[1][2]]\n",
    "    \n",
    "    '''\n",
    "    # 長辺が UNIT ピクセルになるよう縮小し、(２xUNIT)x(2xUNIT)の画像の中央に配置する。\n",
    "    h,w = img4.shape[:2]\n",
    "    u_l = w if w > h else h\n",
    "    s_r = UNIT/w if w > h else UNIT/h\n",
    "    \n",
    "    # rsh,rsw = int(s_r*h),int(s_r*w)\n",
    "    # 縦は２倍に引きのばしてみる\n",
    "    rsh,rsw = int(s_r*h),int(s_r*w)\n",
    "    \n",
    "    x0 = int((2*UNIT-rsw)/2)\n",
    "    y0 = int((2*UNIT-rsh)/2)\n",
    "    img5 = np.zeros((2*UNIT,2*UNIT),np.uint8)\n",
    "    img4 = cv2.resize(img4,(rsw,rsh))\n",
    "    img5[y0:y0+rsh,x0:x0+rsw] = img4\n",
    "    \n",
    "    refimg2 = np.zeros((2*UNIT,2*UNIT),np.uint8)\n",
    "    refimg = cv2.resize(refimg,(rsw,rsh))\n",
    "    refimg2[y0:y0+rsh,x0:x0+rsw] = refimg\n",
    "\n",
    "    # 細かい凹凸を無くしたいので少しだけぼかして２値化\n",
    "    blurimg = cv2.GaussianBlur(img5,(ksize,ksize),0) \n",
    "    ret,thimg = cv2.threshold(blurimg,128,1,cv2.THRESH_BINARY) # 白画素は１にする        \n",
    "    #  1ピクセル幅の部分は厄介なので、１回だけ膨張させて幅１の部分は無くす\n",
    "    # dilateimg = cv2.dilate(thimg,(3,3),iterations = 1)\n",
    "    dilateimg = thimg #  \n",
    "    \n",
    "    # 孔が生じる可能性があるので、念のため、最外殻輪郭を取り出し、描きなおすことで孔を無くす\n",
    "    _img,cnt,hierarchy = cv2.findContours(dilateimg, cv2.RETR_EXTERNAL, cv2.CHAIN_APPROX_SIMPLE)\n",
    "    img2 = cv2.drawContours(dilateimg, cnt, 0, 255, thickness=-1)\n",
    "    ret,thimg2 = cv2.threshold(img2,127,1,cv2.THRESH_BINARY)\n",
    "    \n",
    "    # 細線化\n",
    "    skeleton = skeletonize(thimg2)\n",
    "\n",
    "    # マージンを上下左右８ピクセルとる。Y\n",
    "    x0,y0 = int(UNIT/2)-8,int(UNIT/2)-8\n",
    "    x1,y1 = int(UNIT+UNIT/2)+8,int(UNIT+UNIT/2)+8\n",
    "    '''\n",
    "    # 長辺が UNIT ピクセルになるよう縮小し、(２xUNIT)x(３xUNIT)の画像の中央に配置する。\n",
    "    h,w = img4.shape[:2]\n",
    "    u_l = w if w > h else h\n",
    "    s_r = UNIT/w if w > h else UNIT/h\n",
    "    \n",
    "    # rsh,rsw = int(s_r*h),int(s_r*w)\n",
    "    # 縦は２倍に引きのばしてみる\n",
    "    rsh,rsw = int(2*s_r*h),int(s_r*w)\n",
    "    \n",
    "    x0 = int((2*UNIT-rsw)/2)\n",
    "    y0 = int((3*UNIT-rsh)/2)\n",
    "    img5 = np.zeros((3*UNIT,2*UNIT),np.uint8)\n",
    "    img4 = cv2.resize(img4,(rsw,rsh))\n",
    "    img5[y0:y0+rsh,x0:x0+rsw] = img4\n",
    "    \n",
    "    refimg2 = np.zeros((3*UNIT,2*UNIT),np.uint8)\n",
    "    refimg = cv2.resize(refimg,(rsw,rsh))\n",
    "    refimg2[y0:y0+rsh,x0:x0+rsw] = refimg\n",
    "    \n",
    "    # 細かい凹凸を無くしたいので少しだけぼかして２値化\n",
    "    blurimg = cv2.GaussianBlur(img5,(ksize,ksize),0) \n",
    "    ret,thimg = cv2.threshold(blurimg,128,1,cv2.THRESH_BINARY) # 白画素は１にする        \n",
    "    #  1ピクセル幅の部分は厄介なので、１回だけ膨張させて幅１の部分は無くす\n",
    "    # dilateimg = cv2.dilate(thimg,(3,3),iterations = 1)\n",
    "    dilateimg = thimg #  \n",
    "    \n",
    "    # 孔が生じる可能性があるので、念のため、最外殻輪郭を取り出し、描きなおすことで孔を無くす\n",
    "    _img,cnt,hierarchy = cv2.findContours(dilateimg, cv2.RETR_EXTERNAL, cv2.CHAIN_APPROX_SIMPLE)\n",
    "    img2 = cv2.drawContours(dilateimg, cnt, 0, 255, thickness=-1)\n",
    "    ret,thimg2 = cv2.threshold(img2,127,1,cv2.THRESH_BINARY)\n",
    "    \n",
    "    # 細線化\n",
    "    skeleton = skeletonize(thimg2)\n",
    "\n",
    "    # マージンを上下左右８ピクセルとる。Y方向はあとで二分の１に縮小するので、１６ピクセル\n",
    "    x0,y0 = int(UNIT/2)-8,int(UNIT/2)-16\n",
    "    x1,y1 = int(UNIT+UNIT/2)+8,int(2*UNIT+UNIT/2)+16\n",
    "    \n",
    "    skeleton = cv2.resize(np.array(skeleton[y0:y1,x0:x1],np.uint8),(UNIT+16,UNIT+16))\n",
    "    skeleton = skeletonize(skeleton) # リサイズしたので再度処理しなおす\n",
    "    outimg = cv2.resize(thimg2[y0:y1,x0:x1],(UNIT+16,UNIT+16)) \n",
    "    refimg2 = cv2.resize(refimg2[y0:y1,x0:x1],(UNIT+16,UNIT+16))\n",
    "\n",
    "    # 連結数２以外の点の取り出し\n",
    "    skimg = 255*skeleton.astype(np.uint8)\n",
    "    color = cv2.cvtColor(skimg,cv2.COLOR_GRAY2BGR)\n",
    "\n",
    "    for j in range(skeleton.shape[0]-1):\n",
    "        for i in range(skeleton.shape[1]-1):\n",
    "            if skeleton[j][i] :\n",
    "                cn = getCN(skeleton,i,j)\n",
    "                if cn != 2:\n",
    "                    cv2.circle(color,(i,j),5,(255,255,0),-1)\n",
    "                    if cn !=1 : # 端点以外は取り除く\n",
    "                        skeleton[j][i] = False\n",
    "    \n",
    "    #  分岐点を取り除いたのち、最大のセグメントを抜き出す。\n",
    "    skimg = 255*skeleton.astype(np.uint8)\n",
    "    nLabels, labelImages, data, _center = cv2.connectedComponentsWithStats(skimg) \n",
    "    # 面積最大のセグメント番号　→ max_index\n",
    "    max_index = np.argmax(data[1:,4])  # 先頭は背景なので除外して１番以降で面積（４）が最大のインデックス\n",
    "    # その番号のラベルがついている画素かどうかの２次元配列\n",
    "    maxseg = (labelImages == max_index+1) # 上で１番はインデックス０番目なので１加える\n",
    "    # ハフ変換     \n",
    "    rho,theta = getAxis(maxseg)\n",
    "    '''\n",
    "    if rho == 0 and theta == 0:\n",
    "        print(\"ERROR\")\n",
    "    else :\n",
    "        print(\"rho,theta=\",rho,theta)'''\n",
    "    return refimg2,outimg,color,skeleton,rho,theta\n",
    "\n",
    "def getline(rho,theta):\n",
    "        a = np.cos(theta)\n",
    "        b = np.sin(theta)\n",
    "        x0 = a*rho\n",
    "        y0 = b*rho\n",
    "        x1 = int(x0 + 1000*(-b))\n",
    "        y1 = int(y0 + 1000*(a))\n",
    "        x2 = int(x0 - 1000*(-b))\n",
    "        y2 = int(y0 - 1000*(a))\n",
    "        return x1,y1,x2,y2\n",
    "\n",
    "# ハフ変換による直線近似\n",
    "def getAxis(skeleton):\n",
    "    points = 255*skeleton.astype(np.uint8)\n",
    "    color = cv2.cvtColor(points,cv2.COLOR_GRAY2BGR)\n",
    "    # ハフ変換\n",
    "    rho,thea = 0,0\n",
    "    lines = cv2.HoughLines(points,threshold=10,theta=np.pi/180,rho=1,srn=0,stn=0)    \n",
    "    '''for line  in lines[3:5]:\n",
    "        for [rho,theta] in line:\n",
    "            x1,y1,x2,y2 = getline(rho,theta)\n",
    "            cv2.line(color,(x1,y1),(x2,y2),(0,255,0),1)\n",
    "    for line  in lines[0:3]:\n",
    "        for [rho,theta] in line:\n",
    "            x1,y1,x2,y2 = getline(rho,theta)\n",
    "            cv2.line(color,(x1,y1),(x2,y2),(255,255,0),1)\n",
    "    plt.imshow(color)'''\n",
    "    [rho,theta] = lines[0][0] # １番のみ取り出す\n",
    "    return rho,theta"
   ]
  },
  {
   "cell_type": "code",
   "execution_count": 926,
   "metadata": {
    "scrolled": true
   },
   "outputs": [
    {
     "name": "stdout",
     "output_type": "stream",
     "text": [
      "シルエット/17Cylindric/17daruma2o05_l.jpg\n",
      "シルエット/17Cylindric/17daruma3o01_l.jpg\n",
      "シルエット/17Cylindric/17daruma3o02_l.jpg\n",
      "シルエット/17Cylindric/17daruma3o03_l.jpg\n",
      "シルエット/17Cylindric/17daruma3o05_l.jpg\n",
      "シルエット/17Cylindric/17daruma3o09_l.jpg\n",
      "シルエット/17Cylindric/17daruma6o09_l.jpg\n",
      "シルエット/17Cylindric/17kohaku1o02_l.jpg\n",
      "シルエット/17Cylindric/17kohaku1o09_l.jpg\n",
      "シルエット/17Cylindric/17kohaku2o10_l.jpg\n",
      "シルエット/17Cylindric/17makoto1o01_l.jpg\n",
      "シルエット/17Cylindric/17makoto1o05_l.jpg\n",
      "シルエット/17Cylindric/17makoto1o06_l.jpg\n",
      "シルエット/17Cylindric/17makoto1o10_l.jpg\n",
      "シルエット/17Cylindric/17makoto2o03_l.jpg\n",
      "シルエット/17Cylindric/17makoto2o06_l.jpg\n",
      "シルエット/17Cylindric/17santar2o09_l.jpg\n",
      "シルエット/17Cylindric/17santar2o10_l.jpg\n",
      "シルエット/17Cylindric/17sinsyt1o08_l.jpg\n",
      "シルエット/17Cylindric/17tanabe1o01_l.jpg\n",
      "シルエット/17Cylindric/17tanabe1o02_l.jpg\n",
      "シルエット/17Cylindric/17tanabe1o05_l.jpg\n",
      "シルエット/17Cylindric/17tanabe1o06_l.jpg\n",
      "シルエット/17Cylindric/17tanabe1o07_l.jpg\n",
      "シルエット/17Cylindric/17tanabe1o09_l.jpg\n"
     ]
    }
   ],
   "source": [
    "def batch(images, savedir='概形シルエット3',interactive = True):\n",
    "    # savedir 保存先\n",
    "    # interactive 結果を１枚ずつ確認するかどうか\n",
    "    \n",
    "    for path in images:\n",
    "        refimg2,outimg,color, skeleton,rho,theta = getskeleton(path)\n",
    "        \n",
    "        # 回転角と中心\n",
    "        deg = theta\n",
    "        ''' while deg > 45:\n",
    "            deg -= 90 \n",
    "        x0,y0 = 0,0     '''\n",
    "    \n",
    "        # 非常に稀であるが、回転すると全体が描画領域外に出ることがあるので作業領域を広く確保\n",
    "        # mat = cv2.getRotationMatrix2D((x0,y0), deg, 1.0) # アフィン変換マトリクス\n",
    "        img4 = makemargin((255*outimg).astype(np.uint8),mr=2) # 作業用のマージンを確保\n",
    "        h3,w3 = outimg.shape[:2]\n",
    "        h4,w4 = img4.shape[:2]\n",
    "        mat = cv2.getRotationMatrix2D(((w4-w3)/2,(h4-h3)/2), -deg, 1.0) # アフィン変換マトリクス\n",
    "\n",
    "        # アフィン変換の適用\n",
    "        img4 = cv2.warpAffine(img4, mat, (0,0))    \n",
    "    \n",
    "        if interactive:\n",
    "            x1,y1,x2,y2 = getline(rho,theta)\n",
    "            \n",
    "            cv2.imshow(path,img4)\n",
    "            # cv2.imshow(\"New\",color)\n",
    "            key = cv2.waitKey(0)\n",
    "            cv2.destroyAllWindows()\n",
    "            cv2.waitKey(1) \n",
    "            if key == 113: #  \"Q\" で終了する\n",
    "                break\n",
    "\n",
    "_dir,ffiles = listimage(path='シルエット', needThum=False) \n",
    "batch(sum(ffiles,[]), savedir='概形シルエット3',interactive = True)\n",
    "\n",
    "\n",
    "# src, outimg, color, skeleton = go('シルエット/17Tran_ellip/17heians1o07_l.jpg')"
   ]
  },
  {
   "cell_type": "code",
   "execution_count": 911,
   "metadata": {},
   "outputs": [
    {
     "data": {
      "text/plain": [
       "1"
      ]
     },
     "execution_count": 911,
     "metadata": {},
     "output_type": "execute_result"
    }
   ],
   "source": [
    "np.max(outimg)"
   ]
  },
  {
   "cell_type": "code",
   "execution_count": 530,
   "metadata": {},
   "outputs": [
    {
     "data": {
      "text/plain": [
       "<matplotlib.image.AxesImage at 0x1c56b39320>"
      ]
     },
     "execution_count": 530,
     "metadata": {},
     "output_type": "execute_result"
    },
    {
     "data": {
      "image/png": "[encoded data removed]",
      "text/plain": [
       "<Figure size 576x432 with 1 Axes>"
      ]
     },
     "metadata": {
      "needs_background": "light"
     },
     "output_type": "display_data"
    }
   ],
   "source": [
    "# 近傍画素の取り出し\n",
    "def get8n(img,x,y):\n",
    "    ret =  [img[y][x+1],img[y-1][x+1],img[y-1][x],img[y-1][x-1], \\\n",
    "            img[y][x-1],img[y+1][x-1],img[y+1][x],img[y+1][x+1], \\\n",
    "            img[y][x+1],img[y-1][x+1],img[y][x]]\n",
    "    return ret\n",
    "\n",
    "# 連結数の計算（８連結）\n",
    "def getCN(img,x,y):\n",
    "    nb = get8n(img,x,y)\n",
    "    ret = 0\n",
    "    for i in range(0,8,2):\n",
    "        ret += (1-nb[i]) - (1-nb[i])*(1-nb[i+1])*(1-nb[i+2])\n",
    "    return ret\n",
    "\n",
    "# 連結数２以外の点の取り出し\n",
    "testskel = 1*np.array(skeleton,np.uint8)\n",
    "color = cv2.cvtColor(testskel,cv2.COLOR_GRAY2BGR)\n",
    "for j in range(testskel.shape[0]):\n",
    "    for i in range(testskel.shape[1]):\n",
    "        if testskel[j][i] == 1 and getCN(testskel,i,j) != 2:\n",
    "            print(\"found\",i,j,getCN(testskel,i,j),get8n(testskel,i,j))\n",
    "            cv2.circle(color,(i,j),10,(255,255,0),-1)\n",
    "# plt.imshow(testskel)\n",
    "plt.imshow(color)"
   ]
  },
  {
   "cell_type": "code",
   "execution_count": 531,
   "metadata": {},
   "outputs": [
    {
     "name": "stdout",
     "output_type": "stream",
     "text": [
      "シルエット/17Apically/17daruma6o06_l.jpg\n",
      "(256, 256) (256, 256)\n"
     ]
    },
    {
     "data": {
      "image/png": "[encoded data removed]",
      "text/plain": [
       "<Figure size 576x432 with 1 Axes>"
      ]
     },
     "metadata": {
      "needs_background": "light"
     },
     "output_type": "display_data"
    }
   ],
   "source": [
    "src, thimg2, skeleton = go('シルエット/17Apically/17daruma6o06_l.jpg')"
   ]
  },
  {
   "cell_type": "code",
   "execution_count": 475,
   "metadata": {},
   "outputs": [
    {
     "data": {
      "image/png": "[encoded data removed]",
      "text/plain": [
       "<Figure size 576x432 with 1 Axes>"
      ]
     },
     "metadata": {
      "needs_background": "light"
     },
     "output_type": "display_data"
    }
   ],
   "source": [
    "from PIL import ImageDraw,Image\n",
    "from pylab import rcParams\n",
    "rcParams['figure.figsize'] = 8,6\n",
    "\n",
    "# 処理結果画像（fimg)に処理前画像（bimg)の輪郭を描く\n",
    "def draw2(bimg,fimg):\n",
    "    if len(bimg.shape)==3:\n",
    "        bimg2 = cv2.cvtColor(bimg,cv2.COLOR_BGR2GRAY)\n",
    "    else:\n",
    "        bimg2 = bimg.copy()\n",
    "    if len(fimg.shape)==3:\n",
    "        fimg2 = fimg.copy()\n",
    "    else:\n",
    "        fimg2 = cv2.cvtColor(fimg,cv2.COLOR_GRAY2BGR)\n",
    "    # 処理前画像の輪郭\n",
    "    _ret,bwimg = cv2.threshold(bimg2,128,255,cv2.THRESH_BINARY) # 白画素は255にする\n",
    "    _img,cnt,hierarchy = cv2.findContours(bwimg, cv2.RETR_EXTERNAL, cv2.CHAIN_APPROX_SIMPLE)\n",
    "    retimg = cv2.drawContours(fimg2, cnt, 0, (0,0,255), thickness=1)\n",
    "    return retimg[:,:,::-1] # opencv -> PIL\n",
    "\n",
    "dst = cv2.distanceTransform(thimg2,cv2.DIST_L2,5)\n",
    "dstmax = np.max(dst)\n",
    "dst = (255*dst/dstmax).astype(np.uint8)\n",
    "img = draw2(src,dst)\n",
    "\n",
    "'''\n",
    "cv2.imshow(\"S\",img)\n",
    "cv2.waitKey(0)\n",
    "cv2.destroyAllWindows()\n",
    "cv2.waitKey(1) '''\n",
    "\n",
    "plt.imshow(img)\n",
    "plt.show()"
   ]
  },
  {
   "cell_type": "code",
   "execution_count": 479,
   "metadata": {},
   "outputs": [
    {
     "data": {
      "text/plain": [
       "<matplotlib.image.AxesImage at 0x1c5711ec50>"
      ]
     },
     "execution_count": 479,
     "metadata": {},
     "output_type": "execute_result"
    },
    {
     "data": {
      "image/png": "[encoded data removed]",
      "text/plain": [
       "<Figure size 576x432 with 1 Axes>"
      ]
     },
     "metadata": {
      "needs_background": "light"
     },
     "output_type": "display_data"
    }
   ],
   "source": [
    "th = 1*np.max(dst)/10 # 最大距離の1/10を閾値に設定してみる\n",
    "_ret,dstth = cv2.threshold(dst,th,255,cv2.THRESH_BINARY)\n",
    "img = draw2(src,dstth)\n",
    "plt.imshow(img)"
   ]
  },
  {
   "cell_type": "code",
   "execution_count": 480,
   "metadata": {},
   "outputs": [
    {
     "data": {
      "text/plain": [
       "<matplotlib.image.AxesImage at 0x1c55fde048>"
      ]
     },
     "execution_count": 480,
     "metadata": {},
     "output_type": "execute_result"
    },
    {
     "data": {
      "image/png": "[encoded data removed]",
      "text/plain": [
       "<Figure size 576x432 with 1 Axes>"
      ]
     },
     "metadata": {
      "needs_background": "light"
     },
     "output_type": "display_data"
    }
   ],
   "source": [
    "# 細線化してみる\n",
    "ret,dstth2 = cv2.threshold(dstth,128,1,cv2.THRESH_BINARY)\n",
    "skeleton = (255*skeletonize(dstth2)).astype(np.uint8)\n",
    "img = draw2(src,skeleton)\n",
    "plt.imshow(img)"
   ]
  },
  {
   "cell_type": "code",
   "execution_count": 484,
   "metadata": {},
   "outputs": [
    {
     "data": {
      "text/plain": [
       "<matplotlib.image.AxesImage at 0x1c571199e8>"
      ]
     },
     "execution_count": 484,
     "metadata": {},
     "output_type": "execute_result"
    },
    {
     "data": {
      "image/png": "[encoded data removed]",
      "text/plain": [
       "<Figure size 576x432 with 1 Axes>"
      ]
     },
     "metadata": {
      "needs_background": "light"
     },
     "output_type": "display_data"
    }
   ],
   "source": [
    "gray = skeleton.copy()\n",
    "color = cv2.cvtColor(gray,cv2.COLOR_GRAY2BGR)\n",
    "\n",
    "# edges = cv2.Canny(rsskel2,50,150,apertureSize = 3)\n",
    "# ハフ変換\n",
    "lines = cv2.HoughLines(gray,threshold=10,theta=np.pi/180,rho=1,srn=0,stn=0)\n",
    "\n",
    "for line  in lines[3:5]:\n",
    "    for [rho,theta] in line:\n",
    "        x1,y1,x2,y2 = getline(rho,theta)\n",
    "        cv2.line(color,(x1,y1),(x2,y2),(0,255,0),1)\n",
    "for line  in lines[1:3]:\n",
    "    for [rho,theta] in line:\n",
    "        x1,y1,x2,y2 = getline(rho,theta)\n",
    "        cv2.line(color,(x1,y1),(x2,y2),(255,255,0),1)\n",
    "[rho,theta] = line[0]\n",
    "x1,y1,x2,y2 = getline(rho,theta)\n",
    "cv2.line(color,(x1,y1),(x2,y2),(255,255,255),2)\n",
    "'''        \n",
    "for [rho,theta] in lines[0]:\n",
    "        a = np.cos(theta)\n",
    "        b = np.sin(theta)\n",
    "        x0 = a*rho\n",
    "        y0 = b*rho\n",
    "        x1 = int(x0 + 1000*(-b))\n",
    "        y1 = int(y0 + 1000*(a))\n",
    "        x2 = int(x0 - 1000*(-b))\n",
    "        y2 = int(y0 - 1000*(a))\n",
    "\n",
    "        cv2.line(color,(x1,y1),(x2,y2),(0,255,0),1)\n",
    "'''\n",
    "img = draw2(src,color)\n",
    "plt.imshow(img)"
   ]
  },
  {
   "cell_type": "code",
   "execution_count": 485,
   "metadata": {},
   "outputs": [
    {
     "data": {
      "text/plain": [
       "<matplotlib.image.AxesImage at 0x1c58dceef0>"
      ]
     },
     "execution_count": 485,
     "metadata": {},
     "output_type": "execute_result"
    },
    {
     "data": {
      "image/png": "[encoded data removed]",
      "text/plain": [
       "<Figure size 576x432 with 1 Axes>"
      ]
     },
     "metadata": {
      "needs_background": "light"
     },
     "output_type": "display_data"
    }
   ],
   "source": [
    "th = 8*np.max(dst)/10 # 最大距離の半分を閾値に設定してみる\n",
    "_ret,dstth = cv2.threshold(dst,th,255,cv2.THRESH_BINARY)\n",
    "img = draw2(src,dstth)\n",
    "plt.imshow(img)"
   ]
  },
  {
   "cell_type": "code",
   "execution_count": 487,
   "metadata": {},
   "outputs": [
    {
     "data": {
      "text/plain": [
       "<matplotlib.image.AxesImage at 0x1c52e5af98>"
      ]
     },
     "execution_count": 487,
     "metadata": {},
     "output_type": "execute_result"
    },
    {
     "data": {
      "image/png": "[encoded data removed]",
      "text/plain": [
       "<Figure size 576x432 with 1 Axes>"
      ]
     },
     "metadata": {
      "needs_background": "light"
     },
     "output_type": "display_data"
    }
   ],
   "source": [
    "# 細線化してみる\n",
    "ret,dstth2 = cv2.threshold(dstth,128,1,cv2.THRESH_BINARY)\n",
    "skeleton = (255*skeletonize(dstth2)).astype(np.uint8)\n",
    "img = draw2(src,skeleton)\n",
    "plt.imshow(img)"
   ]
  },
  {
   "cell_type": "code",
   "execution_count": 488,
   "metadata": {},
   "outputs": [
    {
     "data": {
      "text/plain": [
       "<matplotlib.image.AxesImage at 0x1c58c0eac8>"
      ]
     },
     "execution_count": 488,
     "metadata": {},
     "output_type": "execute_result"
    },
    {
     "data": {
      "image/png": "[encoded data removed]",
      "text/plain": [
       "<Figure size 576x432 with 1 Axes>"
      ]
     },
     "metadata": {
      "needs_background": "light"
     },
     "output_type": "display_data"
    }
   ],
   "source": [
    "gray = skeleton.copy()\n",
    "color = cv2.cvtColor(gray,cv2.COLOR_GRAY2BGR)\n",
    "\n",
    "# edges = cv2.Canny(rsskel2,50,150,apertureSize = 3)\n",
    "# ハフ変換\n",
    "lines = cv2.HoughLines(gray,threshold=12,theta=np.pi/180,rho=1,srn=0,stn=0)\n",
    "\n",
    "def getline(rho,theta):\n",
    "        a = np.cos(theta)\n",
    "        b = np.sin(theta)\n",
    "        x0 = a*rho\n",
    "        y0 = b*rho\n",
    "        x1 = int(x0 + 1000*(-b))\n",
    "        y1 = int(y0 + 1000*(a))\n",
    "        x2 = int(x0 - 1000*(-b))\n",
    "        y2 = int(y0 - 1000*(a))\n",
    "        return x1,y1,x2,y2\n",
    "\n",
    "for line  in lines[3:5]:\n",
    "    for [rho,theta] in line:\n",
    "        x1,y1,x2,y2 = getline(rho,theta)\n",
    "        cv2.line(color,(x1,y1),(x2,y2),(0,255,0),1)\n",
    "for line  in lines[1:3]:\n",
    "    for [rho,theta] in line:\n",
    "        x1,y1,x2,y2 = getline(rho,theta)\n",
    "        cv2.line(color,(x1,y1),(x2,y2),(255,255,0),1)\n",
    "[rho,theta] = line[0]\n",
    "x1,y1,x2,y2 = getline(rho,theta)\n",
    "cv2.line(color,(x1,y1),(x2,y2),(255,255,255),1)\n",
    "\n",
    "'''        \n",
    "for [rho,theta] in lines[0]:\n",
    "        a = np.cos(theta)\n",
    "        b = np.sin(theta)\n",
    "        x0 = a*rho\n",
    "        y0 = b*rho\n",
    "        x1 = int(x0 + 1000*(-b))\n",
    "        y1 = int(y0 + 1000*(a))\n",
    "        x2 = int(x0 - 1000*(-b))\n",
    "        y2 = int(y0 - 1000*(a))\n",
    "\n",
    "        cv2.line(color,(x1,y1),(x2,y2),(0,255,0),1)\n",
    "'''\n",
    "img = draw2(src,color)\n",
    "plt.imshow(img)"
   ]
  },
  {
   "cell_type": "code",
   "execution_count": 490,
   "metadata": {},
   "outputs": [
    {
     "name": "stdout",
     "output_type": "stream",
     "text": [
      "シルエット/17Tran_ellip/17heians1o07_l.jpg\n",
      "(223, 133)\n"
     ]
    },
    {
     "data": {
      "image/png": "[encoded data removed]",
      "text/plain": [
       "<Figure size 576x432 with 1 Axes>"
      ]
     },
     "metadata": {
      "needs_background": "light"
     },
     "output_type": "display_data"
    }
   ],
   "source": [
    "# もし縦に２倍に引き伸ばしてやるとどうなるか\n",
    "\n",
    "UNIT = 256\n",
    "# https://www.piskelapp.com/p/agxzfnBpc2tlbC1hcHByEwsSBlBpc2tlbBiAgKDQzJChCQw/edit\n",
    "\n",
    "# 形の整形ステップ１\n",
    "def go(imgfilename):\n",
    "    print(imgfilename)\n",
    "    src = cv2.imread(imgfilename,0)\n",
    "    # 長辺が 2UNIT ピクセル、短編はUNITピクセルになるよう縮小し、(2xUNIT)x(2xUNIT)の画像の中央に配置する。\n",
    "    print(src.shape)\n",
    "    h,w = src.shape[:2]\n",
    "    u_l = w if w > h else h\n",
    "    s_r = UNIT/w if w > h else UNIT/h\n",
    "    rsh,rsw = int(2*s_r*h),int(s_r*w)\n",
    "    x0 = int((2*UNIT-rsw)/2)\n",
    "    y0 = int((2*UNIT-rsh)/2)\n",
    "    img = np.zeros((2*UNIT,2*UNIT),np.uint8)\n",
    "    img[y0:y0+rsh,x0:x0+rsw] = cv2.resize(src,(rsw,rsh))\n",
    "\n",
    "    # 細かい凹凸を無くしたいので少しだけぼかして２値化\n",
    "    blurimg = cv2.GaussianBlur(img,(15,15),0) \n",
    "    ret,thimg = cv2.threshold(blurimg,128,1,cv2.THRESH_BINARY) # 白画素は１にする        \n",
    "    #  1ピクセル幅の部分は厄介なので、１回だけ膨張させて幅１の部分は無くす\n",
    "    # dilateimg = cv2.dilate(thimg,(3,3),iterations = 1)\n",
    "    dilateimg = thimg #  \n",
    "    # 孔が生じる可能性があるので、念のため、最外殻輪郭を取り出し、描きなおすことで孔を無くす\n",
    "    _img,cnt,hierarchy = cv2.findContours(dilateimg, cv2.RETR_EXTERNAL, cv2.CHAIN_APPROX_SIMPLE)\n",
    "    img2 = cv2.drawContours(dilateimg, cnt, 0, 255, thickness=-1)\n",
    "    ret,thimg2 = cv2.threshold(img2,127,1,cv2.THRESH_BINARY)\n",
    "    skeleton = skeletonize(thimg2)\n",
    "    # 結果を出力します\n",
    "    # x0,y0 = int(UNIT/2),int(UNIT/2)\n",
    "    # x1,y1 = int(2*UNIT-UNIT/2),int(2*UNIT-UNIT/2)\n",
    "    x0,y0 = int(UNIT/2),0\n",
    "    x1,y1 = int(2*UNIT-UNIT/2),int(2*UNIT)\n",
    "    plt.imshow(skeleton[y0:y1,x0:x1], cmap='gray')\n",
    "    plt.show()\n",
    "\n",
    "    return img[y0:y1,x0:x1],thimg2[y0:y1,x0:x1],skeleton[y0:y1,x0:x1]\n",
    "\n",
    "src, thimg2, skeleton = go('シルエット/17Tran_ellip/17heians1o07_l.jpg')"
   ]
  },
  {
   "cell_type": "code",
   "execution_count": 491,
   "metadata": {
    "scrolled": false
   },
   "outputs": [
    {
     "name": "stdout",
     "output_type": "stream",
     "text": [
      "シルエット/17Tran_ellip/17heians1o07_l.jpg\n",
      "(223, 133)\n"
     ]
    },
    {
     "data": {
      "image/png": "[encoded data removed]",
      "text/plain": [
       "<Figure size 576x432 with 1 Axes>"
      ]
     },
     "metadata": {
      "needs_background": "light"
     },
     "output_type": "display_data"
    }
   ],
   "source": [
    "UNIT = 256\n",
    "\n",
    "# 形の整形ステップ１\n",
    "def go(imgfilename):\n",
    "    print(imgfilename)\n",
    "    src = cv2.imread(imgfilename,0)\n",
    "    # 長辺が UNIT ピクセルになるよう縮小し、(2xUNIT)x(2xUNIT)の画像の中央に配置する。\n",
    "    print(src.shape)\n",
    "    h,w = src.shape[:2]\n",
    "    u_l = w if w > h else h\n",
    "    s_r = UNIT/w if w > h else UNIT/h\n",
    "    rsh,rsw = int(s_r*h),int(s_r*w)\n",
    "    x0 = int((2*UNIT-rsw)/2)\n",
    "    y0 = int((2*UNIT-rsh)/2)\n",
    "    img = np.zeros((2*UNIT,2*UNIT),np.uint8)\n",
    "    img[y0:y0+rsh,x0:x0+rsw] = cv2.resize(src,(rsw,rsh))\n",
    "\n",
    "    # 細かい凹凸を無くしたいので少しだけぼかして２値化\n",
    "    blurimg = cv2.GaussianBlur(img,(15,15),0) \n",
    "    ret,thimg = cv2.threshold(blurimg,128,1,cv2.THRESH_BINARY) # 白画素は１にする        \n",
    "    #  1ピクセル幅の部分は厄介なので、１回だけ膨張させて幅１の部分は無くす\n",
    "    # dilateimg = cv2.dilate(thimg,(3,3),iterations = 1)\n",
    "    dilateimg = thimg #  \n",
    "    # 孔が生じる可能性があるので、念のため、最外殻輪郭を取り出し、描きなおすことで孔を無くす\n",
    "    _img,cnt,hierarchy = cv2.findContours(dilateimg, cv2.RETR_EXTERNAL, cv2.CHAIN_APPROX_SIMPLE)\n",
    "    img2 = cv2.drawContours(dilateimg, cnt, 0, 255, thickness=-1)\n",
    "    ret,thimg2 = cv2.threshold(img2,127,1,cv2.THRESH_BINARY)\n",
    "    skeleton = skeletonize(thimg2)\n",
    "    # 結果を出力します\n",
    "    x0,y0 = int(UNIT/2),int(UNIT/2)\n",
    "    x1,y1 = int(2*UNIT-UNIT/2),int(2*UNIT-UNIT/2)\n",
    "    plt.imshow(skeleton[y0:y1,x0:x1], cmap='gray')\n",
    "    plt.show()\n",
    "\n",
    "    return thimg2,skeleton\n",
    "\n",
    "thimg2, skeleton = go('シルエット/17Tran_ellip/17heians1o07_l.jpg')"
   ]
  },
  {
   "cell_type": "markdown",
   "metadata": {},
   "source": [
    "# 二次ベジエ曲線によるスケルトン近似\n"
   ]
  },
  {
   "cell_type": "code",
   "execution_count": 492,
   "metadata": {},
   "outputs": [
    {
     "data": {
      "text/plain": [
       "<matplotlib.image.AxesImage at 0x1c4b1692b0>"
      ]
     },
     "execution_count": 492,
     "metadata": {},
     "output_type": "execute_result"
    },
    {
     "data": {
      "image/png": "[encoded data removed]",
      "text/plain": [
       "<Figure size 576x432 with 1 Axes>"
      ]
     },
     "metadata": {
      "needs_background": "light"
     },
     "output_type": "display_data"
    }
   ],
   "source": [
    "plt.imshow(thimg2)"
   ]
  },
  {
   "cell_type": "code",
   "execution_count": 493,
   "metadata": {},
   "outputs": [],
   "source": [
    "# \n",
    "def get8n(img,x,y):\n",
    "    ret =  [img[y][x+1],img[y-1][x+1],img[y-1][x],img[y-1][x-1], \\\n",
    "            img[y][x-1],img[y+1][x-1],img[y+1][x],img[y+1][x+1], \\\n",
    "            img[y][x+1],img[y-1][x+1],img[y][x]]\n",
    "    return ret\n",
    "\n",
    "def getCN(img,x,y):\n",
    "    nb = get8n(img,x,y)\n",
    "    ret = 0\n",
    "    for i in range(0,8,2):\n",
    "        ret += (1-nb[i]) - (1-nb[i])*(1-nb[i+1])*(1-nb[i+2])\n",
    "    return ret"
   ]
  },
  {
   "cell_type": "code",
   "execution_count": 494,
   "metadata": {},
   "outputs": [
    {
     "name": "stdout",
     "output_type": "stream",
     "text": [
      "1\n"
     ]
    }
   ],
   "source": [
    "# testskel = 1*np.array(skeleton,np.uint8)\n",
    "print(np.max(testskel))"
   ]
  },
  {
   "cell_type": "code",
   "execution_count": 495,
   "metadata": {},
   "outputs": [
    {
     "name": "stdout",
     "output_type": "stream",
     "text": [
      "found 258 168 1 [0, 0, 0, 0, 0, 0, 1, 0, 0, 0, 1]\n",
      "found 237 184 1 [0, 0, 0, 0, 0, 0, 0, 1, 0, 0, 1]\n",
      "found 280 187 1 [0, 0, 0, 0, 1, 0, 0, 0, 0, 0, 1]\n",
      "found 263 376 1 [0, 0, 1, 0, 0, 0, 0, 0, 0, 0, 1]\n"
     ]
    },
    {
     "data": {
      "text/plain": [
       "<matplotlib.image.AxesImage at 0x1c54a816d8>"
      ]
     },
     "execution_count": 495,
     "metadata": {},
     "output_type": "execute_result"
    },
    {
     "data": {
      "image/png": "[encoded data removed]",
      "text/plain": [
       "<Figure size 576x432 with 1 Axes>"
      ]
     },
     "metadata": {
      "needs_background": "light"
     },
     "output_type": "display_data"
    }
   ],
   "source": [
    "testskel = 1*np.array(skeleton,np.uint8)\n",
    "color = cv2.cvtColor(testskel,cv2.COLOR_GRAY2BGR)\n",
    "for j in range(testskel.shape[0]):\n",
    "    for i in range(testskel.shape[1]):\n",
    "        if testskel[j][i] == 1 and getCN(testskel,i,j) != 2:\n",
    "            print(\"found\",i,j,getCN(testskel,i,j),get8n(testskel,i,j))\n",
    "            cv2.circle(color,(i,j),10,(255,255,0),-1)\n",
    "# plt.imshow(testskel)\n",
    "plt.imshow(color)"
   ]
  },
  {
   "cell_type": "markdown",
   "metadata": {},
   "source": [
    "# 分岐がある場合、もっとも長いセグメントのみを対象とする\n"
   ]
  },
  {
   "cell_type": "code",
   "execution_count": 430,
   "metadata": {},
   "outputs": [],
   "source": [
    "import numpy as np\n",
    "import matplotlib.pyplot as plt\n",
    "import cv2\n",
    "from PIL import Image\n",
    "import math\n",
    "import pandas as pd\n",
    "import os\n",
    "\n",
    "# この関数は画像の入った複数のフォルダが１つのフォルダに入っていることを前提としている。\n",
    "#  指定フォルダ直下の画像ファイルは無視する。直下のフォルダの中しか見ず、さらにサブフォルダがあっても再帰的に探すようなことはしない。\n",
    "\n",
    "def listimage(path='シルエット', needThum=False):\n",
    "\n",
    "    directory = os.listdir(path)\n",
    "    \n",
    "    # まずフォルダを全部リストアップ　→ folders\n",
    "    folders = []\n",
    "    for x in os.listdir(path):  \n",
    "        if os.path.isdir(path + '/'+x) and x[0] != '.' and x[0] !='_':  #パスに取り出したオブジェクトを足してフルパスに\n",
    "            folders.append(path + '/'+x)\n",
    "    # print(folders)\n",
    "\n",
    "    # folders の各フォルダの中にある jpg ファイルをリストアップ → ffiles\n",
    "    # ffiles はフォルダごとのリストのリスト\n",
    "    ffiles = []\n",
    "    for x in folders:\n",
    "        files = []\n",
    "        for f in os.listdir(x):\n",
    "            entry = x + '/'+f\n",
    "            if os.path.isfile(entry) and f[-4:]=='.jpg' and f[0] != '.':\n",
    "                files.append(entry)\n",
    "        ffiles.append(files)\n",
    "    \n",
    "    if needThum: # サムネイルの作成\n",
    "        i = 0\n",
    "        for cat in ffiles:\n",
    "            # print(folders[i])\n",
    "            sam = Image.new('RGB', (800,600),(0,0,0))\n",
    "            row = col = 0\n",
    "            for rad in cat:\n",
    "                img = Image.open(rad, 'r')\n",
    "                thumbnail_size = (100, 100)\n",
    "                img.thumbnail(thumbnail_size)\n",
    "                sam.paste(img,(col,row))\n",
    "                col += 100\n",
    "                if col == 800:\n",
    "                    col = 0\n",
    "                    row += 100\n",
    "                # plt.imshow(sam)\n",
    "            sam.save('{}THUM.png'.format(folders[i]), 'PNG')\n",
    "            print(\"saved {}\".format(folders[i]))\n",
    "            i +=1\n",
    "\n",
    "    return folders,ffiles\n",
    "\n",
    "# マージンをつける\n",
    "def makemargin(img,mr=2):\n",
    "    h,w = img.shape[:2]\n",
    "    w2 = mr*w\n",
    "    h2 = mr*h\n",
    "    x1 = int((w2-w)/2)\n",
    "    y1 = int((h2-h)/2)\n",
    "    img2 = np.zeros((h2,w2),np.uint8)\n",
    "    img2[y1:y1+h,x1:x1+w] = img\n",
    "    return img2\n",
    "\n",
    "# ２枚の画像をサイズを並べた画像を作成する\n",
    "def mkparaimage(img1,img2):\n",
    "    h1,w1 = img1.shape[:2]\n",
    "    h2,w2 = img2.shape[:2]\n",
    "    if img1.ndim == 2:\n",
    "        img11 = np.zeros((h1,w1,3))\n",
    "        img11[:,:,0]=img11[:,:,1]=img11[:,:,2]=img1\n",
    "    else:\n",
    "        img11=img1\n",
    "    if img2.ndim == 2:\n",
    "        img22 = np.zeros((h2,w2,3))\n",
    "        img22[:,:,0]=img22[:,:,1]=img22[:,:,2]=img2\n",
    "    else:\n",
    "        img22=img2\n",
    "    paraimg = 255*np.ones((max(h1,h2),w1+w2+10,3),dtype=np.uint8)\n",
    "    \n",
    "    paraimg[0:h1,0:w1,:] = img11\n",
    "    paraimg[0:h2,w1+10:,:]=img22\n",
    "    \n",
    "    return paraimg\n",
    "\n",
    "# mkparaimage で２枚並べた画像を表示\n",
    "def imshowpara(img1,img2):\n",
    "    plotimg(mkparaimage(img1,img2))"
   ]
  },
  {
   "cell_type": "code",
   "execution_count": null,
   "metadata": {},
   "outputs": [],
   "source": []
  },
  {
   "cell_type": "code",
   "execution_count": null,
   "metadata": {},
   "outputs": [],
   "source": []
  },
  {
   "cell_type": "code",
   "execution_count": null,
   "metadata": {},
   "outputs": [],
   "source": []
  },
  {
   "cell_type": "code",
   "execution_count": 221,
   "metadata": {},
   "outputs": [
    {
     "data": {
      "image/png": "[encoded data removed]",
      "text/plain": [
       "<Figure size 576x432 with 1 Axes>"
      ]
     },
     "metadata": {
      "needs_background": "light"
     },
     "output_type": "display_data"
    },
    {
     "data": {
      "text/plain": [
       "-1"
      ]
     },
     "execution_count": 221,
     "metadata": {},
     "output_type": "execute_result"
    }
   ],
   "source": [
    "# マージンをつける\n",
    "def makemargin(img,mr=2):\n",
    "    h,w = img.shape[:2]\n",
    "    w2 = mr*w\n",
    "    h2 = mr*h\n",
    "    x1 = int((w2-w)/2)\n",
    "    y1 = int((h2-h)/2)\n",
    "    img2 = np.zeros((h2,w2),np.uint8)\n",
    "    img2[y1:y1+h,x1:x1+w] = img\n",
    "    return img2\n",
    "\n",
    "img = 255*np.array(skeleton,np.uint8) # スケルトンデータを画像化\n",
    "\n",
    "# skgray = cv2.resize(skgray,(64,64))　\n",
    "color = cv2.cvtColor(img,cv2.COLOR_GRAY2BGR)\n",
    "\n",
    "ret,rsskel2 = cv2.threshold(img,1,255,cv2.THRESH_BINARY)\n",
    "# edges = cv2.Canny(rsskel2,50,150,apertureSize = 3)\n",
    "\n",
    "lines = cv2.HoughLines(rsskel2,10,np.pi/180,1)\n",
    "\n",
    "for [rho,theta] in lines[0]:\n",
    "    a = np.cos(theta)\n",
    "    b = np.sin(theta)\n",
    "    x0 = a*rho\n",
    "    y0 = b*rho\n",
    "    x1 = int(x0 + 1000*(-b))\n",
    "    y1 = int(y0 + 1000*(a))\n",
    "    x2 = int(x0 - 1000*(-b))\n",
    "    y2 = int(y0 - 1000*(a))\n",
    "\n",
    "    dimg = cv2.cvtColor(255*thimg2,cv2.COLOR_GRAY2BGR)\n",
    "    cv2.line(dimg,(x1,y1),(x2,y2),(0,255,0),1)\n",
    "\n",
    "img4 = makemargin(thimg2,mr=2) # 作業用のマージンを確保\n",
    "h3,w3 = thimg2.shape[:2]\n",
    "h4,w4 = img4.shape[:2]\n",
    "mat = cv2.getRotationMatrix2D((0,0), -theta, 1.0) # アフィン変換マトリクス\n",
    "\n",
    "# アフィン変換の適用\n",
    "outimg = cv2.warpAffine(img4, mat, (0,0))\n",
    "\n",
    "#plt.imshow(outimg,cmap='cool')\n",
    "# 結果を出力します\n",
    "\n",
    "x0,y0 = int(UNIT/2),int(UNIT/2)\n",
    "x1,y1 = int(2*UNIT-UNIT/2),int(2*UNIT-UNIT/2)\n",
    "plt.imshow(dimg[y0:y1,x0:x1], cmap='gray')\n",
    "plt.show()\n",
    "\n",
    "cv2.imshow(\"ABC\",color)\n",
    "cv2.waitKey(0)\n",
    "cv2.destroyAllWindows()\n",
    "cv2.waitKey(1)"
   ]
  },
  {
   "cell_type": "code",
   "execution_count": 75,
   "metadata": {},
   "outputs": [
    {
     "data": {
      "text/plain": [
       "<matplotlib.image.AxesImage at 0x1c32969588>"
      ]
     },
     "execution_count": 75,
     "metadata": {},
     "output_type": "execute_result"
    },
    {
     "data": {
      "image/png": "[encoded data removed]",
      "text/plain": [
       "<Figure size 576x432 with 1 Axes>"
      ]
     },
     "metadata": {
      "needs_background": "light"
     },
     "output_type": "display_data"
    }
   ],
   "source": [
    "plt.imshow(dimg)"
   ]
  },
  {
   "cell_type": "code",
   "execution_count": null,
   "metadata": {},
   "outputs": [],
   "source": []
  },
  {
   "cell_type": "code",
   "execution_count": 76,
   "metadata": {},
   "outputs": [
    {
     "ename": "NameError",
     "evalue": "name 'step1' is not defined",
     "output_type": "error",
     "traceback": [
      "\u001b[0;31m---------------------------------------------------------------------------\u001b[0m",
      "\u001b[0;31mNameError\u001b[0m                                 Traceback (most recent call last)",
      "\u001b[0;32m<ipython-input-76-ab9ff8f45744>\u001b[0m in \u001b[0;36m<module>\u001b[0;34m()\u001b[0m\n\u001b[0;32m----> 1\u001b[0;31m \u001b[0mskel\u001b[0m\u001b[0;34m,\u001b[0m\u001b[0mimg\u001b[0m \u001b[0;34m=\u001b[0m \u001b[0mstep1\u001b[0m\u001b[0;34m(\u001b[0m\u001b[0;34m'概形シルエット2/17Apically/17daruma6o06_l.jpg'\u001b[0m\u001b[0;34m)\u001b[0m\u001b[0;34m\u001b[0m\u001b[0m\n\u001b[0m",
      "\u001b[0;31mNameError\u001b[0m: name 'step1' is not defined"
     ]
    }
   ],
   "source": [
    "skel,img = step1('概形シルエット2/17Apically/17daruma6o06_l.jpg')"
   ]
  },
  {
   "cell_type": "code",
   "execution_count": 77,
   "metadata": {},
   "outputs": [
    {
     "ename": "NameError",
     "evalue": "name 'step1' is not defined",
     "output_type": "error",
     "traceback": [
      "\u001b[0;31m---------------------------------------------------------------------------\u001b[0m",
      "\u001b[0;31mNameError\u001b[0m                                 Traceback (most recent call last)",
      "\u001b[0;32m<ipython-input-77-28f69a476eb9>\u001b[0m in \u001b[0;36m<module>\u001b[0;34m()\u001b[0m\n\u001b[0;32m----> 1\u001b[0;31m \u001b[0mimg\u001b[0m \u001b[0;34m=\u001b[0m \u001b[0mstep1\u001b[0m\u001b[0;34m(\u001b[0m\u001b[0;34m'概形シルエット2/17Horn/17aomida2o02_l.jpg'\u001b[0m\u001b[0;34m)\u001b[0m\u001b[0;34m\u001b[0m\u001b[0m\n\u001b[0m",
      "\u001b[0;31mNameError\u001b[0m: name 'step1' is not defined"
     ]
    }
   ],
   "source": [
    "img = step1('概形シルエット2/17Horn/17aomida2o02_l.jpg')"
   ]
  },
  {
   "cell_type": "code",
   "execution_count": null,
   "metadata": {},
   "outputs": [],
   "source": [
    "skel,img = step1('概形シルエット/17Tran_ellip/17karami2o03_l.jpg')"
   ]
  },
  {
   "cell_type": "code",
   "execution_count": null,
   "metadata": {},
   "outputs": [],
   "source": [
    "plt.imshow(img)"
   ]
  },
  {
   "cell_type": "markdown",
   "metadata": {},
   "source": [
    "**skeleton(img) の結果は画像サイズと同じ配列で、値は True, False である**\n",
    "\n",
    "予備実験１ここまで"
   ]
  },
  {
   "cell_type": "markdown",
   "metadata": {},
   "source": [
    "# スケルトンを基にした形状補正"
   ]
  },
  {
   "cell_type": "code",
   "execution_count": 22,
   "metadata": {},
   "outputs": [],
   "source": [
    "\n"
   ]
  },
  {
   "cell_type": "code",
   "execution_count": null,
   "metadata": {},
   "outputs": [],
   "source": []
  },
  {
   "cell_type": "markdown",
   "metadata": {},
   "source": [
    "skstat は　[(y,x),距離] のリストである。(x,y) はスケルトン画素の座標"
   ]
  },
  {
   "cell_type": "code",
   "execution_count": null,
   "metadata": {},
   "outputs": [],
   "source": []
  },
  {
   "cell_type": "code",
   "execution_count": null,
   "metadata": {},
   "outputs": [],
   "source": []
  },
  {
   "cell_type": "code",
   "execution_count": 26,
   "metadata": {},
   "outputs": [],
   "source": []
  },
  {
   "cell_type": "code",
   "execution_count": null,
   "metadata": {},
   "outputs": [],
   "source": []
  },
  {
   "cell_type": "code",
   "execution_count": null,
   "metadata": {},
   "outputs": [],
   "source": []
  },
  {
   "cell_type": "markdown",
   "metadata": {},
   "source": [
    "# 距離データ"
   ]
  },
  {
   "cell_type": "code",
   "execution_count": 27,
   "metadata": {},
   "outputs": [
    {
     "ename": "NameError",
     "evalue": "name 'skel' is not defined",
     "output_type": "error",
     "traceback": [
      "\u001b[0;31m---------------------------------------------------------------------------\u001b[0m",
      "\u001b[0;31mNameError\u001b[0m                                 Traceback (most recent call last)",
      "\u001b[0;32m<ipython-input-27-5cef8e22ffa9>\u001b[0m in \u001b[0;36m<module>\u001b[0;34m()\u001b[0m\n\u001b[0;32m----> 1\u001b[0;31m \u001b[0mskstat\u001b[0m \u001b[0;34m=\u001b[0m \u001b[0mmax_coverratio\u001b[0m\u001b[0;34m(\u001b[0m\u001b[0mimg\u001b[0m\u001b[0;34m,\u001b[0m\u001b[0mskel\u001b[0m\u001b[0;34m,\u001b[0m\u001b[0;36m32\u001b[0m\u001b[0;34m,\u001b[0m\u001b[0;36m10\u001b[0m\u001b[0;34m,\u001b[0m\u001b[0mcriteria1\u001b[0m\u001b[0;34m=\u001b[0m\u001b[0;36m1\u001b[0m\u001b[0;34m,\u001b[0m\u001b[0mcriteria2\u001b[0m\u001b[0;34m=\u001b[0m\u001b[0;36m1\u001b[0m\u001b[0;34m)\u001b[0m\u001b[0;34m\u001b[0m\u001b[0m\n\u001b[0m",
      "\u001b[0;31mNameError\u001b[0m: name 'skel' is not defined"
     ]
    }
   ],
   "source": [
    "skstat = max_coverratio(img,skel,32,10,criteria1=1,criteria2=1)"
   ]
  },
  {
   "cell_type": "markdown",
   "metadata": {},
   "source": [
    "# 距離データを明るさとしてプロットしてみるとこんな感じ"
   ]
  },
  {
   "cell_type": "code",
   "execution_count": null,
   "metadata": {},
   "outputs": [],
   "source": []
  },
  {
   "cell_type": "markdown",
   "metadata": {},
   "source": [
    "これは重ねて書いただけなので、距離画像ではない。"
   ]
  },
  {
   "cell_type": "code",
   "execution_count": null,
   "metadata": {},
   "outputs": [],
   "source": []
  },
  {
   "cell_type": "markdown",
   "metadata": {},
   "source": [
    "# スケルトン点列を直線フィッティングしてみる。"
   ]
  },
  {
   "cell_type": "code",
   "execution_count": 30,
   "metadata": {},
   "outputs": [
    {
     "ename": "error",
     "evalue": "OpenCV(3.4.2) /opt/concourse/worker/volumes/live/9523d527-1b9e-48e0-7ed0-a36adde286f0/volume/opencv-suite_1535558719691/work/modules/imgproc/src/color.hpp:253: error: (-215:Assertion failed) VScn::contains(scn) && VDcn::contains(dcn) && VDepth::contains(depth) in function 'CvtHelper'\n",
     "output_type": "error",
     "traceback": [
      "\u001b[0;31m---------------------------------------------------------------------------\u001b[0m",
      "\u001b[0;31merror\u001b[0m                                     Traceback (most recent call last)",
      "\u001b[0;32m<ipython-input-30-0c8b7fa8fd03>\u001b[0m in \u001b[0;36m<module>\u001b[0;34m()\u001b[0m\n\u001b[1;32m      4\u001b[0m \u001b[0mskgray\u001b[0m \u001b[0;34m=\u001b[0m \u001b[0;36m255\u001b[0m\u001b[0;34m*\u001b[0m\u001b[0mnp\u001b[0m\u001b[0;34m.\u001b[0m\u001b[0marray\u001b[0m\u001b[0;34m(\u001b[0m\u001b[0mskeleton\u001b[0m\u001b[0;34m,\u001b[0m\u001b[0mnp\u001b[0m\u001b[0;34m.\u001b[0m\u001b[0muint8\u001b[0m\u001b[0;34m)\u001b[0m\u001b[0;34m\u001b[0m\u001b[0m\n\u001b[1;32m      5\u001b[0m \u001b[0;31m# rskgray = cv2.resize(skgray,(64,64))\u001b[0m\u001b[0;34m\u001b[0m\u001b[0;34m\u001b[0m\u001b[0m\n\u001b[0;32m----> 6\u001b[0;31m \u001b[0mcolor\u001b[0m \u001b[0;34m=\u001b[0m \u001b[0mcv2\u001b[0m\u001b[0;34m.\u001b[0m\u001b[0mcvtColor\u001b[0m\u001b[0;34m(\u001b[0m\u001b[0mimg\u001b[0m\u001b[0;34m,\u001b[0m\u001b[0mcv2\u001b[0m\u001b[0;34m.\u001b[0m\u001b[0mCOLOR_GRAY2BGR\u001b[0m\u001b[0;34m)\u001b[0m\u001b[0;34m\u001b[0m\u001b[0m\n\u001b[0m\u001b[1;32m      7\u001b[0m \u001b[0mscolor\u001b[0m \u001b[0;34m=\u001b[0m \u001b[0mcv2\u001b[0m\u001b[0;34m.\u001b[0m\u001b[0mcvtColor\u001b[0m\u001b[0;34m(\u001b[0m\u001b[0mskgray\u001b[0m\u001b[0;34m,\u001b[0m\u001b[0mcv2\u001b[0m\u001b[0;34m.\u001b[0m\u001b[0mCOLOR_GRAY2BGR\u001b[0m\u001b[0;34m)\u001b[0m\u001b[0;34m\u001b[0m\u001b[0m\n\u001b[1;32m      8\u001b[0m \u001b[0;34m\u001b[0m\u001b[0m\n",
      "\u001b[0;31merror\u001b[0m: OpenCV(3.4.2) /opt/concourse/worker/volumes/live/9523d527-1b9e-48e0-7ed0-a36adde286f0/volume/opencv-suite_1535558719691/work/modules/imgproc/src/color.hpp:253: error: (-215:Assertion failed) VScn::contains(scn) && VDcn::contains(dcn) && VDepth::contains(depth) in function 'CvtHelper'\n"
     ]
    }
   ],
   "source": [
    "\n",
    "# img2 = cv2.imread('概形シルエット/17Tran_ellip/17karami2o03_l.jpg')\n",
    "\n",
    "skgray = 255*np.array(skeleton,np.uint8)\n",
    "# rskgray = cv2.resize(skgray,(64,64))\n",
    "color = cv2.cvtColor(img,cv2.COLOR_GRAY2BGR)\n",
    "scolor = cv2.cvtColor(skgray,cv2.COLOR_GRAY2BGR)\n",
    "\n",
    "# blurimg = cv2.GaussianBlur(rskgray,(33,33),0) \n",
    "ret,rsskel2 = cv2.threshold(rskgray,1,255,cv2.THRESH_BINARY)\n",
    "# edges = cv2.Canny(rsskel2,50,150,apertureSize = 3)\n",
    "\n",
    "lines = cv2.HoughLines(rsskel2,1,np.pi/180,1)\n",
    "minLineLength = 10\n",
    "maxLineGap = 5\n",
    "# lines = cv2.HoughLinesP(edges,1,np.pi/180,10,minLineLength,maxLineGap)\n",
    "# for [[x1,y1,x2,y2]] in lines:\n",
    "for [rho,theta] in lines[0]:\n",
    "        a = np.cos(theta)\n",
    "        b = np.sin(theta)\n",
    "        x0 = a*rho\n",
    "        y0 = b*rho\n",
    "        x1 = int(x0 + 1000*(-b))\n",
    "        y1 = int(y0 + 1000*(a))\n",
    "        x2 = int(x0 - 1000*(-b))\n",
    "        y2 = int(y0 - 1000*(a))\n",
    "\n",
    "        cv2.line(scolor,(x1,y1),(x2,y2),(0,255,0),1)\n",
    "        cv2.line(color,(x1,y1),(x2,y2),(0,255,0),1)\n",
    "        \n",
    "        #cv2.line(color,(x1,y1),(x2,y2),(0,0,255),2)\n",
    "        print((x1,y1),(x2,y2))\n",
    "\n",
    "mimg = cv2.medianBlur(img,5)\n",
    "cimg = cv2.cvtColor(mimg,cv2.COLOR_GRAY2BGR)\n",
    "\n",
    "circles = cv2.HoughCircles(mimg,cv2.HOUGH_GRADIENT,1,30,\n",
    "# circles = cv2.HoughCircles(rsskel2,cv2.HOUGH_GRADIENT,1,30,\n",
    "                            param1=20,param2=10,minRadius=5,maxRadius=0)\n",
    "\n",
    "circles = np.uint16(np.around(circles))\n",
    "for i in circles[0,:]:\n",
    "    # draw the outer circle\n",
    "    cv2.circle(cimg,(i[0],i[1]),i[2],(0,255,0),1)\n",
    "    # draw the center of the circle\n",
    "    cv2.circle(cimg,(i[0],i[1]),1,(0,0,255),1)\n",
    "        \n",
    "plt.subplot(131), plt.imshow(scolor)\n",
    "plt.title(\"64x64 image\")\n",
    "plt.subplot(132), plt.imshow(color)\n",
    "plt.title(\"line\")\n",
    "plt.subplot(133), plt.imshow(cimg)\n",
    "plt.title(\"circle\")\n",
    "\n",
    "'''cv2.imshow(\"ABC\",color)\n",
    "cv2.waitKey(0)\n",
    "cv2.destroyAllWindows()\n",
    "cv2.waitKey(1)'''"
   ]
  },
  {
   "cell_type": "code",
   "execution_count": 31,
   "metadata": {},
   "outputs": [
    {
     "ename": "NameError",
     "evalue": "name 'skstat' is not defined",
     "output_type": "error",
     "traceback": [
      "\u001b[0;31m---------------------------------------------------------------------------\u001b[0m",
      "\u001b[0;31mNameError\u001b[0m                                 Traceback (most recent call last)",
      "\u001b[0;32m<ipython-input-31-486900220610>\u001b[0m in \u001b[0;36m<module>\u001b[0;34m()\u001b[0m\n\u001b[1;32m      2\u001b[0m \u001b[0;32mimport\u001b[0m \u001b[0mtensorflow\u001b[0m \u001b[0;32mas\u001b[0m \u001b[0mtf\u001b[0m\u001b[0;34m\u001b[0m\u001b[0m\n\u001b[1;32m      3\u001b[0m \u001b[0;34m\u001b[0m\u001b[0m\n\u001b[0;32m----> 4\u001b[0;31m \u001b[0mx_data\u001b[0m \u001b[0;34m=\u001b[0m \u001b[0mnp\u001b[0m\u001b[0;34m.\u001b[0m\u001b[0marray\u001b[0m\u001b[0;34m(\u001b[0m\u001b[0;34m[\u001b[0m\u001b[0mx\u001b[0m \u001b[0;32mfor\u001b[0m \u001b[0;34m[\u001b[0m\u001b[0;34m(\u001b[0m\u001b[0my\u001b[0m\u001b[0;34m,\u001b[0m\u001b[0mx\u001b[0m\u001b[0;34m)\u001b[0m\u001b[0;34m,\u001b[0m\u001b[0md\u001b[0m\u001b[0;34m]\u001b[0m \u001b[0;32min\u001b[0m \u001b[0mskstat\u001b[0m\u001b[0;34m]\u001b[0m\u001b[0;34m)\u001b[0m\u001b[0;34m.\u001b[0m\u001b[0mastype\u001b[0m\u001b[0;34m(\u001b[0m\u001b[0mnp\u001b[0m\u001b[0;34m.\u001b[0m\u001b[0mfloat32\u001b[0m\u001b[0;34m)\u001b[0m\u001b[0;34m\u001b[0m\u001b[0m\n\u001b[0m\u001b[1;32m      5\u001b[0m \u001b[0my_data\u001b[0m \u001b[0;34m=\u001b[0m \u001b[0mnp\u001b[0m\u001b[0;34m.\u001b[0m\u001b[0marray\u001b[0m\u001b[0;34m(\u001b[0m\u001b[0;34m[\u001b[0m\u001b[0my\u001b[0m \u001b[0;32mfor\u001b[0m \u001b[0;34m[\u001b[0m\u001b[0;34m(\u001b[0m\u001b[0my\u001b[0m\u001b[0;34m,\u001b[0m\u001b[0mx\u001b[0m\u001b[0;34m)\u001b[0m\u001b[0;34m,\u001b[0m\u001b[0md\u001b[0m\u001b[0;34m]\u001b[0m \u001b[0;32min\u001b[0m \u001b[0mskstat\u001b[0m\u001b[0;34m]\u001b[0m\u001b[0;34m)\u001b[0m\u001b[0;34m.\u001b[0m\u001b[0mastype\u001b[0m\u001b[0;34m(\u001b[0m\u001b[0mnp\u001b[0m\u001b[0;34m.\u001b[0m\u001b[0mfloat32\u001b[0m\u001b[0;34m)\u001b[0m\u001b[0;34m\u001b[0m\u001b[0m\n\u001b[1;32m      6\u001b[0m \u001b[0mw_data\u001b[0m \u001b[0;34m=\u001b[0m \u001b[0mnp\u001b[0m\u001b[0;34m.\u001b[0m\u001b[0marray\u001b[0m\u001b[0;34m(\u001b[0m\u001b[0;34m[\u001b[0m\u001b[0md\u001b[0m \u001b[0;32mfor\u001b[0m \u001b[0;34m[\u001b[0m\u001b[0;34m(\u001b[0m\u001b[0my\u001b[0m\u001b[0;34m,\u001b[0m\u001b[0mx\u001b[0m\u001b[0;34m)\u001b[0m\u001b[0;34m,\u001b[0m\u001b[0md\u001b[0m\u001b[0;34m]\u001b[0m \u001b[0;32min\u001b[0m \u001b[0mskstat\u001b[0m\u001b[0;34m]\u001b[0m\u001b[0;34m)\u001b[0m\u001b[0;34m.\u001b[0m\u001b[0mastype\u001b[0m\u001b[0;34m(\u001b[0m\u001b[0mnp\u001b[0m\u001b[0;34m.\u001b[0m\u001b[0mfloat32\u001b[0m\u001b[0;34m)\u001b[0m\u001b[0;34m\u001b[0m\u001b[0m\n",
      "\u001b[0;31mNameError\u001b[0m: name 'skstat' is not defined"
     ]
    }
   ],
   "source": [
    "import sys\n",
    "import tensorflow as tf\n",
    "\n",
    "x_data = np.array([x for [(y,x),d] in skstat]).astype(np.float32)\n",
    "y_data = np.array([y for [(y,x),d] in skstat]).astype(np.float32)\n",
    "w_data = np.array([d for [(y,x),d] in skstat]).astype(np.float32)"
   ]
  },
  {
   "cell_type": "code",
   "execution_count": null,
   "metadata": {},
   "outputs": [],
   "source": [
    "circles"
   ]
  },
  {
   "cell_type": "code",
   "execution_count": null,
   "metadata": {},
   "outputs": [],
   "source": [
    "y_data"
   ]
  },
  {
   "cell_type": "code",
   "execution_count": null,
   "metadata": {},
   "outputs": [],
   "source": [
    " = [[1.],[5.]]\n",
    "input_y = [[4.],[2.]]\n",
    "\n",
    "x = tf.placeholder(\"float\", [None, 1])\n",
    "y_ = tf.placeholder(\"float\", [None, 1])\n",
    "\n",
    "a = tf.Variable([1.], name=\"slope\")\n",
    "b = tf.Variable([0.], name=\"y-intercept\")\n",
    "y = tf.multiply(a, x) + b\n",
    "\n",
    "init = tf.global_variables_initializer()\n",
    "\n",
    "# 誤差関数\n",
    "loss = tf.reduce_sum(tf.square(y_ - y))\n",
    "\n",
    "# トレーニング方法は、勾配降下法を選択\n",
    "train_step = tf.train.GradientDescentOptimizer(0.03).minimize(loss)\n",
    "\n",
    "\n",
    "with tf.Session() as sess:\n",
    "    sess.run(init)\n",
    "    print('初期状態')\n",
    "    print('誤差' + str(sess.run(loss, feed_dict={x_: input_x, y_: input_y, w_:input})))\n",
    "    print(\"slope: %f, y-intercept: %f\" % (sess.run(a), sess.run(b)))\n",
    "\n",
    "    for step in range(100):\n",
    "        sess.run(train_step, feed_dict={x: input_x, y_: input_y})\n",
    "        if (step+1) % 20 == 0:\n",
    "            print('\\nStep: %s' % (step+1))\n",
    "            print('誤差' + str(sess.run(loss, feed_dict={x: input_x, y_: input_y})))\n",
    "            print(\"slope: %f, y-intercept: %f\" % (sess.run(a), sess.run(b)))\n",
    "#\n",
    "sys.stderr.write(\"*** end ***\\n\")"
   ]
  },
  {
   "cell_type": "code",
   "execution_count": 32,
   "metadata": {},
   "outputs": [
    {
     "data": {
      "text/plain": [
       "<matplotlib.image.AxesImage at 0x1c328b90b8>"
      ]
     },
     "execution_count": 32,
     "metadata": {},
     "output_type": "execute_result"
    },
    {
     "data": {
      "image/png": "[encoded data removed]",
      "text/plain": [
       "<Figure size 576x432 with 1 Axes>"
      ]
     },
     "metadata": {
      "needs_background": "light"
     },
     "output_type": "display_data"
    }
   ],
   "source": [
    "skeleton.shape\n",
    "plt.imshow(img)"
   ]
  },
  {
   "cell_type": "code",
   "execution_count": 33,
   "metadata": {},
   "outputs": [
    {
     "data": {
      "image/png": "[encoded data removed]",
      "text/plain": [
       "<Figure size 576x432 with 2 Axes>"
      ]
     },
     "metadata": {
      "needs_background": "light"
     },
     "output_type": "display_data"
    }
   ],
   "source": [
    "from skimage.morphology import skeletonize, skeletonize_3d\n",
    "import matplotlib.pyplot as plt\n",
    "from skimage.util import invert\n",
    "from skimage import io\n",
    "import skimage.data\n",
    "import skimage.color\n",
    "import os\n",
    "\n",
    "img = cv2.imread('概形シルエット/17Apically/17daruma6o06_l.jpg',0)\n",
    "img = cv2.resize(img,(int(img.shape[1]/5),int(img.shape[0]/5)))\n",
    "ret,th2 = cv2.threshold(img,127,1,cv2.THRESH_BINARY)\n",
    "\n",
    "skeleton = skeletonize(th2)\n",
    "# 結果を出力します\n",
    "plt.subplot(121), plt.imshow(img, cmap='gray')\n",
    "plt.title(\"input image\")\n",
    "plt.subplot(122), plt.imshow(skeleton, cmap='gray')\n",
    "plt.title(\"thinned image\")\n",
    "plt.show()"
   ]
  },
  {
   "cell_type": "code",
   "execution_count": 34,
   "metadata": {},
   "outputs": [
    {
     "data": {
      "image/png": "[encoded data removed]",
      "text/plain": [
       "<Figure size 576x432 with 2 Axes>"
      ]
     },
     "metadata": {
      "needs_background": "light"
     },
     "output_type": "display_data"
    }
   ],
   "source": [
    "img = cv2.imread('概形シルエット/17Cylindric/17makoto1o06_l.jpg',0)\n",
    "img = cv2.resize(img,(int(img.shape[1]/5),int(img.shape[0]/5)))\n",
    "ret,th2 = cv2.threshold(img,127,1,cv2.THRESH_BINARY)\n",
    "\n",
    "skeleton = skeletonize(th2)\n",
    "# 結果を出力します\n",
    "plt.subplot(121), plt.imshow(img, cmap='gray')\n",
    "plt.title(\"input image\")\n",
    "plt.subplot(122), plt.imshow(skeleton, cmap='gray')\n",
    "plt.title(\"thinned image\")\n",
    "plt.show()"
   ]
  },
  {
   "cell_type": "code",
   "execution_count": 35,
   "metadata": {},
   "outputs": [
    {
     "data": {
      "image/png": "[encoded data removed]",
      "text/plain": [
       "<Figure size 576x432 with 2 Axes>"
      ]
     },
     "metadata": {
      "needs_background": "light"
     },
     "output_type": "display_data"
    }
   ],
   "source": [
    "img = cv2.imread('概形シルエット/17Triagular/17horyou1o05_l.jpg',0)\n",
    "img = cv2.resize(img,(int(img.shape[1]/5),int(img.shape[0]/5)))\n",
    "ret,th2 = cv2.threshold(img,127,1,cv2.THRESH_BINARY)\n",
    "\n",
    "skeleton = skeletonize(th2)\n",
    "# 結果を出力します\n",
    "plt.subplot(121), plt.imshow(img, cmap='gray')\n",
    "plt.title(\"input image\")\n",
    "plt.subplot(122), plt.imshow(skeleton, cmap='gray')\n",
    "plt.title(\"thinned image\")\n",
    "plt.show()"
   ]
  },
  {
   "cell_type": "code",
   "execution_count": 36,
   "metadata": {},
   "outputs": [
    {
     "data": {
      "image/png": "[encoded data removed]",
      "text/plain": [
       "<Figure size 576x432 with 2 Axes>"
      ]
     },
     "metadata": {
      "needs_background": "light"
     },
     "output_type": "display_data"
    }
   ],
   "source": [
    "img  = cv2.imread('概形シルエット/17Tran_ellip/17karami2o03_l.jpg',0)\n",
    "img = cv2.resize(img,(int(img.shape[1]/5),int(img.shape[0]/5)))\n",
    "ret,th2 = cv2.threshold(img,127,1,cv2.THRESH_BINARY)\n",
    "\n",
    "skeleton = skeletonize(th2)\n",
    "# 結果を出力します\n",
    "plt.subplot(121), plt.imshow(img, cmap='gray')\n",
    "plt.title(\"input image\")\n",
    "plt.subplot(122), plt.imshow(skeleton, cmap='gray')\n",
    "plt.title(\"thinned image\")\n",
    "plt.show()"
   ]
  },
  {
   "cell_type": "code",
   "execution_count": 37,
   "metadata": {},
   "outputs": [],
   "source": [
    "# メインプログラム\n",
    "from skimage.morphology import skeletonize, skeletonize_3d\n",
    "import matplotlib.pyplot as plt\n",
    "from skimage.util import invert\n",
    "from skimage import io\n",
    "import skimage.data\n",
    "import skimage.color\n",
    "import os\n",
    "\n",
    "def batch(images, savedir='スケルトン',normalize=False,interactive = True):\n",
    "    # savedir 保存先\n",
    "    # interactive 結果を１枚ずつ確認するかどうか\n",
    "    global skeleton,img,wimg\n",
    "    \n",
    "    for path in images:\n",
    "        # print(path)\n",
    "        \n",
    "        src = cv2.imread(path,0) # 対象画像の読み込み\n",
    "        \n",
    "        if normalize:\n",
    "            # 処理対象画像を　短辺６４に正規化する\n",
    "            height, width = src.shape[:2]\n",
    "            nlen = width if width < height else height # 縦横の短い方\n",
    "            shrink = 64/nlen # 縮小率\n",
    "            src = cv2.resize(src,(int(shrink*width),int(shrink*height)))\n",
    "        \n",
    "        # ２値化するとともに、白を１にする\n",
    "        _ret,img = cv2.threshold(src,127,1,cv2.THRESH_BINARY)\n",
    "        \n",
    "        # scikit-learn の高速細線化処理を適用\n",
    "        skeleton = np.array(255*skeletonize(img),dtype=np.uint8)\n",
    "        \n",
    "        # 端点を抽出\n",
    "        _img,cnt,hierarchy = cv2.findContours(skeleton, cv2.RETR_EXTERNAL, cv2.CHAIN_APPROX_NONE)\n",
    "        wimg = np.zeros(img.shape,np.uint8)\n",
    "        wimg = cv2.drawContours(wimg, [cnt[0]], -1, 255, 1)\n",
    "        print(set(tuple(cnt[0])))\n",
    "                                \n",
    "\n",
    "        # 結果を確認       \n",
    "        if interactive:\n",
    "            cv2.imshow(path,mkparaimage(cv2.bitwise_xor(src,img),skeleton))\n",
    "            key = cv2.waitKey(0)\n",
    "            cv2.destroyAllWindows()\n",
    "            cv2.waitKey(1) \n",
    "            if key == 113: #  \"Q\" で終了する\n",
    "                break\n",
    "                \n",
    "def neighbours(x, y, image):\n",
    "    return [image[x-1][y], image[x-1][y+1], image[x][y+1], image[x+1][y+1], \n",
    "             image[x+1][y], image[x+1][y-1], image[x][y-1], image[x-1][y-1]]\n",
    "\n",
    "def isterminal(x,y,image):\n",
    "    return sum(neighbours(x,y,image))"
   ]
  },
  {
   "cell_type": "code",
   "execution_count": null,
   "metadata": {},
   "outputs": [],
   "source": []
  },
  {
   "cell_type": "code",
   "execution_count": 38,
   "metadata": {},
   "outputs": [
    {
     "data": {
      "image/png": "[encoded data removed]",
      "text/plain": [
       "<Figure size 576x432 with 1 Axes>"
      ]
     },
     "metadata": {
      "needs_background": "light"
     },
     "output_type": "display_data"
    }
   ],
   "source": [
    "plt.imshow(img)\n",
    "wimg = np.copy(img)"
   ]
  },
  {
   "cell_type": "code",
   "execution_count": null,
   "metadata": {},
   "outputs": [],
   "source": []
  },
  {
   "cell_type": "code",
   "execution_count": 39,
   "metadata": {},
   "outputs": [
    {
     "ename": "NameError",
     "evalue": "name 'skel' is not defined",
     "output_type": "error",
     "traceback": [
      "\u001b[0;31m---------------------------------------------------------------------------\u001b[0m",
      "\u001b[0;31mNameError\u001b[0m                                 Traceback (most recent call last)",
      "\u001b[0;32m<ipython-input-39-7232e6448cd8>\u001b[0m in \u001b[0;36m<module>\u001b[0;34m()\u001b[0m\n\u001b[0;32m----> 1\u001b[0;31m \u001b[0msskel\u001b[0m\u001b[0;34m=\u001b[0m\u001b[0;36m255\u001b[0m\u001b[0;34m*\u001b[0m\u001b[0mskel\u001b[0m\u001b[0;34m.\u001b[0m\u001b[0mastype\u001b[0m\u001b[0;34m(\u001b[0m\u001b[0mnp\u001b[0m\u001b[0;34m.\u001b[0m\u001b[0muint8\u001b[0m\u001b[0;34m)\u001b[0m\u001b[0;34m\u001b[0m\u001b[0m\n\u001b[0m\u001b[1;32m      2\u001b[0m \u001b[0mcv2\u001b[0m\u001b[0;34m.\u001b[0m\u001b[0mimshow\u001b[0m\u001b[0;34m(\u001b[0m\u001b[0;34m\"AB C\"\u001b[0m\u001b[0;34m,\u001b[0m\u001b[0medges\u001b[0m\u001b[0;34m)\u001b[0m\u001b[0;34m\u001b[0m\u001b[0m\n\u001b[1;32m      3\u001b[0m \u001b[0mcv2\u001b[0m\u001b[0;34m.\u001b[0m\u001b[0mwaitKey\u001b[0m\u001b[0;34m(\u001b[0m\u001b[0;36m0\u001b[0m\u001b[0;34m)\u001b[0m\u001b[0;34m\u001b[0m\u001b[0m\n\u001b[1;32m      4\u001b[0m \u001b[0mcv2\u001b[0m\u001b[0;34m.\u001b[0m\u001b[0mdestroyAllWindows\u001b[0m\u001b[0;34m(\u001b[0m\u001b[0;34m)\u001b[0m\u001b[0;34m\u001b[0m\u001b[0m\n\u001b[1;32m      5\u001b[0m \u001b[0mcv2\u001b[0m\u001b[0;34m.\u001b[0m\u001b[0mwaitKey\u001b[0m\u001b[0;34m(\u001b[0m\u001b[0;36m1\u001b[0m\u001b[0;34m)\u001b[0m\u001b[0;34m\u001b[0m\u001b[0m\n",
      "\u001b[0;31mNameError\u001b[0m: name 'skel' is not defined"
     ]
    }
   ],
   "source": [
    "sskel=255*skel.astype(np.uint8)\n",
    "cv2.imshow(\"AB C\",edges)\n",
    "cv2.waitKey(0)\n",
    "cv2.destroyAllWindows()\n",
    "cv2.waitKey(1)"
   ]
  },
  {
   "cell_type": "code",
   "execution_count": 40,
   "metadata": {},
   "outputs": [
    {
     "ename": "NameError",
     "evalue": "name 'rskgray' is not defined",
     "output_type": "error",
     "traceback": [
      "\u001b[0;31m---------------------------------------------------------------------------\u001b[0m",
      "\u001b[0;31mNameError\u001b[0m                                 Traceback (most recent call last)",
      "\u001b[0;32m<ipython-input-40-79d48d098da7>\u001b[0m in \u001b[0;36m<module>\u001b[0;34m()\u001b[0m\n\u001b[1;32m      8\u001b[0m \u001b[0mcolor\u001b[0m \u001b[0;34m=\u001b[0m \u001b[0mcv2\u001b[0m\u001b[0;34m.\u001b[0m\u001b[0mcvtColor\u001b[0m\u001b[0;34m(\u001b[0m\u001b[0mskgray\u001b[0m\u001b[0;34m,\u001b[0m\u001b[0mcv2\u001b[0m\u001b[0;34m.\u001b[0m\u001b[0mCOLOR_GRAY2BGR\u001b[0m\u001b[0;34m)\u001b[0m\u001b[0;34m\u001b[0m\u001b[0m\n\u001b[1;32m      9\u001b[0m \u001b[0;31m# blurimg = cv2.GaussianBlur(rskgray,(33,33),0)\u001b[0m\u001b[0;34m\u001b[0m\u001b[0;34m\u001b[0m\u001b[0m\n\u001b[0;32m---> 10\u001b[0;31m \u001b[0mret\u001b[0m\u001b[0;34m,\u001b[0m\u001b[0mrsskel2\u001b[0m \u001b[0;34m=\u001b[0m \u001b[0mcv2\u001b[0m\u001b[0;34m.\u001b[0m\u001b[0mthreshold\u001b[0m\u001b[0;34m(\u001b[0m\u001b[0mrskgray\u001b[0m\u001b[0;34m,\u001b[0m\u001b[0;36m1\u001b[0m\u001b[0;34m,\u001b[0m\u001b[0;36m255\u001b[0m\u001b[0;34m,\u001b[0m\u001b[0mcv2\u001b[0m\u001b[0;34m.\u001b[0m\u001b[0mTHRESH_BINARY\u001b[0m\u001b[0;34m)\u001b[0m\u001b[0;34m\u001b[0m\u001b[0m\n\u001b[0m\u001b[1;32m     11\u001b[0m \u001b[0;31m# edges = cv2.Canny(rsskel2,50,150,apertureSize = 3)\u001b[0m\u001b[0;34m\u001b[0m\u001b[0;34m\u001b[0m\u001b[0m\n\u001b[1;32m     12\u001b[0m \u001b[0;34m\u001b[0m\u001b[0m\n",
      "\u001b[0;31mNameError\u001b[0m: name 'rskgray' is not defined"
     ]
    }
   ],
   "source": [
    "import cv2\n",
    "import numpy as np\n",
    "\n",
    "# img2 = cv2.imread('概形シルエット/17Tran_ellip/17karami2o03_l.jpg')\n",
    "\n",
    "skgray = 255*np.array(skeleton,np.uint8)\n",
    "# rskgray = cv2.resize(skgray,(64,64))\n",
    "color = cv2.cvtColor(skgray,cv2.COLOR_GRAY2BGR)\n",
    "# blurimg = cv2.GaussianBlur(rskgray,(33,33),0) \n",
    "ret,rsskel2 = cv2.threshold(rskgray,1,255,cv2.THRESH_BINARY)\n",
    "# edges = cv2.Canny(rsskel2,50,150,apertureSize = 3)\n",
    "\n",
    "lines = cv2.HoughLines(rsskel2,1,np.pi/180,1)\n",
    "minLineLength = 10\n",
    "maxLineGap = 5\n",
    "# lines = cv2.HoughLinesP(edges,1,np.pi/180,10,minLineLength,maxLineGap)\n",
    "# for [[x1,y1,x2,y2]] in lines:\n",
    "for [rho,theta] in lines[0]:\n",
    "        a = np.cos(theta)\n",
    "        b = np.sin(theta)\n",
    "        x0 = a*rho\n",
    "        y0 = b*rho\n",
    "        x1 = int(x0 + 1000*(-b))\n",
    "        y1 = int(y0 + 1000*(a))\n",
    "        x2 = int(x0 - 1000*(-b))\n",
    "        y2 = int(y0 - 1000*(a))\n",
    "\n",
    "        cv2.line(color,(x1,y1),(x2,y2),(0,255,0),2)\n",
    "        \n",
    "        # cv2.line(color,(x1,y1),(x2,y2),(0,0,255),2)\n",
    "        print((x1,y1),(x2,y2))\n",
    "\n",
    "cv2.imshow(\"ABC\",color)\n",
    "cv2.waitKey(0)\n",
    "cv2.destroyAllWindows()\n",
    "cv2.waitKey(1)"
   ]
  },
  {
   "cell_type": "code",
   "execution_count": 41,
   "metadata": {},
   "outputs": [
    {
     "data": {
      "text/plain": [
       "array([[0., 0.]], dtype=float32)"
      ]
     },
     "execution_count": 41,
     "metadata": {},
     "output_type": "execute_result"
    }
   ],
   "source": [
    "lines[0]"
   ]
  },
  {
   "cell_type": "code",
   "execution_count": null,
   "metadata": {},
   "outputs": [],
   "source": []
  },
  {
   "cell_type": "code",
   "execution_count": null,
   "metadata": {},
   "outputs": [],
   "source": []
  }
 ],
 "metadata": {
  "kernelspec": {
   "display_name": "Python 3",
   "language": "python",
   "name": "python3"
  },
  "language_info": {
   "codemirror_mode": {
    "name": "ipython",
    "version": 3
   },
   "file_extension": ".py",
   "mimetype": "text/x-python",
   "name": "python",
   "nbconvert_exporter": "python",
   "pygments_lexer": "ipython3",
   "version": "3.6.6"
  }
 },
 "nbformat": 4,
 "nbformat_minor": 2
}
