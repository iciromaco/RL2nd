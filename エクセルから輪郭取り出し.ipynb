{
 "cells": [
  {
   "cell_type": "code",
   "execution_count": 164,
   "metadata": {},
   "outputs": [],
   "source": [
    "import numpy as np\n",
    "import matplotlib\n",
    "# matplotlib.use('Agg') # 表示しないモード。バッチ処理する場合、画像表示が多くなりすぎて　notebooke の制限で途中で止まってしまう。\n",
    "import matplotlib.pyplot as plt\n",
    "%matplotlib inline\n",
    "import cv2\n",
    "from PIL import Image\n",
    "import math\n",
    "import pandas as pd\n",
    "\n",
    "from sympy import *\n",
    "from sympy.abc import a,b,c\n",
    "from sympy import diff,Symbol,Matrix,symbols,solve,simplify,binomial\n",
    "# init_session()\n",
    "\n",
    "\n",
    "from sympy import var\n",
    "from rdlib2 import *\n",
    "\n",
    "import datetime\n",
    "import time\n",
    "import sys\n",
    "import os\n",
    "\n",
    "# バッチ司令ファイルの読み込み\n",
    "# df = pd.read_excel('自動計測データ.xlsx')\n",
    "# df = pd.read_csv('画像リストUTF8.csv', sep=',')\n",
    "# df.head(5)"
   ]
  },
  {
   "cell_type": "code",
   "execution_count": 165,
   "metadata": {},
   "outputs": [],
   "source": [
    "px = [var('px'+str(i)) for i in range(8)]\n",
    "py = [var('py'+str(i)) for i in range(8)]\n",
    "\n",
    "t = symbols('t')\n",
    "datafile = '仕様テスト用.xlsx'\n",
    "df = pd.read_excel(datafile)"
   ]
  },
  {
   "cell_type": "code",
   "execution_count": 311,
   "metadata": {},
   "outputs": [],
   "source": [
    "SPX,SPY=[],[]\n",
    "for i in range(8):\n",
    "    px[i]=df.iloc[7]['SPX'+str(i)]\n",
    "    py[i]=df.iloc[7]['SPY'+str(i)]\n",
    "        \n",
    "v = 1-t\n",
    "bezX,bezY = 0,0\n",
    "for i in range(8):\n",
    "    bezX = bezX + binomial(7,i)*v**(7-i)*t**i*px[i]\n",
    "    bezY = bezY + binomial(7,i)*v**(7-i)*t**i*py[i]"
   ]
  },
  {
   "cell_type": "code",
   "execution_count": 312,
   "metadata": {},
   "outputs": [
    {
     "data": {
      "text/plain": [
       "(10.5118980208143*t**7 + 30.0539511307999*t**6*(-7*t + 7) + 1704.5989529664*t**5*(-t + 1)**2 + 978.238773436995*t**4*(-t + 1)**3 + 5138.13562429359*t**3*(-t + 1)**4 - 205.526460014574*t**2*(-t + 1)**5 + 465.869848779175*t*(-t + 1)**6 + 7.56637297521078*(-t + 1)**7,\n",
       " 249.000868415676*t**7 + 214.34484409183*t**6*(-7*t + 7) + 4015.43360489617*t**5*(-t + 1)**2 + 5140.31437608885*t**4*(-t + 1)**3 + 2772.63764332266*t**3*(-t + 1)**4 + 1936.65819124685*t**2*(-t + 1)**5 + 43.83009251327*t*(-t + 1)**6 + 1.5*(-t + 1)**7)"
      ]
     },
     "execution_count": 312,
     "metadata": {},
     "output_type": "execute_result"
    }
   ],
   "source": [
    "bezX,bezY"
   ]
  },
  {
   "cell_type": "code",
   "execution_count": 313,
   "metadata": {},
   "outputs": [],
   "source": [
    "samplesX = [bezX.subs(t,s) for s in np.linspace(0,1,101)]\n",
    "samplesY = [bezY.subs(t,s) for s in np.linspace(0,1,101)]"
   ]
  },
  {
   "cell_type": "code",
   "execution_count": 314,
   "metadata": {},
   "outputs": [
    {
     "data": {
      "text/plain": [
       "[<matplotlib.lines.Line2D at 0x1c40771668>]"
      ]
     },
     "execution_count": 314,
     "metadata": {},
     "output_type": "execute_result"
    },
    {
     "data": {
      "image/png": "[encoded data removed]",
      "text/plain": [
       "<Figure size 600x600 with 1 Axes>"
      ]
     },
     "metadata": {},
     "output_type": "display_data"
    }
   ],
   "source": [
    "    plt.figure(figsize=(6,6),dpi=100)\n",
    "    plt.gca().set_aspect('equal', adjustable='box')\n",
    "    #plt.gca().invert_yaxis() \n",
    "    plt.plot(samplesY,samplesX)"
   ]
  },
  {
   "cell_type": "code",
   "execution_count": 315,
   "metadata": {},
   "outputs": [
    {
     "name": "stdout",
     "output_type": "stream",
     "text": [
      "0.688997510463269\n",
      "7.56637297521078\n"
     ]
    }
   ],
   "source": [
    "#幅の一定さをもとめる\n",
    "#肥大部の面積を出す\n",
    "samplesX_min_in = np.argmin(samplesX)\n",
    "samplesX_min = samplesX[samplesX_min_in]\n",
    "#肥大部の半分の面積を出す\n",
    "menseki = 0\n",
    "for i in range(len(samplesX)):\n",
    "    menseki += samplesX[i]\n",
    "#肥大部の外接四角の面積を出す\n",
    "samplesX_max_in = np.argmax(samplesX)\n",
    "samplesX_max = samplesX[samplesX_max_in]\n",
    "gaisetu = (samplesX_max)*len(samplesX)\n",
    "ittei = menseki/gaisetu\n",
    "print(ittei)\n",
    "print(samplesX_min)\n"
   ]
  },
  {
   "cell_type": "code",
   "execution_count": 316,
   "metadata": {
    "scrolled": true
   },
   "outputs": [
    {
     "name": "stdout",
     "output_type": "stream",
     "text": [
      "0.000828652192736629\n"
     ]
    },
    {
     "data": {
      "image/png": "[encoded data removed]",
      "text/plain": [
       "<Figure size 600x600 with 1 Axes>"
      ]
     },
     "metadata": {},
     "output_type": "display_data"
    }
   ],
   "source": [
    "#中心線の抽出\n",
    "cx = [var('cx'+str(i)) for i in range(4)]\n",
    "cy = [var('cy'+str(i)) for i in range(4)]\n",
    "CPX,CPY=[],[]\n",
    "for i in range(4):\n",
    "    cx[i]=df.iloc[7]['CPX'+str(i)]\n",
    "    cy[i]=df.iloc[7]['CPY'+str(i)]\n",
    "        \n",
    "v = 1-t\n",
    "bezcX,bezcY = 0,0\n",
    "for i in range(4):\n",
    "    bezcX = bezcX + binomial(3,i)*v**(3-i)*t**i*cx[i]\n",
    "    bezcY = bezcY + binomial(3,i)*v**(3-i)*t**i*cy[i]\n",
    "    \n",
    "centX = [bezcX.subs(t,s) for s in np.linspace(0,1,101)]\n",
    "centY = [bezcY.subs(t,s) for s in np.linspace(0,1,101)]\n",
    "\n",
    "plt.figure(figsize=(6,6),dpi=100)\n",
    "plt.gca().set_aspect('equal', adjustable='box')\n",
    "#plt.gca().invert_yaxis() \n",
    "plt.plot(centX,centY)\n",
    "\n",
    "from decimal import Decimal \n",
    "#先端同士を繋げた直線からの中点の距離\n",
    "#中心点から直線の距離を求める\n",
    "#a(Xmin, Ymin), b(Xmax, Ymax), c(Xcen, Ycen)\n",
    "Ymax_in = np.argmax(centY)\n",
    "Ymin_in = np.argmin(centY)\n",
    "Ymax = centY[Ymax_in]\n",
    "Ymin = centY[Ymin_in]\n",
    "Xmax = centX[Ymax_in]\n",
    "Xmin = centX[Ymin_in]\n",
    "Ycen_atai = (Ymax - Ymin)/2 + Ymin\n",
    "ar_centY = np.array(centY)\n",
    "Ycen_in = np.argmin((ar_centY - Ycen_atai)**2)\n",
    "Ycen = centY[Ycen_in]\n",
    "Xcen = centX[Ycen_in]\n",
    "u = np.array([round(Xmax - Xmin, 5), round(Ymax - Ymin, 5)])#直線のベクトル\n",
    "v = np.array([round(Xcen - Xmin, 5), round(Ycen - Ymin, 5)]) #中心点に向かうベクトル\n",
    "L = abs(np.cross(u, v)/ np.linalg.norm(u))\n",
    "#直線にしたときの中心の幅を求める\n",
    "samplesY_max_in = np.argmax(samplesY)\n",
    "samplesY_min_in = np.argmin(samplesY)\n",
    "samplesY_max = samplesY[samplesY_max_in]\n",
    "samplesY_min = samplesY[samplesY_min_in]\n",
    "samplesY_cent_atai = (samplesY_max - samplesY_min)/2 + samplesY_min\n",
    "ar_samplesY = np.array(samplesY)\n",
    "samplesY_cent_in = np.argmin((ar_samplesY - samplesY_cent_atai)**2)\n",
    "samplesX_cent = samplesX[samplesY_cent_in]\n",
    "magari = L/samplesX_cent\n",
    "print(magari)"
   ]
  },
  {
   "cell_type": "code",
   "execution_count": 321,
   "metadata": {},
   "outputs": [
    {
     "name": "stdout",
     "output_type": "stream",
     "text": [
      "2.32972467454078 1.90514798142700 1.65455867922318\n"
     ]
    },
    {
     "data": {
      "text/plain": [
       "247.500868415676"
      ]
     },
     "execution_count": 321,
     "metadata": {},
     "output_type": "execute_result"
    }
   ],
   "source": [
    "#膨らみの程度を調べる\n",
    "radishLength = (samplesY_max - samplesY_min)\n",
    "topline_index_5 = np.argmin((ar_samplesY[:samplesY_max_in] - radishLength*0.05)**2)\n",
    "toplineDia_5 = samplesX[topline_index_5]\n",
    "\n",
    "topline_index_10 = np.argmin((ar_samplesY[:samplesY_max_in] - radishLength*0.1)**2)\n",
    "toplineDia_10 = samplesX[topline_index_10]\n",
    "\n",
    "topline_index_15 = np.argmin((ar_samplesY[:samplesY_max_in] - radishLength*0.15)**2)\n",
    "toplineDia_15 = samplesX[topline_index_15]\n",
    "teido_5 = (samplesX_max/toplineDia_5)\n",
    "teido_10 = (samplesX_max/toplineDia_10)\n",
    "teido_15 = (samplesX_max/toplineDia_15)\n",
    "print(teido_5, teido_10, teido_15)\n",
    "radishLength"
   ]
  },
  {
   "cell_type": "code",
   "execution_count": 158,
   "metadata": {},
   "outputs": [
    {
     "data": {
      "text/plain": [
       "\"\\nplt.figure(figsize=(6,6),dpi=100)\\nplt.gca().set_aspect('equal', adjustable='box')\\n#plt.gca().invert_yaxis() \\nY = list(reversed(samplesY))\\nX = list(reversed(samplesX))\\nplt.plot(Y,X)\\n\""
      ]
     },
     "execution_count": 158,
     "metadata": {},
     "output_type": "execute_result"
    }
   ],
   "source": [
    "'''\n",
    "plt.figure(figsize=(6,6),dpi=100)\n",
    "plt.gca().set_aspect('equal', adjustable='box')\n",
    "#plt.gca().invert_yaxis() \n",
    "Y = list(reversed(samplesY))\n",
    "X = list(reversed(samplesX))\n",
    "plt.plot(Y,X)\n",
    "'''"
   ]
  },
  {
   "cell_type": "code",
   "execution_count": 226,
   "metadata": {},
   "outputs": [
    {
     "data": {
      "text/plain": [
       "306.000000000000"
      ]
     },
     "execution_count": 226,
     "metadata": {},
     "output_type": "execute_result"
    }
   ],
   "source": [
    "def shiftX(dx,dy,shift):\n",
    "         found = False\n",
    "         offset = 0.0\n",
    "         for (x,y) in zip(dx,dy):\n",
    "            if not found and y >shift:\n",
    "                found = True\n",
    "                offset = x\n",
    "         dx = dx - offset\n",
    "         return dx,dy\n",
    "# 最大径を基準に正規化\n",
    "x_max_in = np.argmax(samplesX)\n",
    "maxR = samplesX[x_max_in]#　最大径を出す\n",
    "#最大径以降のみを抽出\n",
    "xdata = samplesX[x_max_in:]\n",
    "ydata = samplesY[x_max_in:]\n",
    "xdataR = np.array(ydata)/maxR\n",
    "ydataR= np.array(xdata)/maxR\n",
    "#xの値を反転させる\n",
    "xdataR = -xdataR\n",
    "xdataR,ydataR = shiftX(xdataR,ydataR,1/3)    # y = 1/3 付近が x=0 になるようにデータ全体をｘ軸に沿ってシフト\n",
    "plt.gca().set_aspect('equal',adjustable='box')\n",
    "plt.plot(xdataR,ydataR,\"r\")\n",
    "xdata_min_in = np.argmin(xdataR)\n",
    "xdata_min = -xdataR[xdata_min_in]/2"
   ]
  },
  {
   "cell_type": "code",
   "execution_count": 159,
   "metadata": {},
   "outputs": [
    {
     "data": {
      "image/png": "[encoded data removed]",
      "text/plain": [
       "<Figure size 432x288 with 1 Axes>"
      ]
     },
     "metadata": {},
     "output_type": "display_data"
    }
   ],
   "source": [
    "def shiftX(dx,dy,shift):\n",
    "         found = False\n",
    "         offset = 0.0\n",
    "         for (x,y) in zip(dx,dy):\n",
    "            if not found and y >shift:\n",
    "                found = True\n",
    "                offset = x\n",
    "         dx = dx - offset\n",
    "         return dx,dy\n",
    "# 最大径を基準に正規化\n",
    "x_max_in = np.argmax(samplesX)\n",
    "maxR = samplesX[x_max_in]#　最大径を出す\n",
    "#最大径以降のみを抽出\n",
    "xdata = samplesX[x_max_in:]\n",
    "ydata = samplesY[x_max_in:]\n",
    "xdataR = np.array(ydata)/maxR\n",
    "ydataR= np.array(xdata)/maxR\n",
    "#xの値を反転させる\n",
    "xdataR = -xdataR\n",
    "xdataR,ydataR = shiftX(xdataR,ydataR,1/3)    # y = 1/3 付近が x=0 になるようにデータ全体をｘ軸に沿ってシフト\n",
    "plt.gca().set_aspect('equal',adjustable='box')\n",
    "plt.plot(xdataR,ydataR,\"r\")\n",
    "xdata_min_in = np.argmin(xdataR)\n",
    "xdata_min = -xdataR[xdata_min_in]/2"
   ]
  },
  {
   "cell_type": "code",
   "execution_count": 160,
   "metadata": {},
   "outputs": [
    {
     "name": "stdout",
     "output_type": "stream",
     "text": [
      "    0:(a,b,err) = (   -0.0017,    0.0000,     0.1307)\n",
      "  400:(a,b,err) = (   -0.5802,    1.8277,     0.0698)\n",
      "  800:(a,b,err) = (   -0.4583,    2.3359,     0.0691)\n",
      " 1200:(a,b,err) = (   -0.3996,    2.6930,     0.0688)\n",
      " 1600:(a,b,err) = (   -0.3628,    2.9759,     0.0686)\n",
      " 2000:(a,b,err) = (   -0.3367,    3.2139,     0.0684)\n",
      " 2400:(a,b,err) = (   -0.3169,    3.4212,     0.0683)\n",
      " 2800:(a,b,err) = (   -0.3011,    3.6060,     0.0682)\n",
      " 3200:(a,b,err) = (   -0.2880,    3.7737,     0.0682)\n",
      " 3600:(a,b,err) = (   -0.2770,    3.9276,     0.0681)\n",
      " 4000:(a,b,err) = (   -0.2675,    4.0704,     0.0681)\n"
     ]
    },
    {
     "name": "stderr",
     "output_type": "stream",
     "text": [
      "/Users/yumiko/Desktop/folder/fit1.py:64: MatplotlibDeprecationWarning: pyplot.hold is deprecated.\n",
      "    Future behavior will be consistent with the long-time default:\n",
      "    plot commands add elements without first clearing the\n",
      "    Axes and/or Figure.\n",
      "  plt.hold(True);\n",
      "/anaconda3/lib/python3.6/site-packages/matplotlib/__init__.py:911: MatplotlibDeprecationWarning: axes.hold is deprecated. Please remove it from your matplotlibrc and/or style files.\n",
      "  mplDeprecation)\n",
      "/anaconda3/lib/python3.6/site-packages/matplotlib/rcsetup.py:156: MatplotlibDeprecationWarning: axes.hold is deprecated, will be removed in 3.0\n",
      "  mplDeprecation)\n"
     ]
    },
    {
     "data": {
      "image/png": "[encoded data removed]",
      "text/plain": [
       "<Figure size 432x288 with 1 Axes>"
      ]
     },
     "metadata": {},
     "output_type": "display_data"
    }
   ],
   "source": [
    "from fit1 import fit1\n",
    "sentan = fit1((xdataR+xdata_min,ydataR),itr = 4000, alpha=1, xmin=-3, xmax=1,cutoff=0)\n",
    "\n",
    "# 原因はわからないが，１度目は描画に失敗するようである．２回目はうまくいく．"
   ]
  },
  {
   "cell_type": "code",
   "execution_count": 163,
   "metadata": {},
   "outputs": [
    {
     "data": {
      "text/plain": [
       "'17makoto1o05_l.jpg'"
      ]
     },
     "execution_count": 163,
     "metadata": {},
     "output_type": "execute_result"
    }
   ],
   "source": [
    "filename = df.iloc[10]['filename']\n",
    "filename"
   ]
  },
  {
   "cell_type": "code",
   "execution_count": 29,
   "metadata": {},
   "outputs": [
    {
     "data": {
      "text/plain": [
       "array([1.00000000000000, 0.999300037088034, 0.997743689592896,\n",
       "       0.995221075629174, 0.991623048732551, 0.986842208563645,\n",
       "       0.980773959937369, 0.973317620177800, 0.964377574798571,\n",
       "       0.953864481508778, 0.941696522544394, 0.927800705325214,\n",
       "       0.912114211437305, 0.894585793940977, 0.875177223004265,\n",
       "       0.853864779861938, 0.830640799100008, 0.805515259265772,\n",
       "       0.778517421803356, 0.749697518314785, 0.719128486146563,\n",
       "       0.686907752301772, 0.653159065677688, 0.618034377628907,\n",
       "       0.581715770855998, 0.544417436619660, 0.506387700280404,\n",
       "       0.467911095163747, 0.429310484750920, 0.390949233195103,\n",
       "       0.353233424163159, 0.316614128002897, 0.281589717235851,\n",
       "       0.248708230375566, 0.218569784071407, 0.191829033577882,\n",
       "       0.169197681549485, 0.151447035161048, 0.139410611553616],\n",
       "      dtype=object)"
      ]
     },
     "execution_count": 29,
     "metadata": {},
     "output_type": "execute_result"
    }
   ],
   "source": [
    "ydataR"
   ]
  },
  {
   "cell_type": "code",
   "execution_count": 26,
   "metadata": {},
   "outputs": [
    {
     "data": {
      "text/plain": [
       "[<matplotlib.lines.Line2D at 0x1c34da77b8>]"
      ]
     },
     "execution_count": 26,
     "metadata": {},
     "output_type": "execute_result"
    },
    {
     "data": {
      "image/png": "[encoded data removed]",
      "text/plain": [
       "<Figure size 432x288 with 1 Axes>"
      ]
     },
     "metadata": {},
     "output_type": "display_data"
    }
   ],
   "source": [
    "plt.plot(xdataR,ydataR)"
   ]
  },
  {
   "cell_type": "code",
   "execution_count": 22,
   "metadata": {},
   "outputs": [],
   "source": [
    "xdataR=np.array([-0.93923412, -0.91384941, -0.88846471, -0.86308   , -0.8376953 ,\n",
    "       -0.81231059, -0.78692588, -0.76154118, -0.73615647, -0.71077177,\n",
    "       -0.68538706, -0.66000236, -0.63461765, -0.60923294, -0.58384824,\n",
    "       -0.55846353, -0.53307883, -0.50769412, -0.48230941, -0.45692471,\n",
    "       -0.43154   , -0.4061553 , -0.38077059, -0.35538588, -0.33000118,\n",
    "       -0.30461647, -0.27923177, -0.25384706, -0.22846235, -0.20307765,\n",
    "       -0.17769294, -0.15230824, -0.12692353, -0.10153882, -0.07615412,\n",
    "       -0.05076941, -0.02538471,  0.        ,  0.02538471,  0.05076941,\n",
    "        0.07615412,  0.07615412,  0.10153882,  0.12692353,  0.15230824,\n",
    "        0.15230824,  0.17769294,  0.20307765,  0.22846235,  0.25384706,\n",
    "        0.25384706,  0.27923177,  0.30461647,  0.33000118,  0.35538588,\n",
    "        0.38077059,  0.4061553 ,  0.43154   ,  0.45692471,  0.48230941,\n",
    "        0.50769412,  0.53307883,  0.55846353,  0.58384824,  0.60923294,\n",
    "        0.63461765,  0.66000236,  0.68538706,  0.71077177,  0.73615647,\n",
    "        0.76154118,  0.78692588,  0.81231059,  0.8376953 ,  0.86308   ,\n",
    "        0.88846471,  0.91384941,  0.93923412,  0.96461883,  0.99000353,\n",
    "        1.01538824,  1.04077294,  1.06615765,  1.09154236,  1.11692706])\n"
   ]
  },
  {
   "cell_type": "code",
   "execution_count": 23,
   "metadata": {},
   "outputs": [],
   "source": [
    "ydataR=np.array([0.        , 0.02538471, 0.05076941, 0.05076941, 0.07615412,\n",
    "       0.07615412, 0.07615412, 0.07615412, 0.07615412, 0.07615412,\n",
    "       0.07615412, 0.07615412, 0.07615412, 0.07615412, 0.07615412,\n",
    "       0.07615412, 0.07615412, 0.07615412, 0.07615412, 0.07615412,\n",
    "       0.10153882, 0.10153882, 0.10153882, 0.10153882, 0.10153882,\n",
    "       0.10153882, 0.10153882, 0.10153882, 0.10153882, 0.12692353,\n",
    "       0.12692353, 0.12692353, 0.12692353, 0.15230824, 0.15230824,\n",
    "       0.15230824, 0.17769294, 0.20307765, 0.20307765, 0.22846235,\n",
    "       0.25384706, 0.27923177, 0.30461647, 0.33000118, 0.35538588,\n",
    "       0.38077059, 0.4061553 , 0.43154   , 0.45692471, 0.48230941,\n",
    "       0.50769412, 0.53307883, 0.55846353, 0.58384824, 0.60923294,\n",
    "       0.63461765, 0.66000236, 0.68538706, 0.71077177, 0.71077177,\n",
    "       0.73615647, 0.76154118, 0.78692588, 0.78692588, 0.81231059,\n",
    "       0.81231059, 0.8376953 , 0.86308   , 0.86308   , 0.88846471,\n",
    "       0.88846471, 0.91384941, 0.91384941, 0.91384941, 0.93923412,\n",
    "       0.93923412, 0.93923412, 0.93923412, 0.96461883, 0.96461883,\n",
    "       0.96461883, 0.96461883, 0.96461883, 0.96461883, 0.96461883])"
   ]
  },
  {
   "cell_type": "code",
   "execution_count": null,
   "metadata": {},
   "outputs": [],
   "source": []
  }
 ],
 "metadata": {
  "kernelspec": {
   "display_name": "Python 3",
   "language": "python",
   "name": "python3"
  },
  "language_info": {
   "codemirror_mode": {
    "name": "ipython",
    "version": 3
   },
   "file_extension": ".py",
   "mimetype": "text/x-python",
   "name": "python",
   "nbconvert_exporter": "python",
   "pygments_lexer": "ipython3",
   "version": "3.6.5"
  }
 },
 "nbformat": 4,
 "nbformat_minor": 2
}
