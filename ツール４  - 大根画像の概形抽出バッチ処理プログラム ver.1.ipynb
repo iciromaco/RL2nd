{
 "cells": [
  {
   "cell_type": "markdown",
   "metadata": {},
   "source": [
    "## 根画像抽出プログラム ver.1\n",
    "\n",
    "根部分のみ抽出、ただし、\n",
    "- ヒゲ根は収縮膨張によりカットする。カット基準は、面積が2/3になるまで収縮し、その過程で消えた部分はカット。のち、同じ回数膨張させてほぼ元の根形に戻す。\n",
    "- OpenCV の cv2.fitEllipse 関数で図形を囲む最小矩形を求め、長軸が垂直になるように回転する。\n",
    "\n",
    "### 前提\n",
    "- 概ね根が下になるように撮影された画像であることを前提としている。\n",
    "\n",
    "### わかっている問題点\n",
    "- 形状しか見ていないので、球に近いものは軸方向が根軸から大きくずれる\n",
    "- 角笛状のものはそもそも楕円形近似が適さないし、どちらを上にすべきかはなんとも言えない。"
   ]
  },
  {
   "cell_type": "code",
   "execution_count": 4,
   "metadata": {},
   "outputs": [],
   "source": [
    "import numpy as np\n",
    "import matplotlib.pyplot as plt\n",
    "import cv2\n",
    "from PIL import Image\n",
    "import math\n",
    "import pandas as pd\n",
    "import os\n",
    "\n",
    "# この関数は画像の入った複数のフォルダが１つのフォルダに入っていることを前提としている。\n",
    "#  指定フォルダ直下の画像ファイルは無視する。直下のフォルダの中しか見ず、さらにサブフォルダがあっても再帰的に探すようなことはしない。\n",
    "\n",
    "def listimage(path='シルエット', needThum=False):\n",
    "\n",
    "    directory = os.listdir(path)\n",
    "    \n",
    "    # まずフォルダを全部リストアップ　→ folders\n",
    "    folders = []\n",
    "    for x in os.listdir(path):  \n",
    "        if os.path.isdir(path + '/'+x) and x[0] != '.' and x[0] !='_':  #パスに取り出したオブジェクトを足してフルパスに\n",
    "            folders.append(path + '/'+x)\n",
    "    # print(folders)\n",
    "\n",
    "    # folders の各フォルダの中にある jpg ファイルをリストアップ → ffiles\n",
    "    # ffiles はフォルダごとのリストのリスト\n",
    "    ffiles = []\n",
    "    for x in folders:\n",
    "        files = []\n",
    "        for f in os.listdir(x):\n",
    "            entry = x + '/'+f\n",
    "            if os.path.isfile(entry) and f[-4:]=='.jpg' and f[0] != '.':\n",
    "                files.append(entry)\n",
    "        ffiles.append(files)\n",
    "    \n",
    "    if needThum: # サムネイルの作成\n",
    "        i = 0\n",
    "        for cat in ffiles:\n",
    "            # print(folders[i])\n",
    "            sam = Image.new('RGB', (800,600),(0,0,0))\n",
    "            row = col = 0\n",
    "            for rad in cat:\n",
    "                img = Image.open(rad, 'r')\n",
    "                thumbnail_size = (100, 100)\n",
    "                img.thumbnail(thumbnail_size)\n",
    "                sam.paste(img,(col,row))\n",
    "                col += 100\n",
    "                if col == 800:\n",
    "                    col = 0\n",
    "                    row += 100\n",
    "                # plt.imshow(sam)\n",
    "            sam.save('{}THUM.png'.format(folders[i]), 'PNG')\n",
    "            print(\"saved {}\".format(folders[i]))\n",
    "            i +=1\n",
    "\n",
    "    return folders,ffiles\n",
    "\n",
    "# マージンをつける\n",
    "def makemargin(img,mr=2):\n",
    "    h,w = img.shape[:2]\n",
    "    w2 = mr*w\n",
    "    h2 = mr*h\n",
    "    x1 = int((w2-w)/2)\n",
    "    y1 = int((h2-h)/2)\n",
    "    img2 = np.zeros((h2,w2),np.uint8)\n",
    "    img2[y1:y1+h,x1:x1+w] = img\n",
    "    return img2\n",
    "\n",
    "# ２枚の画像をサイズを並べた画像を作成する\n",
    "def mkparaimage(img1,img2):\n",
    "    h1,w1 = img1.shape[:2]\n",
    "    h2,w2 = img2.shape[:2]\n",
    "    if img1.ndim == 2:\n",
    "        img11 = np.zeros((h1,w1,3))\n",
    "        img11[:,:,0]=img11[:,:,1]=img11[:,:,2]=img1\n",
    "    else:\n",
    "        img11=img1\n",
    "    if img2.ndim == 2:\n",
    "        img22 = np.zeros((h2,w2,3))\n",
    "        img22[:,:,0]=img22[:,:,1]=img22[:,:,2]=img2\n",
    "    else:\n",
    "        img22=img2\n",
    "    paraimg = 255*np.ones((max(h1,h2),w1+w2+10,3),dtype=np.uint8)\n",
    "    \n",
    "    paraimg[0:h1,0:w1,:] = img11\n",
    "    paraimg[0:h2,w1+10:,:]=img22\n",
    "    \n",
    "    return paraimg\n",
    "\n",
    "# mkparaimage で２枚並べた画像を表示\n",
    "def imshowpara(img1,img2):\n",
    "    plotimg(mkparaimage(img1,img2))"
   ]
  },
  {
   "cell_type": "code",
   "execution_count": 13,
   "metadata": {},
   "outputs": [],
   "source": [
    "# メインプログラム\n",
    "\n",
    "def batch(images, savedir='概形シルエット',interactive = True):\n",
    "    # savedir 保存先\n",
    "    # interactive 結果を１枚ずつ確認するかどうか\n",
    "    \n",
    "    for path in images:\n",
    "        print(path)\n",
    "        img = cv2.imread(path,cv2.IMREAD_GRAYSCALE)\n",
    "        img2 = makemargin(img) # 作業用のマージンを確保\n",
    "    \n",
    "        # ガウスぼかしを適用してシルエットを滑らかにする\n",
    "        ksize = int(0.1*img.shape[1]/2)*2+1 # ぼかし量  元の図形の幅に応じて決める\n",
    "        img2 = cv2.GaussianBlur(img2,(ksize,ksize),0) # ガウスぼかしを適用\n",
    "        _ret,img2 = cv2.threshold(img2, 127, 255, cv2.THRESH_BINARY) # ２値化\n",
    "\n",
    "        # 収縮・膨張によりヒゲ根を除去する\n",
    "        area0 = np.sum(img2) # img2 の画素数*255 になるはず\n",
    "        kernel = np.ones((3,3),np.uint8) \n",
    "        tmpimg = cv2.erode(img2,kernel,iterations = 1) # 収縮１回目\n",
    "        area1 = np.sum(tmpimg) # 収縮したので area0 より少なくなる\n",
    "        n = 1\n",
    "        while 3*area1  > 2*area0: # 面積が 2/3 以下になるまで繰り返す\n",
    "            tmpimg = cv2.erode(tmpimg,kernel,iterations = 1)\n",
    "            area1 = np.sum(tmpimg) \n",
    "            n += 1\n",
    "        # print(\"収縮・膨張回数\",n)\n",
    "        img3 = cv2.dilate(tmpimg,kernel,iterations = n) # 同じ回数膨張させる\n",
    "\n",
    "        # 楕円近似で軸方向を求める\n",
    "        # あらためて輪郭を求め直す\n",
    "        _img,cnt,hierarchy = cv2.findContours(img3, cv2.RETR_EXTERNAL, cv2.CHAIN_APPROX_NONE) #  あらためて輪郭を抽出\n",
    "        # rect1 = cv2.minAreaRect(cnt[0])  # 回転を考慮した矩形を求める場合\n",
    "        rect1 = cv2.fitEllipse(cnt[0]) # 楕円近似する\n",
    "        box = np.int0(cv2.boxPoints(rect1))  # (対角点1,幅と高さ,回転角) から４点座標に変換\n",
    "        #cimg = cv2.cvtColor(img3,cv2.COLOR_GRAY2BGR)\n",
    "        #cimg = cv2.drawContours(cimg,[box],0,(255,0,0),2)\n",
    "        # pltt.imshow(cimg)\n",
    "        deg = rect1[2] if rect1[2]<90 else rect1[2]-180\n",
    "        x0,y0 = rect1[0]        \n",
    "        \n",
    "        # 非常に稀であるが、回転すると全体が描画領域外に出ることがあるので作業領域を広く確保\n",
    "        # mat = cv2.getRotationMatrix2D((x0,y0), deg, 1.0) # アフィン変換マトリクス\n",
    "        img4 = makemargin(img3,mr=2) # 作業用のマージンを確保\n",
    "        h3,w3 = img3.shape[:2]\n",
    "        h4,w4 = img4.shape[:2]\n",
    "        mat = cv2.getRotationMatrix2D((x0+(w4-w3)/2,y0+(h4-h3)/2), deg, 1.0) # アフィン変換マトリクス\n",
    "\n",
    "        # アフィン変換の適用\n",
    "        outimg = cv2.warpAffine(img4, mat, (0,0))\n",
    "\n",
    "        # 再び最小矩形を求めて切り出す。ただし、マージンを５つける\n",
    "        _nLabels, _labelImages, data, _center = cv2.connectedComponentsWithStats(outimg) \n",
    "        outimg = outimg[data[1][1]-5:data[1][1]+data[1][3]+5,data[1][0]-5:data[1][0]+data[1][2]+5]\n",
    "\n",
    "        # 結果を保存する\n",
    "        readdir,filename = os.path.split(path)\n",
    "        _,subdir = os.path.split(readdir)\n",
    "        os.makedirs(os.path.join(savedir,subdir), exist_ok=True) # 保存先フォルダがなければ作成\n",
    "        cv2.imwrite(os.path.join(savedir,subdir,filename),outimg)\n",
    "        \n",
    "        if interactive:\n",
    "            cv2.imshow(filename,mkparaimage(img,outimg))\n",
    "            key = cv2.waitKey(0)\n",
    "            cv2.destroyAllWindows()\n",
    "            cv2.waitKey(1) \n",
    "            if key == 113: #  \"Q\" で終了する\n",
    "                break\n"
   ]
  },
  {
   "cell_type": "code",
   "execution_count": 14,
   "metadata": {},
   "outputs": [
    {
     "name": "stdout",
     "output_type": "stream",
     "text": [
      "シルエット/17Cylindric/17daruma2o05_l.jpg\n",
      "シルエット/17Cylindric/17daruma3o01_l.jpg\n",
      "シルエット/17Cylindric/17daruma3o02_l.jpg\n",
      "シルエット/17Cylindric/17daruma3o03_l.jpg\n",
      "シルエット/17Cylindric/17daruma3o05_l.jpg\n",
      "シルエット/17Cylindric/17daruma3o09_l.jpg\n",
      "シルエット/17Cylindric/17daruma6o09_l.jpg\n",
      "シルエット/17Cylindric/17kohaku1o02_l.jpg\n",
      "シルエット/17Cylindric/17kohaku1o09_l.jpg\n",
      "シルエット/17Cylindric/17kohaku2o10_l.jpg\n",
      "シルエット/17Cylindric/17makoto1o01_l.jpg\n",
      "シルエット/17Cylindric/17makoto1o05_l.jpg\n",
      "シルエット/17Cylindric/17makoto1o06_l.jpg\n",
      "シルエット/17Cylindric/17makoto1o10_l.jpg\n",
      "シルエット/17Cylindric/17makoto2o03_l.jpg\n",
      "シルエット/17Cylindric/17makoto2o06_l.jpg\n",
      "シルエット/17Cylindric/17santar2o09_l.jpg\n",
      "シルエット/17Cylindric/17santar2o10_l.jpg\n",
      "シルエット/17Cylindric/17sinsyt1o08_l.jpg\n",
      "シルエット/17Cylindric/17tanabe1o01_l.jpg\n",
      "シルエット/17Cylindric/17tanabe1o02_l.jpg\n",
      "シルエット/17Cylindric/17tanabe1o05_l.jpg\n",
      "シルエット/17Cylindric/17tanabe1o06_l.jpg\n",
      "シルエット/17Cylindric/17tanabe1o07_l.jpg\n",
      "シルエット/17Cylindric/17tanabe1o09_l.jpg\n",
      "シルエット/17Cylindric/17tanabe1o10_l.jpg\n",
      "シルエット/17Cylindric/17tanabe2o01_l.jpg\n",
      "シルエット/17Cylindric/17tanabe2o03_l.jpg\n",
      "シルエット/17Cylindric/17tanabe2o04_l.jpg\n",
      "シルエット/17Cylindric/17tanabe2o05_l.jpg\n",
      "シルエット/17Cylindric/17tanabe2o06_l.jpg\n",
      "シルエット/17Cylindric/17tanabe2o07_l.jpg\n",
      "シルエット/17Cylindric/17tanabe2o09_l.jpg\n",
      "シルエット/17Cylindric/17yukibi1o01_l.jpg\n",
      "シルエット/17Cylindric/17yukibi1o02_l.jpg\n",
      "シルエット/17Cylindric/17yukibi1o03_l.jpg\n",
      "シルエット/17Cylindric/17yukibi1o07_l.jpg\n",
      "シルエット/17Cylindric/17yukibi1o08_l.jpg\n",
      "シルエット/17Cylindric/17yukibi2o02_l.jpg\n",
      "シルエット/17Cylindric/17yukibi2o04_l.jpg\n",
      "シルエット/17Cylindric/17yukibi2o05_l.jpg\n",
      "シルエット/17Cylindric/17yukibi2o07_l.jpg\n",
      "シルエット/17Cylindric/17yukibi2o09_l.jpg\n",
      "シルエット/17Conv_tri/17fuyuji1o05_l.jpg\n",
      "シルエット/17Conv_tri/17fuyuji1o08_l.jpg\n",
      "シルエット/17Conv_tri/17fuyuji1o09_l.jpg\n",
      "シルエット/17Conv_tri/17fuyuji1o10_l.jpg\n",
      "シルエット/17Conv_tri/17fuyuji2o08_l.jpg\n",
      "シルエット/17Conv_tri/17fuyuji2o09_l.jpg\n",
      "シルエット/17Conv_tri/17santar1o02_l.jpg\n",
      "シルエット/17Conv_tri/17syunky2o08_l.jpg\n",
      "シルエット/17Conv_tri/17tukasa1o01_l.jpg\n",
      "シルエット/17Conv_tri/17tukasa1o02_l.jpg\n",
      "シルエット/17Conv_tri/17tukasa1o03_l.jpg\n",
      "シルエット/17Conv_tri/17tukasa1o04_l.jpg\n",
      "シルエット/17Conv_tri/17tukasa1o05_l.jpg\n",
      "シルエット/17Conv_tri/17tukasa2o01_l.jpg\n",
      "シルエット/17Conv_tri/17tukasa2o05_l.jpg\n",
      "シルエット/17Conv_tri/17tukasa2o08_l.jpg\n",
      "シルエット/17Conv_tri/17tukasa2o09_l.jpg\n",
      "シルエット/17Conv_tri/17whitec1o03_l.jpg\n",
      "シルエット/17Elliptic/17kometo1o02_l.jpg\n",
      "シルエット/17Elliptic/17kometo1o04_l.jpg\n",
      "シルエット/17Elliptic/17kometo1o06_l.jpg\n",
      "シルエット/17Elliptic/17kometo1o07_l.jpg\n",
      "シルエット/17Elliptic/17ofukur1o01_l.jpg\n",
      "シルエット/17Elliptic/17ofukur1o02_l.jpg\n",
      "シルエット/17Elliptic/17ofukur1o03_l.jpg\n",
      "シルエット/17Elliptic/17ofukur1o04_l.jpg\n",
      "シルエット/17Elliptic/17ofukur1o06_l.jpg\n",
      "シルエット/17Elliptic/17ofukur1o07_l.jpg\n",
      "シルエット/17Elliptic/17ofukur1o08_l.jpg\n",
      "シルエット/17Elliptic/17ofukur1o09_l.jpg\n",
      "シルエット/17Elliptic/17ofukur1o10_l.jpg\n",
      "シルエット/17Elliptic/17ofukur2o01_l.jpg\n",
      "シルエット/17Elliptic/17ofukur2o03_l.jpg\n",
      "シルエット/17Elliptic/17ofukur2o07_l.jpg\n",
      "シルエット/17Elliptic/17ofukur2o09_l.jpg\n",
      "シルエット/17Elliptic/17ofukur3o01_l.jpg\n",
      "シルエット/17Elliptic/17ofukur3o02_l.jpg\n",
      "シルエット/17Elliptic/17ofukur3o08_l.jpg\n",
      "シルエット/17Elliptic/17okinaw1o01_l.jpg\n",
      "シルエット/17Elliptic/17okinaw1o02_l.jpg\n",
      "シルエット/17Elliptic/17okinaw1o04_l.jpg\n",
      "シルエット/17Elliptic/17okinaw1o05_l.jpg\n",
      "シルエット/17Elliptic/17okinaw1o06_l.jpg\n",
      "シルエット/17Elliptic/17okinaw1o08_l.jpg\n",
      "シルエット/17Elliptic/17okinaw2o04_l.jpg\n",
      "シルエット/17Elliptic/17okinaw2o08_l.jpg\n",
      "シルエット/17Elliptic/17okinaw2o10_l.jpg\n",
      "シルエット/17Elliptic/17okinaw3o05_l.jpg\n",
      "シルエット/17Elliptic/17okinaw3o06_l.jpg\n",
      "シルエット/17Elliptic/17okinaw3o08_l.jpg\n",
      "シルエット/17Elliptic/17okinaw3o09_l.jpg\n",
      "シルエット/17Elliptic/17okinaw3o10_l.jpg\n",
      "シルエット/17Elliptic/17tyokei1o06_l.jpg\n",
      "シルエット/17Elliptic/17tyokei1o10_l.jpg\n",
      "シルエット/17Elliptic/17tyokei2o02_l.jpg\n",
      "シルエット/17Elliptic/17tyokei2o03_l.jpg\n",
      "シルエット/17Elliptic/17tyokei2o07_l.jpg\n",
      "シルエット/17Elliptic/17tyokei2o08_l.jpg\n",
      "シルエット/17Elliptic/17tyokei2o09_l.jpg\n",
      "シルエット/17Elliptic/17tyokei2o10_l.jpg\n",
      "シルエット/17Elliptic/17yukiko1o07_l.jpg\n",
      "シルエット/17Elliptic/17yukiko2o05_l.jpg\n",
      "シルエット/17Horn/17aomida1o02_l.jpg\n",
      "シルエット/17Horn/17aomida1o05_l.jpg\n",
      "シルエット/17Horn/17aomida1o09_l.jpg\n",
      "シルエット/17Horn/17aomida2o01_l.jpg\n",
      "シルエット/17Horn/17aomida2o02_l.jpg\n",
      "シルエット/17Horn/17horyot1o02_l.jpg\n",
      "シルエット/17Horn/17horyot1o04_l.jpg\n",
      "シルエット/17Horn/17horyot1o05_l.jpg\n",
      "シルエット/17Horn/17horyot1o06_l.jpg\n",
      "シルエット/17Horn/17horyot1o10_l.jpg\n",
      "シルエット/17Horn/17horyot2o10_l.jpg\n",
      "シルエット/17Horn/17horyou1o03_l.jpg\n",
      "シルエット/17Horn/17horyou2o01_l.jpg\n",
      "シルエット/17Horn/17horyou2o02_l.jpg\n",
      "シルエット/17Horn/17horyou2o05_l.jpg\n",
      "シルエット/17Horn/17horyou2o08_l.jpg\n",
      "シルエット/17Horn/17tohong1o03_l.jpg\n",
      "シルエット/17Horn/17tohong1o04_l.jpg\n",
      "シルエット/17Horn/17whitec2o09_l.jpg\n",
      "シルエット/17Inv_tri/17nezumi1o01_l.jpg\n",
      "シルエット/17Inv_tri/17nezumi1o02_l.jpg\n",
      "シルエット/17Inv_tri/17nezumi1o03_l.jpg\n",
      "シルエット/17Inv_tri/17nezumi1o04_l.jpg\n",
      "シルエット/17Inv_tri/17nezumi1o05_l.jpg\n",
      "シルエット/17Inv_tri/17nezumi1o06_l.jpg\n",
      "シルエット/17Inv_tri/17nezumi1o08_l.jpg\n",
      "シルエット/17Inv_tri/17nezumi1o09_l.jpg\n",
      "シルエット/17Inv_tri/17nezumi1o10_l.jpg\n",
      "シルエット/17Inv_tri/17nezumi2o02_l.jpg\n",
      "シルエット/17Inv_tri/17nezumi2o06_l.jpg\n",
      "シルエット/17Inv_tri/17nezumi2o07_l.jpg\n",
      "シルエット/17Inv_tri/17nezumi2o08_l.jpg\n",
      "シルエット/17Inv_tri/17nezumi2o10_l.jpg\n",
      "シルエット/17Inv_tri/17sinsyt1o02_l.jpg\n",
      "シルエット/17Inv_tri/17sinsyt1o03_l.jpg\n",
      "シルエット/17Inv_tri/17sinsyt2o03_l.jpg\n",
      "シルエット/17Inv_tri/17sinsyt2o04_l.jpg\n",
      "シルエット/17Inv_tri/17sinsyt2o09_l.jpg\n",
      "シルエット/17Inv_tri/17sinsyu1o01_l.jpg\n",
      "シルエット/17Inv_tri/17sinsyu1o02_l.jpg\n",
      "シルエット/17Inv_tri/17sinsyu1o03_l.jpg\n",
      "シルエット/17Inv_tri/17sinsyu1o08_l.jpg\n",
      "シルエット/17Inv_tri/17sinsyu2o04_l.jpg\n",
      "シルエット/17Inv_tri/17sinsyu2o05_l.jpg\n",
      "シルエット/17Inv_tri/17sinsyu2o06_l.jpg\n",
      "シルエット/17Inv_tri/17sinsyu2o07_l.jpg\n",
      "シルエット/17Inv_tri/17sinsyu2o08_l.jpg\n",
      "シルエット/17Inv_tri/17syunky2o06_l.jpg\n",
      "シルエット/17Inv_tri/17tohodm1o01_l.jpg\n",
      "シルエット/17Inv_tri/17tohodm1o02_l.jpg\n",
      "シルエット/17Inv_tri/17yukibi2o01_l.jpg\n",
      "シルエット/17Spheric/17heians1o02_l.jpg\n",
      "シルエット/17Spheric/17heians1o06_l.jpg\n",
      "シルエット/17Spheric/17heians2o02_l.jpg\n",
      "シルエット/17Spheric/17heians2o04_l.jpg\n",
      "シルエット/17Spheric/17heians2o08_l.jpg\n",
      "シルエット/17Spheric/17heians2o09_l.jpg\n",
      "シルエット/17Spheric/17heians2o10_l.jpg\n",
      "シルエット/17Spheric/17karami1o02_l.jpg\n",
      "シルエット/17Spheric/17karami1o03_l.jpg\n",
      "シルエット/17Spheric/17karami1o09_l.jpg\n",
      "シルエット/17Spheric/17karami2o04_l.jpg\n",
      "シルエット/17Spheric/17karami2o06_l.jpg\n",
      "シルエット/17Spheric/17karami2o07_l.jpg\n",
      "シルエット/17Spheric/17kometo1o01_l.jpg\n",
      "シルエット/17Spheric/17kometo2o01_l.jpg\n",
      "シルエット/17Spheric/17kometo2o04_l.jpg\n",
      "シルエット/17Spheric/17kometo2o07_l.jpg\n",
      "シルエット/17Spheric/17marumi1o01_l.jpg\n",
      "シルエット/17Spheric/17marumi1o02_l.jpg\n",
      "シルエット/17Spheric/17marumi1o04_l.jpg\n",
      "シルエット/17Spheric/17marumi1o06_l.jpg\n",
      "シルエット/17Spheric/17marumi1o09_l.jpg\n",
      "シルエット/17Spheric/17marumi2o02_l.jpg\n",
      "シルエット/17Spheric/17marumi2o03_l.jpg\n",
      "シルエット/17Spheric/17marumi2o04_l.jpg\n",
      "シルエット/17Spheric/17marumi2o10_l.jpg\n",
      "シルエット/17Spheric/17okinaw2o09_l.jpg\n",
      "シルエット/17Spheric/17tyokei1o05_l.jpg\n",
      "シルエット/17Spheric/17tyokei2o04_l.jpg\n",
      "シルエット/17Spheric/17tyokei2o05_l.jpg\n",
      "シルエット/17Spheric/17tyokei2o06_l.jpg\n",
      "シルエット/17Spheric/17yakumi1o05_l.jpg\n",
      "シルエット/17Spheric/17yakumi1o06_l.jpg\n",
      "シルエット/17Spheric/17yakumi2o06_l.jpg\n",
      "シルエット/17Tran_ellip/17heians1o01_l.jpg\n",
      "シルエット/17Tran_ellip/17heians1o03_l.jpg\n",
      "シルエット/17Tran_ellip/17heians1o04_l.jpg\n",
      "シルエット/17Tran_ellip/17heians1o05_l.jpg\n",
      "シルエット/17Tran_ellip/17heians1o07_l.jpg\n",
      "シルエット/17Tran_ellip/17heians1o08_l.jpg\n",
      "シルエット/17Tran_ellip/17heians1o09_l.jpg\n",
      "シルエット/17Tran_ellip/17heians2o03_l.jpg\n",
      "シルエット/17Tran_ellip/17karami1o01_l.jpg\n",
      "シルエット/17Tran_ellip/17karami1o05_l.jpg\n",
      "シルエット/17Tran_ellip/17karami2o01_l.jpg\n",
      "シルエット/17Tran_ellip/17karami2o03_l.jpg\n",
      "シルエット/17Tran_ellip/17kazafu1o03_l.jpg\n",
      "シルエット/17Tran_ellip/17kazafu2o02_l.jpg\n",
      "シルエット/17Tran_ellip/17kazafu2o05_l.jpg\n",
      "シルエット/17Tran_ellip/17kazafu2o08_l.jpg\n",
      "シルエット/17Tran_ellip/17miniml1o04_l.jpg\n",
      "シルエット/17Tran_ellip/17miniml1o09_l.jpg\n",
      "シルエット/17Tran_ellip/17miniml1o10_l.jpg\n",
      "シルエット/17Triagular/17horyot1o03_l.jpg\n",
      "シルエット/17Triagular/17horyot1o07_l.jpg\n",
      "シルエット/17Triagular/17horyot1o08_l.jpg\n",
      "シルエット/17Triagular/17horyot2o01_l.jpg\n",
      "シルエット/17Triagular/17horyot2o02_l.jpg\n",
      "シルエット/17Triagular/17horyot2o03_l.jpg\n",
      "シルエット/17Triagular/17horyot2o04_l.jpg\n",
      "シルエット/17Triagular/17horyot2o05_l.jpg\n",
      "シルエット/17Triagular/17horyot2o07_l.jpg\n",
      "シルエット/17Triagular/17horyot2o09_l.jpg\n",
      "シルエット/17Triagular/17horyou1o01_l.jpg\n",
      "シルエット/17Triagular/17horyou1o04_l.jpg\n",
      "シルエット/17Triagular/17horyou1o05_l.jpg\n",
      "シルエット/17Triagular/17horyou1o06_l.jpg\n",
      "シルエット/17Triagular/17horyou2o09_l.jpg\n",
      "シルエット/17Triagular/17kamedo1o01_l.jpg\n",
      "シルエット/17Triagular/17kamedo1o04_l.jpg\n",
      "シルエット/17Triagular/17kamedo1o06_l.jpg\n",
      "シルエット/17Triagular/17kamedo1o07_l.jpg\n",
      "シルエット/17Triagular/17kamedo2o01_l.jpg\n",
      "シルエット/17Triagular/17kamedo2o02_l.jpg\n",
      "シルエット/17Triagular/17kamedo2o03_l.jpg\n",
      "シルエット/17Triagular/17kamedo2o04_l.jpg\n"
     ]
    },
    {
     "name": "stdout",
     "output_type": "stream",
     "text": [
      "シルエット/17Triagular/17kamedo2o09_l.jpg\n",
      "シルエット/17Triagular/17kamedo2o10_l.jpg\n",
      "シルエット/17Triagular/17tohong1o05_l.jpg\n",
      "シルエット/17Triagular/17tohotn1o02_l.jpg\n",
      "シルエット/17Triagular/17tohotn1o03_l.jpg\n",
      "シルエット/17Triagular/17tohotn1o04_l.jpg\n",
      "シルエット/17Triagular/17tohotn1o05_l.jpg\n",
      "シルエット/17Triagular/17tohotn1o06_l.jpg\n",
      "シルエット/17Apically/17daruma1o03_l.jpg\n",
      "シルエット/17Apically/17daruma1o08_l.jpg\n",
      "シルエット/17Apically/17daruma1o09_l.jpg\n",
      "シルエット/17Apically/17daruma4o02_l.jpg\n",
      "シルエット/17Apically/17daruma4o06_l.jpg\n",
      "シルエット/17Apically/17daruma4o08_l.jpg\n",
      "シルエット/17Apically/17daruma5o03_l.jpg\n",
      "シルエット/17Apically/17daruma6o06_l.jpg\n",
      "シルエット/17Apically/17tohodm1o05_l.jpg\n"
     ]
    }
   ],
   "source": [
    "_dir,ffiles = listimage(path='シルエット', needThum=False)\n",
    "batch(sum(ffiles,[]), savedir='概形シルエット',interactive = False)"
   ]
  },
  {
   "cell_type": "code",
   "execution_count": 248,
   "metadata": {},
   "outputs": [
    {
     "name": "stdout",
     "output_type": "stream",
     "text": [
      "saved 概形シルエット/17Cylindric\n",
      "saved 概形シルエット/17Conv_tri\n",
      "saved 概形シルエット/17Elliptic\n",
      "saved 概形シルエット/17Horn\n",
      "saved 概形シルエット/17Inv_tri\n",
      "saved 概形シルエット/17Spheric\n",
      "saved 概形シルエット/17Tran_ellip\n",
      "saved 概形シルエット/17Triagular\n",
      "saved 概形シルエット/17Apically\n"
     ]
    }
   ],
   "source": [
    "_dir,ffiles = listimage(path='概形シルエット', needThum=False)"
   ]
  },
  {
   "cell_type": "code",
   "execution_count": 197,
   "metadata": {},
   "outputs": [
    {
     "data": {
      "text/plain": [
       "<matplotlib.image.AxesImage at 0x120944198>"
      ]
     },
     "execution_count": 197,
     "metadata": {},
     "output_type": "execute_result"
    },
    {
     "data": {
      "image/png": "[encoded data removed]",
      "text/plain": [
       "<Figure size 432x288 with 1 Axes>"
      ]
     },
     "metadata": {
      "needs_background": "light"
     },
     "output_type": "display_data"
    }
   ],
   "source": [
    "topdir = \"シルエット\"\n",
    "subdir = \"17Spheric\"\n",
    "filename = \"17heians1o02_l.jpg\"\n",
    "path = os.path.join(topdir,subdir,filename)\n",
    "img = cv2.imread(path,cv2.IMREAD_GRAYSCALE)\n",
    "plt.imshow(img)"
   ]
  },
  {
   "cell_type": "code",
   "execution_count": 289,
   "metadata": {},
   "outputs": [
    {
     "name": "stdout",
     "output_type": "stream",
     "text": [
      "418 15\n"
     ]
    },
    {
     "data": {
      "text/plain": [
       "<matplotlib.image.AxesImage at 0x135e45a90>"
      ]
     },
     "execution_count": 289,
     "metadata": {},
     "output_type": "execute_result"
    },
    {
     "data": {
      "image/png": "[encoded data removed]",
      "text/plain": [
       "<Figure size 432x288 with 1 Axes>"
      ]
     },
     "metadata": {
      "needs_background": "light"
     },
     "output_type": "display_data"
    }
   ],
   "source": [
    "# 大抵の画像処理は画像枠近傍は処理結果がおかしくなるのでマージンをつける\n",
    "def makemargin(img):\n",
    "    h,w = img.shape[:2]\n",
    "    w2 = 2*w\n",
    "    h2 = 2*h\n",
    "    img2 = np.zeros((h2,w2),np.uint8)\n",
    "    img2[int(h/2):int(h/2)+h,int(w/2):int(w/2)+w] = img\n",
    "    return img2\n",
    "\n",
    "img2 = makemargin(img)\n",
    "ksize = int(0.1*img.shape[1]/2)*2+1\n",
    "print(img.shape[0],ksize)\n",
    "img2 = cv2.GaussianBlur(img2,(ksize,ksize),0)\n",
    "_ret,img2 = cv2.threshold(img2, 127, 255, cv2.THRESH_BINARY)\n",
    "plt.imshow(img2)"
   ]
  },
  {
   "cell_type": "code",
   "execution_count": 199,
   "metadata": {},
   "outputs": [
    {
     "name": "stdout",
     "output_type": "stream",
     "text": [
      "27227.0 26275.0\n",
      "収縮・膨張回数 11\n",
      "元の重心位置  252.02787674000072 177.2556286039593\n",
      "変形後の重心位置  245.75589251439538 177.68971209213052\n",
      "面積の変化 27227.0 -> 26050.0\n",
      "面積の割合 0.956770852462629\n"
     ]
    },
    {
     "data": {
      "text/plain": [
       "<matplotlib.image.AxesImage at 0x120a294e0>"
      ]
     },
     "execution_count": 199,
     "metadata": {},
     "output_type": "execute_result"
    },
    {
     "data": {
      "image/png": "[encoded data removed]",
      "text/plain": [
       "<Figure size 432x288 with 1 Axes>"
      ]
     },
     "metadata": {
      "needs_background": "light"
     },
     "output_type": "display_data"
    }
   ],
   "source": [
    "# ヒゲを除去\n",
    "\n",
    "kernel = np.ones((3,3),np.uint8)\n",
    "area0 = np.sum(img2/255)\n",
    "oimg = cv2.erode(img2,kernel,iterations = 1)\n",
    "area1 = np.sum(oimg/255)\n",
    "print(area0,area1)\n",
    "\n",
    "n = 1\n",
    "while area1  > 2*area0/3:\n",
    "    oimg = cv2.erode(oimg,kernel,iterations = 1)\n",
    "    area1 = np.sum(oimg/255)\n",
    "    n += 1\n",
    "print(\"収縮・膨張回数\",n)\n",
    "oimg = cv2.dilate(oimg,kernel,iterations = n)\n",
    "mm2 = cv2.moments(img2)\n",
    "mom = cv2.moments(oimg)\n",
    "area1 = np.sum(oimg/255)\n",
    "print(\"元の重心位置 \",mm2['m01']/mm2['m00'],mm2['m10']/mm2['m00'])\n",
    "print(\"変形後の重心位置 \",mom['m01']/mom['m00'],mom['m10']/mom['m00'])\n",
    "print(\"面積の変化 {} -> {}\".format(area0, area1))\n",
    "# plt.imshow(oimg)\n",
    "print(\"面積の割合\",area1/area0)\n",
    "\n",
    "pimg = cv2.cvtColor(img2,cv2.COLOR_GRAY2BGR)\n",
    "_img,contours,hierarchy = cv2.findContours(oimg, cv2.RETR_EXTERNAL, cv2.CHAIN_APPROX_NONE)\n",
    "pimg = cv2.drawContours(pimg,[contours[0]],0,(255,0,0),2)\n",
    "pimg = cv2.circle(pimg,(int(mom['m10']/mom['m00']),int(mom['m01']/mom['m00'])),5,(0,255,0),2)\n",
    "\n",
    "rect = cv2.boundingRect(contours[0])\n",
    "\n",
    "plt.imshow(pimg)"
   ]
  },
  {
   "cell_type": "code",
   "execution_count": 200,
   "metadata": {},
   "outputs": [
    {
     "data": {
      "text/plain": [
       "array([[ 71, 324],\n",
       "       [118, 130],\n",
       "       [283, 170],\n",
       "       [236, 364]])"
      ]
     },
     "execution_count": 200,
     "metadata": {},
     "output_type": "execute_result"
    },
    {
     "data": {
      "image/png": "[encoded data removed]",
      "text/plain": [
       "<Figure size 432x288 with 1 Axes>"
      ]
     },
     "metadata": {
      "needs_background": "light"
     },
     "output_type": "display_data"
    }
   ],
   "source": [
    "# 楕円近似で軸方向を求める\n",
    "# あらためて輪郭を求め直す\n",
    "_img,cnt,hierarchy = cv2.findContours(oimg, cv2.RETR_EXTERNAL, cv2.CHAIN_APPROX_NONE) #  あらためて輪郭を抽出\n",
    "# rect1 = cv2.minAreaRect(cnt[0])  # 回転を考慮した矩形を求める\n",
    "rect1 = cv2.fitEllipse(cnt[0]) # 楕円近似する\n",
    "box = np.int0(cv2.boxPoints(rect1))\n",
    "pimg = cv2.cvtColor(oimg,cv2.COLOR_GRAY2BGR)\n",
    "pimg = cv2.drawContours(pimg,[box],0,(255,0,0),2)\n",
    "plt.imshow(pimg)\n",
    "box"
   ]
  },
  {
   "cell_type": "code",
   "execution_count": 201,
   "metadata": {},
   "outputs": [
    {
     "data": {
      "text/plain": [
       "<matplotlib.image.AxesImage at 0x120ba0358>"
      ]
     },
     "execution_count": 201,
     "metadata": {},
     "output_type": "execute_result"
    },
    {
     "data": {
      "image/png": "[encoded data removed]",
      "text/plain": [
       "<Figure size 432x288 with 1 Axes>"
      ]
     },
     "metadata": {
      "needs_background": "light"
     },
     "output_type": "display_data"
    }
   ],
   "source": [
    "# ２枚の画像をサイズを並べた画像を作成する\n",
    "def mkparaimage(img1,img2):\n",
    "    h1,w1 = img1.shape[:2]\n",
    "    h2,w2 = img2.shape[:2]\n",
    "    if img1.ndim == 2:\n",
    "        img11 = np.zeros((h1,w1,3))\n",
    "        img11[:,:,0]=img11[:,:,1]=img11[:,:,2]=img1\n",
    "    else:\n",
    "        img11=img1\n",
    "    if img2.ndim == 2:\n",
    "        img22 = np.zeros((h2,w2,3))\n",
    "        img22[:,:,0]=img22[:,:,1]=img22[:,:,2]=img2\n",
    "    else:\n",
    "        img22=img2\n",
    "    paraimg = 255*np.ones((max(h1,h2),w1+w2+10,3),dtype=np.uint8)\n",
    "    \n",
    "    paraimg[0:h1,0:w1,:] = img11\n",
    "    paraimg[0:h2,w1+10:,:]=img22\n",
    "    \n",
    "    return paraimg\n",
    "\n",
    "deg = rect1[2]\n",
    "x0,y0 = rect1[0]\n",
    "ratio = 4\n",
    "mat = cv2.getRotationMatrix2D((x0,y0), deg, 1.0)\n",
    "outimg = cv2.warpAffine(oimg, mat, (0,0))\n",
    "# 再び最小矩形を求めて切り出す。ただし、マージンを５つける\n",
    "_nLabels, _labelImages, data, _center = cv2.connectedComponentsWithStats(outimg) \n",
    "outimg = outimg[data[1][1]-5:data[1][1]+data[1][3]+5,data[1][0]-5:data[1][0]+data[1][2]+5]\n",
    "plt.imshow(mkparaimage(img,outimg))"
   ]
  },
  {
   "cell_type": "code",
   "execution_count": 302,
   "metadata": {},
   "outputs": [
    {
     "data": {
      "text/plain": [
       "<matplotlib.image.AxesImage at 0x136150198>"
      ]
     },
     "execution_count": 302,
     "metadata": {},
     "output_type": "execute_result"
    },
    {
     "data": {
      "image/png": "[encoded data removed]",
      "text/plain": [
       "<Figure size 432x288 with 1 Axes>"
      ]
     },
     "metadata": {
      "needs_background": "light"
     },
     "output_type": "display_data"
    }
   ],
   "source": [
    "# 以上を一気に実行してみる\n",
    "\n",
    "# マージンをつける\n",
    "def makemargin(img,mr=2):\n",
    "    h,w = img.shape[:2]\n",
    "    w2 = mr*w\n",
    "    h2 = mr*h\n",
    "    x1 = int((w2-w)/2)\n",
    "    y1 = int((h2-h)/2)\n",
    "    img2 = np.zeros((h2,w2),np.uint8)\n",
    "    img2[y1:y1+h,x1:x1+w] = img\n",
    "    return img2\n",
    "\n",
    "topdir = \"シルエット\"\n",
    "subdir = \"17Cylindric\"\n",
    "filename = \"17yukibi1o08_l.jpg\"\n",
    "\n",
    "path = os.path.join(topdir,subdir,filename)\n",
    "img = cv2.imread(path,cv2.IMREAD_GRAYSCALE)\n",
    "# plt.imshow(img)\n",
    "\n",
    "img2 = makemargin(img) # 作業用のマージンを確保\n",
    "\n",
    "# ガウスぼかしを適用してシルエットを滑らかにする\n",
    "ksize = int(0.1*img.shape[1]/2)*2+1 # ぼかし量  元の図形の幅に応じて決める\n",
    "# print(img.shape[0],ksize)\n",
    "img2 = cv2.GaussianBlur(img2,(ksize,ksize),0) # ガウスぼかしを適用\n",
    "_ret,img2 = cv2.threshold(img2, 127, 255, cv2.THRESH_BINARY) # ２値化\n",
    "# plt.imshow(img2)\n",
    "\n",
    "# 収縮・膨張によりヒゲ根を除去する\n",
    "area0 = np.sum(img2) # img2 の画素数*255 になるはず\n",
    "kernel = np.ones((3,3),np.uint8) \n",
    "tmpimg = cv2.erode(img2,kernel,iterations = 1) # 収縮１回目\n",
    "area1 = np.sum(tmpimg) # 収縮したので area0 より少なくなる\n",
    "n = 1\n",
    "while 3*area1  > 2*area0: # 面積が 2/3 以下になるまで繰り返す\n",
    "    tmpimg = cv2.erode(tmpimg,kernel,iterations = 1)\n",
    "    area1 = np.sum(tmpimg) \n",
    "    n += 1\n",
    "# print(\"収縮・膨張回数\",n)\n",
    "img3 = cv2.dilate(tmpimg,kernel,iterations = n) # 同じ回数膨張させる\n",
    "\n",
    "# 楕円近似で軸方向を求める\n",
    "# あらためて輪郭を求め直す\n",
    "_img,cnt,hierarchy = cv2.findContours(img3, cv2.RETR_EXTERNAL, cv2.CHAIN_APPROX_NONE) #  あらためて輪郭を抽出\n",
    "# rect1 = cv2.minAreaRect(cnt[0])  # 回転を考慮した矩形を求める場合\n",
    "rect1 = cv2.fitEllipse(cnt[0]) # 楕円近似する\n",
    "box = np.int0(cv2.boxPoints(rect1)) \n",
    "#cimg = cv2.cvtColor(img3,cv2.COLOR_GRAY2BGR)\n",
    "#cimg = cv2.drawContours(cimg,[box],0,(255,0,0),2)\n",
    "# plt.imshow(cimg)\n",
    "deg = rect1[2]\n",
    "x0,y0 = rect1[0]\n",
    "mat = cv2.getRotationMatrix2D((x0,y0), deg, 1.0)\n",
    "outimg = cv2.warpAffine(img3, mat, (0,0))\n",
    "# 再び最小矩形を求めて切り出す。ただし、マージンを５つける\n",
    "_nLabels, _labelImages, data, _center = cv2.connectedComponentsWithStats(outimg) \n",
    "outimg = outimg[data[1][1]-5:data[1][1]+data[1][3]+5,data[1][0]-5:data[1][0]+data[1][2]+5]\n",
    "plt.imshow(outimg)"
   ]
  },
  {
   "cell_type": "code",
   "execution_count": 209,
   "metadata": {},
   "outputs": [
    {
     "data": {
      "text/plain": [
       "((95.39210510253906, 188.8125762939453),\n",
       " (68.855712890625, 164.9580078125),\n",
       " 8.717416763305664)"
      ]
     },
     "execution_count": 209,
     "metadata": {},
     "output_type": "execute_result"
    }
   ],
   "source": [
    "rect1"
   ]
  },
  {
   "cell_type": "markdown",
   "metadata": {},
   "source": [
    "# 楕円近似の問題点\n",
    "\n",
    "一つだけうまくいかない個体があったので解析"
   ]
  },
  {
   "cell_type": "code",
   "execution_count": 8,
   "metadata": {},
   "outputs": [
    {
     "data": {
      "text/plain": [
       "<matplotlib.image.AxesImage at 0x10249cba8>"
      ]
     },
     "execution_count": 8,
     "metadata": {},
     "output_type": "execute_result"
    },
    {
     "data": {
      "image/png": "[encoded data removed]",
      "text/plain": [
       "<Figure size 432x288 with 1 Axes>"
      ]
     },
     "metadata": {
      "needs_background": "light"
     },
     "output_type": "display_data"
    }
   ],
   "source": [
    "# 以上を一気に実行してみる\n",
    "\n",
    "topdir = \"シルエット\"\n",
    "subdir = \"17Horn\"\n",
    "filename = \"17aomida2o02_l.jpg\"\n",
    "\n",
    "path = os.path.join(topdir,subdir,filename)\n",
    "img = cv2.imread(path,cv2.IMREAD_GRAYSCALE)\n",
    "plt.imshow(img)"
   ]
  },
  {
   "cell_type": "code",
   "execution_count": 9,
   "metadata": {},
   "outputs": [
    {
     "data": {
      "text/plain": [
       "<matplotlib.image.AxesImage at 0x11a94a0b8>"
      ]
     },
     "execution_count": 9,
     "metadata": {},
     "output_type": "execute_result"
    },
    {
     "data": {
      "image/png": "[encoded data removed]",
      "text/plain": [
       "<Figure size 432x288 with 1 Axes>"
      ]
     },
     "metadata": {
      "needs_background": "light"
     },
     "output_type": "display_data"
    }
   ],
   "source": [
    "img2 = makemargin(img) # 作業用のマージンを確保\n",
    "plt.imshow(img2)\n",
    "\n",
    "# ガウスぼかしを適用してシルエットを滑らかにする\n",
    "ksize = int(0.1*img.shape[1]/2)*2+1 # ぼかし量  元の図形の幅に応じて決める\n",
    "# print(img.shape[0],ksize)\n",
    "img2 = cv2.GaussianBlur(img2,(ksize,ksize),0) # ガウスぼかしを適用\n",
    "_ret,img2 = cv2.threshold(img2, 127, 255, cv2.THRESH_BINARY) # ２値化\n",
    "\n",
    "# 収縮・膨張によりヒゲ根を除去する\n",
    "area0 = np.sum(img2) # img2 の画素数*255 になるはず\n",
    "kernel = np.ones((3,3),np.uint8) \n",
    "tmpimg = cv2.erode(img2,kernel,iterations = 1) # 収縮１回目\n",
    "area1 = np.sum(tmpimg) # 収縮したので area0 より少なくなる\n",
    "n = 1\n",
    "while 3*area1  > 2*area0: # 面積が 2/3 以下になるまで繰り返す\n",
    "    tmpimg = cv2.erode(tmpimg,kernel,iterations = 1)\n",
    "    area1 = np.sum(tmpimg) \n",
    "    n += 1\n",
    "# print(\"収縮・膨張回数\",n)\n",
    "img3 = cv2.dilate(tmpimg,kernel,iterations = n) # 同じ回数膨張させる\n",
    "\n",
    "plt.imshow(img3)"
   ]
  },
  {
   "cell_type": "code",
   "execution_count": 10,
   "metadata": {},
   "outputs": [
    {
     "data": {
      "text/plain": [
       "<matplotlib.image.AxesImage at 0x11ab6a668>"
      ]
     },
     "execution_count": 10,
     "metadata": {},
     "output_type": "execute_result"
    },
    {
     "data": {
      "image/png": "[encoded data removed]",
      "text/plain": [
       "<Figure size 432x288 with 1 Axes>"
      ]
     },
     "metadata": {
      "needs_background": "light"
     },
     "output_type": "display_data"
    }
   ],
   "source": [
    "# 楕円近似で軸方向を求める\n",
    "# あらためて輪郭を求め直す\n",
    "_img,cnt,hierarchy = cv2.findContours(img3, cv2.RETR_EXTERNAL, cv2.CHAIN_APPROX_NONE) #  あらためて輪郭を抽出\n",
    "# rect1 = cv2.minAreaRect(cnt[0])  # 回転を考慮した矩形を求める場合\n",
    "rect1 = cv2.fitEllipse(cnt[0]) # 楕円近似する\n",
    "box = np.int0(cv2.boxPoints(rect1)) \n",
    "cimg = cv2.cvtColor(img3,cv2.COLOR_GRAY2BGR)\n",
    "cimg = cv2.drawContours(cimg,[box],0,(255,0,0),2)\n",
    "plt.imshow(cimg)"
   ]
  },
  {
   "cell_type": "code",
   "execution_count": 11,
   "metadata": {},
   "outputs": [],
   "source": [
    "deg = rect1[2]\n",
    "x0,y0 = rect1[0]\n",
    "mat = cv2.getRotationMatrix2D((x0,y0), deg, 1.0)"
   ]
  },
  {
   "cell_type": "code",
   "execution_count": 286,
   "metadata": {},
   "outputs": [
    {
     "data": {
      "text/plain": [
       "(-43.87461853027344, 430.52508544921875)"
      ]
     },
     "execution_count": 286,
     "metadata": {},
     "output_type": "execute_result"
    }
   ],
   "source": [
    "x0,y0"
   ]
  },
  {
   "cell_type": "markdown",
   "metadata": {},
   "source": [
    "# なぜこうなるのか考察\n",
    "\n",
    "与えられた各点との距離の総和が最小となる楕円を求めている。\n",
    "通常の根形の場合、右側と右側の側面が楕円の向かい合う弧にフィッティングされるが、このようなホーン型の場合は、右側と左側がどちらもが同弧にフィッティングされたためと思われる。\n",
    "\n"
   ]
  },
  {
   "cell_type": "code",
   "execution_count": 12,
   "metadata": {},
   "outputs": [
    {
     "data": {
      "text/plain": [
       "<matplotlib.image.AxesImage at 0x11abc87f0>"
      ]
     },
     "execution_count": 12,
     "metadata": {},
     "output_type": "execute_result"
    },
    {
     "data": {
      "image/png": "[encoded data removed]",
      "text/plain": [
       "<Figure size 432x288 with 1 Axes>"
      ]
     },
     "metadata": {
      "needs_background": "light"
     },
     "output_type": "display_data"
    }
   ],
   "source": [
    "deg = rect1[2]\n",
    "x0,y0 = rect1[0]\n",
    "\n",
    "img4 = makemargin(img3,mr=2) # 作業用のマージンを確保\n",
    "h3,w3 = img3.shape[:2]\n",
    "h4,w4 = img4.shape[:2]\n",
    "mat = cv2.getRotationMatrix2D((x0+(w4-w3)/2,y0+(h4-h3)/2), deg, 1.0)\n",
    "outimg = cv2.warpAffine(img4, mat, (0,0))\n",
    "# 再び最小矩形を求めて切り出す。ただし、マージンを５つける\n",
    "_nLabels, _labelImages, data, _center = cv2.connectedComponentsWithStats(outimg) \n",
    "outimg = outimg[data[1][1]-5:data[1][1]+data[1][3]+5,data[1][0]-5:data[1][0]+data[1][2]+5]\n",
    "plt.imshow(outimg)"
   ]
  },
  {
   "cell_type": "code",
   "execution_count": 296,
   "metadata": {},
   "outputs": [
    {
     "ename": "error",
     "evalue": "OpenCV(3.4.2) /opt/concourse/worker/volumes/live/9523d527-1b9e-48e0-7ed0-a36adde286f0/volume/opencv-suite_1535558719691/work/modules/imgproc/src/imgwarp.cpp:1804: error: (-215:Assertion failed) ifunc != 0 in function 'remap'\n",
     "output_type": "error",
     "traceback": [
      "\u001b[0;31m---------------------------------------------------------------------------\u001b[0m",
      "\u001b[0;31merror\u001b[0m                                     Traceback (most recent call last)",
      "\u001b[0;32m<ipython-input-296-aa3a33d8d062>\u001b[0m in \u001b[0;36m<module>\u001b[0;34m()\u001b[0m\n\u001b[0;32m----> 1\u001b[0;31m \u001b[0mcv2\u001b[0m\u001b[0;34m.\u001b[0m\u001b[0mwarpAffine\u001b[0m\u001b[0;34m(\u001b[0m\u001b[0mnp\u001b[0m\u001b[0;34m.\u001b[0m\u001b[0marray\u001b[0m\u001b[0;34m(\u001b[0m\u001b[0mbox\u001b[0m\u001b[0;34m)\u001b[0m\u001b[0;34m,\u001b[0m\u001b[0mmat\u001b[0m\u001b[0;34m,\u001b[0m \u001b[0;34m(\u001b[0m\u001b[0;36m0\u001b[0m\u001b[0;34m,\u001b[0m\u001b[0;36m0\u001b[0m\u001b[0;34m)\u001b[0m\u001b[0;34m)\u001b[0m\u001b[0;34m\u001b[0m\u001b[0m\n\u001b[0m",
      "\u001b[0;31merror\u001b[0m: OpenCV(3.4.2) /opt/concourse/worker/volumes/live/9523d527-1b9e-48e0-7ed0-a36adde286f0/volume/opencv-suite_1535558719691/work/modules/imgproc/src/imgwarp.cpp:1804: error: (-215:Assertion failed) ifunc != 0 in function 'remap'\n"
     ]
    }
   ],
   "source": [
    "cv2.warpAffine(np.array(box),mat, (0,0))"
   ]
  },
  {
   "cell_type": "code",
   "execution_count": 299,
   "metadata": {},
   "outputs": [
    {
     "data": {
      "text/plain": [
       "array([[   0.62281138,    0.78237202, -353.37978819],\n",
       "       [  -0.78237202,    0.62281138,  128.0628873 ]])"
      ]
     },
     "execution_count": 299,
     "metadata": {},
     "output_type": "execute_result"
    }
   ],
   "source": [
    "mat"
   ]
  },
  {
   "cell_type": "code",
   "execution_count": null,
   "metadata": {},
   "outputs": [],
   "source": []
  }
 ],
 "metadata": {
  "kernelspec": {
   "display_name": "Python 3",
   "language": "python",
   "name": "python3"
  },
  "language_info": {
   "codemirror_mode": {
    "name": "ipython",
    "version": 3
   },
   "file_extension": ".py",
   "mimetype": "text/x-python",
   "name": "python",
   "nbconvert_exporter": "python",
   "pygments_lexer": "ipython3",
   "version": "3.6.6"
  }
 },
 "nbformat": 4,
 "nbformat_minor": 2
}
