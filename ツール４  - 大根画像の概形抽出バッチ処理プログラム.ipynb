{
 "cells": [
  {
   "cell_type": "code",
   "execution_count": 4,
   "metadata": {},
   "outputs": [],
   "source": []
  },
  {
   "cell_type": "markdown",
   "metadata": {},
   "source": [
    "## 根画像抽出プログラム\n",
    "\n",
    "根部分のみ抽出、ただし、\n",
    "- ヒゲ根は収縮膨張によりカットする。カット基準は、面積が2/3になるまで収縮し、その過程で消えた部分はカット。のち、同じ回数膨張させてほぼ元の根形に戻す。\n",
    "- OpenCV の cv2.minAreaRect 関数で図形を囲む最小矩形を求め、長軸が垂直になるように回転する。\n",
    "\n",
    "### 前提\n",
    "- 概ね根が下になるように撮影された画像であることを前提としている。\n",
    "\n",
    "処理後にうまく処理できていないものだけ手作業で切り出し処理を行う。"
   ]
  },
  {
   "cell_type": "code",
   "execution_count": 230,
   "metadata": {},
   "outputs": [],
   "source": [
    "import numpy as np\n",
    "import matplotlib.pyplot as plt\n",
    "import cv2\n",
    "from PIL import Image\n",
    "import math\n",
    "import pandas as pd\n",
    "\n",
    "# この関数は画像の入った複数のフォルダが１つのフォルダに入っていることを前提としている。\n",
    "#  指定フォルダ直下の画像ファイルは無視する。直下のフォルダの中しか見ず、さらにサブフォルダがあっても再帰的に探すようなことはしない。\n",
    "\n",
    "def listimage(path='シルエット', needThum=False):\n",
    "\n",
    "    directory = os.listdir(path)\n",
    "    \n",
    "    # まずフォルダを全部リストアップ　→ folders\n",
    "    folders = []\n",
    "    for x in os.listdir(path):  \n",
    "        if os.path.isdir(path + '/'+x) and x[0] != '.' and x[0] !='_':  #パスに取り出したオブジェクトを足してフルパスに\n",
    "            folders.append(path + '/'+x)\n",
    "    # print(folders)\n",
    "\n",
    "    # folders の各フォルダの中にある jpg ファイルをリストアップ → ffiles\n",
    "    # ffiles はフォルダごとのリストのリスト\n",
    "    ffiles = []\n",
    "    for x in folders:\n",
    "        files = []\n",
    "        for f in os.listdir(x):\n",
    "            entry = x + '/'+f\n",
    "            if os.path.isfile(entry) and f[-4:]=='.jpg' and f[0] != '.':\n",
    "                files.append(entry)\n",
    "        ffiles.append(files)\n",
    "    \n",
    "    if needThum: # サムネイルの作成\n",
    "        i = 0\n",
    "        for cat in ffiles:\n",
    "            # print(folders[i])\n",
    "            sam = Image.new('RGB', (800,600),(0,0,0))\n",
    "            row = col = 0\n",
    "            for rad in cat:\n",
    "                img = Image.open(rad, 'r')\n",
    "                thumbnail_size = (100, 100)\n",
    "                img.thumbnail(thumbnail_size)\n",
    "                sam.paste(img,(col,row))\n",
    "                col += 100\n",
    "                if col == 800:\n",
    "                    col = 0\n",
    "                    row += 100\n",
    "                # plt.imshow(sam)\n",
    "            sam.save('{}THUM.png'.format(folders[i]), 'PNG')\n",
    "            print(\"saved {}\".format(folders[i]))\n",
    "            i +=1\n",
    "\n",
    "    return folders,ffiles\n",
    "\n",
    "# マージンをつける\n",
    "def makemargin(img):\n",
    "    h,w = img.shape[:2]\n",
    "    w2 = 2*w\n",
    "    h2 = 2*h\n",
    "    img2 = np.zeros((h2,w2),np.uint8)\n",
    "    img2[int(h/2):int(h/2)+h,int(w/2):int(w/2)+w] = img\n",
    "    return img2\n",
    "\n",
    "# ２枚の画像をサイズを並べた画像を作成する\n",
    "def mkparaimage(img1,img2):\n",
    "    h1,w1 = img1.shape[:2]\n",
    "    h2,w2 = img2.shape[:2]\n",
    "    if img1.ndim == 2:\n",
    "        img11 = np.zeros((h1,w1,3))\n",
    "        img11[:,:,0]=img11[:,:,1]=img11[:,:,2]=img1\n",
    "    else:\n",
    "        img11=img1\n",
    "    if img2.ndim == 2:\n",
    "        img22 = np.zeros((h2,w2,3))\n",
    "        img22[:,:,0]=img22[:,:,1]=img22[:,:,2]=img2\n",
    "    else:\n",
    "        img22=img2\n",
    "    paraimg = 255*np.ones((max(h1,h2),w1+w2+10,3),dtype=np.uint8)\n",
    "    \n",
    "    paraimg[0:h1,0:w1,:] = img11\n",
    "    paraimg[0:h2,w1+10:,:]=img22\n",
    "    \n",
    "    return paraimg\n",
    "\n",
    "# mkparaimage で２枚並べた画像を表示\n",
    "def imshowpara(img1,img2):\n",
    "    plotimg(mkparaimage(img1,img2))"
   ]
  },
  {
   "cell_type": "code",
   "execution_count": 246,
   "metadata": {},
   "outputs": [],
   "source": [
    "# メインプログラム\n",
    "\n",
    "def batch(images, savedir='概形シルエット',interactive = True):\n",
    "    # savedir 保存先\n",
    "    # interactive 結果を１枚ずつ確認するかどうか\n",
    "    \n",
    "    for path in images:\n",
    "        print(path,end=\"\")\n",
    "        img = cv2.imread(path,cv2.IMREAD_GRAYSCALE)\n",
    "        img2 = makemargin(img) # 作業用のマージンを確保\n",
    "    \n",
    "        # ガウスぼかしを適用してシルエットを滑らかにする\n",
    "        ksize = int(0.1*img.shape[1]/2)*2+1 # ぼかし量  元の図形の幅に応じて決める\n",
    "        img2 = cv2.GaussianBlur(img2,(ksize,ksize),0) # ガウスぼかしを適用\n",
    "        _ret,img2 = cv2.threshold(img2, 127, 255, cv2.THRESH_BINARY) # ２値化\n",
    "\n",
    "        # 収縮・膨張によりヒゲ根を除去する\n",
    "        area0 = np.sum(img2) # img2 の画素数*255 になるはず\n",
    "        kernel = np.ones((3,3),np.uint8) \n",
    "        tmpimg = cv2.erode(img2,kernel,iterations = 1) # 収縮１回目\n",
    "        area1 = np.sum(tmpimg) # 収縮したので area0 より少なくなる\n",
    "        n = 1\n",
    "        while 3*area1  > 2*area0: # 面積が 2/3 以下になるまで繰り返す\n",
    "            tmpimg = cv2.erode(tmpimg,kernel,iterations = 1)\n",
    "            area1 = np.sum(tmpimg) \n",
    "            n += 1\n",
    "        # print(\"収縮・膨張回数\",n)\n",
    "        img3 = cv2.dilate(tmpimg,kernel,iterations = n) # 同じ回数膨張させる\n",
    "\n",
    "        # 楕円近似で軸方向を求める\n",
    "        # あらためて輪郭を求め直す\n",
    "        _img,cnt,hierarchy = cv2.findContours(img3, cv2.RETR_EXTERNAL, cv2.CHAIN_APPROX_NONE) #  あらためて輪郭を抽出\n",
    "        # rect1 = cv2.minAreaRect(cnt[0])  # 回転を考慮した矩形を求める場合\n",
    "        rect1 = cv2.fitEllipse(cnt[0]) # 楕円近似する\n",
    "        box = np.int0(cv2.boxPoints(rect1))  # (対角点1,幅と高さ,回転角) から４点座標に変換\n",
    "        #cimg = cv2.cvtColor(img3,cv2.COLOR_GRAY2BGR)\n",
    "        #cimg = cv2.drawContours(cimg,[box],0,(255,0,0),2)\n",
    "        # pltt.imshow(cimg)\n",
    "        deg = rect1[2] if rect1[2]<90 else rect1[2]-180\n",
    "        x0,y0 = rect1[0]\n",
    "        mat = cv2.getRotationMatrix2D((x0,y0), deg, 1.0) # アフィン変換マトリクス\n",
    "        outimg = cv2.warpAffine(img3, mat, (0,0))\n",
    "        print(int(x0),int(y0),int(deg))\n",
    "        # 再び最小矩形を求めて切り出す。ただし、マージンを５つける\n",
    "        _nLabels, _labelImages, data, _center = cv2.connectedComponentsWithStats(outimg) \n",
    "        outimg = outimg[data[1][1]-5:data[1][1]+data[1][3]+5,data[1][0]-5:data[1][0]+data[1][2]+5]\n",
    "\n",
    "        # 結果を保存する\n",
    "        readdir,filename = os.path.split(path)\n",
    "        _,subdir = os.path.split(readdir)\n",
    "        os.makedirs(os.path.join(savedir,subdir), exist_ok=True) # 保存先フォルダがなければ作成\n",
    "        cv2.imwrite(os.path.join(savedir,subdir,filename),outimg)\n",
    "        \n",
    "        if interactive:\n",
    "            cv2.imshow(filename,mkparaimage(img,outimg))\n",
    "            key = cv2.waitKey(0)\n",
    "            cv2.destroyAllWindows()\n",
    "            cv2.waitKey(1) \n",
    "            if key == 113: #  \"Q\" で終了する\n",
    "                break\n"
   ]
  },
  {
   "cell_type": "code",
   "execution_count": 247,
   "metadata": {},
   "outputs": [
    {
     "name": "stdout",
     "output_type": "stream",
     "text": [
      "シルエット/17Cylindric/17daruma2o05_l.jpg85 269 0\n",
      "シルエット/17Cylindric/17daruma3o01_l.jpg77 272 0\n",
      "シルエット/17Cylindric/17daruma3o02_l.jpg142 294 2\n",
      "シルエット/17Cylindric/17daruma3o03_l.jpg93 307 -4\n",
      "シルエット/17Cylindric/17daruma3o05_l.jpg120 257 0\n",
      "シルエット/17Cylindric/17daruma3o09_l.jpg140 300 5\n",
      "シルエット/17Cylindric/17daruma6o09_l.jpg86 305 -3\n",
      "シルエット/17Cylindric/17kohaku1o02_l.jpg42 104 2\n",
      "シルエット/17Cylindric/17kohaku1o09_l.jpg41 114 -2\n",
      "シルエット/17Cylindric/17kohaku2o10_l.jpg39 127 1\n",
      "シルエット/17Cylindric/17makoto1o01_l.jpg136 351 1\n",
      "シルエット/17Cylindric/17makoto1o05_l.jpg123 421 0\n",
      "シルエット/17Cylindric/17makoto1o06_l.jpg99 305 2\n",
      "シルエット/17Cylindric/17makoto1o10_l.jpg86 352 -4\n",
      "シルエット/17Cylindric/17makoto2o03_l.jpg114 356 2\n",
      "シルエット/17Cylindric/17makoto2o06_l.jpg109 347 0\n",
      "シルエット/17Cylindric/17santar2o09_l.jpg87 303 2\n",
      "シルエット/17Cylindric/17santar2o10_l.jpg95 312 -3\n",
      "シルエット/17Cylindric/17sinsyt1o08_l.jpg92 368 0\n",
      "シルエット/17Cylindric/17tanabe1o01_l.jpg111 273 -2\n",
      "シルエット/17Cylindric/17tanabe1o02_l.jpg116 359 0\n",
      "シルエット/17Cylindric/17tanabe1o05_l.jpg120 302 -4\n",
      "シルエット/17Cylindric/17tanabe1o06_l.jpg118 328 -2\n",
      "シルエット/17Cylindric/17tanabe1o07_l.jpg99 267 -5\n",
      "シルエット/17Cylindric/17tanabe1o09_l.jpg119 308 -1\n",
      "シルエット/17Cylindric/17tanabe1o10_l.jpg116 330 0\n",
      "シルエット/17Cylindric/17tanabe2o01_l.jpg122 374 0\n",
      "シルエット/17Cylindric/17tanabe2o03_l.jpg109 256 -7\n",
      "シルエット/17Cylindric/17tanabe2o04_l.jpg144 309 -2\n",
      "シルエット/17Cylindric/17tanabe2o05_l.jpg128 224 -6\n",
      "シルエット/17Cylindric/17tanabe2o06_l.jpg79 261 0\n",
      "シルエット/17Cylindric/17tanabe2o07_l.jpg130 345 -1\n",
      "シルエット/17Cylindric/17tanabe2o09_l.jpg108 235 -2\n",
      "シルエット/17Cylindric/17yukibi1o01_l.jpg71 232 -1\n",
      "シルエット/17Cylindric/17yukibi1o02_l.jpg81 180 -8\n",
      "シルエット/17Cylindric/17yukibi1o03_l.jpg65 172 -4\n",
      "シルエット/17Cylindric/17yukibi1o07_l.jpg86 191 10\n",
      "シルエット/17Cylindric/17yukibi1o08_l.jpg95 188 8\n",
      "シルエット/17Cylindric/17yukibi2o02_l.jpg57 146 -3\n",
      "シルエット/17Cylindric/17yukibi2o04_l.jpg77 210 0\n",
      "シルエット/17Cylindric/17yukibi2o05_l.jpg72 172 4\n",
      "シルエット/17Cylindric/17yukibi2o07_l.jpg63 147 0\n",
      "シルエット/17Cylindric/17yukibi2o09_l.jpg54 161 0\n",
      "シルエット/17Conv_tri/17fuyuji1o05_l.jpg86 354 3\n",
      "シルエット/17Conv_tri/17fuyuji1o08_l.jpg76 315 0\n",
      "シルエット/17Conv_tri/17fuyuji1o09_l.jpg87 337 0\n",
      "シルエット/17Conv_tri/17fuyuji1o10_l.jpg87 369 2\n",
      "シルエット/17Conv_tri/17fuyuji2o08_l.jpg93 367 3\n",
      "シルエット/17Conv_tri/17fuyuji2o09_l.jpg85 323 1\n",
      "シルエット/17Conv_tri/17santar1o02_l.jpg90 313 0\n",
      "シルエット/17Conv_tri/17syunky2o08_l.jpg49 216 -3\n",
      "シルエット/17Conv_tri/17tukasa1o01_l.jpg90 386 1\n",
      "シルエット/17Conv_tri/17tukasa1o02_l.jpg88 356 -1\n",
      "シルエット/17Conv_tri/17tukasa1o03_l.jpg94 395 1\n",
      "シルエット/17Conv_tri/17tukasa1o04_l.jpg97 425 2\n",
      "シルエット/17Conv_tri/17tukasa1o05_l.jpg96 398 2\n",
      "シルエット/17Conv_tri/17tukasa2o01_l.jpg98 372 -5\n",
      "シルエット/17Conv_tri/17tukasa2o05_l.jpg101 328 -5\n",
      "シルエット/17Conv_tri/17tukasa2o08_l.jpg97 381 -3\n",
      "シルエット/17Conv_tri/17tukasa2o09_l.jpg94 377 0\n",
      "シルエット/17Conv_tri/17whitec1o03_l.jpg49 212 -4\n",
      "シルエット/17Elliptic/17kometo1o02_l.jpg31 57 -7\n",
      "シルエット/17Elliptic/17kometo1o04_l.jpg42 53 -3\n",
      "シルエット/17Elliptic/17kometo1o06_l.jpg37 63 -8\n",
      "シルエット/17Elliptic/17kometo1o07_l.jpg37 68 8\n",
      "シルエット/17Elliptic/17ofukur1o01_l.jpg106 306 2\n",
      "シルエット/17Elliptic/17ofukur1o02_l.jpg112 442 4\n",
      "シルエット/17Elliptic/17ofukur1o03_l.jpg118 379 0\n",
      "シルエット/17Elliptic/17ofukur1o04_l.jpg103 366 6\n",
      "シルエット/17Elliptic/17ofukur1o06_l.jpg92 377 1\n",
      "シルエット/17Elliptic/17ofukur1o07_l.jpg93 294 2\n",
      "シルエット/17Elliptic/17ofukur1o08_l.jpg101 371 2\n",
      "シルエット/17Elliptic/17ofukur1o09_l.jpg92 351 -3\n",
      "シルエット/17Elliptic/17ofukur1o10_l.jpg126 311 14\n",
      "シルエット/17Elliptic/17ofukur2o01_l.jpg101 383 0\n",
      "シルエット/17Elliptic/17ofukur2o03_l.jpg60 227 -1\n",
      "シルエット/17Elliptic/17ofukur2o07_l.jpg95 286 0\n",
      "シルエット/17Elliptic/17ofukur2o09_l.jpg100 253 -2\n",
      "シルエット/17Elliptic/17ofukur3o01_l.jpg122 425 1\n",
      "シルエット/17Elliptic/17ofukur3o02_l.jpg128 451 1\n",
      "シルエット/17Elliptic/17ofukur3o08_l.jpg72 243 5\n",
      "シルエット/17Elliptic/17okinaw1o01_l.jpg143 274 4\n",
      "シルエット/17Elliptic/17okinaw1o02_l.jpg108 255 7\n",
      "シルエット/17Elliptic/17okinaw1o04_l.jpg131 289 -7\n",
      "シルエット/17Elliptic/17okinaw1o05_l.jpg118 254 -2\n",
      "シルエット/17Elliptic/17okinaw1o06_l.jpg130 339 -2\n",
      "シルエット/17Elliptic/17okinaw1o08_l.jpg120 325 6\n",
      "シルエット/17Elliptic/17okinaw2o04_l.jpg139 331 -8\n",
      "シルエット/17Elliptic/17okinaw2o08_l.jpg141 254 -4\n",
      "シルエット/17Elliptic/17okinaw2o10_l.jpg128 331 -4\n",
      "シルエット/17Elliptic/17okinaw3o05_l.jpg155 329 3\n",
      "シルエット/17Elliptic/17okinaw3o06_l.jpg135 330 -2\n",
      "シルエット/17Elliptic/17okinaw3o08_l.jpg194 428 -5\n",
      "シルエット/17Elliptic/17okinaw3o09_l.jpg146 378 3\n",
      "シルエット/17Elliptic/17okinaw3o10_l.jpg146 379 1\n",
      "シルエット/17Elliptic/17tyokei1o06_l.jpg134 267 -2\n",
      "シルエット/17Elliptic/17tyokei1o10_l.jpg146 295 3\n",
      "シルエット/17Elliptic/17tyokei2o02_l.jpg183 338 -4\n",
      "シルエット/17Elliptic/17tyokei2o03_l.jpg123 242 0\n",
      "シルエット/17Elliptic/17tyokei2o07_l.jpg141 275 3\n",
      "シルエット/17Elliptic/17tyokei2o08_l.jpg201 278 2\n",
      "シルエット/17Elliptic/17tyokei2o09_l.jpg141 259 -2\n",
      "シルエット/17Elliptic/17tyokei2o10_l.jpg147 286 3\n",
      "シルエット/17Elliptic/17yukiko1o07_l.jpg35 131 -5\n",
      "シルエット/17Elliptic/17yukiko2o05_l.jpg56 193 0\n",
      "シルエット/17Horn/17aomida1o02_l.jpg103 387 47\n",
      "シルエット/17Horn/17aomida1o05_l.jpg143 355 15\n",
      "シルエット/17Horn/17aomida1o09_l.jpg120 394 -5\n",
      "シルエット/17Horn/17aomida2o01_l.jpg122 446 -6\n",
      "シルエット/17Horn/17aomida2o02_l.jpg-43 430 51\n",
      "シルエット/17Horn/17horyot1o02_l.jpg156 402 -9\n",
      "シルエット/17Horn/17horyot1o04_l.jpg211 429 -21\n",
      "シルエット/17Horn/17horyot1o05_l.jpg133 360 6\n",
      "シルエット/17Horn/17horyot1o06_l.jpg131 428 -8\n",
      "シルエット/17Horn/17horyot1o10_l.jpg174 406 7\n",
      "シルエット/17Horn/17horyot2o10_l.jpg129 326 2\n",
      "シルエット/17Horn/17horyou1o03_l.jpg94 267 -6\n",
      "シルエット/17Horn/17horyou2o01_l.jpg219 370 14\n",
      "シルエット/17Horn/17horyou2o02_l.jpg184 310 17\n",
      "シルエット/17Horn/17horyou2o05_l.jpg80 260 1\n",
      "シルエット/17Horn/17horyou2o08_l.jpg150 389 6\n",
      "シルエット/17Horn/17tohong1o03_l.jpg213 353 17\n",
      "シルエット/17Horn/17tohong1o04_l.jpg282 340 33\n",
      "シルエット/17Horn/17whitec2o09_l.jpg76 261 -6\n",
      "シルエット/17Inv_tri/17nezumi1o01_l.jpg107 283 -2\n",
      "シルエット/17Inv_tri/17nezumi1o02_l.jpg98 279 4\n",
      "シルエット/17Inv_tri/17nezumi1o03_l.jpg110 271 4\n",
      "シルエット/17Inv_tri/17nezumi1o04_l.jpg102 271 -1\n",
      "シルエット/17Inv_tri/17nezumi1o05_l.jpg178 259 14\n",
      "シルエット/17Inv_tri/17nezumi1o06_l.jpg117 256 9\n",
      "シルエット/17Inv_tri/17nezumi1o08_l.jpg113 283 10\n",
      "シルエット/17Inv_tri/17nezumi1o09_l.jpg94 229 1\n",
      "シルエット/17Inv_tri/17nezumi1o10_l.jpg104 262 6\n",
      "シルエット/17Inv_tri/17nezumi2o02_l.jpg103 209 2\n",
      "シルエット/17Inv_tri/17nezumi2o06_l.jpg100 260 5\n",
      "シルエット/17Inv_tri/17nezumi2o07_l.jpg105 243 0\n",
      "シルエット/17Inv_tri/17nezumi2o08_l.jpg106 240 0\n",
      "シルエット/17Inv_tri/17nezumi2o10_l.jpg100 246 2\n",
      "シルエット/17Inv_tri/17sinsyt1o02_l.jpg97 270 -4\n",
      "シルエット/17Inv_tri/17sinsyt1o03_l.jpg77 268 -2\n",
      "シルエット/17Inv_tri/17sinsyt2o03_l.jpg103 289 -1\n",
      "シルエット/17Inv_tri/17sinsyt2o04_l.jpg120 316 5\n",
      "シルエット/17Inv_tri/17sinsyt2o09_l.jpg88 327 -1\n",
      "シルエット/17Inv_tri/17sinsyu1o01_l.jpg92 240 5\n",
      "シルエット/17Inv_tri/17sinsyu1o02_l.jpg102 299 1\n",
      "シルエット/17Inv_tri/17sinsyu1o03_l.jpg121 300 4\n",
      "シルエット/17Inv_tri/17sinsyu1o08_l.jpg115 286 8\n",
      "シルエット/17Inv_tri/17sinsyu2o04_l.jpg107 311 0\n",
      "シルエット/17Inv_tri/17sinsyu2o05_l.jpg86 256 3\n",
      "シルエット/17Inv_tri/17sinsyu2o06_l.jpg85 358 0\n",
      "シルエット/17Inv_tri/17sinsyu2o07_l.jpg94 289 0\n",
      "シルエット/17Inv_tri/17sinsyu2o08_l.jpg106 317 0\n",
      "シルエット/17Inv_tri/17syunky2o06_l.jpg62 196 -6\n",
      "シルエット/17Inv_tri/17tohodm1o01_l.jpg134 329 7\n",
      "シルエット/17Inv_tri/17tohodm1o02_l.jpg133 331 2\n",
      "シルエット/17Inv_tri/17yukibi2o01_l.jpg80 182 2\n",
      "シルエット/17Spheric/17heians1o02_l.jpg177 247 13\n",
      "シルエット/17Spheric/17heians1o06_l.jpg175 255 -7\n",
      "シルエット/17Spheric/17heians2o02_l.jpg189 256 1\n",
      "シルエット/17Spheric/17heians2o04_l.jpg164 278 -6\n",
      "シルエット/17Spheric/17heians2o08_l.jpg158 260 -33\n",
      "シルエット/17Spheric/17heians2o09_l.jpg120 206 -4\n",
      "シルエット/17Spheric/17heians2o10_l.jpg167 243 22\n",
      "シルエット/17Spheric/17karami1o02_l.jpg87 169 -8\n",
      "シルエット/17Spheric/17karami1o03_l.jpg109 212 -6\n",
      "シルエット/17Spheric/17karami1o09_l.jpg165 204 -2\n",
      "シルエット/17Spheric/17karami2o04_l.jpg116 220 4\n",
      "シルエット/17Spheric/17karami2o06_l.jpg101 192 12\n",
      "シルエット/17Spheric/17karami2o07_l.jpg100 191 -14\n",
      "シルエット/17Spheric/17kometo1o01_l.jpg38 59 0\n",
      "シルエット/17Spheric/17kometo2o01_l.jpg66 106 -1\n",
      "シルエット/17Spheric/17kometo2o04_l.jpg54 78 -14\n",
      "シルエット/17Spheric/17kometo2o07_l.jpg43 70 -10\n",
      "シルエット/17Spheric/17marumi1o01_l.jpg134 201 2\n",
      "シルエット/17Spheric/17marumi1o02_l.jpg131 227 -1\n",
      "シルエット/17Spheric/17marumi1o04_l.jpg108 131 -2\n",
      "シルエット/17Spheric/17marumi1o06_l.jpg111 193 9\n",
      "シルエット/17Spheric/17marumi1o09_l.jpg128 197 -6\n",
      "シルエット/17Spheric/17marumi2o02_l.jpg127 254 -19\n",
      "シルエット/17Spheric/17marumi2o03_l.jpg165 219 44\n",
      "シルエット/17Spheric/17marumi2o04_l.jpg168 277 -5\n",
      "シルエット/17Spheric/17marumi2o10_l.jpg151 229 1\n",
      "シルエット/17Spheric/17okinaw2o09_l.jpg168 254 -6\n",
      "シルエット/17Spheric/17tyokei1o05_l.jpg162 235 1\n"
     ]
    },
    {
     "name": "stdout",
     "output_type": "stream",
     "text": [
      "シルエット/17Spheric/17tyokei2o04_l.jpg137 231 6\n",
      "シルエット/17Spheric/17tyokei2o05_l.jpg155 249 -3\n",
      "シルエット/17Spheric/17tyokei2o06_l.jpg159 269 -1\n",
      "シルエット/17Spheric/17yakumi1o05_l.jpg73 160 -2\n",
      "シルエット/17Spheric/17yakumi1o06_l.jpg90 206 2\n",
      "シルエット/17Spheric/17yakumi2o06_l.jpg74 169 5\n",
      "シルエット/17Tran_ellip/17heians1o01_l.jpg175 265 -12\n",
      "シルエット/17Tran_ellip/17heians1o03_l.jpg162 195 -89\n",
      "シルエット/17Tran_ellip/17heians1o04_l.jpg169 269 -10\n",
      "シルエット/17Tran_ellip/17heians1o05_l.jpg153 202 -82\n",
      "シルエット/17Tran_ellip/17heians1o07_l.jpg132 171 -5\n",
      "シルエット/17Tran_ellip/17heians1o08_l.jpg201 240 77\n",
      "シルエット/17Tran_ellip/17heians1o09_l.jpg148 178 -5\n",
      "シルエット/17Tran_ellip/17heians2o03_l.jpg166 192 87\n",
      "シルエット/17Tran_ellip/17karami1o01_l.jpg83 149 -63\n",
      "シルエット/17Tran_ellip/17karami1o05_l.jpg109 186 -84\n",
      "シルエット/17Tran_ellip/17karami2o01_l.jpg108 151 -89\n",
      "シルエット/17Tran_ellip/17karami2o03_l.jpg129 212 -65\n",
      "シルエット/17Tran_ellip/17kazafu1o03_l.jpg130 213 3\n",
      "シルエット/17Tran_ellip/17kazafu2o02_l.jpg151 131 83\n",
      "シルエット/17Tran_ellip/17kazafu2o05_l.jpg153 239 71\n",
      "シルエット/17Tran_ellip/17kazafu2o08_l.jpg170 223 -47\n",
      "シルエット/17Tran_ellip/17miniml1o04_l.jpg73 128 21\n",
      "シルエット/17Tran_ellip/17miniml1o09_l.jpg73 93 -87\n",
      "シルエット/17Tran_ellip/17miniml1o10_l.jpg75 126 44\n",
      "シルエット/17Triagular/17horyot1o03_l.jpg124 396 4\n",
      "シルエット/17Triagular/17horyot1o07_l.jpg72 251 3\n",
      "シルエット/17Triagular/17horyot1o08_l.jpg87 273 -3\n",
      "シルエット/17Triagular/17horyot2o01_l.jpg89 299 1\n",
      "シルエット/17Triagular/17horyot2o02_l.jpg97 344 2\n",
      "シルエット/17Triagular/17horyot2o03_l.jpg99 301 -3\n",
      "シルエット/17Triagular/17horyot2o04_l.jpg111 408 1\n",
      "シルエット/17Triagular/17horyot2o05_l.jpg109 372 0\n",
      "シルエット/17Triagular/17horyot2o07_l.jpg91 333 1\n",
      "シルエット/17Triagular/17horyot2o09_l.jpg80 291 1\n",
      "シルエット/17Triagular/17horyou1o01_l.jpg92 300 -3\n",
      "シルエット/17Triagular/17horyou1o04_l.jpg86 307 0\n",
      "シルエット/17Triagular/17horyou1o05_l.jpg76 299 0\n",
      "シルエット/17Triagular/17horyou1o06_l.jpg85 299 -2\n",
      "シルエット/17Triagular/17horyou2o09_l.jpg74 247 0\n",
      "シルエット/17Triagular/17kamedo1o01_l.jpg80 331 0\n",
      "シルエット/17Triagular/17kamedo1o04_l.jpg79 294 1\n",
      "シルエット/17Triagular/17kamedo1o06_l.jpg58 269 0\n",
      "シルエット/17Triagular/17kamedo1o07_l.jpg73 328 4\n",
      "シルエット/17Triagular/17kamedo2o01_l.jpg66 377 0\n",
      "シルエット/17Triagular/17kamedo2o02_l.jpg99 390 4\n",
      "シルエット/17Triagular/17kamedo2o03_l.jpg73 288 4\n",
      "シルエット/17Triagular/17kamedo2o04_l.jpg71 386 0\n",
      "シルエット/17Triagular/17kamedo2o09_l.jpg96 367 -2\n",
      "シルエット/17Triagular/17kamedo2o10_l.jpg78 365 1\n",
      "シルエット/17Triagular/17tohong1o05_l.jpg72 328 0\n",
      "シルエット/17Triagular/17tohotn1o02_l.jpg97 372 6\n",
      "シルエット/17Triagular/17tohotn1o03_l.jpg85 392 0\n",
      "シルエット/17Triagular/17tohotn1o04_l.jpg104 462 5\n",
      "シルエット/17Triagular/17tohotn1o05_l.jpg72 368 -2\n",
      "シルエット/17Triagular/17tohotn1o06_l.jpg69 319 -3\n",
      "シルエット/17Apically/17daruma1o03_l.jpg93 259 3\n",
      "シルエット/17Apically/17daruma1o08_l.jpg83 215 4\n",
      "シルエット/17Apically/17daruma1o09_l.jpg76 244 5\n",
      "シルエット/17Apically/17daruma4o02_l.jpg112 324 3\n",
      "シルエット/17Apically/17daruma4o06_l.jpg112 280 1\n",
      "シルエット/17Apically/17daruma4o08_l.jpg126 402 6\n",
      "シルエット/17Apically/17daruma5o03_l.jpg134 293 2\n",
      "シルエット/17Apically/17daruma6o06_l.jpg143 298 5\n",
      "シルエット/17Apically/17tohodm1o05_l.jpg136 315 5\n"
     ]
    }
   ],
   "source": [
    "_dir,ffiles = listimage(path='シルエット', needThum=False)\n",
    "batch(sum(ffiles,[]), savedir='概形シルエット',interactive = True)"
   ]
  },
  {
   "cell_type": "code",
   "execution_count": 248,
   "metadata": {},
   "outputs": [
    {
     "name": "stdout",
     "output_type": "stream",
     "text": [
      "saved 概形シルエット/17Cylindric\n",
      "saved 概形シルエット/17Conv_tri\n",
      "saved 概形シルエット/17Elliptic\n",
      "saved 概形シルエット/17Horn\n",
      "saved 概形シルエット/17Inv_tri\n",
      "saved 概形シルエット/17Spheric\n",
      "saved 概形シルエット/17Tran_ellip\n",
      "saved 概形シルエット/17Triagular\n",
      "saved 概形シルエット/17Apically\n"
     ]
    }
   ],
   "source": [
    "_dir,ffiles = listimage(path='概形シルエット', needThum=True)"
   ]
  },
  {
   "cell_type": "code",
   "execution_count": 197,
   "metadata": {},
   "outputs": [
    {
     "data": {
      "text/plain": [
       "<matplotlib.image.AxesImage at 0x120944198>"
      ]
     },
     "execution_count": 197,
     "metadata": {},
     "output_type": "execute_result"
    },
    {
     "data": {
      "image/png": "[encoded data removed]",
      "text/plain": [
       "<Figure size 432x288 with 1 Axes>"
      ]
     },
     "metadata": {
      "needs_background": "light"
     },
     "output_type": "display_data"
    }
   ],
   "source": [
    "topdir = \"シルエット\"\n",
    "subdir = \"17Spheric\"\n",
    "filename = \"17heians1o02_l.jpg\"\n",
    "path = os.path.join(topdir,subdir,filename)\n",
    "img = cv2.imread(path,cv2.IMREAD_GRAYSCALE)\n",
    "plt.imshow(img)"
   ]
  },
  {
   "cell_type": "code",
   "execution_count": 198,
   "metadata": {},
   "outputs": [
    {
     "name": "stdout",
     "output_type": "stream",
     "text": [
      "300 17\n"
     ]
    },
    {
     "data": {
      "text/plain": [
       "<matplotlib.image.AxesImage at 0x120991dd8>"
      ]
     },
     "execution_count": 198,
     "metadata": {},
     "output_type": "execute_result"
    },
    {
     "data": {
      "image/png": "[encoded data removed]",
      "text/plain": [
       "<Figure size 432x288 with 1 Axes>"
      ]
     },
     "metadata": {
      "needs_background": "light"
     },
     "output_type": "display_data"
    }
   ],
   "source": [
    "# 大抵の画像処理は画像枠近傍は処理結果がおかしくなるのでマージンをつける\n",
    "def makemargin(img):\n",
    "    h,w = img.shape[:2]\n",
    "    w2 = 2*w\n",
    "    h2 = 2*h\n",
    "    img2 = np.zeros((h2,w2),np.uint8)\n",
    "    img2[int(h/2):int(h/2)+h,int(w/2):int(w/2)+w] = img\n",
    "    return img2\n",
    "\n",
    "img2 = makemargin(img)\n",
    "ksize = int(0.1*img.shape[1]/2)*2+1\n",
    "print(img.shape[0],ksize)\n",
    "img2 = cv2.GaussianBlur(img2,(ksize,ksize),0)\n",
    "_ret,img2 = cv2.threshold(img2, 127, 255, cv2.THRESH_BINARY)\n",
    "plt.imshow(img2)"
   ]
  },
  {
   "cell_type": "code",
   "execution_count": 199,
   "metadata": {},
   "outputs": [
    {
     "name": "stdout",
     "output_type": "stream",
     "text": [
      "27227.0 26275.0\n",
      "収縮・膨張回数 11\n",
      "元の重心位置  252.02787674000072 177.2556286039593\n",
      "変形後の重心位置  245.75589251439538 177.68971209213052\n",
      "面積の変化 27227.0 -> 26050.0\n",
      "面積の割合 0.956770852462629\n"
     ]
    },
    {
     "data": {
      "text/plain": [
       "<matplotlib.image.AxesImage at 0x120a294e0>"
      ]
     },
     "execution_count": 199,
     "metadata": {},
     "output_type": "execute_result"
    },
    {
     "data": {
      "image/png": "[encoded data removed]",
      "text/plain": [
       "<Figure size 432x288 with 1 Axes>"
      ]
     },
     "metadata": {
      "needs_background": "light"
     },
     "output_type": "display_data"
    }
   ],
   "source": [
    "import os\n",
    "\n",
    "# ヒゲを除去\n",
    "\n",
    "kernel = np.ones((3,3),np.uint8)\n",
    "area0 = np.sum(img2/255)\n",
    "oimg = cv2.erode(img2,kernel,iterations = 1)\n",
    "area1 = np.sum(oimg/255)\n",
    "print(area0,area1)\n",
    "\n",
    "n = 1\n",
    "while area1  > 2*area0/3:\n",
    "    oimg = cv2.erode(oimg,kernel,iterations = 1)\n",
    "    area1 = np.sum(oimg/255)\n",
    "    n += 1\n",
    "print(\"収縮・膨張回数\",n)\n",
    "oimg = cv2.dilate(oimg,kernel,iterations = n)\n",
    "mm2 = cv2.moments(img2)\n",
    "mom = cv2.moments(oimg)\n",
    "area1 = np.sum(oimg/255)\n",
    "print(\"元の重心位置 \",mm2['m01']/mm2['m00'],mm2['m10']/mm2['m00'])\n",
    "print(\"変形後の重心位置 \",mom['m01']/mom['m00'],mom['m10']/mom['m00'])\n",
    "print(\"面積の変化 {} -> {}\".format(area0, area1))\n",
    "# plt.imshow(oimg)\n",
    "print(\"面積の割合\",area1/area0)\n",
    "\n",
    "pimg = cv2.cvtColor(img2,cv2.COLOR_GRAY2BGR)\n",
    "_img,contours,hierarchy = cv2.findContours(oimg, cv2.RETR_EXTERNAL, cv2.CHAIN_APPROX_NONE)\n",
    "pimg = cv2.drawContours(pimg,[contours[0]],0,(255,0,0),2)\n",
    "pimg = cv2.circle(pimg,(int(mom['m10']/mom['m00']),int(mom['m01']/mom['m00'])),5,(0,255,0),2)\n",
    "\n",
    "rect = cv2.boundingRect(contours[0])\n",
    "\n",
    "plt.imshow(pimg)"
   ]
  },
  {
   "cell_type": "code",
   "execution_count": 200,
   "metadata": {},
   "outputs": [
    {
     "data": {
      "text/plain": [
       "array([[ 71, 324],\n",
       "       [118, 130],\n",
       "       [283, 170],\n",
       "       [236, 364]])"
      ]
     },
     "execution_count": 200,
     "metadata": {},
     "output_type": "execute_result"
    },
    {
     "data": {
      "image/png": "[encoded data removed]",
      "text/plain": [
       "<Figure size 432x288 with 1 Axes>"
      ]
     },
     "metadata": {
      "needs_background": "light"
     },
     "output_type": "display_data"
    }
   ],
   "source": [
    "# 楕円近似で軸方向を求める\n",
    "# あらためて輪郭を求め直す\n",
    "_img,cnt,hierarchy = cv2.findContours(oimg, cv2.RETR_EXTERNAL, cv2.CHAIN_APPROX_NONE) #  あらためて輪郭を抽出\n",
    "# rect1 = cv2.minAreaRect(cnt[0])  # 回転を考慮した矩形を求める\n",
    "rect1 = cv2.fitEllipse(cnt[0]) # 楕円近似する\n",
    "box = np.int0(cv2.boxPoints(rect1))\n",
    "pimg = cv2.cvtColor(oimg,cv2.COLOR_GRAY2BGR)\n",
    "pimg = cv2.drawContours(pimg,[box],0,(255,0,0),2)\n",
    "plt.imshow(pimg)\n",
    "box"
   ]
  },
  {
   "cell_type": "code",
   "execution_count": 201,
   "metadata": {},
   "outputs": [
    {
     "data": {
      "text/plain": [
       "<matplotlib.image.AxesImage at 0x120ba0358>"
      ]
     },
     "execution_count": 201,
     "metadata": {},
     "output_type": "execute_result"
    },
    {
     "data": {
      "image/png": "[encoded data removed]",
      "text/plain": [
       "<Figure size 432x288 with 1 Axes>"
      ]
     },
     "metadata": {
      "needs_background": "light"
     },
     "output_type": "display_data"
    }
   ],
   "source": [
    "# ２枚の画像をサイズを並べた画像を作成する\n",
    "def mkparaimage(img1,img2):\n",
    "    h1,w1 = img1.shape[:2]\n",
    "    h2,w2 = img2.shape[:2]\n",
    "    if img1.ndim == 2:\n",
    "        img11 = np.zeros((h1,w1,3))\n",
    "        img11[:,:,0]=img11[:,:,1]=img11[:,:,2]=img1\n",
    "    else:\n",
    "        img11=img1\n",
    "    if img2.ndim == 2:\n",
    "        img22 = np.zeros((h2,w2,3))\n",
    "        img22[:,:,0]=img22[:,:,1]=img22[:,:,2]=img2\n",
    "    else:\n",
    "        img22=img2\n",
    "    paraimg = 255*np.ones((max(h1,h2),w1+w2+10,3),dtype=np.uint8)\n",
    "    \n",
    "    paraimg[0:h1,0:w1,:] = img11\n",
    "    paraimg[0:h2,w1+10:,:]=img22\n",
    "    \n",
    "    return paraimg\n",
    "\n",
    "deg = rect1[2]\n",
    "x0,y0 = rect1[0]\n",
    "ratio = 4\n",
    "mat = cv2.getRotationMatrix2D((x0,y0), deg, 1.0)\n",
    "outimg = cv2.warpAffine(oimg, mat, (0,0))\n",
    "# 再び最小矩形を求めて切り出す。ただし、マージンを５つける\n",
    "_nLabels, _labelImages, data, _center = cv2.connectedComponentsWithStats(outimg) \n",
    "outimg = outimg[data[1][1]-5:data[1][1]+data[1][3]+5,data[1][0]-5:data[1][0]+data[1][2]+5]\n",
    "plt.imshow(mkparaimage(img,outimg))"
   ]
  },
  {
   "cell_type": "code",
   "execution_count": null,
   "metadata": {},
   "outputs": [],
   "source": []
  },
  {
   "cell_type": "code",
   "execution_count": 202,
   "metadata": {},
   "outputs": [
    {
     "data": {
      "text/plain": [
       "<matplotlib.image.AxesImage at 0x120cf5fd0>"
      ]
     },
     "execution_count": 202,
     "metadata": {},
     "output_type": "execute_result"
    },
    {
     "data": {
      "image/png": "[encoded data removed]",
      "text/plain": [
       "<Figure size 432x288 with 1 Axes>"
      ]
     },
     "metadata": {
      "needs_background": "light"
     },
     "output_type": "display_data"
    }
   ],
   "source": [
    "# 以上を一気に実行してみる\n",
    "\n",
    "# マージンをつける\n",
    "def makemargin(img):\n",
    "    h,w = img.shape[:2]\n",
    "    w2 = 2*w\n",
    "    h2 = 2*h\n",
    "    img2 = np.zeros((h2,w2),np.uint8)\n",
    "    img2[int(h/2):int(h/2)+h,int(w/2):int(w/2)+w] = img\n",
    "    return img2\n",
    "\n",
    "topdir = \"シルエット\"\n",
    "subdir = \"17Cylindric\"\n",
    "filename = \"17yukibi1o08_l.jpg\"\n",
    "\n",
    "path = os.path.join(topdir,subdir,filename)\n",
    "img = cv2.imread(path,cv2.IMREAD_GRAYSCALE)\n",
    "# plt.imshow(img)\n",
    "\n",
    "img2 = makemargin(img) # 作業用のマージンを確保\n",
    "\n",
    "# ガウスぼかしを適用してシルエットを滑らかにする\n",
    "ksize = int(0.1*img.shape[1]/2)*2+1 # ぼかし量  元の図形の幅に応じて決める\n",
    "# print(img.shape[0],ksize)\n",
    "img2 = cv2.GaussianBlur(img2,(ksize,ksize),0) # ガウスぼかしを適用\n",
    "_ret,img2 = cv2.threshold(img2, 127, 255, cv2.THRESH_BINARY) # ２値化\n",
    "# plt.imshow(img2)\n",
    "\n",
    "# 収縮・膨張によりヒゲ根を除去する\n",
    "area0 = np.sum(img2) # img2 の画素数*255 になるはず\n",
    "kernel = np.ones((3,3),np.uint8) \n",
    "tmpimg = cv2.erode(img2,kernel,iterations = 1) # 収縮１回目\n",
    "area1 = np.sum(tmpimg) # 収縮したので area0 より少なくなる\n",
    "n = 1\n",
    "while 3*area1  > 2*area0: # 面積が 2/3 以下になるまで繰り返す\n",
    "    tmpimg = cv2.erode(tmpimg,kernel,iterations = 1)\n",
    "    area1 = np.sum(tmpimg) \n",
    "    n += 1\n",
    "# print(\"収縮・膨張回数\",n)\n",
    "img3 = cv2.dilate(tmpimg,kernel,iterations = n) # 同じ回数膨張させる\n",
    "\n",
    "# 楕円近似で軸方向を求める\n",
    "# あらためて輪郭を求め直す\n",
    "_img,cnt,hierarchy = cv2.findContours(img3, cv2.RETR_EXTERNAL, cv2.CHAIN_APPROX_NONE) #  あらためて輪郭を抽出\n",
    "# rect1 = cv2.minAreaRect(cnt[0])  # 回転を考慮した矩形を求める場合\n",
    "rect1 = cv2.fitEllipse(cnt[0]) # 楕円近似する\n",
    "box = np.int0(cv2.boxPoints(rect1)) \n",
    "#cimg = cv2.cvtColor(img3,cv2.COLOR_GRAY2BGR)\n",
    "#cimg = cv2.drawContours(cimg,[box],0,(255,0,0),2)\n",
    "# plt.imshow(cimg)\n",
    "deg = rect1[2]\n",
    "x0,y0 = rect1[0]\n",
    "mat = cv2.getRotationMatrix2D((x0,y0), deg, 1.0)\n",
    "outimg = cv2.warpAffine(img3, mat, (0,0))\n",
    "# 再び最小矩形を求めて切り出す。ただし、マージンを５つける\n",
    "_nLabels, _labelImages, data, _center = cv2.connectedComponentsWithStats(outimg) \n",
    "outimg = outimg[data[1][1]-5:data[1][1]+data[1][3]+5,data[1][0]-5:data[1][0]+data[1][2]+5]\n",
    "plt.imshow(outimg)"
   ]
  },
  {
   "cell_type": "code",
   "execution_count": 209,
   "metadata": {},
   "outputs": [
    {
     "data": {
      "text/plain": [
       "((95.39210510253906, 188.8125762939453),\n",
       " (68.855712890625, 164.9580078125),\n",
       " 8.717416763305664)"
      ]
     },
     "execution_count": 209,
     "metadata": {},
     "output_type": "execute_result"
    }
   ],
   "source": [
    "rect1"
   ]
  },
  {
   "cell_type": "code",
   "execution_count": null,
   "metadata": {},
   "outputs": [],
   "source": []
  }
 ],
 "metadata": {
  "kernelspec": {
   "display_name": "Python 3",
   "language": "python",
   "name": "python3"
  },
  "language_info": {
   "codemirror_mode": {
    "name": "ipython",
    "version": 3
   },
   "file_extension": ".py",
   "mimetype": "text/x-python",
   "name": "python",
   "nbconvert_exporter": "python",
   "pygments_lexer": "ipython3",
   "version": "3.6.6"
  }
 },
 "nbformat": 4,
 "nbformat_minor": 2
}
