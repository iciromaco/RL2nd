{
 "cells": [
  {
   "cell_type": "code",
   "execution_count": null,
   "metadata": {},
   "outputs": [],
   "source": [
    "# 参考サイト https://github.com/cnloni/tensorflow-bezier/blob/master/main1.py\n",
    "\n",
    "t = tf.constant(t0, tf.float32)\n",
    "\n",
    "\n",
    "Matrix([\n",
    "[-px0*(t - 1)**3 + 3*px1*t*(t - 1)**2 - 3*px2*t**2*(t - 1) + px3*t**3],\n",
    "[-py0*(t - 1)**3 + 3*py1*t*(t - 1)**2 - 3*py2*t**2*(t - 1) + py3*t**3]])"
   ]
  },
  {
   "cell_type": "code",
   "execution_count": 4,
   "metadata": {},
   "outputs": [],
   "source": [
    "import tensorflow as tf\n",
    "\n",
    "t = tf.Variable(t0, tf.float32, name='t') # 標本点に最寄りの曲線上の点のパラメータ（標本の数）\n",
    "cp = tf.Variable(ps0, tf.float32, name='cp')   # (4,2)   制御点４つと軸の上端の座標\n",
    "cp = tf.Variable(ps0, tf.float32, name='cp')   # (4,2)   制御点４つと軸の上端の座標\n",
    "agl1 = tf.Variable(an0, tf.float32, name='angle1')  # 軸の\n",
    "agl2 = tf.Variable(an0, tf.float32, name='angle2')\n",
    "s = 1 - t\n",
    "T = tf.stack([s * s * s, 3 * s * s * t, 3 * s * t * t, t * t * t])\n",
    "r = tf.matmul(T, bs, transpose_a=True)"
   ]
  },
  {
   "cell_type": "code",
   "execution_count": null,
   "metadata": {},
   "outputs": [],
   "source": []
  },
  {
   "cell_type": "code",
   "execution_count": null,
   "metadata": {},
   "outputs": [],
   "source": []
  }
 ],
 "metadata": {
  "kernelspec": {
   "display_name": "Python 3",
   "language": "python",
   "name": "python3"
  },
  "language_info": {
   "codemirror_mode": {
    "name": "ipython",
    "version": 3
   },
   "file_extension": ".py",
   "mimetype": "text/x-python",
   "name": "python",
   "nbconvert_exporter": "python",
   "pygments_lexer": "ipython3",
   "version": "3.6.6"
  }
 },
 "nbformat": 4,
 "nbformat_minor": 2
}
