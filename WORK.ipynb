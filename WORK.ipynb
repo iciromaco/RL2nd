{
 "cells": [
  {
   "cell_type": "code",
   "execution_count": 1,
   "metadata": {},
   "outputs": [
    {
     "name": "stdout",
     "output_type": "stream",
     "text": [
      "IPython console for SymPy 1.2 (Python 3.6.6-64-bit) (ground types: gmpy)\n",
      "\n",
      "These commands were executed:\n",
      ">>> from __future__ import division\n",
      ">>> from sympy import *\n",
      ">>> x, y, z, t = symbols('x y z t')\n",
      ">>> k, m, n = symbols('k m n', integer=True)\n",
      ">>> f, g, h = symbols('f g h', cls=Function)\n",
      ">>> init_printing()\n",
      "\n",
      "Documentation can be found at http://docs.sympy.org/1.2/\n",
      "\n"
     ]
    }
   ],
   "source": [
    "from sympy import *\n",
    "from sympy.abc import a,b,c\n",
    "import numpy as np\n",
    "import cv2\n",
    "%matplotlib inline\n",
    "from sympy import var\n",
    "from rdlib2 import *\n",
    "UNIT = 256\n",
    "\n",
    "kohaku='シルエット/17Cylindric/17kohaku1o09_l.jpg'\n",
    "yakumi ='シルエット/17Spheric/17yakumi2o06_l.jpg'\n",
    "daruma='シルエット/17Apically/17daruma6o06_l.jpg'\n",
    "aomida='シルエット/17Horn/17aomida1o02_l.jpg'\n",
    "\n",
    "kohakuimg = getstandardShape(cv2.imread(kohaku,cv2.IMREAD_GRAYSCALE), unitSize=UNIT,showResult=False)  \n",
    "yakumiimg = getstandardShape(cv2.imread(yakumi,cv2.IMREAD_GRAYSCALE), unitSize=UNIT,showResult=False)  \n",
    "darumaimg = getstandardShape(cv2.imread(daruma,cv2.IMREAD_GRAYSCALE), unitSize=UNIT,showResult=False)  \n",
    "aomidaimg = getstandardShape(cv2.imread(aomida,cv2.IMREAD_GRAYSCALE), unitSize=UNIT,showResult=False)  \n",
    "\n",
    "imgs=[kohakuimg,yakumiimg,darumaimg,aomidaimg]"
   ]
  },
  {
   "cell_type": "code",
   "execution_count": 2,
   "metadata": {},
   "outputs": [],
   "source": [
    "# ベジエ曲線あてはめ、仮中心線の抽出\n",
    "def preGetLRdata(img,tlevel = 10, blevel=90,bracket=1):\n",
    "    #  輪郭を抽出\n",
    "    _img,contours,hierarchy = cv2.findContours(img, cv2.RETR_EXTERNAL, cv2.CHAIN_APPROX_NONE) \n",
    "    # バウンダリ矩形を得る\n",
    "    x0,y0,w,h = cv2.boundingRect(img)\n",
    "    cnt = contours[0] # 白領域は１つしかないという前提なので、０番の輪郭が大根の輪郭である。\n",
    "    # 閉じた輪郭線の上下を削り、左右２本の輪郭に分割する\n",
    "    canvas = np.zeros_like(img)  # 描画キャンバスの準備\n",
    "    canvas = cv2.drawContours(canvas, contours, -1, 255, thickness=1)     # 輪郭線の描画\n",
    "    # 上下端それぞれ10％をカットする。上下は歪みが大きいのでノイズとなるので 削除するとともに、それにより輪郭を左右分割する。\n",
    "    cutHead= y0+int(tlevel*h/100) # シルエッ上端から指定％の高さ\n",
    "    cutBottom = y0+int(blevel*h/100) # シルエッ下端から指定％の高さ\n",
    "    canvas[0:cutHead,:]=np.zeros((cutHead,img.shape[1])) # 上5%をマスク\n",
    "    canvas[cutBottom+1:,:]=np.zeros((img.shape[0]-(cutBottom+1),img.shape[1]))  # 下5%をマスク\n",
    "    cntl,cntr = segmentLR0(canvas,bracket=bracket)\n",
    "    return cntl,cntr,cnt\n",
    "    \n",
    "# 左右セグメントを含む画像から左右の輪郭をえる\n",
    "def segmentLR0(img,bracket=2):\n",
    "    # bracket    2 : cv2 の輪郭データそのまま（２重カッコ）、 1: カッコを１つ外したリストを返す\n",
    "    # 輪郭検出すれば２つの輪郭が見つかるはず。\n",
    "    _, contours, hierarchy = cv2.findContours(img, cv2.RETR_EXTERNAL, cv2.CHAIN_APPROX_NONE)\n",
    "    # 線図形の輪郭は中間で折り返しになっている\n",
    "    cnt0 = contours[0][:int(len(contours[0])/2+1)]\n",
    "    cnt1 = contours[1][:int(len(contours[1])/2+1)]\n",
    "    # 中程の点を比べて左にある方を左と判定する。\n",
    "    c0 = cnt0[int(len(cnt0)/2)][0][0]\n",
    "    c1 = cnt1[int(len(cnt1)/2)][0][0]\n",
    "    if  c0 > c1: \n",
    "        cntl,cntr = cnt1,cnt0\n",
    "    else:\n",
    "        cntr,cntl = cnt1,cnt0\n",
    "        \n",
    "    def bracket2to1(cnt):    \n",
    "        cnt = np.array([[x,y] for [[x,y]] in cnt])\n",
    "        return cnt\n",
    "    \n",
    "    if bracket == 2:\n",
    "        return cntl,cntr\n",
    "    else:\n",
    "        return bracket2to1(cntl),bracket2to1(cntr)\n",
    "\n",
    "# 左右の輪郭点をベジエ近似する\n",
    "def cntPair2bez(cntl,cntr,N=3,n_samples=20,precPara=0.01,openmode=False, debugmode=False, showImage=False):\n",
    "    # 輪郭点を（チェインの並び順に）等間隔に n_samples 個サンプリングする。\n",
    "    cntL = cntl[np.array(list(map(int,np.linspace(0, len(cntl)-1,n_samples))))]\n",
    "    cntR = cntr[np.array(list(map(int,np.linspace(0, len(cntr)-1,n_samples))))]\n",
    "    \n",
    "    # 左右をそれぞれベジエ 曲線で近似し、その平均として中心軸を仮決定\n",
    "    datal = cpxl,cpyl,bezXl,bezYl,tpl = fitBezierCurveN(cntL,precPara=precPara,N=N,openmode=openmode,debugmode=debugmode)\n",
    "    datar = cpxr,cpyr,bezXr,bezYr,tpr = fitBezierCurveN(cntR,precPara=precPara,N=N,openmode=openmode,debugmode=debugmode)\n",
    "    bezXc,bezYc = (bezXl+bezXr)/2,(bezYl+bezYr)/2\n",
    "    cpl,cpr,cpc = (cpxl,cpyl),(cpxr,cpyr),((cpxl+cpxr)/2,(cpyl+cpyr)/2)\n",
    "    bezL,bezR,bezC = (bezXl,bezYl),(bezXr,bezYr),(bezXc,bezYc)\n",
    "    return cpl,cpr,cpc, bezL,bezR,bezC,cntL,cntR\n",
    "    \n",
    "# 結果の描画\n",
    "def drawBez2(img,bezL=None,bezR=None,bezC=None,cpl=None,cpr=None,cpc=None, \n",
    "             cntL=[],cntR=[],cntC=None, ladder=None,PosL=[],PosR=[],PosC=[],n_samples=20):\n",
    "    bezXl,bezYl = bezL if bezL != None else ([],[])\n",
    "    bezXr,bezYr = bezR if bezR != None else ([],[])\n",
    "    bezXc,bezYc = bezC if bezC != None else ([],[])\n",
    "    cpxl,cpyl = cpl if cpl != None else ([],[])\n",
    "    cpxr,cpyr = cpr if cpr != None else ([],[])\n",
    "    cpxc,cpyc = cpc if cpc != None else ([],[])\n",
    "    tplins50 = np.linspace(0, 1, 50)\n",
    "    tplinsSP = np.linspace(0, 1, n_samples)\n",
    "    \n",
    "    plt.figure(figsize=(6,6),dpi=100)\n",
    "    plt.gca().invert_yaxis() \n",
    "    plt.gca().set_aspect('equal', adjustable='box') # アスペクト比を１：１に\n",
    "    plt.imshow(192+(cv2.cvtColor(img,cv2.COLOR_GRAY2RGB)/4).astype(np.uint8))\n",
    "    # 左輪郭の描画\n",
    "    if bezL != None:\n",
    "        plotx = [bezXl.subs(t,tp) for tp in tplins50 ]\n",
    "        ploty = [bezYl.subs(t,tp) for tp in tplins50 ]\n",
    "        plt.plot(plotx,ploty,color = 'red')  \n",
    "    if len(cntL) >0:\n",
    "        plt.scatter(cntL[:,0],cntL[:,1],color ='blue',marker = '.') #  サンプル点\n",
    "    if cpl != None:\n",
    "        plt.scatter(cpxl,cpyl,color ='purple',marker = '*') #  制御点の描画\n",
    "        for i in range(len(cpxl)) : plt.annotate(str(i),(cpxl[i],cpyl[i]))\n",
    "    # 右輪郭の描画\n",
    "    if bezR != None:\n",
    "        plotx = [bezXr.subs(t,tp) for tp in tplins50 ]\n",
    "        ploty = [bezYr.subs(t,tp) for tp in tplins50 ]\n",
    "        plt.plot(plotx,ploty,color = 'red')  \n",
    "    if len(cntR)  > 0:\n",
    "        plt.scatter(cntR[:,0],cntR[:,1],color ='blue',marker = '.') #  サンプル点\n",
    "    if cpr != None:\n",
    "        plt.scatter(cpxr,cpyr,color ='red',marker = '*') #  制御点の描画\n",
    "        for i in range(len(cpxr)):plt.annotate(str(i),(cpxr[i],cpyr[i]))\n",
    "    # 中心軸の描画\n",
    "    if bezC != None:\n",
    "        plotx = [bezXc.subs(t,tp) for tp in tplins50 ]\n",
    "        ploty = [bezYc.subs(t,tp) for tp in tplins50 ]\n",
    "        plt.plot(plotx,ploty,color = 'red')  \n",
    "        if cntC != None:\n",
    "            plt.scatter(cntc[:,0],cnc[:,1],color ='blue',marker = '.') #  サンプル点\n",
    "        if cpc != None:\n",
    "            plt.scatter(cpxc,cpyc,color ='darkgreen',marker = '*') #  制御点の描画\n",
    "            for i in range(len(cpxc)):plt.annotate(str(i),(cpxc[i],cpyc[i]))\n",
    "                \n",
    "        # ラダーの描画\n",
    "        if  ladder== 'lr':  # 左右の同じパラメータ値の点を結ぶだけ\n",
    "            plotSPlx = [bezXl.subs(t,tp) for tp in tplinsSP ]\n",
    "            plotSPly = [bezYl.subs(t,tp) for tp in tplinsSP ]\n",
    "            plotSPrx = [bezXr.subs(t,tp) for tp in tplinsSP ]\n",
    "            plotSPry = [bezYr.subs(t,tp) for tp in tplinsSP ]       \n",
    "            for x0,x1,y0,y1 in zip(plotSPlx,plotSPrx,plotSPly,plotSPry):\n",
    "                plt.plot([x0,x1],[y0,y1],color = 'orange') \n",
    "                \n",
    "        elif ladder == 'normal':\n",
    "            # 中心軸上に設定したサンプル点における法線と両輪郭の交点のリストを求める。\n",
    "            plot20lx = [xl if xl !=np.inf else [] for [xl,yl] in PosL ]\n",
    "            plot20ly = [yl if yl !=np.inf else [] for [xl,yl] in PosL]\n",
    "            #plot20cx = [bezXc.subs(t,tp) for tp in np.linspace(0, 1, n_samples) ]\n",
    "            #plot20cy = [bezYc.subs(t,tp) for tp in np.linspace(0, 1, n_samples) ]\n",
    "            plot20cx = PosC[:,0]\n",
    "            plot20cy = PosC[:,1]\n",
    "            plot20rx = [xr if xr !=np.inf else [] for [xr,yr] in PosR ]\n",
    "            plot20ry = [yr if yr !=np.inf else [] for [xr,yr] in PosR ]\n",
    "                  \n",
    "            for x0,x1,y0,y1 in zip(plot20lx,plot20cx,plot20ly,plot20cy):\n",
    "                if x0 != [] and y0 !=[]:\n",
    "                    plt.plot([x0,x1],[y0,y1],color = 'orange') \n",
    "            for x0,x1,y0,y1 in zip(plot20rx,plot20cx,plot20ry,plot20cy):\n",
    "                if x0 != [] and y0 !=[]:\n",
    "                    plt.plot([x0,x1],[y0,y1],color = 'orange') \n",
    "    \n",
    "# 中心軸ベジエをもとにそれに輪郭点を左右に分割する\n",
    "def reGetCntPair(img,cnt,cpl,cpr,bezC):\n",
    "    xLu,xRu,yLu,yRu = cpl[0][0],cpr[0][0],cpl[0][1],cpr[0][1] # 近似曲線の上端の座標\n",
    "    xLb,xRb,yLb,yRb = cpl[0][0],cpr[0][0],cpl[0][1],cpr[0][1] # 近似曲線の上端の座標\n",
    "    bezXc,bezYc = bezC\n",
    "    # 輪郭線の描画\n",
    "    canvas = np.zeros_like(img)\n",
    "    canvas = cv2.drawContours(canvas, cnt, -1, 255, thickness=1)\n",
    "    # 軸と輪郭の交点\n",
    "    (crpx0,crpy0),(crpx1,crpy1) = crossPoints(cnt,bezC)\n",
    "    \n",
    "    # 中心軸の延長で上端から最大径離れた地点を中心に最大直径より少し大きな円を０で描き輪郭を削る。\n",
    "    dy = float((diff(bezYc,t)).subs(t,0.1))\n",
    "    dx = float((diff(bezXc,t)).subs(t,0.1)) # t=0 は境界なので変な値にあることがあるため 0.1 としている\n",
    "    dd = np.sqrt(dx*dx+dy*dy)\n",
    "    dkusabi = (xRu-xLu)*abs(dx)/dd/2\n",
    "    acc = dy/dx if dx != 0 else np.inf # 中心軸の傾き\n",
    "    x00 = bezXc.subs(t,0) #  軸の再上端\n",
    "    y00 = bezYc.subs(t,0)\n",
    "    ddd = sqrt((crpx0-x00)**2+(crpy0-y00)**2) # ベジエ軸上端と輪郭上端の距離\n",
    "    #dddd = 5*(ddd-dkusabi)**2*((ddd-dkusabi)*dy/dd/(xRu-xLu) -0.1)\n",
    "    dddd = -10 if ddd/(xRu-xLu) < 0.2 else  ddd-dkusabi \n",
    "    diaMinus =  1024\n",
    "    xdd = diaMinus*dx/sqrt(dx**2+dy**2) #  1024離れるためのX移動量\n",
    "    dia = diaMinus-dddd # \n",
    "    x11 = x00-xdd\n",
    "    y11 =  y00-xdd*acc if acc != np.inf else y00-diaMinus\n",
    "    canvas =  cv2.circle(canvas,(int(x11),int(y11)),int(dia),0,-1) # 黒で円を描いて削る\n",
    "    # 同様に下端を削る\n",
    "    dy = float((diff(bezYc,t)).subs(t,0.9))\n",
    "    dx = float((diff(bezXc,t)).subs(t,0.9)) # t=1 は境界なので変な値にあることがあるため 0.9 としている\n",
    "    dd = np.sqrt(dx*dx+dy*dy)\n",
    "    dkusabi = (xRb-xLb)*abs(dx)/dd/2\n",
    "    acc = dy/dx if dx != 0 else np.inf # 中心軸の傾き\n",
    "    x00 = bezXc.subs(t,1) #  軸の再下端\n",
    "    y00 = bezYc.subs(t,1)\n",
    "    xdd = diaMinus*dx/sqrt(dx**2+dy**2) # \n",
    "    ddd = sqrt((crpx1-x00)**2+(crpy1-y00)**2) # ベジエ軸下端と輪郭下端の距離\n",
    "    # dddd = 5*(ddd-dkusabi)**2*((ddd-dkusabi)*dy/dd/(xRb-xLb) -0.1) if (xRu-xLu)/(xRb-xLb) < 3 else 0.8*(ddd-dkusabi) \n",
    "    dddd = -10 if (xRu-xLu)/(xRb-xLb) > 4  else  ddd-dkusabi \n",
    "    dia = diaMinus-dddd\n",
    "    x11 = x00+xdd\n",
    "    y11 =  y00+xdd*acc if acc != np.inf else y00+diaMinus\n",
    "    canvas =  cv2.circle(canvas,(int(x11),int(y11)),int(dia),0,-1) # 黒で円を描いて削る\n",
    "    \n",
    "    # 輪郭検出すれば２つの輪郭が見つかるはず。\n",
    "    _, contours, hierarchy = cv2.findContours(canvas, cv2.RETR_EXTERNAL, cv2.CHAIN_APPROX_NONE)\n",
    "    # 線図形の輪郭は中間で折り返しになっている\n",
    "    cnt0 = contours[0][:int(len(contours[0])/2+1)]\n",
    "    cnt1 = contours[1][:int(len(contours[1])/2+1)]\n",
    "    # 中程の点を比べて左にある方を左と判定する。\n",
    "    c0 = cnt0[int(len(cnt0)/2)][0][0]\n",
    "    c1 = cnt1[int(len(cnt1)/2)][0][0]\n",
    "    if  c0 > c1: \n",
    "        cntL,cntR = cnt1,cnt0\n",
    "    else:\n",
    "        cntR,cntL = cnt1,cnt0\n",
    "    print(\"左輪郭点の数 \", len(cntL),\"　右輪郭点の数　\", len(cntR))\n",
    "    #  ２重かっこを１重に変換し、numpy array にしてから返す\n",
    "    cntL = np.array([[x,y] for [[x,y]] in cntL])\n",
    "    cntR = np.array([[x,y] for [[x,y]] in cntR])                \n",
    "    return cntL,cntR,(crpx0,crpy0),(crpx1,crpy1)\n",
    "\n",
    "# 上端、下端の削られた部分と中心線の交点を求める\n",
    "def crossPoints(cnt,bezC):\n",
    "        bezXc,bezYc = bezC\n",
    "        canvas1 = np.zeros_like(img)  # 描画キャンバスの準備\n",
    "        canvas2 = canvas1.copy()\n",
    "        canvas1 = cv2.drawContours(canvas1, cnt, -1, 1, thickness=1)     # 輪郭線の描画\n",
    "        \n",
    "        # 中心軸上端から、軸の延長方向に直線を描く\n",
    "        y0 = float(bezYc.subs(t,0.)) # 上端の座標\n",
    "        x0 = float(bezXc.subs(t,0.))\n",
    "        dx = float(diff(bezXc,t).subs(t,0.1)) #  　傾きを求めようとしている\n",
    "        dy = float(diff(bezYc,t).subs(t,0.1))\n",
    "        acc = dy/dx if dx != 0 else np.inf # 傾き\n",
    "        x1 = x0 - y0/acc if dx !=0 else x0\n",
    "        y1 = 0\n",
    "        canvas2 = cv2.line(canvas2,(int(float(x0)),int(float(y0))),(int(float(x1)),int(float(y1))),1,2) # 幅3（2*2-1）の直線を明るさ１で描く\n",
    "        canvas = canvas1 + canvas2\n",
    "        cross_points0 = np.where(canvas==2) # 交点　　　重なった場所は値が２となっている.\n",
    "        if len(cross_points0[0]) != 0 : crpy0,crpx0= np.average(cross_points0,axis=1)  # その平均座標\n",
    "\n",
    "        canvas1 = np.zeros_like(img)  # 描画キャンバスの準備\n",
    "        canvas2 = canvas1.copy()\n",
    "        canvas1 = cv2.drawContours(canvas1, cnt, -1, 1, thickness=1)     # 輪郭線の描画\n",
    "\n",
    "        # 中心軸下端から、軸の延長方向に直線を描く\n",
    "        y0 = float(bezYc.subs(t,1.)) # 上端の座標\n",
    "        x0 = float(bezXc.subs(t,1.))\n",
    "        dx = float(diff(bezXc,t).subs(t,0.9)) #  　傾きを求めようとしている\n",
    "        dy = float(diff(bezYc,t).subs(t,0.9))\n",
    "        acc = dy/dx if dx != 0 else np.inf # 傾き\n",
    "        x1 = x0 + (500-y0)/acc if dx !=0 else x0\n",
    "        y1 = 500\n",
    "        canvas2 = cv2.line(canvas2,(int(float(x0)),int(float(y0))),(int(float(x1)),int(float(y1))),1,2) # 幅3（2*2-1）の直線を明るさ１で描く\n",
    "        canvas = canvas1 + canvas2\n",
    "        cross_points1 = np.where(canvas==2) # 交点　　　重なった場所は値が２となっている.\n",
    "        if len(cross_points1[0]) != 0 : crpy1,crpx1= np.average(cross_points1,axis=1)  # その平均座標\n",
    "        \n",
    "        return (crpx0,crpy0),(crpx1,crpy1)\n",
    "    \n",
    "# 左右のベジエ曲線の平均関数により中心軸のサンプル点を生成し、それをベジエ曲線で近似する関数。\n",
    "def getcenterBez(bezL,bezR,C=3,precPara2=0.01,n_samples = 20, openmode=False,debugmode=False):\n",
    "        bezXl,bezYl = bezL\n",
    "        bezXr,bezYr = bezR\n",
    "        # 左右のベジエ曲線の平均を求める\n",
    "        bezXc,bezYc = (bezXl+bezXr)/2,(bezYl+bezYr)/2\n",
    "        # 基本的にはこれが中心軸を表すが、5次だと両端に弊害が現れることが多いのでサンプル点を生成して再近似する\n",
    "        csamples = [[float(bezXc.subs(t,i)),float(bezYc.subs(t,i))] for i in np.linspace(0, 1, n_samples)] # サンプル点を生成\n",
    "        csamples = np.array(csamples)\n",
    "        cpxc,cpyc,bezXc,bezYc,tpc = fitBezierCurveN(csamples,precPara=precPara2,N=C,openmode=openmode,debugmode=debugmode)\n",
    "        return cpxc,cpyc,[bezXc,bezYc]\n",
    "    \n",
    "# 中心軸の垂直断面幅を求める測定点を求める\n",
    "def calcWidthFunc(bezL,bezR,bezC,n_samples):\n",
    "        bezXl,bezYl = bezL\n",
    "        bezXr,bezYr = bezR\n",
    "        bezXc,bezYc = bezC\n",
    "        # 中心軸上に設定したサンプル点における法線と両輪郭の交点のリストを求める。\n",
    "        PlistL,PlistR,PlistC = [],[],[]\n",
    "        PosL,PosR,PosC=[],[],[]\n",
    "        x0,y0 = var('x0,y0')\n",
    "        for ts in np.linspace(0, 1, n_samples):\n",
    "            y0 = float(bezYc.subs(t,ts))\n",
    "            x0 = float(bezXc.subs(t,ts))\n",
    "            dx = float(diff(bezXc,t).subs(t,ts)) # x、y をそれぞれ t で微分　傾きを求めようとしている\n",
    "            dy = float(diff(bezYc,t).subs(t,ts))\n",
    "            ans = solve(-dx/dy*(bezXr-x0)+y0-bezYr,t) # 法線とベジエ輪郭の交点を求める\n",
    "            ansR = [re(i) for i in ans if float(Abs(im(i)))<0.00000001] \n",
    "            # ↑理論的には、im(i) == 0  でいいのだが、数値計算誤差で虚部が０とならず、微小な値となる現象に現実的な対応\n",
    "            s = [i for i in ansR if  i<=1.03 and -0.03<=i] # ０から１までの範囲の解を抽出\n",
    "            PlistR.append(s[0]) if s != [] else PlistR.append(np.inf) \n",
    "            PosR.append([float(bezXr.subs(t,s[0])),float(bezYr.subs(t,s[0]))]) if s !=[] else PosR.append([np.inf,np.inf])\n",
    "            ans = solve(-dx/dy*(bezXl-x0)+y0-bezYl,t) # 法線とベジエ輪郭の交点を求める\n",
    "            ansL = [re(i) for i in ans if float(Abs(im(i)))<0.00000001]\n",
    "            s = [i for i in ansL if  i<=1.03 and -0.03<=i]\n",
    "            PlistL.append(s[0]) if s != [] else PlistL.append(np.inf) \n",
    "            PosL.append([float(bezXl.subs(t,s[0])),float(bezYl.subs(t,s[0]))]) if s !=[] else PosL.append([np.inf,np.inf])\n",
    "            PlistC.append(ts)\n",
    "            PosC.append([x0,y0])\n",
    "        return PlistL,PlistR,PlistC,PosL,PosR,np.array(PosC)\n",
    "    \n",
    "# 曲がりのない形状を計算する\n",
    "def shapeReconstruction(cnt,PosL,PosR,PosC,bezL,bezR,bezC,cntl,cntr,C=4,precPara=0.01,showImage=False):\n",
    "        bezXl,bezYl = bezL\n",
    "        bezXr,bezYr = bezR\n",
    "        bezXc,bezYc = bezC\n",
    "        n_samples = len(PosL)\n",
    "        # 中心軸と実輪郭の交点を求めて、上端の削除された長さを求める\n",
    "        canvas1 = np.zeros_like(img)  # 描画キャンバスの準備\n",
    "        canvas2 = canvas1.copy()\n",
    "        canvas1 = cv2.drawContours(canvas1, cnt, -1, 1, thickness=1)     # 輪郭線の描画\n",
    "        # 中心軸上端から、軸の延長方向に直線を描く\n",
    "        y0 = float(bezYc.subs(t,0.)) # 上端の座標\n",
    "        x0 = float(bezXc.subs(t,0.))\n",
    "        dx = float(diff(bezXc,t).subs(t,0.)) #  　傾きを求めようとしている\n",
    "        dy = float(diff(bezYc,t).subs(t,0.))\n",
    "        acc = dy/dx if dx != 0 else np.inf # 傾き\n",
    "        x1 = x0 - y0/acc if dx !=0 else x0\n",
    "        y1 = 0\n",
    "        canvas2 = cv2.line(canvas2,(int(float(x0)),int(float(y0))),(int(float(x1)),int(float(y1))),1,2) # 幅3（2*2-1）の直線を明るさ１で描く\n",
    "        canvas = canvas1 + canvas2\n",
    "        cross_points = np.where(canvas==2) # 交点　　　重なった場所は値が２となっている.\n",
    "        if len(cross_points[0]) != 0 : crosspy,crosspx= np.average(cross_points,axis=1)  # その平均座標\n",
    "        caplength = 0 if len(cross_points[0]) == 0 else np.sqrt((crosspx-x0)**2+(crosspy-y0)**2) # 削られた分の長さ\n",
    "        print(\"CAP(近似除外上端部)　{0:0.1f}\".format(caplength))\n",
    "        \n",
    "        # 定積分により軸に沿った長さを求める\n",
    "        s = var('s')\n",
    "        dxdt = diff(bezXc,t)\n",
    "        dydt = diff(bezYc,t)\n",
    "        leng = integrate(sqrt(dxdt**2+dydt**2),(t,0,s)) # 長さをパラメータの関数として求める計算式\n",
    "        radiusTable = [[0,0]]\n",
    "        for i, tpara in enumerate(np.linspace(0,1,n_samples)):\n",
    "            cx,cy = PosC[i][0],PosC[i][1]\n",
    "            length = float(leng.subs(s,tpara))+caplength # 上端からの長さ\n",
    "            lx,ly = PosL[i][0],PosL[i][1]\n",
    "            rx,ry = PosR[i][0],PosR[i][1]\n",
    "            if lx != np.inf and rx != np.inf:\n",
    "                ll = np.sqrt(float(lx-cx)**2+float(ly-cy)**2)\n",
    "                rl = np.sqrt(float(rx-cx)**2+float(ry-cy)**2)\n",
    "                radishR = (ll+rl)/2 # 半径\n",
    "            elif lx == np.inf and rx != np.inf:\n",
    "                rl = np.sqrt(float(rx-cx)**2+float(ry-cy)**2)\n",
    "                radishR = rl # 半径\n",
    "            elif lx !=  np.inf and rx == np.inf:\n",
    "                ll = np.sqrt(float(lx-cx)**2+float(ly-cy)**2)\n",
    "                radishR = ll # 半径\n",
    "            else:\n",
    "                radishR = np.inf\n",
    "            if radishR != np.inf :\n",
    "                radiusTable.append([radishR,length])\n",
    "        radiusTable = np.array(radiusTable)\n",
    " \n",
    "        #  延伸形状をベジエ曲線で近似\n",
    "        cpxl,cpyl,shapeX,shapeY,_tpl = fitBezierCurveN(radiusTable,precPara=precPara,N=C)\n",
    "        # 最大径とその位置を求める\n",
    "        fx = np.array([float(shapeX.subs(t,i)) for i in np.linspace(0,1,101)]) # 0.01刻み\n",
    "        fy = np.array([float(shapeY.subs(t,i)) for i in np.linspace(0,1,101)])\n",
    "        xmax_index = np.argmax(fx)\n",
    "        maxDia = 2*fx[xmax_index]\n",
    "        btmline_index = xmax_index + np.argmin((fx[xmax_index:] - maxDia*0.1)**2) # 最大幅の２０％に一番近い幅のインデックス               \n",
    "        radishLength = fy[btmline_index]\n",
    "        print(\"ダイコンの長さ={0:0.1f}　　（CAPを含む）\".format(float(radishLength)) )\n",
    "        print(\"最大直径={0:0.1f} 最大直径の位置は、上端から{1:0.1f} % の位置\".format(maxDia,100*fy[xmax_index]/radishLength))\n",
    "        \n",
    "        #結果の描画\n",
    "        if showImage:\n",
    "            plt.figure(figsize=(6,6),dpi=100)\n",
    "            plt.gca().invert_yaxis() \n",
    "            plt.gca().set_aspect('equal', adjustable='box') # アスペクト比を１：１に\n",
    "            tplins50 = np.linspace(0, 1, 50)\n",
    "\n",
    "            # 輪郭の描画\n",
    "            # plotLx = [float(shapeX.subs(t,tp)) for tp in tplins50 ]\n",
    "            # plotY = [float(shapeY.subs(t,tp)) for tp in tplins50 ]\n",
    "            ploty = fy\n",
    "            plotLx = fx\n",
    "            plotRx = -fx # [-x for x in plotLx]\n",
    "            plt.plot(plotLx,ploty,color = 'blue')  \n",
    "            plt.plot(plotRx,ploty,color = 'blue')  \n",
    "            plt.plot([-fx[xmax_index],fx[xmax_index]],[fy[xmax_index],fy[xmax_index]],color = 'red')\n",
    "            plt.plot([-fx[btmline_index],fx[btmline_index]],[fy[btmline_index],fy[btmline_index]],color = 'red')\n",
    "     \n",
    "        return shapeX,shapeY,radishLength, maxDia\n",
    "\n",
    "# 差分の表示\n",
    "def diffCnt2Bez(img,cnt,cntl,cntr,bezL,bezR, showImage=False):\n",
    "    bezLx,bezLy = bezL\n",
    "    bezRx,bezRy = bezR\n",
    "    \n",
    "    x00 = int(float(bezLx.subs(t,0)))\n",
    "    y00 = int(float(bezLy.subs(t,0)))\n",
    "    x01 = int(float(bezRx.subs(t,0)))\n",
    "    y01 = int(float(bezRy.subs(t,0)))\n",
    "    x10 = int(float(bezLx.subs(t,1)))\n",
    "    y10 = int(float(bezLy.subs(t,1)))\n",
    "    x11 = int(float(bezRx.subs(t,1)))\n",
    "    y11 = int(float(bezRy.subs(t,1)))\n",
    "\n",
    "    canvas1 = img.copy()\n",
    "    canvas2 = np.zeros_like(img)\n",
    "    \n",
    "    # img の近似対象部分のみ切り出し\n",
    "    acc0 = (y01-y00)/(x01-x00)\n",
    "    acc1 = (y11-y10)/(x11-x10)\n",
    "    x00e = x00 - 100\n",
    "    y00e = int(y00 - 100*acc0)-3\n",
    "    x01e = x01 + 100\n",
    "    y01e = int(y01 + 100*acc0)-3\n",
    "    x10e = x10 -100\n",
    "    y10e = int(y10 - 100*acc1)+3\n",
    "    x11e = x11 +100\n",
    "    y11e = int(y11 +100*acc1)+3\n",
    "    cv2.line(canvas1,(x00e,y00e),(x01e,y01e),0,2)\n",
    "    cv2.line(canvas1,(x10e,y10e),(x11e,y11e),0,2)\n",
    "    _lnum, labelimg, cnt, _cog =cv2.connectedComponentsWithStats(canvas1)\n",
    "    areamax = np.argmax(cnt[1:,4])+1 # ０番を除く面積最大値のインデックス\n",
    "    area = cnt[areamax][4]\n",
    "    canvas1 = np.array(255*(labelimg==areamax),np.uint8)\n",
    "    \n",
    "    # ベジエ近似画像の描画\n",
    "    tseq = np.linspace(0,1,400)\n",
    "    chainL = [[[int(float(bezLx.subs(t,tp))),int(float(bezLy.subs(t,tp)))]] for tp in tseq] \n",
    "    chainR = [[[int(float(bezRx.subs(t,tp))),int(float(bezRy.subs(t,tp)))]] for tp in tseq[::-1]] \n",
    "    chain = np.array(chainL + chainR + [chainR[-1],chainL[0]])\n",
    "    canvas2 = cv2.drawContours(canvas2,[chain],-1,255,-1)\n",
    "    # XORを取って差分とする\n",
    "    diffimg = cv2.bitwise_xor(canvas1,canvas2)\n",
    "    # 上端、下端を結ぶ線分は誤差でないので取り除く\n",
    "    cv2.line(diffimg,(x00e,y00e),(x01e,y01e),0,5)\n",
    "    cv2.line(diffimg,(x10e,y10e),(x11e,y11e),0,5)\n",
    "    areas = np.sum(diffimg/255)\n",
    "    \n",
    "    print('近似対象の面積は、{},  輪郭画素数は{},   ずれは、{}  ピクセル'.format(area,len(cntl)+len(cntr),areas))\n",
    "    print('曲線の方程式\\n',bezRx,'\\n',bezRy)\n",
    "    \n",
    "    if showImage:\n",
    "        zeroimg = np.zeros_like(img)\n",
    "        color1 = cv2.merge((diffimg,diffimg,diffimg))\n",
    "        plt.figure(figsize=(6,6),dpi=100)\n",
    "        plt.gca().set_aspect('equal', adjustable='box') # アスペクト比を１：１に\n",
    "        plotimg(color1)\n",
    "        \n",
    "    return canvas1,canvas2,areas"
   ]
  },
  {
   "cell_type": "code",
   "execution_count": 3,
   "metadata": {},
   "outputs": [],
   "source": [
    "def approxAndMeasurement(img,M=3,N=5,C=3,L=3,precPara1=0.1,precPara2=0.01,n_samples=25,openmode=False,debugmode=False,showImage=True):\n",
    "    # フェーズ１　仮中心軸の生成\n",
    "    ## 輪郭線を左右に仮分割\n",
    "    cntl,cntr,cnt = preGetLRdata(img,5,95,bracket=1)\n",
    "    ## ベジエ曲線あてはめ（パス１）\n",
    "    cpl,cpr,cpc, bezL,bezR,bezC,cntL,cntR = cntPair2bez(cntl,cntr,N=M, precPara=precPara1,openmode=openmode,debugmode=debugmode,showImage=showImage)\n",
    "    ## 中心軸をもとにしてより妥当な左右の輪郭をえる\n",
    "    cntl,cntr,TopP,_ = reGetCntPair(img,cnt,cpl,cpr,bezC)\n",
    "    ## ベジエ曲線あてはめ （パス２）\n",
    "    cpl,cpr,cpc, bezL,bezR,bezC,cntL,cntR= cntPair2bez(cntl,cntr,N=N,n_samples=n_samples, precPara=precPara2, openmode=openmode,debugmode=debugmode,showImage=showImage)\n",
    "    ## 中心軸へのベジエあてはめ\n",
    "    cpxc,cpyc,bezC2  = getcenterBez(bezL,bezR,C=C,precPara2=precPara2,n_samples = n_samples, openmode=openmode,debugmode=debugmode)\n",
    "    ## 幅のサンプリング\n",
    "    PlistL,PlistR,PlistC, PosL,PosR,PosC = calcWidthFunc(bezL,bezR,bezC2,n_samples=n_samples)\n",
    "    ## 結果の表示\n",
    "    drawBez2(img,bezL,bezR,bezC=bezC2,ladder='normal',PosL=PosL,PosR=PosR,PosC=PosC, n_samples=n_samples) \n",
    "    ## 延伸形状復元＆計測\n",
    "    shapeX,shapeY,radishLength, maxDia = shapeReconstruction(cnt,PosL,PosR,PosC,bezL,bezR,bezC2,cntl,cntr,C=L,precPara=precPara2,showImage=showImage)\n",
    "    ## 面積のずれの計算\n",
    "    diffCnt2Bez(img,cnt,cntl,cntr,bezL,bezR, showImage=showImage)"
   ]
  },
  {
   "cell_type": "code",
   "execution_count": 4,
   "metadata": {
    "scrolled": false
   },
   "outputs": [
    {
     "name": "stdout",
     "output_type": "stream",
     "text": [
      "左輪郭点の数  238 　右輪郭点の数　 250\n",
      "CAP(近似除外上端部)　21.5\n",
      "ダイコンの長さ=185.2　　（CAPを含む）\n",
      "最大直径=168.3 最大直径の位置は、上端から45.3 % の位置\n",
      "近似対象の面積は、23369,  輪郭画素数は488,   ずれは、470.0  ピクセル\n",
      "曲線の方程式\n",
      " 199*t**5 + 202.756552535373*t**4*(-5*t + 5) + 1711.0631653708*t**3*(-t + 1)**2 + 3637.18556809303*t**2*(-t + 1)**3 + 1286.37708865299*t*(-t + 1)**4 + 249*(-t + 1)**5 \n",
      " 313*t**5 + 231.932959723364*t**4*(-5*t + 5) + 1889.0753475413*t**3*(-t + 1)**2 + 3041.53674072421*t**2*(-t + 1)**3 + 317.561577271909*t*(-t + 1)**4 + 82*(-t + 1)**5\n"
     ]
    },
    {
     "data": {
      "image/png": "[encoded data removed]",
      "text/plain": [
       "<Figure size 600x600 with 1 Axes>"
      ]
     },
     "metadata": {
      "needs_background": "light"
     },
     "output_type": "display_data"
    },
    {
     "data": {
      "image/png": "[encoded data removed]",
      "text/plain": [
       "<Figure size 600x600 with 1 Axes>"
      ]
     },
     "metadata": {
      "needs_background": "light"
     },
     "output_type": "display_data"
    },
    {
     "data": {
      "image/png": "[encoded data removed]",
      "text/plain": [
       "<Figure size 600x600 with 1 Axes>"
      ]
     },
     "metadata": {
      "needs_background": "light"
     },
     "output_type": "display_data"
    }
   ],
   "source": [
    "img =imgs[1]  \n",
    "approxAndMeasurement(img,M=4,N=5,C=3,L=5,precPara1=0.05,precPara2=0.01,n_samples=25,openmode=False,debugmode=False,showImage=True)"
   ]
  },
  {
   "cell_type": "code",
   "execution_count": 5,
   "metadata": {},
   "outputs": [
    {
     "name": "stdout",
     "output_type": "stream",
     "text": [
      "CPU times: user 2 µs, sys: 0 ns, total: 2 µs\n",
      "Wall time: 5.25 µs\n",
      "左輪郭点の数  254 　右輪郭点の数　 246\n",
      "CAP(近似除外上端部)　3.6\n",
      "ダイコンの長さ=251.0　　（CAPを含む）\n",
      "最大直径=84.8 最大直径の位置は、上端から46.6 % の位置\n",
      "近似対象の面積は、18456,  輪郭画素数は500,   ずれは、383.0  ピクセル\n",
      "曲線の方程式\n",
      " 199*t**5 + 259.563075167284*t**4*(-5*t + 5) + 2043.56526588855*t**3*(-t + 1)**2 + 2260.80214723432*t**2*(-t + 1)**3 + 1284.98481514624*t*(-t + 1)**4 + 224*(-t + 1)**5 \n",
      " 314*t**5 + 287.58404310311*t**4*(-5*t + 5) + 2101.41039221806*t**3*(-t + 1)**2 + 1774.70142524879*t**2*(-t + 1)**3 + 586.718386861925*t*(-t + 1)**4 + 72*(-t + 1)**5\n",
      "CPU times: user 1min 54s, sys: 49.2 ms, total: 1min 54s\n",
      "Wall time: 1min 54s\n"
     ]
    },
    {
     "data": {
      "image/png": "[encoded data removed]",
      "text/plain": [
       "<Figure size 600x600 with 1 Axes>"
      ]
     },
     "metadata": {
      "needs_background": "light"
     },
     "output_type": "display_data"
    },
    {
     "data": {
      "image/png": "[encoded data removed]",
      "text/plain": [
       "<Figure size 600x600 with 1 Axes>"
      ]
     },
     "metadata": {
      "needs_background": "light"
     },
     "output_type": "display_data"
    },
    {
     "data": {
      "image/png": "[encoded data removed]",
      "text/plain": [
       "<Figure size 600x600 with 1 Axes>"
      ]
     },
     "metadata": {
      "needs_background": "light"
     },
     "output_type": "display_data"
    }
   ],
   "source": [
    "%time\n",
    "img =imgs[0]  \n",
    "%time approxAndMeasurement(img,M=4,N=5,C=3,L=5,precPara1=0.05,precPara2=0.01,n_samples=25,openmode=False,debugmode=False,showImage=True)"
   ]
  },
  {
   "cell_type": "code",
   "execution_count": null,
   "metadata": {},
   "outputs": [
    {
     "name": "stdout",
     "output_type": "stream",
     "text": [
      "CPU times: user 3 µs, sys: 1 µs, total: 4 µs\n",
      "Wall time: 5.01 µs\n",
      "左輪郭点の数  264 　右輪郭点の数　 251\n"
     ]
    }
   ],
   "source": [
    "%time\n",
    "img =imgs[2]  \n",
    "%time approxAndMeasurement(img,M=4,N=5,C=3,L=5,precPara1=0.05,precPara2=0.01,n_samples=25,openmode=False,debugmode=False,showImage=True)"
   ]
  },
  {
   "cell_type": "code",
   "execution_count": null,
   "metadata": {},
   "outputs": [],
   "source": [
    "%time\n",
    "img =imgs[3]  \n",
    "%time approxAndMeasurement(img,M=4,N=5,C=3,L=5,precPara1=0.05,precPara2=0.01,n_samples=25,openmode=False,debugmode=False,showImage=True)"
   ]
  },
  {
   "cell_type": "markdown",
   "metadata": {},
   "source": [
    "# 解説"
   ]
  },
  {
   "cell_type": "code",
   "execution_count": null,
   "metadata": {},
   "outputs": [],
   "source": [
    "img =imgs[0]\n",
    "cntl,cntr,cnt = preGetLRdata(img,5,95,bracket=2)\n",
    "canvas = np.zeros_like(img)\n",
    "cv2.drawContours(canvas,cntl,-1,255,3)\n",
    "canvas2 = cv2.drawContours(canvas,cntr,-1,255,3)\n",
    "img =imgs[1]\n",
    "cntl,cntr,cnt = preGetLRdata(img,10,90,bracket=2)\n",
    "canvas = np.zeros_like(img)\n",
    "cv2.drawContours(canvas,cntl,-1,255,3)\n",
    "cv2.drawContours(canvas,cntr,-1,255,3)\n",
    "imshowpara(canvas2,canvas)"
   ]
  },
  {
   "cell_type": "code",
   "execution_count": null,
   "metadata": {},
   "outputs": [],
   "source": [
    "img =imgs[2]\n",
    "cntl,cntr,cnt = preGetLRdata(img,10,90,bracket=2)\n",
    "canvas = np.zeros_like(img)\n",
    "cv2.drawContours(canvas,cntl,-1,255,3)\n",
    "canvas2 = cv2.drawContours(canvas,cntr,-1,255,3)\n",
    "img =imgs[3]\n",
    "cntl,cntr,cnt = preGetLRdata(img,10,90,bracket=2)\n",
    "canvas = np.zeros_like(img)\n",
    "cv2.drawContours(canvas,cntl,-1,255,3)\n",
    "cv2.drawContours(canvas,cntr,-1,255,3)\n",
    "imshowpara(canvas2,canvas)"
   ]
  },
  {
   "cell_type": "code",
   "execution_count": null,
   "metadata": {},
   "outputs": [],
   "source": []
  },
  {
   "cell_type": "markdown",
   "metadata": {},
   "source": [
    "# 中心軸の初期近似"
   ]
  },
  {
   "cell_type": "markdown",
   "metadata": {},
   "source": [
    "# パス１\n",
    "\n",
    "1. 画像を読み込み、上下方向の５％から９５％の部分を抜き出すことで輪郭点を左右に分ける。\n",
    "2. 左右それぞれ３次のベジエ曲線で近似し、平均として中心軸をパラメータ表現する。"
   ]
  },
  {
   "cell_type": "code",
   "execution_count": null,
   "metadata": {},
   "outputs": [],
   "source": [
    "img =imgs[3]\n",
    "cntl,cntr,cnt = preGetLRdata(img,5,95,bracket=1)\n",
    "cpl,cpr,cpc, bezL,bezR,bezC,cntL,cntR = cntPair2bez(cntl,cntr,N=3, precPara=0.1,openmode=False,debugmode=True,showImage=True)"
   ]
  },
  {
   "cell_type": "code",
   "execution_count": null,
   "metadata": {},
   "outputs": [],
   "source": [
    "# 結果の表示\n",
    "drawBez2(img,bezL,bezR,bezC=bezC,cpl=cpl,cpr=cpr,cpc=cpc,cntL=cntL,cntR=cntR,cntC=None, ladder='lr',n_samples=20)"
   ]
  },
  {
   "cell_type": "markdown",
   "metadata": {},
   "source": [
    "この時点ではズレが大きいが、上下の傾きはほぼ正しく認識できていると考えられる。"
   ]
  },
  {
   "cell_type": "markdown",
   "metadata": {},
   "source": [
    "## 左右輪郭の再抽出\n",
    "\n",
    "再度全輪郭を描き、中心軸の延長上に中心をもつ円を黒で描くことで輪郭を左右に分割する。\n",
    "上下の位置に傾きがあっても比較的良好な分割となる。"
   ]
  },
  {
   "cell_type": "code",
   "execution_count": null,
   "metadata": {
    "scrolled": false
   },
   "outputs": [],
   "source": [
    "cntl,cntr = reGetCntPair(img,cnt,cpl,cpr,bezC)\n",
    "drawBez2(img,cntL=cntl,cntR=cntr)"
   ]
  },
  {
   "cell_type": "markdown",
   "metadata": {},
   "source": [
    "# パス２\n",
    "再抽出された左右輪郭を５次ベジエ曲線で近似する。"
   ]
  },
  {
   "cell_type": "code",
   "execution_count": null,
   "metadata": {},
   "outputs": [],
   "source": [
    "cpl,cpr,cpc, bezL,bezR,bezC,cntL,cntR = cntPair2bez(cntl,cntr,N=5,n_samples=25, precPara=0.01, openmode=False,debugmode=True,showImage=True)"
   ]
  },
  {
   "cell_type": "code",
   "execution_count": null,
   "metadata": {},
   "outputs": [],
   "source": [
    "# 結果の表示\n",
    "drawBez2(img,bezL,bezR,bezC=bezC,ladder='lr',n_samples=25) ;"
   ]
  },
  {
   "cell_type": "markdown",
   "metadata": {},
   "source": [
    "## 幅の計測\n",
    " \n",
    " 基本的には左右のパラメータ表現の平均はほぼ中心軸に対応すると考えて良いが、上端下端付近の傾きが水平方向から大きくかけ離れた方向になることが多いので、関数に基づいてサンプル点を生成してそれをベジエ曲線で再近似する。"
   ]
  },
  {
   "cell_type": "code",
   "execution_count": null,
   "metadata": {},
   "outputs": [],
   "source": [
    "cpxc,cpyc,[bezXc,bezYc]  = getcenterBez(bezL,bezR,C=4,precPara2=0.01,n_samples = 25, openmode=False,debugmode=True)"
   ]
  },
  {
   "cell_type": "code",
   "execution_count": null,
   "metadata": {},
   "outputs": [],
   "source": [
    "# 結果の表示\n",
    "PlistL,PlistR,PosL,PosR= calcWidthFunc(bezL,bezR,bezC,n_samples=25)\n",
    "drawBez2(img,bezL,bezR,bezC=bezC,ladder='normal',PosL=PosL,PosR=PosR,n_samples=25) ;"
   ]
  },
  {
   "cell_type": "code",
   "execution_count": null,
   "metadata": {},
   "outputs": [],
   "source": [
    "shapeX,shapeY,radishLength, maxDia = shapeReconstruction(cnt,PosL,PosR,bezL,bezR,bezC,cntl,cntr,C=4,precPara=0.01,showImage=True);"
   ]
  },
  {
   "cell_type": "code",
   "execution_count": null,
   "metadata": {},
   "outputs": [],
   "source": [
    "shapeX,shapeY"
   ]
  },
  {
   "cell_type": "code",
   "execution_count": null,
   "metadata": {},
   "outputs": [],
   "source": [
    "canvas1,canvas2,areas = diffCnt2Bez(img,cnt,cntl,cntr,bezL,bezR, showImage=True)"
   ]
  },
  {
   "cell_type": "code",
   "execution_count": null,
   "metadata": {},
   "outputs": [],
   "source": [
    "img =imgs[2]\n",
    "approxAndMeasurement(img,M=3,N=5,C=4,L=4,precPara1=0.1,precPara2=0.01,n_samples=30,openmode=False,debugmode=False,showImage=True)"
   ]
  },
  {
   "cell_type": "code",
   "execution_count": null,
   "metadata": {},
   "outputs": [],
   "source": [
    "img =imgs[2]\n",
    "approxAndMeasurement(img,M=3,N=5,C=4,L=3,precPara1=0.05,precPara2=0.01,n_samples=20,openmode=False,debugmode=False,showImage=True)"
   ]
  },
  {
   "cell_type": "code",
   "execution_count": null,
   "metadata": {},
   "outputs": [],
   "source": [
    "img =imgs[2]\n",
    "approxAndMeasurement(img,M=5,N=5,C=5,L=5,precPara1=0.05,precPara2=0.01,n_samples=20,openmode=False,debugmode=False,showImage=True)"
   ]
  },
  {
   "cell_type": "markdown",
   "metadata": {},
   "source": [
    "# 幅測定のみ細かくやってみる"
   ]
  },
  {
   "cell_type": "code",
   "execution_count": null,
   "metadata": {},
   "outputs": [],
   "source": [
    "def approxAndMeasurement2(img,M=3,N=5,C=3,L=3,precPara1=0.1,precPara2=0.01,n_samples=25,openmode=False,debugmode=False,showImage=True):\n",
    "    # フェーズ１　仮中心軸の生成\n",
    "    ## 輪郭線を左右に仮分割\n",
    "    cntl,cntr,cnt = preGetLRdata(img,5,95,bracket=1)\n",
    "    ## ベジエ曲線あてはめ（パス１）\n",
    "    cpl,cpr,cpc, bezL,bezR,bezC,cntL,cntR = cntPair2bez(cntl,cntr,N=M, precPara=precPara1,openmode=openmode,debugmode=debugmode,showImage=showImage)\n",
    "    ## 中心軸をもとにしてより妥当な左右の輪郭をえる\n",
    "    cntl,cntr = reGetCntPair(img,cnt,cpl,cpr,bezC)\n",
    "    ## ベジエ曲線あてはめ （パス２）\n",
    "    cpl,cpr,cpc, bezL,bezR,bezC,cntL,cntR= cntPair2bez(cntl,cntr,N=N,n_samples=n_samples, precPara=precPara2, openmode=openmode,debugmode=debugmode,showImage=showImage)\n",
    "    ## 中心軸へのベジエあてはめ\n",
    "    cpxc,cpyc,bezC2  = getcenterBez(bezL,bezR,C=C,precPara2=precPara2,n_samples = n_samples, openmode=openmode,debugmode=debugmode)\n",
    "    ## 幅のサンプリング\n",
    "    PlistL,PlistR,PlistC,PosL,PosR,PosC = calcWidthFunc(bezL,bezR,bezC2,n_samples=n_samples*2)\n",
    "    ## 結果の表示\n",
    "    drawBez2(img,bezL,bezR,bezC=bezC2,ladder='normal',PosL=PosL,PosR=PosR,n_samples=n_samples*2) \n",
    "    ## 延伸形状復元＆計測\n",
    "    shapeX,shapeY,radishLength, maxDia = shapeReconstruction(cnt,PosL,PosR,bezL,bezR,bezC,cntl,cntr,C=L,precPara=precPara2,showImage=showImage)\n",
    "    ## 面積のずれの計算\n",
    "    diffCnt2Bez(img,cnt,cntl,cntr,bezL,bezR, showImage=showImage)"
   ]
  },
  {
   "cell_type": "code",
   "execution_count": null,
   "metadata": {},
   "outputs": [],
   "source": [
    "img =imgs[2]\n",
    "approxAndMeasurement2(img,M=3,N=5,C=3,L=5,precPara1=0.05,precPara2=0.01,n_samples=20,openmode=False,debugmode=False,showImage=True)"
   ]
  },
  {
   "cell_type": "code",
   "execution_count": null,
   "metadata": {},
   "outputs": [],
   "source": [
    "def approxAndMeasurement3(img):\n",
    "    # フェーズ１　仮中心軸の生成\n",
    "    ## 輪郭線を左右に仮分割\n",
    "    cntl,cntr,cnt = preGetLRdata(img,10,90,bracket=1)\n",
    "    ## ベジエ曲線あてはめ（パス１）\n",
    "    cpl,cpr,cpc, bezL,bezR,bezC,cntL,cntR = cntPair2bez(cntl,cntr,N=4, precPara=0.1,showImage=True)\n",
    "    ## 中心軸をもとにしてより妥当な左右の輪郭をえる\n",
    "    cntl,cntr = reGetCntPair(img,cnt,cpl,cpr,bezC)\n",
    "    ## ベジエ曲線あてはめ （パス２）\n",
    "    cpl,cpr,cpc, bezL,bezR,bezC,cntL,cntR= cntPair2bez(cntl,cntr,N=5,n_samples=20, showImage=True)\n",
    "    ## 中心軸へのベジエあてはめ\n",
    "    cpxc,cpyc,bezC2  = getcenterBez(bezL,bezR,C=2,n_samples = 20)\n",
    "    ## 幅のサンプリング\n",
    "    PlistL,PlistR,PlistC,PosL,PosR,PosC = calcWidthFunc(bezL,bezR,bezC2,n_samples=30)\n",
    "    ## 結果の表示\n",
    "    drawBez2(img,bezL,bezR,bezC=bezC2,ladder='normal',PosL=PosL,PosR=PosR,PosC=PosC,n_samples=30) \n",
    "    ## 延伸形状復元＆計測\n",
    "    shapeX,shapeY,radishLength, maxDia = shapeReconstruction(cnt,PosL,PosR,PosC,bezL,bezR,bezC,cntl,cntr,C=5,showImage=True)\n",
    "    ## 面積のずれの計算\n",
    "    diffCnt2Bez(img,cnt,cntl,cntr,bezL,bezR, showImage=True)\n",
    "    return cntl,cntr,bezL,bezR,radishLength,maxDia,PosL,PosR"
   ]
  },
  {
   "cell_type": "code",
   "execution_count": null,
   "metadata": {},
   "outputs": [],
   "source": [
    "%time\n",
    "img =imgs[1]\n",
    "%time cntl,cntr,bezL,bezR,radishLength,maxDia,PosL,PosR = approxAndMeasurement3(img)"
   ]
  },
  {
   "cell_type": "code",
   "execution_count": null,
   "metadata": {},
   "outputs": [],
   "source": []
  }
 ],
 "metadata": {
  "kernelspec": {
   "display_name": "Python 3",
   "language": "python",
   "name": "python3"
  },
  "language_info": {
   "codemirror_mode": {
    "name": "ipython",
    "version": 3
   },
   "file_extension": ".py",
   "mimetype": "text/x-python",
   "name": "python",
   "nbconvert_exporter": "python",
   "pygments_lexer": "ipython3",
   "version": "3.6.6"
  }
 },
 "nbformat": 4,
 "nbformat_minor": 2
}
