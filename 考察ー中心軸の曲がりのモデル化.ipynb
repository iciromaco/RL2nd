{
 "cells": [
  {
   "cell_type": "markdown",
   "metadata": {},
   "source": [
    "# 中心軸の曲がりのモデル化\n",
    "\n",
    "シルエットと中心軸を共に３次のベジエ曲線でもモデル化してみる。"
   ]
  },
  {
   "cell_type": "code",
   "execution_count": 1,
   "metadata": {},
   "outputs": [
    {
     "name": "stdout",
     "output_type": "stream",
     "text": [
      "IPython console for SymPy 1.2 (Python 3.6.6-64-bit) (ground types: gmpy)\n",
      "\n",
      "These commands were executed:\n",
      ">>> from __future__ import division\n",
      ">>> from sympy import *\n",
      ">>> x, y, z, t = symbols('x y z t')\n",
      ">>> k, m, n = symbols('k m n', integer=True)\n",
      ">>> f, g, h = symbols('f g h', cls=Function)\n",
      ">>> init_printing()\n",
      "\n",
      "Documentation can be found at http://docs.sympy.org/1.2/\n",
      "\n"
     ]
    }
   ],
   "source": [
    "from sympy import *\n",
    "from sympy.abc import a,b,c\n",
    "init_session()\n",
    "import numpy as np\n",
    "%matplotlib inline\n",
    "from sympy import var\n",
    "\n",
    "# 輪郭線データその１\n",
    "points = np.array([[115, 75], [106, 85],[99, 95],[95, 105],[94, 115],[92, 125],[92, 135],[93, 145],\n",
    " [96, 155],[104, 165],[115, 175],[129, 185], [151, 195],[171, 205],[181, 215],[184, 225],\n",
    " [185, 235],[185, 245],[184, 255],[183, 265],[182, 275],[181, 285],[179, 295],[177, 305]])\n",
    "'''\n",
    "# 輪郭線データその２\n",
    "points = np.array([[159, 76],[164, 86], [174, 96], [182, 106], [189, 116],\n",
    " [193, 126], [198, 136], [201, 146], [204, 156], [206, 166], [207, 176], [206, 186], [205, 196],\n",
    " [204, 206], [202, 216], [200, 226], [198, 236], [194, 246], [191, 256], [189, 266], [189, 276],\n",
    " [189, 286], [189, 296]])''';"
   ]
  },
  {
   "cell_type": "markdown",
   "metadata": {},
   "source": [
    "# 三次ベジエ曲線の定義"
   ]
  },
  {
   "cell_type": "code",
   "execution_count": 2,
   "metadata": {},
   "outputs": [
    {
     "data": {
      "text/latex": [
       "$$\\left[\\begin{matrix}- px_{0} \\left(t - 1\\right)^{3} + 3 px_{1} t \\left(t - 1\\right)^{2} - 3 px_{2} t^{2} \\left(t - 1\\right) + px_{3} t^{3}\\\\- py_{0} \\left(t - 1\\right)^{3} + 3 py_{1} t \\left(t - 1\\right)^{2} - 3 py_{2} t^{2} \\left(t - 1\\right) + py_{3} t^{3}\\end{matrix}\\right]$$"
      ],
      "text/plain": [
       "⎡             3                  2          2                3⎤\n",
       "⎢- px₀⋅(t - 1)  + 3⋅px₁⋅t⋅(t - 1)  - 3⋅px₂⋅t ⋅(t - 1) + px₃⋅t ⎥\n",
       "⎢                                                             ⎥\n",
       "⎢             3                  2          2                3⎥\n",
       "⎣- py₀⋅(t - 1)  + 3⋅py₁⋅t⋅(t - 1)  - 3⋅py₂⋅t ⋅(t - 1) + py₃⋅t ⎦"
      ]
     },
     "execution_count": 2,
     "metadata": {},
     "output_type": "execute_result"
    }
   ],
   "source": [
    "px,py =var('px:4'),var('py:4') # px0,px1,px2,px3,py1,py0,py1,py2,py3\n",
    "P = [Matrix([px[i],py[i]]) for i in [0,1,2,3]]\n",
    "t = symbols(\"t\")\n",
    "bez3 = (1-t)**3*P[0] + 3*(1-t)**2*t*P[1] + 3*(1-t)*t**2*P[2] + t**3*P[3]\n",
    "simplify(bez3)"
   ]
  },
  {
   "cell_type": "markdown",
   "metadata": {},
   "source": [
    "# 直線軸、軸対象な理想的な大根のモデル\n",
    "\n",
    "- 軸をY軸とする。\n",
    "- 両側はY軸に線対象なベジエ曲線で近似できると仮定する。\n",
    "\n",
    "左側のシルエットを表すベジエ曲線が\n",
    "\n",
    "$$ x = f(y)  $$\n",
    "\n",
    "であるなら、右側は\n",
    "\n",
    "$$ x = -f(y) $$\n",
    "\n",
    "である。\n",
    "\n",
    "いま、中心軸は直線と仮定しているので、ベジエ曲線で近似する必要はないわけだが、曲線の特別な場合であると考え、あえてベジエ曲線で表現しておく。\n",
    "\n",
    "直線を２次以上のベジエ曲線で近似する場合、両端以外の制御点は両端を結ぶ線分上にあれば位置は任意になってしまう。\n",
    "\n",
    "また、一般には二つのベジエ曲線のパラメータは別物であり、同一視することはできない。例えば、同じY座標となるパラメータは一般には一致しない。しかし、上述のとおり、直線を近似する場合の制御点は任意であるので、制御点のY座標を両側のそれと一致させてやれば、どのパラメータ値においても中心軸のY座標と両側のY座標は一致する。\n",
    "\n",
    "左右のベジエ曲線はY軸対称であると仮定しているので、同じパラメータの時のY座標は当然一致する。\n",
    "\n",
    "## 確認のための例"
   ]
  },
  {
   "cell_type": "code",
   "execution_count": 3,
   "metadata": {},
   "outputs": [],
   "source": [
    "asmp = [[0,0],[0.1,0.3],[0.1,0.4],[0.08,1]] # 右側のベジエ 関数の制御点\n",
    "asmc = [[0,0],[0,0.3],[0,0.4],[0,1]] # 中心軸のベジエ 関数の制御点\n",
    "# ベジエ 曲線の式に４点を代入した式を求める\n",
    "bezAS1 = bez3.subs([(px[0],asmp[0][0]),(px[1],asmp[1][0]),(px[2],asmp[2][0]),(px[3],asmp[3][0])])\n",
    "bezAS1 = bezAS1.subs([(py[0],asmp[0][1]),(py[1],asmp[1][1]),(py[2],asmp[2][1]),(py[3],asmp[3][1])])\n",
    "bezASC = bez3.subs([(px[0],asmc[0][0]),(px[1],asmc[1][0]),(px[2],asmc[2][0]),(px[3],asmc[3][0])])\n",
    "bezASC = bezASC.subs([(py[0],asmc[0][1]),(py[1],asmc[1][1]),(py[2],asmc[2][1]),(py[3],asmc[3][1])])"
   ]
  },
  {
   "cell_type": "code",
   "execution_count": 4,
   "metadata": {},
   "outputs": [
    {
     "data": {
      "text/plain": [
       "[<matplotlib.lines.Line2D at 0x11bc08908>]"
      ]
     },
     "execution_count": 4,
     "metadata": {},
     "output_type": "execute_result"
    },
    {
     "data": {
      "image/png": "[encoded data removed]",
      "text/plain": [
       "<Figure size 432x288 with 1 Axes>"
      ]
     },
     "metadata": {
      "needs_background": "light"
     },
     "output_type": "display_data"
    }
   ],
   "source": [
    "# 描画してみる\n",
    "tplins = np.linspace(-0.02, 1.02,50)\n",
    "tslins11 = np.linspace(-0, 1,11)\n",
    "plt.gca().set_aspect('equal', adjustable='box')\n",
    "plotx = np.array([bezAS1[0].subs(t,tp) for tp in tplins ])\n",
    "ploty = np.array([bezAS1[1].subs(t,tp) for tp in tplins ])\n",
    "plot11x = np.array([bezAS1[0].subs(t,tp) for tp in tslins11 ])\n",
    "plot11y = np.array([bezAS1[1].subs(t,tp) for tp in tslins11 ])\n",
    "plotx2 = -plotx\n",
    "ploty2 = ploty\n",
    "plotcx = np.array([bezASC[0].subs(t,tp) for tp in tslins11 ])\n",
    "plotcy = np.array([bezASC[1].subs(t,tp) for tp in tslins11 ])\n",
    "plt.scatter(plotcx,plotcy)\n",
    "plt.scatter(plot11x,plot11y)\n",
    "plt.scatter(plot11x,plotcy)\n",
    "plt.scatter(-plot11x,plot11y)\n",
    "plt.plot(plotx,ploty)\n",
    "plt.plot(plotx2,ploty2)"
   ]
  },
  {
   "cell_type": "markdown",
   "metadata": {},
   "source": [
    "# 曲がりのモデル\n",
    "\n",
    "## 仮定\n",
    "- 中心軸が直線であるときの輪郭線が三次のベジエ曲線 bez3(t) で表されており、同じパラメータを用いて両側のベジエ曲線が定義されている。\n",
    "- 曲がり形状は、曲がりのない形状を特徴づける３つのベジエ曲線を定義する制御点を次のように変換して得られるベジエ曲線であると仮定する。\n",
    "1. 両端の制御点 P0, P3 は変化しない。\n",
    "2. 曲がり形状を近似する曲線の制御点 P1 は、元のP1をP0 を中心として回転した位置にある。P0-P1 の距離は変化しない。\n",
    "3. 同様に、P2 は P3 を中心に回転した位置にあり、P2-P3 の距離は変化しない。\n",
    "4. 両側と中心軸の制御点の回転量はすべて一致する。\n",
    "\n",
    "下部のみに曲がりが見られるということは十分ありえるので、P0-P1 の回転角と P2-P3 の回転角はそれぞれ別とすべきであろう。\n",
    "\n",
    "もっと自由度を上げてモデル化することはいくらでもできるが、いくらでも最もらしい当てはめが出来てしまうだろう。\n",
    "\n",
    "目的は限りなく精度の高いフィッティングにあるのではなく、少ないパラメータで形状を表現することにある。おそらくこれくらいに制約を強くしても十分であろう。中心軸は２次のベジエで近似しても良いくらいだと思うが、そうするとパラメータ空間を一致させることができないので３次で近似することにする。"
   ]
  },
  {
   "cell_type": "markdown",
   "metadata": {},
   "source": [
    "# 変形した形状の例\n",
    "\n",
    "仮定したモデルを適用してどのような変形形状ができるか試しに描いてみよう。"
   ]
  },
  {
   "cell_type": "code",
   "execution_count": 5,
   "metadata": {},
   "outputs": [],
   "source": [
    "# (a,b)周りに r ラジアン回転\n",
    "def rotation(r,P,center=(0,0)): \n",
    "    cx,cy = center\n",
    "    A1=Matrix(([1,0,-cx], [0,1,-cy],[0,0,1]))  #  center が原点になるように平行移動\n",
    "    A2=Matrix(([cos(r),-sin(r),0], [sin(r),cos(r),0],[0,0,1])) # 原点周りに r ラジアン回転\n",
    "    A3=Matrix(([1,0,cx], [0,1,cy],[0,0,1])) # 平行移動させた分だけ戻す\n",
    "    A4=A3*A2*A1\n",
    "    return (A4*Matrix([P[0],P[1],1]))[:2]"
   ]
  },
  {
   "cell_type": "code",
   "execution_count": 6,
   "metadata": {},
   "outputs": [
    {
     "data": {
      "image/png": "[encoded data removed]",
      "text/latex": [
       "$$\\left [ \\frac{3}{2}, \\quad \\frac{\\sqrt{3}}{2}\\right ]$$"
      ],
      "text/plain": [
       "⎡     √3⎤\n",
       "⎢3/2, ──⎥\n",
       "⎣     2 ⎦"
      ]
     },
     "execution_count": 6,
     "metadata": {},
     "output_type": "execute_result"
    }
   ],
   "source": [
    "# テスト　　　　点(2,0) を　(1,0)を中心に　６０度回転させた時の座標を求める\n",
    "rotation(pi/3,[2,0],center=(1,0))"
   ]
  },
  {
   "cell_type": "markdown",
   "metadata": {},
   "source": [
    "正しいようなのである。\n",
    "\n",
    "# 変形後の制御点を求める\n",
    "\n",
    "制御点 P0,P1,P2,P3 をもとにして、P1 がP0を中心に r1 ラジアン、P2がP3を中心に r2 ラジアン回転したあとの 制御点を、 [Q0,Q1,Q2,Q3] とする。"
   ]
  },
  {
   "cell_type": "code",
   "execution_count": 7,
   "metadata": {},
   "outputs": [
    {
     "data": {
      "text/latex": [
       "$$\\left [ \\left[\\begin{matrix}px_{0}\\\\py_{0}\\end{matrix}\\right], \\quad \\left [ - px_{0} \\cos{\\left (r_{1} \\right )} + px_{0} + px_{1} \\cos{\\left (r_{1} \\right )} + py_{0} \\sin{\\left (r_{1} \\right )} - py_{1} \\sin{\\left (r_{1} \\right )}, \\quad - px_{0} \\sin{\\left (r_{1} \\right )} + px_{1} \\sin{\\left (r_{1} \\right )} - py_{0} \\cos{\\left (r_{1} \\right )} + py_{0} + py_{1} \\cos{\\left (r_{1} \\right )}\\right ], \\quad \\left [ px_{2} \\cos{\\left (r_{2} \\right )} - px_{3} \\cos{\\left (r_{2} \\right )} + px_{3} - py_{2} \\sin{\\left (r_{2} \\right )} + py_{3} \\sin{\\left (r_{2} \\right )}, \\quad px_{2} \\sin{\\left (r_{2} \\right )} - px_{3} \\sin{\\left (r_{2} \\right )} + py_{2} \\cos{\\left (r_{2} \\right )} - py_{3} \\cos{\\left (r_{2} \\right )} + py_{3}\\right ], \\quad \\left[\\begin{matrix}px_{3}\\\\py_{3}\\end{matrix}\\right]\\right ]$$"
      ],
      "text/plain": [
       "⎡⎡px₀⎤                                                                        \n",
       "⎢⎢   ⎥, [-px₀⋅cos(r₁) + px₀ + px₁⋅cos(r₁) + py₀⋅sin(r₁) - py₁⋅sin(r₁), -px₀⋅si\n",
       "⎣⎣py₀⎦                                                                        \n",
       "\n",
       "                                                                              \n",
       "n(r₁) + px₁⋅sin(r₁) - py₀⋅cos(r₁) + py₀ + py₁⋅cos(r₁)], [px₂⋅cos(r₂) - px₃⋅cos\n",
       "                                                                              \n",
       "\n",
       "                                                                              \n",
       "(r₂) + px₃ - py₂⋅sin(r₂) + py₃⋅sin(r₂), px₂⋅sin(r₂) - px₃⋅sin(r₂) + py₂⋅cos(r₂\n",
       "                                                                              \n",
       "\n",
       "                        ⎡px₃⎤⎤\n",
       ") - py₃⋅cos(r₂) + py₃], ⎢   ⎥⎥\n",
       "                        ⎣py₃⎦⎦"
      ]
     },
     "execution_count": 7,
     "metadata": {},
     "output_type": "execute_result"
    }
   ],
   "source": [
    "r1,r2 = symbols('r1,r2')\n",
    "Q = [P[0],rotation(r1,P[1],P[0]),rotation(r2,P[2],P[3]),P[3]]\n",
    "Q"
   ]
  },
  {
   "cell_type": "markdown",
   "metadata": {},
   "source": [
    "# Q によって定義されるベジエ 曲線の式を求める"
   ]
  },
  {
   "cell_type": "code",
   "execution_count": 8,
   "metadata": {},
   "outputs": [],
   "source": [
    "bez3Q = bez3.subs([(px[0],Q[0][0]),(px[1],Q[1][0]),(px[2],Q[2][0]),(px[3],Q[3][0])])\n",
    "bez3Q = bez3Q.subs([(py[0],Q[0][1]),(py[1],Q[1][1]),(py[2],Q[2][1]),(py[3],Q[3][1])])"
   ]
  },
  {
   "cell_type": "code",
   "execution_count": 9,
   "metadata": {},
   "outputs": [
    {
     "data": {
      "text/latex": [
       "$$\\left[\\begin{matrix}- px_{0} \\left(t - 1\\right)^{3} + px_{3} t^{3} - \\frac{3 t^{2} \\left(t - 1\\right) \\left(2 px_{2} \\cos{\\left (r_{2} \\right )} + px_{2} \\cos{\\left (2 r_{2} \\right )} - px_{2} - 2 px_{3} \\cos{\\left (r_{2} \\right )} - px_{3} \\cos{\\left (2 r_{2} \\right )} + 3 px_{3} - py_{2} \\sin{\\left (2 r_{2} \\right )} + py_{3} \\sin{\\left (2 r_{2} \\right )}\\right)}{2} - \\frac{3 t \\left(t - 1\\right)^{2} \\left(2 px_{0} \\cos{\\left (r_{1} \\right )} + px_{0} \\cos{\\left (2 r_{1} \\right )} - 3 px_{0} - 2 px_{1} \\cos{\\left (r_{1} \\right )} - px_{1} \\cos{\\left (2 r_{1} \\right )} + px_{1} - py_{0} \\sin{\\left (2 r_{1} \\right )} + py_{1} \\sin{\\left (2 r_{1} \\right )}\\right)}{2}\\\\- py_{0} \\left(t - 1\\right)^{3} + py_{3} t^{3} - 3 t^{2} \\left(t - 1\\right) \\left(px_{2} \\sin{\\left (r_{2} \\right )} - px_{3} \\sin{\\left (r_{2} \\right )} + py_{2} \\cos{\\left (r_{2} \\right )} - py_{3} \\cos{\\left (r_{2} \\right )} + py_{3}\\right) + 3 t \\left(t - 1\\right)^{2} \\left(- px_{0} \\sin{\\left (r_{1} \\right )} + px_{1} \\sin{\\left (r_{1} \\right )} - py_{0} \\cos{\\left (r_{1} \\right )} + py_{0} + py_{1} \\cos{\\left (r_{1} \\right )}\\right)\\end{matrix}\\right]$$"
      ],
      "text/plain": [
       "⎡                             2                                               \n",
       "⎢             3        3   3⋅t ⋅(t - 1)⋅(2⋅px₂⋅cos(r₂) + px₂⋅cos(2⋅r₂) - px₂ -\n",
       "⎢- px₀⋅(t - 1)  + px₃⋅t  - ───────────────────────────────────────────────────\n",
       "⎢                                                                             \n",
       "⎢                                                                             \n",
       "⎢                                                            3        3      2\n",
       "⎣                                               - py₀⋅(t - 1)  + py₃⋅t  - 3⋅t \n",
       "\n",
       "                                                                              \n",
       " 2⋅px₃⋅cos(r₂) - px₃⋅cos(2⋅r₂) + 3⋅px₃ - py₂⋅sin(2⋅r₂) + py₃⋅sin(2⋅r₂))   3⋅t⋅\n",
       "─────────────────────────────────────────────────────────────────────── - ────\n",
       "         2                                                                    \n",
       "                                                                              \n",
       "                                                                              \n",
       "⋅(t - 1)⋅(px₂⋅sin(r₂) - px₃⋅sin(r₂) + py₂⋅cos(r₂) - py₃⋅cos(r₂) + py₃) + 3⋅t⋅(\n",
       "\n",
       "       2                                                                      \n",
       "(t - 1) ⋅(2⋅px₀⋅cos(r₁) + px₀⋅cos(2⋅r₁) - 3⋅px₀ - 2⋅px₁⋅cos(r₁) - px₁⋅cos(2⋅r₁\n",
       "──────────────────────────────────────────────────────────────────────────────\n",
       "                                                        2                     \n",
       "                                                                              \n",
       "      2                                                                       \n",
       "t - 1) ⋅(-px₀⋅sin(r₁) + px₁⋅sin(r₁) - py₀⋅cos(r₁) + py₀ + py₁⋅cos(r₁))        \n",
       "\n",
       "                                        ⎤\n",
       ") + px₁ - py₀⋅sin(2⋅r₁) + py₁⋅sin(2⋅r₁))⎥\n",
       "────────────────────────────────────────⎥\n",
       "                                        ⎥\n",
       "                                        ⎥\n",
       "                                        ⎥\n",
       "                                        ⎦"
      ]
     },
     "execution_count": 9,
     "metadata": {},
     "output_type": "execute_result"
    }
   ],
   "source": [
    "simplify(bez3Q)"
   ]
  },
  {
   "cell_type": "markdown",
   "metadata": {},
   "source": [
    "# 具体例"
   ]
  },
  {
   "cell_type": "code",
   "execution_count": 10,
   "metadata": {},
   "outputs": [],
   "source": [
    "def drawModel(asml,asmc,asmr,angle1=0,angle2=0):\n",
    "    # bezASL 左側面のベジエ 曲線　 \n",
    "    bezASL = bez3Q.subs([(px[0],asml[0][0]),(px[1],asml[1][0]),(px[2],asml[2][0]),(px[3],asml[3][0])])\n",
    "    bezASL = bezASL.subs([(py[0],asml[0][1]),(py[1],asml[1][1]),(py[2],asml[2][1]),(py[3],asml[3][1])])\n",
    "    bezASL = bezASL.subs([(r1,angle1),(r2,angle2)])\n",
    "    # bezASC 中心軸のベジエ 曲線　\n",
    "    bezASC = bez3Q.subs([(px[0],asmc[0][0]),(px[1],asmc[1][0]),(px[2],asmc[2][0]),(px[3],asmc[3][0])])\n",
    "    bezASC = bezASC.subs([(py[0],asmc[0][1]),(py[1],asmc[1][1]),(py[2],asmc[2][1]),(py[3],asmc[3][1])])\n",
    "    bezASC = bezASC.subs([(r1,angle1),(r2,angle2)])\n",
    "    # bezASR 中心軸のベジエ 曲線　 \n",
    "    bezASR = bez3Q.subs([(px[0],asmr[0][0]),(px[1],asmr[1][0]),(px[2],asmr[2][0]),(px[3],asmr[3][0])])\n",
    "    bezASR = bezASR.subs([(py[0],asmr[0][1]),(py[1],asmr[1][1]),(py[2],asmr[2][1]),(py[3],asmr[3][1])])\n",
    "    bezASR = bezASR.subs([(r1,angle1),(r2,angle2)])\n",
    "    \n",
    "    tplins = np.linspace(-0.02, 1.02,50)\n",
    "    tslins11 = np.linspace(-0, 1,11)\n",
    "    plt.gca().set_aspect('equal', adjustable='box')\n",
    "    plotLx = np.array([bezASL[0].subs(t,tp) for tp in tplins ])\n",
    "    plotLy = np.array([bezASL[1].subs(t,tp) for tp in tplins ])\n",
    "    plot11Lx = np.array([bezASL[0].subs(t,tp) for tp in tslins11 ])\n",
    "    plot11Ly = np.array([bezASL[1].subs(t,tp) for tp in tslins11 ])\n",
    "\n",
    "    plotCx = np.array([bezASC[0].subs(t,tp) for tp in tplins ])\n",
    "    plotCy = np.array([bezASC[1].subs(t,tp) for tp in tplins ])\n",
    "    plot11Cx = np.array([bezASC[0].subs(t,tp) for tp in tslins11 ])\n",
    "    plot11Cy = np.array([bezASC[1].subs(t,tp) for tp in tslins11 ])\n",
    "\n",
    "    plotRx = np.array([bezASR[0].subs(t,tp) for tp in tplins ])\n",
    "    plotRy = np.array([bezASR[1].subs(t,tp) for tp in tplins ])\n",
    "    plot11Rx = np.array([bezASR[0].subs(t,tp) for tp in tslins11 ])\n",
    "    plot11Ry = np.array([bezASR[1].subs(t,tp) for tp in tslins11 ])\n",
    "\n",
    "    plt.scatter(plot11Lx,plot11Ly)\n",
    "    plt.scatter(plot11Cx,plot11Cy)\n",
    "    plt.scatter(plot11Rx,plot11Ry)\n",
    "\n",
    "    plt.plot(plotLx,plotLy)\n",
    "    plt.plot(plotCx,plotCy)\n",
    "    plt.plot(plotRx,plotRy)\n"
   ]
  },
  {
   "cell_type": "code",
   "execution_count": 11,
   "metadata": {},
   "outputs": [
    {
     "data": {
      "image/png": "[encoded data removed]",
      "text/plain": [
       "<Figure size 432x288 with 1 Axes>"
      ]
     },
     "metadata": {
      "needs_background": "light"
     },
     "output_type": "display_data"
    }
   ],
   "source": [
    "asml = [[0,0],[-0.1,0.3],[-0.1,0.4],[-0.08,1]] # 左側シルエットを近似するための制御点\n",
    "asmc = [[0,0],[0,0.3],[0,0.4],[0,1]] # 中心軸を近似するための制御点　\n",
    "asmr = [[0,0],[0.1,0.3],[0.1,0.4],[0.08,1]] # 右側シルエットを近似するための制御点\n",
    "\n",
    "# 下 (angle1) を -30度、上(angle2）を３０度曲げる\n",
    "drawModel(asml,asmc,asmr,angle1=-pi/6,angle2=pi/6)"
   ]
  },
  {
   "cell_type": "code",
   "execution_count": 12,
   "metadata": {},
   "outputs": [
    {
     "data": {
      "image/png": "[encoded data removed]",
      "text/plain": [
       "<Figure size 432x288 with 1 Axes>"
      ]
     },
     "metadata": {
      "needs_background": "light"
     },
     "output_type": "display_data"
    }
   ],
   "source": [
    "# 下 (angle1) を -30度、上(angle2）も-３０度曲げる\n",
    "drawModel(asml,asmc,asmr,angle1=-pi/6,angle2=-pi/6)"
   ]
  },
  {
   "cell_type": "code",
   "execution_count": 13,
   "metadata": {},
   "outputs": [
    {
     "data": {
      "image/png": "[encoded data removed]",
      "text/plain": [
       "<Figure size 432x288 with 1 Axes>"
      ]
     },
     "metadata": {
      "needs_background": "light"
     },
     "output_type": "display_data"
    }
   ],
   "source": [
    "# 下 (angle1) だけ -30度曲げる\n",
    "drawModel(asml,asmc,asmr,angle1=-pi/6,angle2=0)"
   ]
  },
  {
   "cell_type": "markdown",
   "metadata": {},
   "source": [
    "# 考察\n",
    "\n",
    "描いてみた限りでは良さげな気がする。\n",
    "\n",
    "ただ、描くのは簡単であるが、最適当てはめができるかどうかが問題。\n",
    "\n",
    "曲がりがなければベジエ曲線の当てはめは４元連立一次方程式に過ぎないが、曲がりを考慮すると角度が未知数として２つ増える上に三角関数と制御点の積の項が出てきてしまい解析的に解けないだろうと思われる。"
   ]
  },
  {
   "cell_type": "code",
   "execution_count": null,
   "metadata": {},
   "outputs": [],
   "source": []
  }
 ],
 "metadata": {
  "kernelspec": {
   "display_name": "Python 3",
   "language": "python",
   "name": "python3"
  },
  "language_info": {
   "codemirror_mode": {
    "name": "ipython",
    "version": 3
   },
   "file_extension": ".py",
   "mimetype": "text/x-python",
   "name": "python",
   "nbconvert_exporter": "python",
   "pygments_lexer": "ipython3",
   "version": "3.6.6"
  }
 },
 "nbformat": 4,
 "nbformat_minor": 2
}
