{
 "cells": [
  {
   "cell_type": "markdown",
   "metadata": {},
   "source": [
    "# 両側に基づく緩和的な軸抽出\n",
    "\n",
    "## 形状モデル\n",
    "- 線対称の図形の軸が変形されてできる図形である\n",
    "- 変形前の形状において、中心軸上の点 Po を通り、軸と直交する直線と両側の交点を Pl, Prとする。軸変形後 Po→Po', Pl→Pl', Pr→Prと位置が変わるものとする。この時、\n",
    ">- Po'はPlとPr'の中点にある。\n",
    ">- Po'Pl'=Po'Pl'=PoPl\n",
    ">- Pl'Pr' と軸が直交\n",
    "\n",
    "という関係は保存されるものと仮定。 \n",
    "\n",
    "# アルゴリズム\n",
    "1. 図形を平滑化し、重心と、軸が垂直になるよう図形を回転\n",
    "2. 水平方向に向かい合う輪郭点のペアを上から順に (xl1,xr1),(xl2,xr2)...として抽出\n",
    "3. 各ペアの中点を初期の中心軸点として点列をえる。\n",
    "4. 中心軸点列にベジエ曲線を当てはめる。\n",
    "5. 得られた曲線上の点における曲線の垂線と輪郭の交点を求め、ペアを更新する。\n",
    "6. 得られたペアの中心を求め、中心軸点列を更新する。\n",
    "7. 安定するまで繰り返す。"
   ]
  },
  {
   "cell_type": "markdown",
   "metadata": {},
   "source": [
    "# 予備実験１"
   ]
  },
  {
   "cell_type": "code",
   "execution_count": 1,
   "metadata": {},
   "outputs": [],
   "source": [
    "from skimage.morphology import skeletonize, skeletonize_3d\n",
    "import matplotlib.pyplot as plt\n",
    "from skimage.util import invert\n",
    "from skimage import io\n",
    "import skimage.data\n",
    "import skimage.color\n",
    "import os\n",
    "import numpy as np\n",
    "import cv2\n",
    "\n",
    "# マージンをつける\n",
    "def makemargin(img,mr=2):\n",
    "    h,w = img.shape[:2]\n",
    "    w2 = mr*w\n",
    "    h2 = mr*h\n",
    "    x1 = int((w2-w)/2)\n",
    "    y1 = int((h2-h)/2)\n",
    "    img2 = np.zeros((h2,w2),np.uint8)\n",
    "    img2[y1:y1+h,x1:x1+w] = img\n",
    "    return img2\n",
    "\n",
    "# 処理結果画像（fimg)に処理前画像（bimg)の輪郭を描く\n",
    "def draw2(bimg,fimg):\n",
    "    if len(bimg.shape)==3:\n",
    "        bimg2 = cv2.cvtColor(bimg,cv2.COLOR_BGR2GRAY)\n",
    "    else:\n",
    "        bimg2 = bimg.copy()\n",
    "    if len(fimg.shape)==3:\n",
    "        fimg2 = fimg.copy()\n",
    "    else:\n",
    "        fimg2 = cv2.cvtColor(fimg,cv2.COLOR_GRAY2BGR)\n",
    "    # 処理前画像の輪郭\n",
    "    # canvas = np.zeros_like(fimg2)\n",
    "    canvas = fimg2.copy()\n",
    "    _ret,bwimg = cv2.threshold(bimg2,128,255,cv2.THRESH_BINARY) # 白画素は255にする\n",
    "    _img,cnt,hierarchy = cv2.findContours(bwimg, cv2.RETR_EXTERNAL, cv2.CHAIN_APPROX_SIMPLE)\n",
    "    # canvas = cv2.drawContours(canvas, cnt, -1, (255,230,230), thickness=-1)\n",
    "    canvas = cv2.drawContours(canvas, cnt, -1, (255,0,200), thickness=1)\n",
    "    # return cv2.addWeighted(fimg2, 0.5, canvas, 0.5,0)\n",
    "    return canvas[:,:,::-1] # opencv -> PIL"
   ]
  },
  {
   "cell_type": "code",
   "execution_count": 2,
   "metadata": {},
   "outputs": [
    {
     "data": {
      "text/plain": [
       "<matplotlib.image.AxesImage at 0x1c26b26b00>"
      ]
     },
     "execution_count": 2,
     "metadata": {},
     "output_type": "execute_result"
    },
    {
     "data": {
      "image/png": "[encoded data removed]",
      "text/plain": [
       "<Figure size 576x432 with 1 Axes>"
      ]
     },
     "metadata": {
      "needs_background": "light"
     },
     "output_type": "display_data"
    }
   ],
   "source": [
    "# src = cv2.imread('シルエット/17Apically/17daruma6o06_l.jpg')\n",
    "# src = cv2.imread('シルエット/17Tran_ellip/17karami2o03_l.jpg')\n",
    "# src = cv2.imread('シルエット/17Horn/17aomida1o02_l.jpg')\n",
    "# src = cv2.imread('シルエット/17Tran_ellip/17heians1o07_l.jpg')\n",
    "# path='シルエット/17Horn/17aomida1o02_l.jpg'\n",
    "# path='シルエット/17Spheric/17yakumi2o06_l.jpg'\n",
    "path ='シルエット/17Horn/17aomida1o02_l.jpg'\n",
    "src = cv2.imread(path,cv2.IMREAD_GRAYSCALE)\n",
    "fig = plt.figure(figsize=(8,6),dpi=72)\n",
    "plt.imshow(src)"
   ]
  },
  {
   "cell_type": "markdown",
   "metadata": {},
   "source": [
    "# 十分ぼかした上で重心と曲率最大点を結んで回転させてみる。\n",
    "\n",
    "曲率を求める代わりにハリスコーナー検出器の識別結果を使ってみた。"
   ]
  },
  {
   "cell_type": "code",
   "execution_count": 10,
   "metadata": {},
   "outputs": [
    {
     "data": {
      "image/png": "[encoded data removed]",
      "text/plain": [
       "<Figure size 750x525 with 1 Axes>"
      ]
     },
     "metadata": {
      "needs_background": "light"
     },
     "output_type": "display_data"
    }
   ],
   "source": [
    "def getline_and_degree(x1,y1,x2,y2):\n",
    "        dx = x2-x1\n",
    "        dy = y2-y1\n",
    "        s1 = int(x1 + 1000*dx)\n",
    "        t1 = int(y1 + 1000*dy)\n",
    "        s2 = int(x1 - 1000*dx)\n",
    "        t2 = int(y1 - 1000*dy)\n",
    "        if dx == 0:\n",
    "            deg = 90\n",
    "        elif dx >0:\n",
    "            deg = 180.0*np.arctan(dy/dx)/np.pi\n",
    "        else:\n",
    "            deg = 180*(1+np.arctan(dy/dx)/np.pi)\n",
    "        return s1,t1,s2,t2,deg\n",
    "\n",
    "# マージンをつける\n",
    "def makemargin(img,mr=2):\n",
    "    h,w = img.shape[:2]\n",
    "    w2 = mr*w\n",
    "    h2 = mr*h\n",
    "    x1 = int((w2-w)/2)\n",
    "    y1 = int((h2-h)/2)\n",
    "    img2 = np.zeros((h2,w2),np.uint8)\n",
    "    img2[y1:y1+h,x1:x1+w] = img\n",
    "    return img2\n",
    "\n",
    "# 十分ぼかす\n",
    "CONTOURS_APPROX = 0.005 # 輪郭近似精度\n",
    "GAUSSIAN_RATE = 0.25 # ガウスぼかしをかける量\n",
    "HARRIS_PARA = 1.0 # ハリスコーナー検出で、コーナーとみなすコーナーらしさの指標  1.0 なら最大値のみ\n",
    "\n",
    "img = makemargin(src) # 作業用のマージンを確保\n",
    "img2 = img.copy() # 加工前の状態を保存\n",
    "# ガウスぼかしを適用してシルエットを滑らかにする\n",
    "ksize = int(GAUSSIAN_RATE*img.shape[1]/2)*2+1 # ぼかし量  元の図形の幅に応じて決める\n",
    "img = cv2.GaussianBlur(img,(ksize,ksize),0) # ガウスぼかしを適用\n",
    "# ２値化してシルエットを求め直す\n",
    "_ret,img = cv2.threshold(img, 127, 255, cv2.THRESH_BINARY) # ２値化\n",
    "# Harris コーナ検出\n",
    "himg = np.float32(img)\n",
    "himg = cv2.cornerHarris(himg,blockSize=3,ksize=3,k=0.04)\n",
    "# コーナー度合いが最大の領域を求める\n",
    "wimg = np.zeros_like(img)\n",
    "wimg[himg>=HARRIS_PARA*himg.max()]=255 # コーナー度最大値の領域を２５５で塗りつぶす。\n",
    "# 最大値に等しい値の領域が１点とは限らないし、いくつかの点の塊になるかもしれない\n",
    "_lnum, _img, cnt, goc = cv2.connectedComponentsWithStats(wimg)\n",
    "areamax = np.argmax(cnt[1:,4])+1 # ０番を除く面積最大値のインデックス\n",
    "t_x,t_y = np.round(goc[areamax]) # 重心の位置\n",
    "\n",
    "# コア全体の重心の位置を求める\n",
    "_lnum, _img, _cnt, goc = cv2.connectedComponentsWithStats(img)\n",
    "c_x,c_y = np.round(goc[1])\n",
    "\n",
    "# コーナーの場所のマーキング（デバッグ用）\n",
    "# himg = cv2.dilate(himg,None,iterations = 3)\n",
    "# img3[himg>=HARRIS_PARA*himg.max()]=[0,0,255]\n",
    "\n",
    "img3 = cv2.cvtColor(img2,cv2.COLOR_GRAY2BGR)\n",
    "plt.figure(figsize=(10,7),dpi=75)\n",
    "img3=cv2.circle(img3,(int(t_x),int(t_y)),5,(0,255,0),2)\n",
    "img3=cv2.circle(img3,(int(c_x),int(c_y)),5,(255,255,0),2)\n",
    "x1,y1,x2,y2,deg = getline_and_degree(c_x,c_y,t_x,t_y)\n",
    "img3=cv2.line(img3,(x1,y1),(x2,y2),(255,0,255),2)                 \n",
    "img3 = cv2.cvtColor(img3,cv2.COLOR_BGR2RGB)\n",
    "plt.subplot(122), plt.imshow(img3)\n",
    "plt.show()"
   ]
  },
  {
   "cell_type": "code",
   "execution_count": 4,
   "metadata": {},
   "outputs": [
    {
     "data": {
      "text/plain": [
       "<matplotlib.image.AxesImage at 0x1c26fec908>"
      ]
     },
     "execution_count": 4,
     "metadata": {},
     "output_type": "execute_result"
    },
    {
     "data": {
      "image/png": "[encoded data removed]",
      "text/plain": [
       "<Figure size 432x288 with 1 Axes>"
      ]
     },
     "metadata": {
      "needs_background": "light"
     },
     "output_type": "display_data"
    }
   ],
   "source": [
    "x1,y1,x2,y2,deg = getline_and_degree(c_x,c_y,t_x,t_y)\n",
    "\n",
    "# 非常に稀であるが、回転すると全体が描画領域外に出ることがあるので作業領域を広く確保\n",
    "# mat = cv2.getRotationMatrix2D((x0,y0), deg, 1.0) # アフィン変換マトリクス\n",
    "img4 = makemargin(img2,mr=2) # 作業用のマージンを確保\n",
    "h3,w3 = img2.shape[:2]\n",
    "h4,w4 = img4.shape[:2]\n",
    "mat = cv2.getRotationMatrix2D((c_x+(w4-w3)/2,c_y+(h4-h3)/2), deg-90, 1.0) # アフィン変換マトリクス\n",
    "\n",
    "# アフィン変換の適用\n",
    "img4 = cv2.warpAffine(img4, mat, (0,0),1)\n",
    "\n",
    "# 再び最小矩形を求めて切り出す。ただし、マージンを５つける\n",
    "_nLabels, _labelImages, data, _center = cv2.connectedComponentsWithStats(img4) \n",
    "img4 = img4[data[1][1]-5:data[1][1]+data[1][3]+5,data[1][0]-5:data[1][0]+data[1][2]+5]\n",
    "\n",
    "plt.imshow(img4)"
   ]
  },
  {
   "cell_type": "code",
   "execution_count": 5,
   "metadata": {},
   "outputs": [
    {
     "data": {
      "text/plain": [
       "<matplotlib.image.AxesImage at 0x1c26cf3048>"
      ]
     },
     "execution_count": 5,
     "metadata": {},
     "output_type": "execute_result"
    },
    {
     "data": {
      "image/png": "[encoded data removed]",
      "text/plain": [
       "<Figure size 1200x1200 with 1 Axes>"
      ]
     },
     "metadata": {
      "needs_background": "light"
     },
     "output_type": "display_data"
    }
   ],
   "source": [
    "# 区分的にベジエ曲線で近似してみる\n",
    "'シルエット/17Horn/17aomida1o02_l.jpg'\n",
    "UNIT = 256 # 長い方の辺をこのサイズになるよう拡大縮小する\n",
    "CONTOURS_APPROX = 0.0002 # 輪郭近似精度\n",
    "SHRINK = 0.8 # 0.75 # 収縮膨張で形状を整える時のパラメータ\n",
    "GAUSSIAN_RATE2 = 0.1 # ガウスぼかしをかける程度\n",
    "\n",
    "def reform(img,ksize=5,shrink=SHRINK):\n",
    "    # ガウスぼかしを適用してシルエットを滑らかにする\n",
    "    img2 = cv2.GaussianBlur(img,(ksize,ksize),0) # ガウスぼかしを適用\n",
    "    _ret,img2 = cv2.threshold(img2, 127, 255, cv2.THRESH_BINARY) # ２値化\n",
    "    # 収縮・膨張によりヒゲ根を除去する\n",
    "    area0 = np.sum(img2) # img2 の画素数*255 になるはず\n",
    "    kernel = cv2.getStructuringElement(cv2.MORPH_ELLIPSE,(ksize,ksize)) # 円形カーネル\n",
    "    tmpimg = cv2.erode(img2,kernel,iterations = 1) # 収縮１回目\n",
    "    area1 = np.sum(tmpimg) # 収縮したので area0 より少なくなる\n",
    "    n = 1\n",
    "    while area1  > shrink*area0: # 面積が SHRINK倍以下になるまで繰り返す\n",
    "        tmpimg = cv2.erode(tmpimg,kernel,iterations = 1)\n",
    "        area1 = np.sum(tmpimg) \n",
    "        n += 1\n",
    "    # print(\"収縮・膨張回数\",n)\n",
    "    img3 = cv2.dilate(tmpimg,kernel,iterations = n) # 同じ回数膨張させる\n",
    "    # あらためて輪郭を求め直す\n",
    "    # まず最大の領域を取り出す\n",
    "    _lnum, labelimg, cnt, _goc =cv2.connectedComponentsWithStats(img3)\n",
    "    areamax = np.argmax(cnt[1:,4])+1 # ０番を除く面積最大値のインデックス\n",
    "    img3 = np.zeros_like(img3)\n",
    "    img3[labelimg==areamax]=255\n",
    "    _img,cnt,hierarchy = cv2.findContours(img3, cv2.RETR_EXTERNAL, cv2.CHAIN_APPROX_NONE) #  あらためて輪郭を抽出\n",
    "    outimg = np.zeros_like(img3)\n",
    "    # outimg = cv2.drawContours(outimg, cnt, 0, 255, thickness=-1) \n",
    "    # 近似輪郭を求めて描きなおす\n",
    "    # area = cv2.contourArea(cnt[0]) # 面積\n",
    "    perimeter = cv2.arcLength(cnt[0],True) # 周囲長\n",
    "    epsilon = CONTOURS_APPROX*perimeter # 周囲長をもとに精度パラメータを決定\n",
    "    approx = cv2.approxPolyDP(cnt[0],epsilon,True)\n",
    "    outimg = cv2.drawContours(outimg, [approx], 0, 255, thickness=-1) \n",
    "    # 次の２行は領域が１つになっているかどうかの確認用\n",
    "    nLabels, _labelImages, data, _center = cv2.connectedComponentsWithStats(outimg)\n",
    "    # print(\"NL\",nLabels)\n",
    "    return outimg\n",
    "\n",
    "# 大きさを正規化したいが、無駄に根が長いと相対的に重要部分が小さくなるのでまず根を削る\n",
    "# 作業用のマージンを確保\n",
    "img5 = makemargin(img4) \n",
    "refimg = img5.copy() # 確認用元画像\n",
    "# 少し形を整えておく\n",
    "img5 = reform(img5,ksize=5,shrink=SHRINK)\n",
    "\n",
    "# 最大面積の領域を抜き出す。ゴミ領域があるかもしれないので念のため。\n",
    "_nLabels, labelImages, data, _center = cv2.connectedComponentsWithStats(img5)\n",
    "img5 = img5[data[1][1]:data[1][1]+data[1][3],data[1][0]:data[1][0]+data[1][2]]\n",
    "refimg = refimg[data[1][1]:,data[1][0]:data[1][0]+data[1][2]]\n",
    "\n",
    "# 長辺が UNIT ピクセルになるよう縮小し、(1.5xUNIT)x(1.5xUNIT)の画像の中央に配置する。\n",
    "h,w = img5.shape[:2]\n",
    "u_l = w if w > h else h\n",
    "s_r = UNIT/w if w > h else UNIT/h\n",
    "    \n",
    "# rsh,rsw = int(s_r*h),int(s_r*w)\n",
    "rsh,rsw = int(s_r*h),int(s_r*w)\n",
    "x0 = int((1.5*UNIT-rsw)/2)\n",
    "y0 = int((1.5*UNIT-rsh)/2)\n",
    "img6 = np.zeros((int(1.5*UNIT),int(1.5*UNIT)),np.uint8)\n",
    "img5 = cv2.resize(img5,(rsw,rsh))\n",
    "img6[y0:y0+rsh,x0:x0+rsw] = img5\n",
    "\n",
    "# 少し整形しておく\n",
    "# img5 =reform(img5,ksize=5,shrink=SHRINK)\n",
    "\n",
    "# 確認用画像も同じリサイズを適用\n",
    "refimg2 = np.zeros((int(1.5*UNIT),int(1.5*UNIT)),np.uint8)\n",
    "# refimg = cv2.resize(refimg,(rsw,rsh))\n",
    "refimg = cv2.resize(refimg,(rsw,int(s_r*refimg.shape[0])))\n",
    "if int(1.5*UNIT) - y0 > refimg.shape[0]:\n",
    "    refimg2[y0:y0+refimg.shape[0],x0:x0+rsw] = refimg\n",
    "else:\n",
    "    refimg2[y0:int(1.5*UNIT),x0:x0+rsw] = refimg[0:int(1.5*UNIT)-y0,:]\n",
    "# 最後にもう一度ガウスぼかしを適用してシルエットを滑らかにする\n",
    "ksize = 2*int((GAUSSIAN_RATE2*UNIT)/2)+1 # ぼかし量  元の図形の幅に応じて決める\n",
    "img6 = cv2.GaussianBlur(img6,(ksize,ksize),0) # ガウスぼかしを適用\n",
    "_ret,img6 = cv2.threshold(img6, 128, 255, cv2.THRESH_BINARY) # ２値化\n",
    "\n",
    "plt.figure(figsize=(6,6),dpi=200)\n",
    "plt.imshow(draw2(refimg2,img6))"
   ]
  },
  {
   "cell_type": "markdown",
   "metadata": {},
   "source": [
    "# 緩和法による軸線抽出"
   ]
  },
  {
   "cell_type": "code",
   "execution_count": 6,
   "metadata": {},
   "outputs": [],
   "source": [
    "_img,cnt,hierarchy = cv2.findContours(img6, cv2.RETR_EXTERNAL, cv2.CHAIN_APPROX_NONE) #  あらためて輪郭を抽出\n",
    "x0,y0,w,h = cv2.boundingRect(cnt[0])\n",
    "x = cnt[0][:,0][:,0]\n",
    "y = cnt[0][:,0][:,1]\n",
    "tuples = []\n",
    "for i in range(y0+10,y0+h-10,10):\n",
    "    xs = x[y==i]\n",
    "    xl = min(xs)\n",
    "    xr = max(xs)\n",
    "    xc = (xl+xr)/2\n",
    "    tuples.append({'l':[xl,i],'c':[xc,i],'r':[xr,i]})\n"
   ]
  },
  {
   "cell_type": "code",
   "execution_count": 7,
   "metadata": {},
   "outputs": [
    {
     "data": {
      "text/plain": [
       "<matplotlib.image.AxesImage at 0x1c28cf7be0>"
      ]
     },
     "execution_count": 7,
     "metadata": {},
     "output_type": "execute_result"
    },
    {
     "data": {
      "image/png": "[encoded data removed]",
      "text/plain": [
       "<Figure size 1200x1200 with 1 Axes>"
      ]
     },
     "metadata": {
      "needs_background": "light"
     },
     "output_type": "display_data"
    }
   ],
   "source": [
    "test = cv2.cvtColor(img6,cv2.COLOR_GRAY2BGR)\n",
    "for p in tuples:\n",
    "    cv2.circle(test,(p['l'][0],p['l'][1]),2,(255,0,0),-1)\n",
    "    cv2.circle(test,(int(p['c'][0]),int(p['c'][1])),2,(255,255,0),-1)\n",
    "    cv2.circle(test,(p['r'][0],p['r'][1]),2,(255,0,0),-1)\n",
    "plt.figure(figsize=(6,6),dpi=200)\n",
    "plt.imshow(test[:,:,::-1])"
   ]
  },
  {
   "cell_type": "markdown",
   "metadata": {},
   "source": [
    "# ここまで\n",
    "\n",
    "# ここから下はまだ検討中\n"
   ]
  },
  {
   "cell_type": "code",
   "execution_count": 8,
   "metadata": {},
   "outputs": [
    {
     "data": {
      "text/plain": [
       "<matplotlib.image.AxesImage at 0x1c29c05a20>"
      ]
     },
     "execution_count": 8,
     "metadata": {},
     "output_type": "execute_result"
    },
    {
     "data": {
      "image/png": "[encoded data removed]",
      "text/plain": [
       "<Figure size 432x288 with 1 Axes>"
      ]
     },
     "metadata": {
      "needs_background": "light"
     },
     "output_type": "display_data"
    }
   ],
   "source": [
    "_img,cnt,hierarchy = cv2.findContours(img6, cv2.RETR_EXTERNAL, cv2.CHAIN_APPROX_NONE) #  あらためて輪郭を抽出\n",
    "x0,y0,w,h = cv2.boundingRect(cnt[0])\n",
    "Xs = cnt[0][:,0][:,0]\n",
    "Ys = cnt[0][:,0][:,1]\n",
    "cntimg = np.zeros_like(img6,np.uint8)\n",
    "cntimg = cv2.drawContours(cntimg, [cnt[0]], 0, 255, thickness=1)\n",
    "plt.imshow(cntimg)"
   ]
  },
  {
   "cell_type": "code",
   "execution_count": 9,
   "metadata": {},
   "outputs": [
    {
     "name": "stdout",
     "output_type": "stream",
     "text": [
      "i 0\n",
      "192.5,286.0,192.0,296.0\n",
      "[192.0,296] -> [192.0,296.0]\n",
      "193.0,276.0,192.5,286.0\n",
      "[192.5,286] -> [192.5,286.0]\n",
      "195.0,266.0,193.0,276.0\n",
      "[193.0,276] -> [193.0,276.0]\n",
      "198.0,256.0,195.0,266.0\n",
      "[195.0,266] -> [194.5,265.9]\n",
      "201.5,246.0,198.0,256.0\n",
      "[198.0,256] -> [197.95,256.0]\n",
      "205.0,236.0,201.5,246.0\n",
      "[201.5,246] -> [201.55,246.0]\n",
      "208.0,226.0,205.0,236.0\n",
      "[205.0,236] -> [205.0,236.0]\n",
      "210.0,216.0,208.0,226.0\n",
      "[208.0,226] -> [207.95,225.95]\n",
      "212.5,206.0,210.0,216.0\n",
      "[210.0,216] -> [210.0,215.95]\n",
      "213.5,196.0,212.5,206.0\n",
      "[212.5,206] -> [212.5,205.95]\n",
      "215.0,186.0,213.5,196.0\n",
      "[213.5,196] -> [213.5,196.05]\n",
      "216.0,176.0,215.0,186.0\n",
      "[215.0,186] -> [214.95,186.0]\n",
      "215.5,166.0,216.0,176.0\n",
      "[216.0,176] -> [216.0,175.95]\n",
      "214.0,156.0,215.5,166.0\n",
      "[215.5,166] -> [215.55,166.05]\n",
      "211.5,146.0,214.0,156.0\n",
      "[214.0,156] -> [214.05,156.05]\n",
      "208.5,136.0,211.5,146.0\n",
      "[211.5,146] -> [211.5,146.0]\n",
      "204.5,126.0,208.5,136.0\n",
      "[208.5,136] -> [208.55,136.0]\n",
      "200.5,116.0,204.5,126.0\n",
      "[204.5,126] -> [204.5,126.0]\n",
      "194.5,106.0,200.5,116.0\n",
      "[200.5,116] -> [200.45,116.05]\n",
      "187.5,96.0,194.5,106.0\n",
      "[194.5,106] -> [194.5,106.0]\n",
      "178.5,86.0,187.5,96.0\n",
      "[187.5,96] -> [187.5,96.0]\n",
      "171.5,76.0,178.5,86.0\n",
      "[178.5,86] -> [179.45,85.4]\n",
      "i 1\n",
      "179.4,85.4,171.5,76.0\n",
      "[171.5,76] -> [172.15,75.5]\n",
      "187.5,96.0,179.4,85.4\n",
      "[179.45,85.4] -> [179.45499999999998,85.51]\n",
      "194.5,106.0,187.5,96.0\n",
      "[187.5,96.0] -> [187.5,96.0]\n",
      "200.4,116.0,194.5,106.0\n",
      "[194.5,106.0] -> [194.55,106.05]\n",
      "204.5,126.0,200.4,116.0\n",
      "[200.45,116.05] -> [200.45499999999998,116.045]\n",
      "208.6,136.0,204.5,126.0\n",
      "[204.5,126.0] -> [204.5,126.0]\n",
      "211.5,146.0,208.6,136.0\n",
      "[208.55,136.0] -> [208.545,136.0]\n",
      "214.1,156.1,211.5,146.0\n",
      "[211.5,146.0] -> [211.5,145.95]\n",
      "215.6,166.1,214.1,156.1\n",
      "[214.05,156.05] -> [214.09499999999997,156.095]\n",
      "216.0,175.9,215.6,166.1\n",
      "[215.55,166.05] -> [215.545,165.995]\n",
      "214.9,186.0,216.0,175.9\n",
      "[216.0,175.95] -> [216.0,175.855]\n",
      "213.5,196.1,214.9,186.0\n",
      "[214.95,186.0] -> [214.90500000000003,186.05]\n",
      "212.5,205.9,213.5,196.1\n",
      "[213.5,196.05] -> [213.5,196.145]\n",
      "210.0,215.9,212.5,205.9\n",
      "[212.5,205.95] -> [212.5,205.955]\n",
      "207.9,225.9,210.0,215.9\n",
      "[210.0,215.95] -> [210.0,215.90500000000003]\n",
      "205.0,236.0,207.9,225.9\n",
      "[207.95,225.95] -> [207.90500000000003,225.85500000000002]\n",
      "201.6,246.0,205.0,236.0\n",
      "[205.0,236.0] -> [205.0,236.0]\n",
      "197.9,256.0,201.6,246.0\n",
      "[201.55,246.0] -> [201.595,246.0]\n",
      "194.5,265.9,197.9,256.0\n",
      "[197.95,256.0] -> [197.905,256.0]\n",
      "193.0,276.0,194.5,265.9\n",
      "[194.5,265.9] -> [194.55,265.90999999999997]\n",
      "192.5,286.0,193.0,276.0\n",
      "[193.0,276.0] -> [193.0,276.0]\n",
      "192.0,296.0,192.5,286.0\n",
      "[192.5,286.0] -> [192.5,286.0]\n",
      "i 2\n",
      "192.5,286.0,192.0,296.0\n",
      "[192.0,296.0] -> [192.0,296.0]\n",
      "193.0,276.0,192.5,286.0\n",
      "[192.5,286.0] -> [192.5,286.0]\n",
      "194.6,265.9,193.0,276.0\n",
      "[193.0,276.0] -> [193.0,275.95]\n",
      "197.9,256.0,194.6,265.9\n",
      "[194.55,265.90999999999997] -> [194.595,265.86899999999997]\n",
      "201.6,246.0,197.9,256.0\n",
      "[197.905,256.0] -> [197.8645,256.0]\n",
      "205.0,236.0,201.6,246.0\n",
      "[201.595,246.0] -> [201.6355,246.0]\n",
      "207.9,225.9,205.0,236.0\n",
      "[205.0,236.0] -> [205.0,236.0]\n",
      "210.0,215.9,207.9,225.9\n",
      "[207.90500000000003,225.85500000000002] -> [207.91450000000003,225.76950000000002]\n",
      "212.5,206.0,210.0,215.9\n",
      "[210.0,215.90500000000003] -> [210.0,215.81450000000004]\n",
      "213.5,196.1,212.5,206.0\n",
      "[212.5,205.955] -> [212.5,205.85950000000003]\n",
      "214.9,186.1,213.5,196.1\n",
      "[213.5,196.145] -> [213.5,196.1305]\n",
      "216.0,175.9,214.9,186.1\n",
      "[214.90500000000003,186.05] -> [214.86450000000005,186.095]\n",
      "215.5,166.0,216.0,175.9\n",
      "[216.0,175.855] -> [216.0,175.8195]\n",
      "214.1,156.1,215.5,166.0\n",
      "[215.545,165.995] -> [215.59049999999996,165.9955]\n",
      "211.5,145.9,214.1,156.1\n",
      "[214.09499999999997,156.095] -> [214.13549999999995,156.1355]\n",
      "208.5,136.0,211.5,145.9\n",
      "[211.5,145.95] -> [211.5,145.905]\n",
      "204.5,126.0,208.5,136.0\n",
      "[208.545,136.0] -> [208.59049999999996,136.0]\n",
      "200.5,116.0,204.5,126.0\n",
      "[204.5,126.0] -> [204.5,126.0]\n",
      "194.6,106.0,200.5,116.0\n",
      "[200.45499999999998,116.045] -> [200.40949999999998,116.09049999999999]\n",
      "187.5,96.0,194.6,106.0\n"
     ]
    },
    {
     "ename": "ValueError",
     "evalue": "attempt to get argmin of an empty sequence",
     "output_type": "error",
     "traceback": [
      "\u001b[0;31m---------------------------------------------------------------------------\u001b[0m",
      "\u001b[0;31mValueError\u001b[0m                                Traceback (most recent call last)",
      "\u001b[0;32m<ipython-input-9-066e3b118c0d>\u001b[0m in \u001b[0;36m<module>\u001b[0;34m()\u001b[0m\n\u001b[1;32m     48\u001b[0m         \u001b[0;31m#    y2 = tuples[i+1]['c'][1]\u001b[0m\u001b[0;34m\u001b[0m\u001b[0;34m\u001b[0m\u001b[0m\n\u001b[1;32m     49\u001b[0m         \u001b[0mprint\u001b[0m\u001b[0;34m(\u001b[0m\u001b[0;34m\"{0:0.1f},{1:0.1f},{2:0.1f},{3:0.1f}\"\u001b[0m\u001b[0;34m.\u001b[0m\u001b[0mformat\u001b[0m\u001b[0;34m(\u001b[0m\u001b[0mx1\u001b[0m\u001b[0;34m,\u001b[0m\u001b[0my1\u001b[0m\u001b[0;34m,\u001b[0m\u001b[0mxc\u001b[0m\u001b[0;34m,\u001b[0m\u001b[0myc\u001b[0m\u001b[0;34m)\u001b[0m\u001b[0;34m)\u001b[0m\u001b[0;34m\u001b[0m\u001b[0m\n\u001b[0;32m---> 50\u001b[0;31m         \u001b[0mxl\u001b[0m\u001b[0;34m,\u001b[0m\u001b[0myl\u001b[0m\u001b[0;34m,\u001b[0m\u001b[0mxr\u001b[0m\u001b[0;34m,\u001b[0m\u001b[0myr\u001b[0m \u001b[0;34m=\u001b[0m \u001b[0mgetNewsidePos\u001b[0m\u001b[0;34m(\u001b[0m\u001b[0mx1\u001b[0m\u001b[0;34m,\u001b[0m\u001b[0my1\u001b[0m\u001b[0;34m,\u001b[0m\u001b[0mxc\u001b[0m\u001b[0;34m,\u001b[0m\u001b[0myc\u001b[0m\u001b[0;34m)\u001b[0m\u001b[0;34m\u001b[0m\u001b[0m\n\u001b[0m\u001b[1;32m     51\u001b[0m         \u001b[0mxcnew\u001b[0m \u001b[0;34m=\u001b[0m \u001b[0;34m(\u001b[0m\u001b[0;34m(\u001b[0m\u001b[0mxl\u001b[0m\u001b[0;34m+\u001b[0m\u001b[0mxr\u001b[0m\u001b[0;34m)\u001b[0m\u001b[0;34m/\u001b[0m\u001b[0;36m2\u001b[0m\u001b[0;34m+\u001b[0m\u001b[0;36m9\u001b[0m\u001b[0;34m*\u001b[0m\u001b[0mxc\u001b[0m\u001b[0;34m)\u001b[0m\u001b[0;34m/\u001b[0m\u001b[0;36m10\u001b[0m\u001b[0;34m\u001b[0m\u001b[0m\n\u001b[1;32m     52\u001b[0m         \u001b[0mycnew\u001b[0m \u001b[0;34m=\u001b[0m \u001b[0;34m(\u001b[0m\u001b[0;34m(\u001b[0m\u001b[0myl\u001b[0m\u001b[0;34m+\u001b[0m\u001b[0myr\u001b[0m\u001b[0;34m)\u001b[0m\u001b[0;34m/\u001b[0m\u001b[0;36m2\u001b[0m\u001b[0;34m+\u001b[0m\u001b[0;36m9\u001b[0m\u001b[0;34m*\u001b[0m\u001b[0myc\u001b[0m\u001b[0;34m)\u001b[0m\u001b[0;34m/\u001b[0m\u001b[0;36m10\u001b[0m\u001b[0;34m\u001b[0m\u001b[0m\n",
      "\u001b[0;32m<ipython-input-9-066e3b118c0d>\u001b[0m in \u001b[0;36mgetNewsidePos\u001b[0;34m(x1, y1, xc, yc)\u001b[0m\n\u001b[1;32m     13\u001b[0m         \u001b[0mcanvas\u001b[0m \u001b[0;34m=\u001b[0m \u001b[0mcv2\u001b[0m\u001b[0;34m.\u001b[0m\u001b[0mbitwise_and\u001b[0m\u001b[0;34m(\u001b[0m\u001b[0mcanvas\u001b[0m\u001b[0;34m,\u001b[0m\u001b[0mcntimg\u001b[0m\u001b[0;34m,\u001b[0m\u001b[0mcntimg\u001b[0m\u001b[0;34m)\u001b[0m\u001b[0;34m\u001b[0m\u001b[0m\n\u001b[1;32m     14\u001b[0m         \u001b[0mps\u001b[0m \u001b[0;34m=\u001b[0m \u001b[0mnp\u001b[0m\u001b[0;34m.\u001b[0m\u001b[0margwhere\u001b[0m\u001b[0;34m(\u001b[0m\u001b[0mcanvas\u001b[0m\u001b[0;34m==\u001b[0m\u001b[0;36m255\u001b[0m\u001b[0;34m)\u001b[0m\u001b[0;34m\u001b[0m\u001b[0m\n\u001b[0;32m---> 15\u001b[0;31m         \u001b[0mimin\u001b[0m \u001b[0;34m=\u001b[0m \u001b[0mnp\u001b[0m\u001b[0;34m.\u001b[0m\u001b[0margmin\u001b[0m\u001b[0;34m(\u001b[0m\u001b[0mps\u001b[0m\u001b[0;34m[\u001b[0m\u001b[0;34m:\u001b[0m\u001b[0;34m,\u001b[0m\u001b[0;36m1\u001b[0m\u001b[0;34m]\u001b[0m\u001b[0;34m)\u001b[0m\u001b[0;34m\u001b[0m\u001b[0m\n\u001b[0m\u001b[1;32m     16\u001b[0m         \u001b[0mimax\u001b[0m \u001b[0;34m=\u001b[0m \u001b[0mnp\u001b[0m\u001b[0;34m.\u001b[0m\u001b[0margmax\u001b[0m\u001b[0;34m(\u001b[0m\u001b[0mps\u001b[0m\u001b[0;34m[\u001b[0m\u001b[0;34m:\u001b[0m\u001b[0;34m,\u001b[0m\u001b[0;36m1\u001b[0m\u001b[0;34m]\u001b[0m\u001b[0;34m)\u001b[0m\u001b[0;34m\u001b[0m\u001b[0m\n\u001b[1;32m     17\u001b[0m         \u001b[0mxl\u001b[0m \u001b[0;34m=\u001b[0m \u001b[0mps\u001b[0m\u001b[0;34m[\u001b[0m\u001b[0mimin\u001b[0m\u001b[0;34m,\u001b[0m\u001b[0;36m1\u001b[0m\u001b[0;34m]\u001b[0m\u001b[0;34m\u001b[0m\u001b[0m\n",
      "\u001b[0;32m~/anaconda3/lib/python3.6/site-packages/numpy/core/fromnumeric.py\u001b[0m in \u001b[0;36margmin\u001b[0;34m(a, axis, out)\u001b[0m\n\u001b[1;32m   1099\u001b[0m \u001b[0;34m\u001b[0m\u001b[0m\n\u001b[1;32m   1100\u001b[0m     \"\"\"\n\u001b[0;32m-> 1101\u001b[0;31m     \u001b[0;32mreturn\u001b[0m \u001b[0m_wrapfunc\u001b[0m\u001b[0;34m(\u001b[0m\u001b[0ma\u001b[0m\u001b[0;34m,\u001b[0m \u001b[0;34m'argmin'\u001b[0m\u001b[0;34m,\u001b[0m \u001b[0maxis\u001b[0m\u001b[0;34m=\u001b[0m\u001b[0maxis\u001b[0m\u001b[0;34m,\u001b[0m \u001b[0mout\u001b[0m\u001b[0;34m=\u001b[0m\u001b[0mout\u001b[0m\u001b[0;34m)\u001b[0m\u001b[0;34m\u001b[0m\u001b[0m\n\u001b[0m\u001b[1;32m   1102\u001b[0m \u001b[0;34m\u001b[0m\u001b[0m\n\u001b[1;32m   1103\u001b[0m \u001b[0;34m\u001b[0m\u001b[0m\n",
      "\u001b[0;32m~/anaconda3/lib/python3.6/site-packages/numpy/core/fromnumeric.py\u001b[0m in \u001b[0;36m_wrapfunc\u001b[0;34m(obj, method, *args, **kwds)\u001b[0m\n\u001b[1;32m     49\u001b[0m \u001b[0;32mdef\u001b[0m \u001b[0m_wrapfunc\u001b[0m\u001b[0;34m(\u001b[0m\u001b[0mobj\u001b[0m\u001b[0;34m,\u001b[0m \u001b[0mmethod\u001b[0m\u001b[0;34m,\u001b[0m \u001b[0;34m*\u001b[0m\u001b[0margs\u001b[0m\u001b[0;34m,\u001b[0m \u001b[0;34m**\u001b[0m\u001b[0mkwds\u001b[0m\u001b[0;34m)\u001b[0m\u001b[0;34m:\u001b[0m\u001b[0;34m\u001b[0m\u001b[0m\n\u001b[1;32m     50\u001b[0m     \u001b[0;32mtry\u001b[0m\u001b[0;34m:\u001b[0m\u001b[0;34m\u001b[0m\u001b[0m\n\u001b[0;32m---> 51\u001b[0;31m         \u001b[0;32mreturn\u001b[0m \u001b[0mgetattr\u001b[0m\u001b[0;34m(\u001b[0m\u001b[0mobj\u001b[0m\u001b[0;34m,\u001b[0m \u001b[0mmethod\u001b[0m\u001b[0;34m)\u001b[0m\u001b[0;34m(\u001b[0m\u001b[0;34m*\u001b[0m\u001b[0margs\u001b[0m\u001b[0;34m,\u001b[0m \u001b[0;34m**\u001b[0m\u001b[0mkwds\u001b[0m\u001b[0;34m)\u001b[0m\u001b[0;34m\u001b[0m\u001b[0m\n\u001b[0m\u001b[1;32m     52\u001b[0m \u001b[0;34m\u001b[0m\u001b[0m\n\u001b[1;32m     53\u001b[0m     \u001b[0;31m# An AttributeError occurs if the object does not have\u001b[0m\u001b[0;34m\u001b[0m\u001b[0;34m\u001b[0m\u001b[0m\n",
      "\u001b[0;31mValueError\u001b[0m: attempt to get argmin of an empty sequence"
     ]
    }
   ],
   "source": [
    "def getNewsidePos(x1,y1,xc,yc):\n",
    "        global cntimg\n",
    "        dx = x1-xc\n",
    "        dy = y1-yc\n",
    "        s1 = int(xc + 1000*dy)\n",
    "        t1 = int(yc - 1000*dx)\n",
    "        s2 = int(xc - 1000*dy)\n",
    "        t2 = int(yc + 1000*dx)\n",
    "        cntimg = np.zeros_like(img6,np.uint8)\n",
    "        cntimg = cv2.drawContours(cntimg, [cnt[0]], 0, 255, thickness=1)\n",
    "        canvas = np.zeros_like(img6)\n",
    "        canvas = cv2.line(canvas,(s1,t1),(s2,t2),255,1)\n",
    "        canvas = cv2.bitwise_and(canvas,cntimg,cntimg)\n",
    "        ps = np.argwhere(canvas==255)\n",
    "        imin = np.argmin(ps[:,1])\n",
    "        imax = np.argmax(ps[:,1])\n",
    "        xl = ps[imin,1]\n",
    "        yl = ps[imin,0]\n",
    "        xr = ps[imax,1]\n",
    "        yr = ps[imax,0]\n",
    "        return xl,yl,xr,yr\n",
    "    \n",
    "tuples = []\n",
    "# 初期のタプル\n",
    "for i in range(y0+10,y0+h-10,10):\n",
    "    xs = Xs[Ys==i]\n",
    "    xl = min(xs)\n",
    "    xr = max(xs)\n",
    "    xc = (xl+xr)/2\n",
    "    tuples.append({'l':[xl,i],'c':[xc,i],'r':[xr,i]})\n",
    "\n",
    "test = cv2.cvtColor(img6,cv2.COLOR_GRAY2BGR)\n",
    "for p in tuples:\n",
    "    cv2.circle(test,(p['l'][0],p['l'][1]),2,(255,0,0),-1)\n",
    "    cv2.circle(test,(int(p['c'][0]),int(p['c'][1])),1,(255,255,0),-1)\n",
    "    cv2.circle(test,(p['r'][0],p['r'][1]),2,(255,0,0),-1)\n",
    "\n",
    "for n in range(17):\n",
    "    print(\"i\",n)\n",
    "    newtuples = []\n",
    "    for i in range(len(tuples)-1,0,-1):\n",
    "        global cntimg,cnt\n",
    "        x1 = tuples[i-1]['c'][0]\n",
    "        y1 = tuples[i-1]['c'][1]\n",
    "        xc = tuples[i]['c'][0]\n",
    "        yc = tuples[i]['c'][1]\n",
    "        #    x2 = tuples[i+1]['c'][0]\n",
    "        #    y2 = tuples[i+1]['c'][1]\n",
    "        print(\"{0:0.1f},{1:0.1f},{2:0.1f},{3:0.1f}\".format(x1,y1,xc,yc))\n",
    "        xl,yl,xr,yr = getNewsidePos(x1,y1,xc,yc)\n",
    "        xcnew = ((xl+xr)/2+9*xc)/10\n",
    "        ycnew = ((yl+yr)/2+9*yc)/10\n",
    "        newtuples.append({'l':[xl,yl],'c':[xcnew,ycnew],'r':[xr,yr]})\n",
    "        print(\"[{},{}] -> [{},{}]\".format(xc,yc,xcnew,ycnew))\n",
    "    newtuples.append(tuples[0])\n",
    "    tuples = newtuples\n",
    "\n",
    "for p in newtuples:\n",
    "    cv2.circle(test,(p['l'][0],p['l'][1]),7,(0,255,255),1)\n",
    "    cv2.circle(test,(int(p['c'][0]),int(p['c'][1])),2,(0,0,0),1)\n",
    "    cv2.circle(test,(p['r'][0],p['r'][1]),7,(0,255,255),1)\n",
    "    \n",
    "# 連続する３つの軸候補点から、その中央の点にふさわしい両側の点を求め、tuplesを更新する。\n",
    "# def getsidepairs(x1,y1,xc,yc,x2,y2,Xs,Ys):\n",
    "# 座標 (xc,yc) 軸上と想定される点、\n",
    "# (x1,y1) 上の軸候補点\n",
    "# (x2,y2) 下の軸候補点\n",
    "# Xs,Ys 輪郭上の点\n",
    "\n",
    "plt.figure(figsize=(6,6),dpi=200)\n",
    "plt.imshow(test[:,:,::-1])"
   ]
  },
  {
   "cell_type": "code",
   "execution_count": null,
   "metadata": {},
   "outputs": [],
   "source": [
    "cntimg = np.zeros_like(img6)\n",
    "cntimg = cv2.drawContours(cntimg, [cnt[0]], 0, 1, thickness=1)\n",
    "plt.imshow(img6)"
   ]
  },
  {
   "cell_type": "code",
   "execution_count": null,
   "metadata": {},
   "outputs": [],
   "source": [
    "ps = xxxx(0,0,100,100,300,300)"
   ]
  },
  {
   "cell_type": "code",
   "execution_count": null,
   "metadata": {},
   "outputs": [],
   "source": []
  },
  {
   "cell_type": "code",
   "execution_count": null,
   "metadata": {},
   "outputs": [],
   "source": [
    "ps"
   ]
  },
  {
   "cell_type": "code",
   "execution_count": null,
   "metadata": {},
   "outputs": [],
   "source": []
  }
 ],
 "metadata": {
  "kernelspec": {
   "display_name": "Python 3",
   "language": "python",
   "name": "python3"
  },
  "language_info": {
   "codemirror_mode": {
    "name": "ipython",
    "version": 3
   },
   "file_extension": ".py",
   "mimetype": "text/x-python",
   "name": "python",
   "nbconvert_exporter": "python",
   "pygments_lexer": "ipython3",
   "version": "3.6.6"
  }
 },
 "nbformat": 4,
 "nbformat_minor": 2
}
