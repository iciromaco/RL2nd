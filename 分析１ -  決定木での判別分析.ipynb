{
 "cells": [
  {
   "cell_type": "code",
   "execution_count": 1,
   "metadata": {},
   "outputs": [],
   "source": [
    "import pandas as pd\n",
    "import graphviz\n",
    "import pydotplus\n",
    "from sklearn import tree\n",
    "from sklearn.externals.six import StringIO\n",
    "from graphviz import Digraph\n",
    "import pydotplus\n",
    "import matplotlib.pyplot as plt\n",
    "import matplotlib.image as mpimg"
   ]
  },
  {
   "cell_type": "code",
   "execution_count": 2,
   "metadata": {},
   "outputs": [
    {
     "data": {
      "text/plain": [
       "Index(['カテゴリー', '品種', 'ブロック', '株番号', '肥大部長(20%)', '肥大部長(思う長さ)', '肥大部長(1cmまで)',\n",
       "       '最大幅', '最大幅20%', 'Unnamed: 9', '長幅比(20%)', '長幅比(思う)', '長幅比(1cm)',\n",
       "       'Unnamed: 13', 'fit1(20%)', 'fit2(20%)', 'fit1(先端まで)', 'fit2(先端まで)',\n",
       "       'Unnamed: 18', '最大幅位置', '膨らみの位置(20%)', '膨らみの位置(思う)', '膨らみの位置(1cm)',\n",
       "       'Unnamed: 23', '首径', '膨らみの程度', 'Unnamed: 26', '幅の一定さ1', '幅の一定さ2',\n",
       "       '膨らみの程度(5%)', '膨らみの程度(10%)', 'Unnamed: 31', '曲がり', 'Unnamed: 33',\n",
       "       '5形質(幅の一定さ(方法1))', '6形質(膨らみの程度(10%)+幅の一定さ(方法1))'],\n",
       "      dtype='object')"
      ]
     },
     "execution_count": 2,
     "metadata": {},
     "output_type": "execute_result"
    }
   ],
   "source": [
    "filename = 'd41d8cd9.xlsx'\n",
    "fd = pd.read_excel(filename)\n",
    "fd.columns"
   ]
  },
  {
   "cell_type": "code",
   "execution_count": 3,
   "metadata": {},
   "outputs": [],
   "source": [
    "X = fd[['長幅比(20%)','膨らみの位置(20%)','膨らみの程度(10%)','幅の一定さ1','fit1(20%)','曲がり']]"
   ]
  },
  {
   "cell_type": "code",
   "execution_count": 4,
   "metadata": {},
   "outputs": [
    {
     "data": {
      "text/plain": [
       "DecisionTreeClassifier(class_weight=None, criterion='gini', max_depth=None,\n",
       "            max_features=None, max_leaf_nodes=None,\n",
       "            min_impurity_decrease=0.0, min_impurity_split=None,\n",
       "            min_samples_leaf=1, min_samples_split=2,\n",
       "            min_weight_fraction_leaf=0.0, presort=False, random_state=None,\n",
       "            splitter='best')"
      ]
     },
     "execution_count": 4,
     "metadata": {},
     "output_type": "execute_result"
    }
   ],
   "source": [
    "# 決定木を準備\n",
    "classifier = tree.DecisionTreeClassifier()\n",
    "# 訓練データもとに決定木を構成する\n",
    "classifier.fit(X,fd['カテゴリー'])"
   ]
  },
  {
   "cell_type": "code",
   "execution_count": 5,
   "metadata": {},
   "outputs": [],
   "source": [
    "# 完成した決定木をPDFで出力\n",
    "dot_data = StringIO() # 仮想テキストファイル\n",
    "tree.export_graphviz(classifier, out_file=dot_data) # 決定木の描画用データ dot_data を生成する\n",
    "dot_text = dot_data.getvalue() # dot_data を文字列として取り出し， X[_] を表見出しに使っている言葉で置換\n",
    "dot_text = dot_text.replace('X[0]','長幅比(20%)').replace('X[1]','膨らみの位置(20%)').replace('X[2]','膨らみの程度(10%)').replace('X[3]','幅の一定さ1').replace('X[4]','fit1(20%)').replace('X[5]','曲がり')\n",
    "# 決定木を PDF ファイルとして出力\n",
    "graph = pydotplus.graph_from_dot_data(dot_text)"
   ]
  },
  {
   "cell_type": "code",
   "execution_count": 6,
   "metadata": {},
   "outputs": [
    {
     "data": {
      "text/plain": [
       "True"
      ]
     },
     "execution_count": 6,
     "metadata": {},
     "output_type": "execute_result"
    }
   ],
   "source": [
    "graph.write_pdf('daikon.pdf')\n",
    "#graph.write_png(ファイル名)  png 画像として書き出し"
   ]
  },
  {
   "cell_type": "code",
   "execution_count": 7,
   "metadata": {},
   "outputs": [],
   "source": [
    "result=classifier.predict(X)"
   ]
  },
  {
   "cell_type": "code",
   "execution_count": 8,
   "metadata": {},
   "outputs": [
    {
     "data": {
      "text/plain": [
       "array(['円筒', '円筒', '円筒', '円筒', '円筒', '円筒', '円筒', '円筒', '円筒', '楕円', '楕円',\n",
       "       '楕円', '楕円', '楕円', '楕円', '楕円', '楕円', '楕円', '逆三角', '逆三角', '逆三角',\n",
       "       '逆三角', '逆三角', '逆三角', '逆三角', '逆三角', '逆三角', '丸', '丸', '丸', '丸', '丸',\n",
       "       '丸', '丸', '丸', '丸', '横楕円', '横楕円', '横楕円', '横楕円', '横楕円', '横楕円',\n",
       "       '横楕円', '横楕円', '横楕円', '角', '角', '角', '角', '角', '角', '角', '角', '角',\n",
       "       '角', '角', 'だるま', 'だるま', 'だるま', '円筒', 'だるま', 'だるま', 'だるま', 'だるま',\n",
       "       'だるま', '先流れ', '先流れ', '先流れ', '横楕円', '横楕円', '丸', '横楕円', '丸', '角',\n",
       "       '三角', '角', '角', '三角', '三角', '角', '角', '三角', '三角', '三角', '丸', '横楕円',\n",
       "       '横楕円', '横楕円', '横楕円', '円筒', '楕円', '丸', '円筒', '丸', '丸', '横楕円', '横楕円',\n",
       "       '逆三角', '逆三角', '楕円', '楕円', '楕円', '楕円', '楕円', '丸', '楕円', '先流れ', '円筒',\n",
       "       '逆三角', '円筒', '逆三角', '逆三角', '逆三角', '逆三角', '先流れ', '円筒', '円筒', '逆三角',\n",
       "       'だるま', '角', '三角', '三角', '三角', '先流れ', '先流れ', '先流れ', '楕円', '丸',\n",
       "       '先流れ', '角', '丸', '円筒', '逆三角', '円筒', '楕円', '先流れ', '先流れ', '先流れ',\n",
       "       '先流れ', '先流れ', '先流れ', '先流れ', '先流れ', '先流れ', '三角', '三角', '三角', '三角',\n",
       "       '三角', '三角', '三角', '三角', '三角', 'だるま', 'だるま', 'だるま'], dtype=object)"
      ]
     },
     "execution_count": 8,
     "metadata": {},
     "output_type": "execute_result"
    }
   ],
   "source": [
    "result"
   ]
  },
  {
   "cell_type": "code",
   "execution_count": 9,
   "metadata": {},
   "outputs": [
    {
     "name": "stdout",
     "output_type": "stream",
     "text": [
      "0\n"
     ]
    }
   ],
   "source": [
    "# 誤った判定結果があるかどうか？\n",
    "print(len(fd[fd['カテゴリー']!=result]))"
   ]
  },
  {
   "cell_type": "markdown",
   "metadata": {},
   "source": [
    "## leave-one-out"
   ]
  },
  {
   "cell_type": "code",
   "execution_count": 10,
   "metadata": {
    "scrolled": true
   },
   "outputs": [
    {
     "name": "stdout",
     "output_type": "stream",
     "text": [
      "誤判定のケースだけ書き出し\n",
      "1  正解円筒 - 判定楕円\n",
      "6  正解円筒 - 判定楕円\n",
      "9  正解楕円 - 判定逆三角\n",
      "17  正解楕円 - 判定円筒\n",
      "25  正解逆三角 - 判定円筒\n",
      "30  正解丸 - 判定楕円\n",
      "52  正解角 - 判定三角\n",
      "56  正解だるま - 判定逆三角\n",
      "70  正解丸 - 判定楕円\n",
      "78  正解三角 - 判定先流れ\n",
      "83  正解三角 - 判定角\n",
      "90  正解楕円 - 判定丸\n",
      "97  正解逆三角 - 判定楕円\n",
      "99  正解楕円 - 判定先流れ\n",
      "101  正解楕円 - 判定円筒\n",
      "106  正解先流れ - 判定楕円\n",
      "109  正解円筒 - 判定先流れ\n",
      "111  正解逆三角 - 判定円筒\n",
      "112  正解逆三角 - 判定楕円\n",
      "113  正解逆三角 - 判定だるま\n",
      "120  正解三角 - 判定先流れ\n",
      "125  正解先流れ - 判定三角\n",
      "130  正解丸 - 判定横楕円\n",
      "131  正解円筒 - 判定だるま\n",
      "133  正解円筒 - 判定逆三角\n",
      "145  正解三角 - 判定角\n"
     ]
    }
   ],
   "source": [
    "classifier = tree.DecisionTreeClassifier()\n",
    "print(\"誤判定のケースだけ書き出し\")\n",
    "for i in range(len(fd)):\n",
    "    # 訓練データもとに決定木を構成する\n",
    "    classifier.fit(pd.concat([X[0:i],X[i+1:]]), pd.concat([fd['カテゴリー'][0:i],fd['カテゴリー'][i+1:]]))\n",
    "    if fd['カテゴリー'][i] != classifier.predict(X[i:i+1])[0]:\n",
    "        print('{}  正解{} - 判定{}'.format(i,fd['カテゴリー'][i],classifier.predict(X[i:i+1])[0]))"
   ]
  },
  {
   "cell_type": "code",
   "execution_count": 11,
   "metadata": {},
   "outputs": [
    {
     "name": "stdout",
     "output_type": "stream",
     "text": [
      "誤判定のケースだけ書き出し\n",
      "125  正解 先流れ - 判定 三角\n",
      "130  正解 丸 - 判定 横楕円\n",
      "131  正解 円筒 - 判定 だるま\n",
      "132  正解 逆三角 - 判定 楕円\n",
      "133  正解 円筒 - 判定 逆三角\n",
      "134  正解 楕円 - 判定 逆三角\n",
      "139  正解 先流れ - 判定 楕円\n"
     ]
    }
   ],
   "source": [
    "# 前から120データで学習して、残り３６で検証\n",
    "classifier.fit(X[0:120], fd['カテゴリー'][0:120])\n",
    "print(\"誤判定のケースだけ書き出し\")\n",
    "for i in range(121,len(fd)):\n",
    "    if fd['カテゴリー'][i] != classifier.predict(X[i:i+1])[0]:\n",
    "        print('{}  正解 {} - 判定 {}'.format(i,fd['カテゴリー'][i],classifier.predict(X[i:i+1])[0]))"
   ]
  },
  {
   "cell_type": "code",
   "execution_count": null,
   "metadata": {},
   "outputs": [],
   "source": []
  }
 ],
 "metadata": {
  "kernelspec": {
   "display_name": "Python 3",
   "language": "python",
   "name": "python3"
  },
  "language_info": {
   "codemirror_mode": {
    "name": "ipython",
    "version": 3
   },
   "file_extension": ".py",
   "mimetype": "text/x-python",
   "name": "python",
   "nbconvert_exporter": "python",
   "pygments_lexer": "ipython3",
   "version": "3.6.6"
  }
 },
 "nbformat": 4,
 "nbformat_minor": 2
}
