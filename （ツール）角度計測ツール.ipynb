{
 "cells": [
  {
   "cell_type": "code",
   "execution_count": null,
   "metadata": {},
   "outputs": [
    {
     "name": "stdout",
     "output_type": "stream",
     "text": [
      "455017073.0 6086198.0 926649116.0 6086198.0\n",
      "( 71, 203 )-176.6335393365702\n",
      "( 82, 1 )3.0327026161769766\n",
      "( 71, 50 )-1.6846843178962843\n",
      "( 74, 87 )0 65 0\n",
      "( 90, 11 )6.473955968672314\n"
     ]
    }
   ],
   "source": [
    "import numpy as np\n",
    "import cv2\n",
    "\n",
    "def onMouse(event, x, y, flag, params):\n",
    "    wname, img, gx,gy = params\n",
    "    if event == cv2.EVENT_MOUSEMOVE:  # マウスが移動したときにx線とy線を更新する\n",
    "        img2 = np.copy(img)\n",
    "        h, w = img2.shape[0], img2.shape[1]\n",
    "        cv2.line(img2, (x, 0), (x, h - 1), (255, 0, 0))\n",
    "        cv2.line(img2, (0, y), (w - 1, y), (255, 0, 0))\n",
    "        cv2.imshow(wname, img2)\n",
    "\n",
    "    if event == cv2.EVENT_LBUTTONDOWN:  # レフトボタンをクリックしたとき、ptlist配列にx,y座標を格納する\n",
    "            print('( %d, %d )' % (x, y),end=\"\")\n",
    "            dx = gx - x\n",
    "            dy = gy - y\n",
    "            if dx == 0 :\n",
    "                print(dx,dy,0)\n",
    "            else:\n",
    "                if dx > 0:\n",
    "                    print(180*np.arctan(dy/dx)/np.pi-90)\n",
    "                else:\n",
    "                    print(180*np.arctan(dy/dx)/np.pi+90)\n",
    "            # cv2.circle(img, (x, y), 3, (0, 0, 255), 3)\n",
    "            cv2.circle(img, (gx,gy), 3, (255,0,0), 3)\n",
    "            cv2.imshow(wname, img)\n",
    "\n",
    "img = cv2.imread(\"シルエット/17Apically/17tohodm1o05_l.jpg\",0)\n",
    "color = cv2.imread(\"シルエット/17Apically/17tohodm1o05_l.jpg\", 1)\n",
    "mu = cv2.moments(img, False)\n",
    "print(mu[\"m10\"],mu[\"m00\"], mu[\"m01\"],mu[\"m00\"])\n",
    "    \n",
    "if mu[\"m00\"] != 0:\n",
    "    gx,gy= int(mu[\"m10\"]/mu[\"m00\"]) , int(mu[\"m01\"]/mu[\"m00\"])\n",
    "else:\n",
    "    gx,gy= int(mu[\"m10\"]/mu[\"m00\"]) , int(mu[\"m01\"]/mu[\"m00\"])\n",
    "\n",
    "\n",
    "wname = \"Angles\"\n",
    "cv2.namedWindow(wname)\n",
    "npoints = 1\n",
    "cv2.setMouseCallback(wname, onMouse, [wname, color, gx,gy])\n",
    "cv2.imshow(wname, color)\n",
    "cv2.waitKey(0)\n",
    "cv2.destroyAllWindows()\n",
    "cv2.waitKey(1)"
   ]
  },
  {
   "cell_type": "code",
   "execution_count": null,
   "metadata": {},
   "outputs": [],
   "source": [
    "cv2.waitKey(1)"
   ]
  },
  {
   "cell_type": "code",
   "execution_count": null,
   "metadata": {},
   "outputs": [],
   "source": []
  }
 ],
 "metadata": {
  "kernelspec": {
   "display_name": "Python 3",
   "language": "python",
   "name": "python3"
  },
  "language_info": {
   "codemirror_mode": {
    "name": "ipython",
    "version": 3
   },
   "file_extension": ".py",
   "mimetype": "text/x-python",
   "name": "python",
   "nbconvert_exporter": "python",
   "pygments_lexer": "ipython3",
   "version": "3.6.6"
  }
 },
 "nbformat": 4,
 "nbformat_minor": 2
}
