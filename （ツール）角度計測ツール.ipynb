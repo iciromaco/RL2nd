{
 "cells": [
  {
   "cell_type": "code",
   "execution_count": 15,
   "metadata": {},
   "outputs": [
    {
     "name": "stdout",
     "output_type": "stream",
     "text": [
      "45 60\n",
      "( 22, 71 )-115.55996517182382\n",
      "( 21, 11 )-26.095424157388337\n"
     ]
    },
    {
     "data": {
      "text/plain": [
       "-1"
      ]
     },
     "execution_count": 15,
     "metadata": {},
     "output_type": "execute_result"
    }
   ],
   "source": [
    "import numpy as np\n",
    "import cv2\n",
    "\n",
    "import cv2\n",
    "import numpy as np\n",
    "\n",
    "def onMouse(event, x, y, flag, params):\n",
    "    wname, img, gx,gy = params\n",
    "    if event == cv2.EVENT_MOUSEMOVE:  # マウスが移動したときにx線とy線を更新する\n",
    "        img2 = np.copy(img)\n",
    "        h, w = img2.shape[0], img2.shape[1]\n",
    "        cv2.line(img2, (x, 0), (x, h - 1), (255, 0, 0))\n",
    "        cv2.line(img2, (0, y), (w - 1, y), (255, 0, 0))\n",
    "        cv2.imshow(wname, img2)\n",
    "\n",
    "    if event == cv2.EVENT_LBUTTONDOWN:  # レフトボタンをクリックしたとき、ptlist配列にx,y座標を格納する\n",
    "            print('( %d, %d )' % (x, y),end=\"\")\n",
    "            dx = gx - x\n",
    "            dy = gy - y\n",
    "            if dx == 0 :\n",
    "                print(dx,dy,0)\n",
    "            else:\n",
    "                if dx > 0:\n",
    "                    print(180*np.arctan(dy/dx)/np.pi-90)\n",
    "                else:\n",
    "                    print(180*np.arctan(dy/dx)/np.pi+90)\n",
    "            # cv2.circle(img, (x, y), 3, (0, 0, 255), 3)\n",
    "            cv2.circle(img, (gx,gy), 3, (255,0,0), 3)\n",
    "            cv2.imshow(wname, img)\n",
    "            \n",
    "img = cv2.imread(\"シルエット/17Spheric/17karami1o02_l.jpg\",0)\n",
    "color = cv2.imread(\"シルエット/17Spheric/17karami1o02_l.jpg\",1)\n",
    "mu = cv2.moments(img, False)\n",
    "gx,gy= int(mu[\"m10\"]/mu[\"m00\"]) , int(mu[\"m01\"]/mu[\"m00\"])\n",
    "print(gx,gy)\n",
    "wname = \"Angles\"\n",
    "cv2.namedWindow(wname)\n",
    "npoints = 1\n",
    "cv2.setMouseCallback(wname, onMouse, [wname, color, gx,gy])\n",
    "cv2.imshow(wname, color)\n",
    "cv2.waitKey(0)\n",
    "cv2.destroyAllWindows()\n",
    "cv2.waitKey(1)"
   ]
  },
  {
   "cell_type": "code",
   "execution_count": null,
   "metadata": {},
   "outputs": [],
   "source": []
  }
 ],
 "metadata": {
  "kernelspec": {
   "display_name": "Python 3",
   "language": "python",
   "name": "python3"
  },
  "language_info": {
   "codemirror_mode": {
    "name": "ipython",
    "version": 3
   },
   "file_extension": ".py",
   "mimetype": "text/x-python",
   "name": "python",
   "nbconvert_exporter": "python",
   "pygments_lexer": "ipython3",
   "version": "3.6.6"
  }
 },
 "nbformat": 4,
 "nbformat_minor": 2
}
